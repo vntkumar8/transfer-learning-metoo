{
  "nbformat": 4,
  "nbformat_minor": 0,
  "metadata": {
    "colab": {
      "name": "ULMFiT_Stance.ipynb",
      "provenance": []
    },
    "kernelspec": {
      "name": "python3",
      "display_name": "Python 3"
    },
    "accelerator": "GPU"
  },
  "cells": [
    {
      "cell_type": "markdown",
      "metadata": {
        "id": "nyGNET-sG54v",
        "colab_type": "text"
      },
      "source": [
        "ULMFiT trained for Stance Detection Task\n",
        "\n",
        "Can try for other labels too\n"
      ]
    },
    {
      "cell_type": "code",
      "metadata": {
        "id": "03H7YqxypB-S",
        "colab_type": "code",
        "colab": {}
      },
      "source": [
        "from fastai import *\n",
        "from fastai.text import *\n",
        "from pathlib import Path\n",
        "import pandas as pd\n",
        "import numpy as np\n",
        "import re"
      ],
      "execution_count": null,
      "outputs": []
    },
    {
      "cell_type": "code",
      "metadata": {
        "id": "07UnBczFx7-c",
        "colab_type": "code",
        "colab": {}
      },
      "source": [
        "# !wget 'https://storage.googleapis.com/kaggle-data-sets/2477%2F4140%2Fcompressed%2Ftraining.1600000.processed.noemoticon.csv.zip'\n",
        "!unzip '/content/kaggle140.zip'"
      ],
      "execution_count": null,
      "outputs": []
    },
    {
      "cell_type": "code",
      "metadata": {
        "id": "BerZr-Ljzs0s",
        "colab_type": "code",
        "colab": {}
      },
      "source": [
        "kaggle140=pd.read_csv('/content/training.1600000.processed.noemoticon.csv',header=None,encoding = \"latin-1\")"
      ],
      "execution_count": null,
      "outputs": []
    },
    {
      "cell_type": "code",
      "metadata": {
        "id": "vN7kWi_uy1DU",
        "colab_type": "code",
        "colab": {}
      },
      "source": [
        "! wget https://raw.githubusercontent.com/prrao87/tweet-stance-prediction/master/data/semeval2016-task6-trainingdata.txt"
      ],
      "execution_count": null,
      "outputs": []
    },
    {
      "cell_type": "code",
      "metadata": {
        "id": "-raXxSk5y9iE",
        "colab_type": "code",
        "colab": {}
      },
      "source": [
        "sem_eval = pd.read_csv('/content/semeval2016-task6-trainingdata.txt', delimiter='\\t', header=0, encoding = \"latin-1\")"
      ],
      "execution_count": null,
      "outputs": []
    },
    {
      "cell_type": "code",
      "metadata": {
        "id": "wgT2QvSw3Wsv",
        "colab_type": "code",
        "colab": {}
      },
      "source": [
        "# function to convert tweets into ASCII\n",
        "def clean_ascii(text):\n",
        "    return ''.join(i for i in text if ord(i) < 128)"
      ],
      "execution_count": null,
      "outputs": []
    },
    {
      "cell_type": "code",
      "metadata": {
        "id": "o-aGeTfezzbd",
        "colab_type": "code",
        "colab": {}
      },
      "source": [
        "kaggle140.columns = ['col1', 'col2',\"col3\",\"Stance\",\"col5\",\"Tweet\"]\n",
        "kaggle140 = kaggle140[['Stance','Tweet']]\n",
        "# Clean Data and Remove URL's from the tweets\n",
        "kaggle140 = kaggle140.sample(n=200000,random_state=77)\n",
        "kaggle140['Tweet'] = kaggle140['Tweet'].apply(clean_ascii)\n",
        "kaggle140['Tweet'] = kaggle140['Tweet'].replace(r'http\\S+', '', regex=True).replace(r'www\\S+', '', regex=True)"
      ],
      "execution_count": null,
      "outputs": []
    },
    {
      "cell_type": "code",
      "metadata": {
        "id": "KJA6voCPz_rl",
        "colab_type": "code",
        "colab": {}
      },
      "source": [
        "sem_eval=sem_eval[['Stance','Tweet']]"
      ],
      "execution_count": null,
      "outputs": []
    },
    {
      "cell_type": "code",
      "metadata": {
        "id": "8-z4psDB0ONF",
        "colab_type": "code",
        "colab": {}
      },
      "source": [
        "lang_dt=kaggle140.append(sem_eval, ignore_index=True)"
      ],
      "execution_count": null,
      "outputs": []
    },
    {
      "cell_type": "code",
      "metadata": {
        "id": "32j0xHDu3_40",
        "colab_type": "code",
        "colab": {
          "base_uri": "https://localhost:8080/",
          "height": 419
        },
        "outputId": "9356f2c7-0d2e-4166-a109-2cc5b7767282"
      },
      "source": [
        "lang_dt"
      ],
      "execution_count": null,
      "outputs": [
        {
          "output_type": "execute_result",
          "data": {
            "text/html": [
              "<div>\n",
              "<style scoped>\n",
              "    .dataframe tbody tr th:only-of-type {\n",
              "        vertical-align: middle;\n",
              "    }\n",
              "\n",
              "    .dataframe tbody tr th {\n",
              "        vertical-align: top;\n",
              "    }\n",
              "\n",
              "    .dataframe thead th {\n",
              "        text-align: right;\n",
              "    }\n",
              "</style>\n",
              "<table border=\"1\" class=\"dataframe\">\n",
              "  <thead>\n",
              "    <tr style=\"text-align: right;\">\n",
              "      <th></th>\n",
              "      <th>Stance</th>\n",
              "      <th>Tweet</th>\n",
              "    </tr>\n",
              "  </thead>\n",
              "  <tbody>\n",
              "    <tr>\n",
              "      <th>0</th>\n",
              "      <td>NO_QUERY</td>\n",
              "      <td>is terrified about exams</td>\n",
              "    </tr>\n",
              "    <tr>\n",
              "      <th>1</th>\n",
              "      <td>NO_QUERY</td>\n",
              "      <td>I ate waaaay too many cookies this weekend.  I...</td>\n",
              "    </tr>\n",
              "    <tr>\n",
              "      <th>2</th>\n",
              "      <td>NO_QUERY</td>\n",
              "      <td>Perfect day.. And i get to spend it at work.</td>\n",
              "    </tr>\n",
              "    <tr>\n",
              "      <th>3</th>\n",
              "      <td>NO_QUERY</td>\n",
              "      <td>Lost my phone in yesterdays rockshow at PESIT ...</td>\n",
              "    </tr>\n",
              "    <tr>\n",
              "      <th>4</th>\n",
              "      <td>NO_QUERY</td>\n",
              "      <td>Eventful morning/afternoon  Now to tackle the ...</td>\n",
              "    </tr>\n",
              "    <tr>\n",
              "      <th>...</th>\n",
              "      <td>...</td>\n",
              "      <td>...</td>\n",
              "    </tr>\n",
              "    <tr>\n",
              "      <th>202809</th>\n",
              "      <td>AGAINST</td>\n",
              "      <td>There's a law protecting unborn eagles, but no...</td>\n",
              "    </tr>\n",
              "    <tr>\n",
              "      <th>202810</th>\n",
              "      <td>AGAINST</td>\n",
              "      <td>I am 1 in 3... I have had an abortion #Abortio...</td>\n",
              "    </tr>\n",
              "    <tr>\n",
              "      <th>202811</th>\n",
              "      <td>AGAINST</td>\n",
              "      <td>How dare you say my sexual preference is a cho...</td>\n",
              "    </tr>\n",
              "    <tr>\n",
              "      <th>202812</th>\n",
              "      <td>AGAINST</td>\n",
              "      <td>Equal rights for those 'born that way', no rig...</td>\n",
              "    </tr>\n",
              "    <tr>\n",
              "      <th>202813</th>\n",
              "      <td>AGAINST</td>\n",
              "      <td>#POTUS seals his legacy w/ 1/2 doz wins. The #...</td>\n",
              "    </tr>\n",
              "  </tbody>\n",
              "</table>\n",
              "<p>202814 rows × 2 columns</p>\n",
              "</div>"
            ],
            "text/plain": [
              "          Stance                                              Tweet\n",
              "0       NO_QUERY                          is terrified about exams \n",
              "1       NO_QUERY  I ate waaaay too many cookies this weekend.  I...\n",
              "2       NO_QUERY     Perfect day.. And i get to spend it at work.  \n",
              "3       NO_QUERY  Lost my phone in yesterdays rockshow at PESIT ...\n",
              "4       NO_QUERY  Eventful morning/afternoon  Now to tackle the ...\n",
              "...          ...                                                ...\n",
              "202809   AGAINST  There's a law protecting unborn eagles, but no...\n",
              "202810   AGAINST  I am 1 in 3... I have had an abortion #Abortio...\n",
              "202811   AGAINST  How dare you say my sexual preference is a cho...\n",
              "202812   AGAINST  Equal rights for those 'born that way', no rig...\n",
              "202813   AGAINST  #POTUS seals his legacy w/ 1/2 doz wins. The #...\n",
              "\n",
              "[202814 rows x 2 columns]"
            ]
          },
          "metadata": {
            "tags": []
          },
          "execution_count": 59
        }
      ]
    },
    {
      "cell_type": "code",
      "metadata": {
        "id": "scX_hcj005nG",
        "colab_type": "code",
        "colab": {}
      },
      "source": [
        "tdt=pd.read_csv('/content/trainable.csv')\n",
        "tdt=tdt.rename(columns={'Tweets': 'Tweet','Support':'Stance'})"
      ],
      "execution_count": null,
      "outputs": []
    },
    {
      "cell_type": "code",
      "metadata": {
        "id": "boT6cQ5l1O_S",
        "colab_type": "code",
        "colab": {
          "base_uri": "https://localhost:8080/",
          "height": 142
        },
        "outputId": "7b4c55d4-5452-4107-ecfd-ecc301cfe368"
      },
      "source": [
        "lang_dt=lang_dt.append(tdt[['Stance','Tweet']],ignore_index=True)\n",
        "lang_dt.tail(3)"
      ],
      "execution_count": null,
      "outputs": [
        {
          "output_type": "execute_result",
          "data": {
            "text/html": [
              "<div>\n",
              "<style scoped>\n",
              "    .dataframe tbody tr th:only-of-type {\n",
              "        vertical-align: middle;\n",
              "    }\n",
              "\n",
              "    .dataframe tbody tr th {\n",
              "        vertical-align: top;\n",
              "    }\n",
              "\n",
              "    .dataframe thead th {\n",
              "        text-align: right;\n",
              "    }\n",
              "</style>\n",
              "<table border=\"1\" class=\"dataframe\">\n",
              "  <thead>\n",
              "    <tr style=\"text-align: right;\">\n",
              "      <th></th>\n",
              "      <th>Stance</th>\n",
              "      <th>Tweet</th>\n",
              "    </tr>\n",
              "  </thead>\n",
              "  <tbody>\n",
              "    <tr>\n",
              "      <th>209680</th>\n",
              "      <td>1</td>\n",
              "      <td>#metoo4publicity   now  s c women should also ...</td>\n",
              "    </tr>\n",
              "    <tr>\n",
              "      <th>209681</th>\n",
              "      <td>0</td>\n",
              "      <td>d lady behind d #metoo movemnt.... #metoodebat...</td>\n",
              "    </tr>\n",
              "    <tr>\n",
              "      <th>209682</th>\n",
              "      <td>0</td>\n",
              "      <td>things that #metoo victims are tired of listen...</td>\n",
              "    </tr>\n",
              "  </tbody>\n",
              "</table>\n",
              "</div>"
            ],
            "text/plain": [
              "       Stance                                              Tweet\n",
              "209680      1  #metoo4publicity   now  s c women should also ...\n",
              "209681      0  d lady behind d #metoo movemnt.... #metoodebat...\n",
              "209682      0  things that #metoo victims are tired of listen..."
            ]
          },
          "metadata": {
            "tags": []
          },
          "execution_count": 62
        }
      ]
    },
    {
      "cell_type": "code",
      "metadata": {
        "id": "FmDFSphq1iwa",
        "colab_type": "code",
        "colab": {}
      },
      "source": [
        ""
      ],
      "execution_count": null,
      "outputs": []
    },
    {
      "cell_type": "code",
      "metadata": {
        "id": "F5Qt74mx1he8",
        "colab_type": "code",
        "colab": {
          "base_uri": "https://localhost:8080/",
          "height": 374
        },
        "outputId": "8c5064e3-8b00-467f-d20f-71ede4a291cc"
      },
      "source": [
        "path = Path('/content/')\n",
        "lang_dt.to_csv(path/'kaggle_train_sub_v2.csv', index=False, header=False)\n",
        "twitter_lm = TextLMDataBunch.from_csv(path, 'kaggle_train_sub_v2.csv', min_freq=1)\n",
        "twitter_lm.save()\n",
        "twitter_lm.show_batch()"
      ],
      "execution_count": null,
      "outputs": [
        {
          "output_type": "display_data",
          "data": {
            "text/html": [
              ""
            ],
            "text/plain": [
              "<IPython.core.display.HTML object>"
            ]
          },
          "metadata": {
            "tags": []
          }
        },
        {
          "output_type": "display_data",
          "data": {
            "text/html": [
              ""
            ],
            "text/plain": [
              "<IPython.core.display.HTML object>"
            ]
          },
          "metadata": {
            "tags": []
          }
        },
        {
          "output_type": "display_data",
          "data": {
            "text/html": [
              "<table border=\"1\" class=\"dataframe\">\n",
              "  <thead>\n",
              "    <tr style=\"text-align: right;\">\n",
              "      <th>idx</th>\n",
              "      <th>text</th>\n",
              "    </tr>\n",
              "  </thead>\n",
              "  <tbody>\n",
              "    <tr>\n",
              "      <td>0</td>\n",
              "      <td>bank charge . evil bastards . regardless , how you all doing this am ! xxbos @shortyazk that sucks was hoping to see you there and was going to steal you for stewarding again lol . xxbos i received a txt msg in a foreign language from an international # &amp; &amp; thought it was from indonesia , when it was actually from serbia ! xxbos @calicowboy956 hey mister what</td>\n",
              "    </tr>\n",
              "    <tr>\n",
              "      <td>1</td>\n",
              "      <td>to watch xxbos @chaoseed there need to be more args xxbos xxmaj work sucks sometimes xxbos @phersure i hope you feel more sane later . xxbos @weblivz i guess son trumps over daughter in law xxbos @geneticgenesis xxmaj yes , but unfortunately i can not aid you all in your cause as i am not from the xxup uk and so can not vote # stopthebnp xxbos xxmaj yesterday was</td>\n",
              "    </tr>\n",
              "    <tr>\n",
              "      <td>2</td>\n",
              "      <td>xxmaj player of the xxmaj tournament &amp; ' today ! xxbos xxmaj nevada my xxmaj haflinger has a ' baby ' cold . xxmaj cough , runny nose . xxmaj started antibiotics when his temp went up xxmaj feeling better yesterday . xxbos @jreyes12 haha that s fact . xxbos @chazzdaddy you are so right xxrep 4 . i 'm so glad xxmaj he lives within me ! xxmaj hope</td>\n",
              "    </tr>\n",
              "    <tr>\n",
              "      <td>3</td>\n",
              "      <td>do i get to see you again ? xxbos been rescuing a broken biscuit from the bottom of my cup of tea xxbos @marijuana_news xxmaj hey , i 'm emailing you right now . xxmaj let 's sort this out your situation together . xxbos @ladaisyd xxmaj leave my poor baby alone xxbos 5th xxmaj sunday xxmaj singing xxbos xxmaj going to an audition ! xxmaj wish me luck !</td>\n",
              "    </tr>\n",
              "    <tr>\n",
              "      <td>4</td>\n",
              "      <td>xxbos yummy sushi place with the best . bummed to be leaving tomorrow flying outta jfk is a bitch xxbos think i clean the bedroom and living room now - well actually i should do the kitchen and bathroom either but i hate these ones xxbos i hate how dark my hair is xxbos @mitchelmusso hey mitchel c u tmro at walmart.could not make tonite bro . graduated college tonite</td>\n",
              "    </tr>\n",
              "  </tbody>\n",
              "</table>"
            ],
            "text/plain": [
              "<IPython.core.display.HTML object>"
            ]
          },
          "metadata": {
            "tags": []
          }
        }
      ]
    },
    {
      "cell_type": "code",
      "metadata": {
        "id": "FietGISI2lKx",
        "colab_type": "code",
        "colab": {
          "base_uri": "https://localhost:8080/",
          "height": 394
        },
        "outputId": "b30a52a4-ae81-4f32-ff80-996f7cae0053"
      },
      "source": [
        "learn_twitter = language_model_learner(twitter_lm, AWD_LSTM, drop_mult=0.1)\n",
        "learn_twitter.lr_find(start_lr=1e-8, end_lr=1e2)\n",
        "learn_twitter.recorder.plot()"
      ],
      "execution_count": null,
      "outputs": [
        {
          "output_type": "stream",
          "text": [
            "Downloading https://s3.amazonaws.com/fast-ai-modelzoo/wt103-fwd.tgz\n"
          ],
          "name": "stdout"
        },
        {
          "output_type": "display_data",
          "data": {
            "text/html": [
              ""
            ],
            "text/plain": [
              "<IPython.core.display.HTML object>"
            ]
          },
          "metadata": {
            "tags": []
          }
        },
        {
          "output_type": "display_data",
          "data": {
            "text/html": [
              "\n",
              "    <div>\n",
              "        <style>\n",
              "            /* Turns off some styling */\n",
              "            progress {\n",
              "                /* gets rid of default border in Firefox and Opera. */\n",
              "                border: none;\n",
              "                /* Needs to be in here for Safari polyfill so background images work as expected. */\n",
              "                background-size: auto;\n",
              "            }\n",
              "            .progress-bar-interrupted, .progress-bar-interrupted::-webkit-progress-bar {\n",
              "                background: #F44336;\n",
              "            }\n",
              "        </style>\n",
              "      <progress value='0' class='' max='1' style='width:300px; height:20px; vertical-align: middle;'></progress>\n",
              "      0.00% [0/1 00:00<00:00]\n",
              "    </div>\n",
              "    \n",
              "<table border=\"1\" class=\"dataframe\">\n",
              "  <thead>\n",
              "    <tr style=\"text-align: left;\">\n",
              "      <th>epoch</th>\n",
              "      <th>train_loss</th>\n",
              "      <th>valid_loss</th>\n",
              "      <th>accuracy</th>\n",
              "      <th>time</th>\n",
              "    </tr>\n",
              "  </thead>\n",
              "  <tbody>\n",
              "  </tbody>\n",
              "</table><p>\n",
              "\n",
              "    <div>\n",
              "        <style>\n",
              "            /* Turns off some styling */\n",
              "            progress {\n",
              "                /* gets rid of default border in Firefox and Opera. */\n",
              "                border: none;\n",
              "                /* Needs to be in here for Safari polyfill so background images work as expected. */\n",
              "                background-size: auto;\n",
              "            }\n",
              "            .progress-bar-interrupted, .progress-bar-interrupted::-webkit-progress-bar {\n",
              "                background: #F44336;\n",
              "            }\n",
              "        </style>\n",
              "      <progress value='95' class='' max='720' style='width:300px; height:20px; vertical-align: middle;'></progress>\n",
              "      13.19% [95/720 01:07<07:23 23.3121]\n",
              "    </div>\n",
              "    "
            ],
            "text/plain": [
              "<IPython.core.display.HTML object>"
            ]
          },
          "metadata": {
            "tags": []
          }
        },
        {
          "output_type": "stream",
          "text": [
            "LR Finder is complete, type {learner_name}.recorder.plot() to see the graph.\n"
          ],
          "name": "stdout"
        },
        {
          "output_type": "display_data",
          "data": {
            "image/png": "[encoded data removed]",
            "text/plain": [
              "<Figure size 432x288 with 1 Axes>"
            ]
          },
          "metadata": {
            "tags": [],
            "needs_background": "light"
          }
        }
      ]
    },
    {
      "cell_type": "code",
      "metadata": {
        "id": "ML2gqdsj9CH8",
        "colab_type": "code",
        "colab": {
          "base_uri": "https://localhost:8080/",
          "height": 80
        },
        "outputId": "4eb96e30-09f3-4f54-89f6-4a72bf0d907a"
      },
      "source": [
        "learn_twitter = language_model_learner(twitter_lm, AWD_LSTM,drop_mult=0.5)\n",
        "learn_twitter.fit_one_cycle(cyc_len=1, max_lr=1e-3, moms=(0.8, 0.7))\n"
      ],
      "execution_count": null,
      "outputs": [
        {
          "output_type": "display_data",
          "data": {
            "text/html": [
              "<table border=\"1\" class=\"dataframe\">\n",
              "  <thead>\n",
              "    <tr style=\"text-align: left;\">\n",
              "      <th>epoch</th>\n",
              "      <th>train_loss</th>\n",
              "      <th>valid_loss</th>\n",
              "      <th>accuracy</th>\n",
              "      <th>time</th>\n",
              "    </tr>\n",
              "  </thead>\n",
              "  <tbody>\n",
              "    <tr>\n",
              "      <td>0</td>\n",
              "      <td>5.053822</td>\n",
              "      <td>4.717834</td>\n",
              "      <td>0.208374</td>\n",
              "      <td>09:30</td>\n",
              "    </tr>\n",
              "  </tbody>\n",
              "</table>"
            ],
            "text/plain": [
              "<IPython.core.display.HTML object>"
            ]
          },
          "metadata": {
            "tags": []
          }
        }
      ]
    },
    {
      "cell_type": "code",
      "metadata": {
        "id": "HseNJNDH9FCK",
        "colab_type": "code",
        "colab": {
          "base_uri": "https://localhost:8080/",
          "height": 204
        },
        "outputId": "6d05d538-83d7-4527-c973-74e00898218e"
      },
      "source": [
        "learn_twitter.unfreeze()\n",
        "learn_twitter.fit_one_cycle(cyc_len=5, max_lr=1e-3, moms=(0.8, 0.7))\n"
      ],
      "execution_count": null,
      "outputs": [
        {
          "output_type": "display_data",
          "data": {
            "text/html": [
              "<table border=\"1\" class=\"dataframe\">\n",
              "  <thead>\n",
              "    <tr style=\"text-align: left;\">\n",
              "      <th>epoch</th>\n",
              "      <th>train_loss</th>\n",
              "      <th>valid_loss</th>\n",
              "      <th>accuracy</th>\n",
              "      <th>time</th>\n",
              "    </tr>\n",
              "  </thead>\n",
              "  <tbody>\n",
              "    <tr>\n",
              "      <td>0</td>\n",
              "      <td>4.592715</td>\n",
              "      <td>4.344318</td>\n",
              "      <td>0.250712</td>\n",
              "      <td>10:37</td>\n",
              "    </tr>\n",
              "    <tr>\n",
              "      <td>1</td>\n",
              "      <td>4.383563</td>\n",
              "      <td>4.187261</td>\n",
              "      <td>0.265000</td>\n",
              "      <td>10:37</td>\n",
              "    </tr>\n",
              "    <tr>\n",
              "      <td>2</td>\n",
              "      <td>4.192356</td>\n",
              "      <td>4.110231</td>\n",
              "      <td>0.270790</td>\n",
              "      <td>10:38</td>\n",
              "    </tr>\n",
              "    <tr>\n",
              "      <td>3</td>\n",
              "      <td>4.029832</td>\n",
              "      <td>4.088607</td>\n",
              "      <td>0.274656</td>\n",
              "      <td>10:38</td>\n",
              "    </tr>\n",
              "    <tr>\n",
              "      <td>4</td>\n",
              "      <td>3.928093</td>\n",
              "      <td>4.095024</td>\n",
              "      <td>0.274406</td>\n",
              "      <td>10:37</td>\n",
              "    </tr>\n",
              "  </tbody>\n",
              "</table>"
            ],
            "text/plain": [
              "<IPython.core.display.HTML object>"
            ]
          },
          "metadata": {
            "tags": []
          }
        }
      ]
    },
    {
      "cell_type": "code",
      "metadata": {
        "id": "LTcT-MIn9JTN",
        "colab_type": "code",
        "colab": {}
      },
      "source": [
        "# Save the fine-tuned encoder (Uncomment the line given below)\n",
        "learn_twitter.save_encoder('ft_enc_kaggle_v1')"
      ],
      "execution_count": null,
      "outputs": []
    },
    {
      "cell_type": "code",
      "metadata": {
        "id": "ZdryKWU_9KA5",
        "colab_type": "code",
        "colab": {}
      },
      "source": [
        "#Save the Vocab to a Pickle file for later use\n",
        "pickle.dump(twitter_lm.train_ds.vocab, open(f'vocab.pkl','wb'))\n",
        "vocab_load = pickle.load(open('vocab.pkl', 'rb'))"
      ],
      "execution_count": null,
      "outputs": []
    },
    {
      "cell_type": "markdown",
      "metadata": {
        "id": "cpbs6RgNhAOa",
        "colab_type": "text"
      },
      "source": [
        "**Training Strats here**"
      ]
    },
    {
      "cell_type": "code",
      "metadata": {
        "id": "WT4_bBNyS3b8",
        "colab_type": "code",
        "colab": {}
      },
      "source": [
        "trainable.to_csv('tt.csv',index=False)"
      ],
      "execution_count": null,
      "outputs": []
    },
    {
      "cell_type": "code",
      "metadata": {
        "id": "IVxPMdt39MU4",
        "colab_type": "code",
        "colab": {
          "base_uri": "https://localhost:8080/",
          "height": 397
        },
        "outputId": "5f173c61-afb8-4c85-f8d3-c3e61049a9d1"
      },
      "source": [
        "data_clas = TextClasDataBunch.from_csv(path, '/content/tt.csv', vocab=vocab_load, min_freq=1, bs=64)\n",
        "data_clas.save()\n",
        "learn = text_classifier_learner(data_clas,AWD_LSTM ,drop_mult=0.5)\n",
        "learn.load_encoder('ft_enc_kaggle_v1')\n",
        "learn.freeze()\n",
        "\n",
        "#Find Optimum Learning Rate\n",
        "learn.lr_find(start_lr=1e-6, end_lr=1e2)\n",
        "learn.recorder.plot()"
      ],
      "execution_count": null,
      "outputs": [
        {
          "output_type": "display_data",
          "data": {
            "text/html": [
              ""
            ],
            "text/plain": [
              "<IPython.core.display.HTML object>"
            ]
          },
          "metadata": {
            "tags": []
          }
        },
        {
          "output_type": "display_data",
          "data": {
            "text/html": [
              ""
            ],
            "text/plain": [
              "<IPython.core.display.HTML object>"
            ]
          },
          "metadata": {
            "tags": []
          }
        },
        {
          "output_type": "display_data",
          "data": {
            "text/html": [
              "\n",
              "    <div>\n",
              "        <style>\n",
              "            /* Turns off some styling */\n",
              "            progress {\n",
              "                /* gets rid of default border in Firefox and Opera. */\n",
              "                border: none;\n",
              "                /* Needs to be in here for Safari polyfill so background images work as expected. */\n",
              "                background-size: auto;\n",
              "            }\n",
              "            .progress-bar-interrupted, .progress-bar-interrupted::-webkit-progress-bar {\n",
              "                background: #F44336;\n",
              "            }\n",
              "        </style>\n",
              "      <progress value='0' class='' max='1' style='width:300px; height:20px; vertical-align: middle;'></progress>\n",
              "      0.00% [0/1 00:00<00:00]\n",
              "    </div>\n",
              "    \n",
              "<table border=\"1\" class=\"dataframe\">\n",
              "  <thead>\n",
              "    <tr style=\"text-align: left;\">\n",
              "      <th>epoch</th>\n",
              "      <th>train_loss</th>\n",
              "      <th>valid_loss</th>\n",
              "      <th>accuracy</th>\n",
              "      <th>time</th>\n",
              "    </tr>\n",
              "  </thead>\n",
              "  <tbody>\n",
              "  </tbody>\n",
              "</table><p>\n",
              "\n",
              "    <div>\n",
              "        <style>\n",
              "            /* Turns off some styling */\n",
              "            progress {\n",
              "                /* gets rid of default border in Firefox and Opera. */\n",
              "                border: none;\n",
              "                /* Needs to be in here for Safari polyfill so background images work as expected. */\n",
              "                background-size: auto;\n",
              "            }\n",
              "            .progress-bar-interrupted, .progress-bar-interrupted::-webkit-progress-bar {\n",
              "                background: #F44336;\n",
              "            }\n",
              "        </style>\n",
              "      <progress value='82' class='' max='107' style='width:300px; height:20px; vertical-align: middle;'></progress>\n",
              "      76.64% [82/107 00:05<00:01 2.1313]\n",
              "    </div>\n",
              "    "
            ],
            "text/plain": [
              "<IPython.core.display.HTML object>"
            ]
          },
          "metadata": {
            "tags": []
          }
        },
        {
          "output_type": "stream",
          "text": [
            "LR Finder is complete, type {learner_name}.recorder.plot() to see the graph.\n"
          ],
          "name": "stdout"
        },
        {
          "output_type": "display_data",
          "data": {
            "image/png": "[encoded data removed]",
            "text/plain": [
              "<Figure size 432x288 with 1 Axes>"
            ]
          },
          "metadata": {
            "tags": [],
            "needs_background": "light"
          }
        }
      ]
    },
    {
      "cell_type": "code",
      "metadata": {
        "id": "b_46Jv3vTGqk",
        "colab_type": "code",
        "colab": {
          "base_uri": "https://localhost:8080/",
          "height": 611
        },
        "outputId": "1eb2165a-ccfb-46e0-d400-f637940d8d31"
      },
      "source": [
        "#Train the Classifier by Gradually Unfreezing the Layers\n",
        "learn.fit_one_cycle(cyc_len=1, max_lr=1e-3, moms=(0.8, 0.7))\n",
        "    #Unfreeze Layer\n",
        "learn.freeze_to(-2)\n",
        "learn.fit_one_cycle(3, slice(1e-4,1e-2), moms=(0.8,0.7))\n",
        "    #Unfreeze Layer\n",
        "learn.freeze_to(-3)\n",
        "learn.fit_one_cycle(3, slice(1e-5,5e-3), moms=(0.8,0.7))\n",
        "    #Unfreeze All Layers\n",
        "learn.unfreeze()\n",
        "learn.fit_one_cycle(3, slice(1e-5,1e-3), moms=(0.8,0.7))\n",
        "    # get predictions\n",
        "preds, targets = learn.get_preds()\n",
        "predictions = np.argmax(preds, axis=1)\n",
        "pd.crosstab(predictions, targets)"
      ],
      "execution_count": null,
      "outputs": [
        {
          "output_type": "display_data",
          "data": {
            "text/html": [
              "<table border=\"1\" class=\"dataframe\">\n",
              "  <thead>\n",
              "    <tr style=\"text-align: left;\">\n",
              "      <th>epoch</th>\n",
              "      <th>train_loss</th>\n",
              "      <th>valid_loss</th>\n",
              "      <th>accuracy</th>\n",
              "      <th>time</th>\n",
              "    </tr>\n",
              "  </thead>\n",
              "  <tbody>\n",
              "    <tr>\n",
              "      <td>0</td>\n",
              "      <td>1.108155</td>\n",
              "      <td>1.081742</td>\n",
              "      <td>0.432636</td>\n",
              "      <td>00:08</td>\n",
              "    </tr>\n",
              "  </tbody>\n",
              "</table>"
            ],
            "text/plain": [
              "<IPython.core.display.HTML object>"
            ]
          },
          "metadata": {
            "tags": []
          }
        },
        {
          "output_type": "display_data",
          "data": {
            "text/html": [
              "<table border=\"1\" class=\"dataframe\">\n",
              "  <thead>\n",
              "    <tr style=\"text-align: left;\">\n",
              "      <th>epoch</th>\n",
              "      <th>train_loss</th>\n",
              "      <th>valid_loss</th>\n",
              "      <th>accuracy</th>\n",
              "      <th>time</th>\n",
              "    </tr>\n",
              "  </thead>\n",
              "  <tbody>\n",
              "    <tr>\n",
              "      <td>0</td>\n",
              "      <td>0.925905</td>\n",
              "      <td>0.871612</td>\n",
              "      <td>0.606272</td>\n",
              "      <td>00:10</td>\n",
              "    </tr>\n",
              "    <tr>\n",
              "      <td>1</td>\n",
              "      <td>0.869928</td>\n",
              "      <td>0.852567</td>\n",
              "      <td>0.606852</td>\n",
              "      <td>00:10</td>\n",
              "    </tr>\n",
              "    <tr>\n",
              "      <td>2</td>\n",
              "      <td>0.838431</td>\n",
              "      <td>0.851427</td>\n",
              "      <td>0.606272</td>\n",
              "      <td>00:10</td>\n",
              "    </tr>\n",
              "  </tbody>\n",
              "</table>"
            ],
            "text/plain": [
              "<IPython.core.display.HTML object>"
            ]
          },
          "metadata": {
            "tags": []
          }
        },
        {
          "output_type": "display_data",
          "data": {
            "text/html": [
              "<table border=\"1\" class=\"dataframe\">\n",
              "  <thead>\n",
              "    <tr style=\"text-align: left;\">\n",
              "      <th>epoch</th>\n",
              "      <th>train_loss</th>\n",
              "      <th>valid_loss</th>\n",
              "      <th>accuracy</th>\n",
              "      <th>time</th>\n",
              "    </tr>\n",
              "  </thead>\n",
              "  <tbody>\n",
              "    <tr>\n",
              "      <td>0</td>\n",
              "      <td>0.841839</td>\n",
              "      <td>0.862219</td>\n",
              "      <td>0.607433</td>\n",
              "      <td>00:15</td>\n",
              "    </tr>\n",
              "    <tr>\n",
              "      <td>1</td>\n",
              "      <td>0.826976</td>\n",
              "      <td>0.875148</td>\n",
              "      <td>0.600465</td>\n",
              "      <td>00:16</td>\n",
              "    </tr>\n",
              "    <tr>\n",
              "      <td>2</td>\n",
              "      <td>0.785392</td>\n",
              "      <td>0.886886</td>\n",
              "      <td>0.595819</td>\n",
              "      <td>00:16</td>\n",
              "    </tr>\n",
              "  </tbody>\n",
              "</table>"
            ],
            "text/plain": [
              "<IPython.core.display.HTML object>"
            ]
          },
          "metadata": {
            "tags": []
          }
        },
        {
          "output_type": "display_data",
          "data": {
            "text/html": [
              "<table border=\"1\" class=\"dataframe\">\n",
              "  <thead>\n",
              "    <tr style=\"text-align: left;\">\n",
              "      <th>epoch</th>\n",
              "      <th>train_loss</th>\n",
              "      <th>valid_loss</th>\n",
              "      <th>accuracy</th>\n",
              "      <th>time</th>\n",
              "    </tr>\n",
              "  </thead>\n",
              "  <tbody>\n",
              "    <tr>\n",
              "      <td>0</td>\n",
              "      <td>0.758142</td>\n",
              "      <td>0.912891</td>\n",
              "      <td>0.582462</td>\n",
              "      <td>00:24</td>\n",
              "    </tr>\n",
              "    <tr>\n",
              "      <td>1</td>\n",
              "      <td>0.752605</td>\n",
              "      <td>0.927439</td>\n",
              "      <td>0.577816</td>\n",
              "      <td>00:21</td>\n",
              "    </tr>\n",
              "    <tr>\n",
              "      <td>2</td>\n",
              "      <td>0.726572</td>\n",
              "      <td>0.929626</td>\n",
              "      <td>0.577816</td>\n",
              "      <td>00:23</td>\n",
              "    </tr>\n",
              "  </tbody>\n",
              "</table>"
            ],
            "text/plain": [
              "<IPython.core.display.HTML object>"
            ]
          },
          "metadata": {
            "tags": []
          }
        },
        {
          "output_type": "display_data",
          "data": {
            "text/html": [
              ""
            ],
            "text/plain": [
              "<IPython.core.display.HTML object>"
            ]
          },
          "metadata": {
            "tags": []
          }
        },
        {
          "output_type": "execute_result",
          "data": {
            "text/html": [
              "<div>\n",
              "<style scoped>\n",
              "    .dataframe tbody tr th:only-of-type {\n",
              "        vertical-align: middle;\n",
              "    }\n",
              "\n",
              "    .dataframe tbody tr th {\n",
              "        vertical-align: top;\n",
              "    }\n",
              "\n",
              "    .dataframe thead th {\n",
              "        text-align: right;\n",
              "    }\n",
              "</style>\n",
              "<table border=\"1\" class=\"dataframe\">\n",
              "  <thead>\n",
              "    <tr style=\"text-align: right;\">\n",
              "      <th>col_0</th>\n",
              "      <th>0</th>\n",
              "      <th>1</th>\n",
              "      <th>2</th>\n",
              "    </tr>\n",
              "    <tr>\n",
              "      <th>row_0</th>\n",
              "      <th></th>\n",
              "      <th></th>\n",
              "      <th></th>\n",
              "    </tr>\n",
              "  </thead>\n",
              "  <tbody>\n",
              "    <tr>\n",
              "      <th>0</th>\n",
              "      <td>935</td>\n",
              "      <td>97</td>\n",
              "      <td>496</td>\n",
              "    </tr>\n",
              "    <tr>\n",
              "      <th>1</th>\n",
              "      <td>21</td>\n",
              "      <td>3</td>\n",
              "      <td>13</td>\n",
              "    </tr>\n",
              "    <tr>\n",
              "      <th>2</th>\n",
              "      <td>88</td>\n",
              "      <td>12</td>\n",
              "      <td>57</td>\n",
              "    </tr>\n",
              "  </tbody>\n",
              "</table>\n",
              "</div>"
            ],
            "text/plain": [
              "col_0    0   1    2\n",
              "row_0              \n",
              "0      935  97  496\n",
              "1       21   3   13\n",
              "2       88  12   57"
            ]
          },
          "metadata": {
            "tags": []
          },
          "execution_count": 78
        }
      ]
    },
    {
      "cell_type": "code",
      "metadata": {
        "id": "wwZz5DgSUjaL",
        "colab_type": "code",
        "colab": {}
      },
      "source": [
        "test_orig=pd.read_csv('/content/validation.csv')"
      ],
      "execution_count": null,
      "outputs": []
    },
    {
      "cell_type": "code",
      "metadata": {
        "id": "neMrBlM4Udp-",
        "colab_type": "code",
        "colab": {}
      },
      "source": [
        "stance=test_orig['Processed_tweets'].apply(lambda row: str(learn.predict(row)[0]))\n",
        "pd.DataFrame(stance).to_csv('res3.csv')\n",
        "d=pd.DataFrame(stance)"
      ],
      "execution_count": null,
      "outputs": []
    },
    {
      "cell_type": "code",
      "metadata": {
        "id": "lsjgJbqEWe_n",
        "colab_type": "code",
        "colab": {}
      },
      "source": [
        "#Validation Set\n",
        "target=pd.read_csv('/content/true_st.csv')['Truth']"
      ],
      "execution_count": null,
      "outputs": []
    },
    {
      "cell_type": "code",
      "metadata": {
        "id": "nbvSdtxf7Ksq",
        "colab_type": "code",
        "colab": {
          "base_uri": "https://localhost:8080/",
          "height": 53
        },
        "outputId": "4c631ba0-96cd-4df2-f30d-4256789b1e21"
      },
      "source": [
        "# AUC CAlculation on validation SET\n",
        "from sklearn.metrics import roc_auc_score\n",
        "print(roc_auc_score(truth['Support'],d['Support']))\n",
        "#0\n",
        "print(roc_auc_score(truth['Oppose'],d['Oppose']))\n"
      ],
      "execution_count": null,
      "outputs": [
        {
          "output_type": "stream",
          "text": [
            "0.5762153759647981\n",
            "0.725813602908575\n"
          ],
          "name": "stdout"
        }
      ]
    },
    {
      "cell_type": "code",
      "metadata": {
        "id": "o2SODQFOWyCW",
        "colab_type": "code",
        "colab": {
          "base_uri": "https://localhost:8080/",
          "height": 233
        },
        "outputId": "436213bb-1629-4550-e31c-3206057183c9"
      },
      "source": [
        "#predictions for submission\n",
        "stance=testatable['Processed_tweets'].apply(lambda row: str(learn.predict(row)[0]))\n",
        "\n",
        "stance.to_csv"
      ],
      "execution_count": null,
      "outputs": [
        {
          "output_type": "execute_result",
          "data": {
            "text/plain": [
              "0       none\n",
              "1       none\n",
              "2       none\n",
              "3       none\n",
              "4       none\n",
              "        ... \n",
              "1732    none\n",
              "1733    none\n",
              "1734    none\n",
              "1735    none\n",
              "1736    none\n",
              "Name: Processed_tweets, Length: 1737, dtype: object"
            ]
          },
          "metadata": {
            "tags": []
          },
          "execution_count": 90
        }
      ]
    },
    {
      "cell_type": "code",
      "metadata": {
        "id": "7cGfksJtZ66i",
        "colab_type": "code",
        "colab": {}
      },
      "source": [
        "# converting multiclass to multilabel ; \n",
        "# none maps to -> 0,0 ; Against maps to 0,1; \n",
        "# Favour maps to 1,0 for Support & Oppose Respectively\n",
        "\n",
        "support=[]\n",
        "oppose=[]\n",
        "\n",
        "for i in stance:\n",
        "  if (i=='support'):\n",
        "    support.append(1)\n",
        "    pass\n",
        "  if (i=='oppose'):\n",
        "    oppose.append(1)\n",
        "    pass\n",
        "  else:\n",
        "    support.append(0)\n",
        "    oppose.append(0)\n",
        "    pass\n",
        "  "
      ],
      "execution_count": null,
      "outputs": []
    },
    {
      "cell_type": "code",
      "metadata": {
        "id": "qYnwsqLNa29I",
        "colab_type": "code",
        "colab": {
          "base_uri": "https://localhost:8080/",
          "height": 419
        },
        "outputId": "a53d5605-4164-4894-d3ce-b7d5bfbb01c9"
      },
      "source": [
        "#submission predictions\n",
        "pd.DataFrame(stance)"
      ],
      "execution_count": null,
      "outputs": [
        {
          "output_type": "execute_result",
          "data": {
            "text/html": [
              "<div>\n",
              "<style scoped>\n",
              "    .dataframe tbody tr th:only-of-type {\n",
              "        vertical-align: middle;\n",
              "    }\n",
              "\n",
              "    .dataframe tbody tr th {\n",
              "        vertical-align: top;\n",
              "    }\n",
              "\n",
              "    .dataframe thead th {\n",
              "        text-align: right;\n",
              "    }\n",
              "</style>\n",
              "<table border=\"1\" class=\"dataframe\">\n",
              "  <thead>\n",
              "    <tr style=\"text-align: right;\">\n",
              "      <th></th>\n",
              "      <th>Processed_tweets</th>\n",
              "    </tr>\n",
              "  </thead>\n",
              "  <tbody>\n",
              "    <tr>\n",
              "      <th>0</th>\n",
              "      <td>none</td>\n",
              "    </tr>\n",
              "    <tr>\n",
              "      <th>1</th>\n",
              "      <td>none</td>\n",
              "    </tr>\n",
              "    <tr>\n",
              "      <th>2</th>\n",
              "      <td>none</td>\n",
              "    </tr>\n",
              "    <tr>\n",
              "      <th>3</th>\n",
              "      <td>none</td>\n",
              "    </tr>\n",
              "    <tr>\n",
              "      <th>4</th>\n",
              "      <td>none</td>\n",
              "    </tr>\n",
              "    <tr>\n",
              "      <th>...</th>\n",
              "      <td>...</td>\n",
              "    </tr>\n",
              "    <tr>\n",
              "      <th>1732</th>\n",
              "      <td>none</td>\n",
              "    </tr>\n",
              "    <tr>\n",
              "      <th>1733</th>\n",
              "      <td>none</td>\n",
              "    </tr>\n",
              "    <tr>\n",
              "      <th>1734</th>\n",
              "      <td>none</td>\n",
              "    </tr>\n",
              "    <tr>\n",
              "      <th>1735</th>\n",
              "      <td>none</td>\n",
              "    </tr>\n",
              "    <tr>\n",
              "      <th>1736</th>\n",
              "      <td>none</td>\n",
              "    </tr>\n",
              "  </tbody>\n",
              "</table>\n",
              "<p>1737 rows × 1 columns</p>\n",
              "</div>"
            ],
            "text/plain": [
              "     Processed_tweets\n",
              "0                none\n",
              "1                none\n",
              "2                none\n",
              "3                none\n",
              "4                none\n",
              "...               ...\n",
              "1732             none\n",
              "1733             none\n",
              "1734             none\n",
              "1735             none\n",
              "1736             none\n",
              "\n",
              "[1737 rows x 1 columns]"
            ]
          },
          "metadata": {
            "tags": []
          },
          "execution_count": 146
        }
      ]
    },
    {
      "cell_type": "code",
      "metadata": {
        "id": "PL0aC1J_gVFb",
        "colab_type": "code",
        "colab": {
          "base_uri": "https://localhost:8080/",
          "height": 89
        },
        "outputId": "f8f69028-4135-4bfa-f6d5-cf8f6fb32997"
      },
      "source": [
        "#saving the model\n",
        "!tar -zcvf kaggle_lmodel.tar.gz '/content/models'"
      ],
      "execution_count": null,
      "outputs": [
        {
          "output_type": "stream",
          "text": [
            "tar: Removing leading `/' from member names\n",
            "/content/models/\n",
            "/content/models/ft_enc_kaggle_v1.pth\n",
            "/content/models/tmp.pth\n"
          ],
          "name": "stdout"
        }
      ]
    }
  ]
}