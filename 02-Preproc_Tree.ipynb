{
  "nbformat": 4,
  "nbformat_minor": 0,
  "metadata": {
    "colab": {
      "name": "BigMM_baseline_v2.ipynb",
      "provenance": [],
      "collapsed_sections": [],
      "toc_visible": true
    },
    "kernelspec": {
      "name": "python3",
      "display_name": "Python 3"
    },
    "accelerator": "GPU"
  },
  "cells": [
    {
      "cell_type": "markdown",
      "metadata": {
        "id": "_12PYyDx68yx",
        "colab_type": "text"
      },
      "source": [
        "IEEE BigMM MultiModal Classification Challenge\n",
        "\n",
        "\n",
        "**This Notebook involves more refined pre-processing of Tweets **\n"
      ]
    },
    {
      "cell_type": "markdown",
      "metadata": {
        "id": "6wrCVzJB8dbA",
        "colab_type": "text"
      },
      "source": [
        "##Import All Libraries"
      ]
    },
    {
      "cell_type": "code",
      "metadata": {
        "id": "SF_CaavYHy2l",
        "colab_type": "code",
        "colab": {
          "base_uri": "https://localhost:8080/",
          "height": 146
        },
        "outputId": "10a617a8-c52e-45ec-c70d-a416f8dc2ec6"
      },
      "source": [
        "import numpy as np # linear algebra\n",
        "import pandas as pd # data processing, CSV file I/O (e.g. pd.read_csv)\n",
        "import io\n",
        "pd.set_option('display.max_colwidth', -1)\n",
        "! pip install -q scikit-plot\n",
        "import scikitplot as skplt\n",
        "\n",
        "import re\n",
        "import os\n",
        "import sys\n",
        "import string\n",
        "import time\n",
        "import math\n",
        "from sklearn import metrics\n",
        "from sklearn.metrics import accuracy_score, precision_score, recall_score, roc_auc_score, f1_score\n",
        "! pip install tweet-preprocessor\n",
        "\n",
        "import unicodedata as uni\n",
        "import nltk\n",
        "from nltk.tokenize import TweetTokenizer\n",
        "nltk.download('stopwords')\n",
        "from nltk.corpus import stopwords\n",
        "from nltk.stem.porter import PorterStemmer\n",
        "from tqdm import tqdm\n",
        "\n",
        "from keras.preprocessing.text import Tokenizer\n",
        "from keras.preprocessing.sequence import pad_sequences\n",
        "from keras.layers import Dense, Input, LSTM, Embedding, Dropout, Activation, GRU, Conv1D,GRU\n",
        "from keras.layers import Bidirectional, GlobalMaxPool1D\n",
        "from keras.models import Model\n",
        "from keras import initializers, regularizers, constraints, optimizers, layers\n",
        "from keras.optimizers import Adam, RMSprop, Adamax\n",
        "from keras.layers import MaxPooling2D,Activation,Dropout,Flatten,Dense,BatchNormalization\n",
        "\n",
        "print(os.listdir(\"../\"))"
      ],
      "execution_count": null,
      "outputs": [
        {
          "output_type": "stream",
          "text": [
            "/usr/local/lib/python3.6/dist-packages/ipykernel_launcher.py:4: FutureWarning: Passing a negative integer is deprecated in version 1.0 and will not be supported in future version. Instead, use None to not limit the column width.\n",
            "  after removing the cwd from sys.path.\n"
          ],
          "name": "stderr"
        },
        {
          "output_type": "stream",
          "text": [
            "Requirement already satisfied: tweet-preprocessor in /usr/local/lib/python3.6/dist-packages (0.6.0)\n",
            "[nltk_data] Downloading package stopwords to /root/nltk_data...\n",
            "[nltk_data]   Package stopwords is already up-to-date!\n",
            "['media', 'opt', 'srv', 'boot', 'home', 'etc', 'tmp', 'mnt', 'lib', 'sbin', 'proc', 'run', 'var', 'sys', 'dev', 'bin', 'root', 'lib64', 'usr', '.dockerenv', 'datalab', 'tools', 'swift', 'content', 'dlib-19.18.0-cp36-cp36m-linux_x86_64.whl', 'tensorflow-1.15.2', 'dlib-19.18.0-cp27-cp27mu-linux_x86_64.whl', 'lib32']\n"
          ],
          "name": "stdout"
        }
      ]
    },
    {
      "cell_type": "code",
      "metadata": {
        "id": "87XIRdaItRU5",
        "colab_type": "code",
        "colab": {
          "base_uri": "https://localhost:8080/",
          "height": 34
        },
        "outputId": "6b31cdfd-83bf-4269-d1d5-936168a923cf"
      },
      "source": [
        "ls"
      ],
      "execution_count": null,
      "outputs": [
        {
          "output_type": "stream",
          "text": [
            "merged_tweets.txt  \u001b[0m\u001b[01;34msample_data\u001b[0m/  test.txt\n"
          ],
          "name": "stdout"
        }
      ]
    },
    {
      "cell_type": "markdown",
      "metadata": {
        "id": "TgqX5T1-uxv-",
        "colab_type": "text"
      },
      "source": [
        "##Train and Test Files upload, followed by multiple Pre-processings"
      ]
    },
    {
      "cell_type": "code",
      "metadata": {
        "id": "S3oMym0I-Ttg",
        "colab_type": "code",
        "colab": {}
      },
      "source": [
        "df = pd.read_csv(\"merged_tweets.txt\")\n",
        "df = df.drop(columns = ['Unnamed: 0'],axis=1)\n",
        "\n",
        "flag_cols = ['Text_Only_Informative', 'Image_Only_Informative', 'Directed_Hate', 'Generalized_Hate', 'Sarcasm', 'Allegation', 'Justification', \n",
        "             'Refutation', 'Support', 'Oppose']\n",
        "for i in flag_cols:\n",
        "  df[i] = df[i].map({1.0: 1, 0.0: 0})\n",
        "  df[i] = df[i].astype('uint8')\n",
        "\n",
        "def normalise_text (text):\n",
        "    text = text.str.lower() # lowercase\n",
        "    text = text.str.replace(r\"\\\\n\",\" \")\n",
        "    text = text.str.replace(r\"\\\\n\\n\",\" \")\n",
        "    text = text.str.replace(r\"\\n\\n\",\" \")\n",
        "    text = text.str.replace(r\"\\\\\\n\\\\n\",\" \")\n",
        "    return text"
      ],
      "execution_count": null,
      "outputs": []
    },
    {
      "cell_type": "code",
      "metadata": {
        "id": "aol38z16cT8q",
        "colab_type": "code",
        "colab": {
          "base_uri": "https://localhost:8080/",
          "height": 849
        },
        "outputId": "637e9e96-0603-438e-9b6f-e9c06873dcd6"
      },
      "source": [
        "df[\"new_Tweets\"]=normalise_text(df[\"Tweets\"])\n",
        "df.head(3)"
      ],
      "execution_count": null,
      "outputs": [
        {
          "output_type": "execute_result",
          "data": {
            "text/html": [
              "<div>\n",
              "<style scoped>\n",
              "    .dataframe tbody tr th:only-of-type {\n",
              "        vertical-align: middle;\n",
              "    }\n",
              "\n",
              "    .dataframe tbody tr th {\n",
              "        vertical-align: top;\n",
              "    }\n",
              "\n",
              "    .dataframe thead th {\n",
              "        text-align: right;\n",
              "    }\n",
              "</style>\n",
              "<table border=\"1\" class=\"dataframe\">\n",
              "  <thead>\n",
              "    <tr style=\"text-align: right;\">\n",
              "      <th></th>\n",
              "      <th>Tweets</th>\n",
              "      <th>TweetId</th>\n",
              "      <th>Text_Only_Informative</th>\n",
              "      <th>Image_Only_Informative</th>\n",
              "      <th>Directed_Hate</th>\n",
              "      <th>Generalized_Hate</th>\n",
              "      <th>Sarcasm</th>\n",
              "      <th>Allegation</th>\n",
              "      <th>Justification</th>\n",
              "      <th>Refutation</th>\n",
              "      <th>Support</th>\n",
              "      <th>Oppose</th>\n",
              "      <th>new_Tweets</th>\n",
              "    </tr>\n",
              "  </thead>\n",
              "  <tbody>\n",
              "    <tr>\n",
              "      <th>0</th>\n",
              "      <td>What a shock hey, Old Bill is in the clear &amp;amp; every single #ImWithHer #MeToo moron will swallow this huge pile of shit without a single gag 🤷🏼‍♂️\\n#Hypocrites https://t.co/xkYmFqnAnj</td>\n",
              "      <td>1051939199195045890</td>\n",
              "      <td>1</td>\n",
              "      <td>1</td>\n",
              "      <td>1</td>\n",
              "      <td>0</td>\n",
              "      <td>0</td>\n",
              "      <td>1</td>\n",
              "      <td>1</td>\n",
              "      <td>0</td>\n",
              "      <td>0</td>\n",
              "      <td>0</td>\n",
              "      <td>what a shock hey, old bill is in the clear &amp;amp; every single #imwithher #metoo moron will swallow this huge pile of shit without a single gag 🤷🏼‍♂️ #hypocrites https://t.co/xkymfqnanj</td>\n",
              "    </tr>\n",
              "    <tr>\n",
              "      <th>1</th>\n",
              "      <td>No Bucky, people are pissed off at ashleyperkins89 for attacking the credibility of an assault survivor AFTER THE ATTACKER, THOMAS RAVENEL, WAS ARRESTED AS THE RESULT OF A FOUR MONTH POLICE INVESTIGATION.\\nThe only people questioning the #MeToo movement are men and rape enablers. https://t.co/YAQRgiVQb3</td>\n",
              "      <td>1050811961011838977</td>\n",
              "      <td>1</td>\n",
              "      <td>1</td>\n",
              "      <td>0</td>\n",
              "      <td>0</td>\n",
              "      <td>0</td>\n",
              "      <td>0</td>\n",
              "      <td>1</td>\n",
              "      <td>0</td>\n",
              "      <td>1</td>\n",
              "      <td>0</td>\n",
              "      <td>no bucky, people are pissed off at ashleyperkins89 for attacking the credibility of an assault survivor after the attacker, thomas ravenel, was arrested as the result of a four month police investigation. the only people questioning the #metoo movement are men and rape enablers. https://t.co/yaqrgivqb3</td>\n",
              "    </tr>\n",
              "    <tr>\n",
              "      <th>2</th>\n",
              "      <td>If Sarah Hanson Young thinks #BrettKavanuagh is unfit for office, it’s hypocritical if she does not also think @billshortenmp who faced a similar allegation is not also unfit for office\\n\\n#auspol #sharrimarkson #metoo @SharriMarkson @SkyNewsAust @DavidLeyonhjelm @theboltreport https://t.co/KARD8o7j4f</td>\n",
              "      <td>1049930526314782720</td>\n",
              "      <td>1</td>\n",
              "      <td>1</td>\n",
              "      <td>0</td>\n",
              "      <td>0</td>\n",
              "      <td>0</td>\n",
              "      <td>0</td>\n",
              "      <td>0</td>\n",
              "      <td>0</td>\n",
              "      <td>1</td>\n",
              "      <td>0</td>\n",
              "      <td>if sarah hanson young thinks #brettkavanuagh is unfit for office, it’s hypocritical if she does not also think @billshortenmp who faced a similar allegation is not also unfit for office  #auspol #sharrimarkson #metoo @sharrimarkson @skynewsaust @davidleyonhjelm @theboltreport https://t.co/kard8o7j4f</td>\n",
              "    </tr>\n",
              "  </tbody>\n",
              "</table>\n",
              "</div>"
            ],
            "text/plain": [
              "                                                                                                                                                                                                                                                                                                             Tweets  ...                                                                                                                                                                                                                                                                                                       new_Tweets\n",
              "0  What a shock hey, Old Bill is in the clear &amp; every single #ImWithHer #MeToo moron will swallow this huge pile of shit without a single gag 🤷🏼‍♂️\\n#Hypocrites https://t.co/xkYmFqnAnj                                                                                                                         ...  what a shock hey, old bill is in the clear &amp; every single #imwithher #metoo moron will swallow this huge pile of shit without a single gag 🤷🏼‍♂️ #hypocrites https://t.co/xkymfqnanj                                                                                                                       \n",
              "1  No Bucky, people are pissed off at ashleyperkins89 for attacking the credibility of an assault survivor AFTER THE ATTACKER, THOMAS RAVENEL, WAS ARRESTED AS THE RESULT OF A FOUR MONTH POLICE INVESTIGATION.\\nThe only people questioning the #MeToo movement are men and rape enablers. https://t.co/YAQRgiVQb3  ...  no bucky, people are pissed off at ashleyperkins89 for attacking the credibility of an assault survivor after the attacker, thomas ravenel, was arrested as the result of a four month police investigation. the only people questioning the #metoo movement are men and rape enablers. https://t.co/yaqrgivqb3\n",
              "2  If Sarah Hanson Young thinks #BrettKavanuagh is unfit for office, it’s hypocritical if she does not also think @billshortenmp who faced a similar allegation is not also unfit for office\\n\\n#auspol #sharrimarkson #metoo @SharriMarkson @SkyNewsAust @DavidLeyonhjelm @theboltreport https://t.co/KARD8o7j4f    ...  if sarah hanson young thinks #brettkavanuagh is unfit for office, it’s hypocritical if she does not also think @billshortenmp who faced a similar allegation is not also unfit for office  #auspol #sharrimarkson #metoo @sharrimarkson @skynewsaust @davidleyonhjelm @theboltreport https://t.co/kard8o7j4f   \n",
              "\n",
              "[3 rows x 13 columns]"
            ]
          },
          "metadata": {
            "tags": []
          },
          "execution_count": 6
        }
      ]
    },
    {
      "cell_type": "code",
      "metadata": {
        "id": "K5m0grx8g-ey",
        "colab_type": "code",
        "colab": {
          "base_uri": "https://localhost:8080/",
          "height": 74
        },
        "outputId": "f60f3a00-3cd9-4823-8782-88a0480a7a57"
      },
      "source": [
        "print(df[[\"Tweets\",\"new_Tweets\"]].values[6])\n",
        "# tweet_df.iloc[6]"
      ],
      "execution_count": null,
      "outputs": [
        {
          "output_type": "stream",
          "text": [
            "['If Labor win Government what a #Quinella 🏇🏼🏇🏼\\\\n\\\\nPrime Minister - accused of historic rape allegation\\\\n\\\\nDeputy PM - married to convicted drug trafficker\\\\n\\\\n#auspol #metoo #Everest #Kavanaugh @AnnCoulter @theboltreport @J_C_Campbell @tomwconnell @sunriseon7 @annelisenews @couriermail https://t.co/H8JnMaz1ZC'\n",
            " 'if labor win government what a #quinella 🏇🏼🏇🏼  prime minister - accused of historic rape allegation  deputy pm - married to convicted drug trafficker  #auspol #metoo #everest #kavanaugh @anncoulter @theboltreport @j_c_campbell @tomwconnell @sunriseon7 @annelisenews @couriermail https://t.co/h8jnmaz1zc']\n"
          ],
          "name": "stdout"
        }
      ]
    },
    {
      "cell_type": "code",
      "metadata": {
        "id": "3Bwjt3fwd1lC",
        "colab_type": "code",
        "colab": {}
      },
      "source": [
        "def analyze_tweet(tweet):\n",
        "    result = {}\n",
        "    result['MENTIONS'] = tweet.count('USER_MENTION')\n",
        "    result['URLS'] = tweet.count('URL')\n",
        "    result['POS_EMOS'] = tweet.count('EMO_POS')\n",
        "    result['NEG_EMOS'] = tweet.count('EMO_NEG')\n",
        "    tweet = tweet.replace('USER_MENTION', '').replace(\n",
        "        'URL', '')\n",
        "    words = tweet.split()\n",
        "    result['WORDS'] = len(words)\n",
        "    bigrams = get_bigrams(words)\n",
        "    result['BIGRAMS'] = len(bigrams)\n",
        "    return result, words, bigrams\n",
        "\n",
        "\n",
        "def get_bigrams(tweet_words):\n",
        "    bigrams = []\n",
        "    num_words = len(tweet_words)\n",
        "    for i in range(num_words - 1):\n",
        "        bigrams.append((tweet_words[i], tweet_words[i + 1]))\n",
        "    return bigrams\n",
        "\n",
        "\n",
        "def get_bigram_freqdist(bigrams):\n",
        "    freq_dict = {}\n",
        "    for bigram in bigrams:\n",
        "        if freq_dict.get(bigram):\n",
        "            freq_dict[bigram] += 1\n",
        "        else:\n",
        "            freq_dict[bigram] = 1\n",
        "    counter = Counter(freq_dict)\n",
        "    return counter"
      ],
      "execution_count": null,
      "outputs": []
    },
    {
      "cell_type": "code",
      "metadata": {
        "id": "PzuWvt4Hd3DC",
        "colab_type": "code",
        "colab": {}
      },
      "source": [
        "def preprocess_word(word):\n",
        "    # Remove punctuation\n",
        "    word = word.strip('\\'\"?!,.():;')\n",
        "    # Convert more than 2 letter repetitions to 2 letter\n",
        "    # funnnnny --> funny\n",
        "    word = re.sub(r'(.)\\1+', r'\\1\\1', word)\n",
        "    # Remove - & '\n",
        "    word = re.sub(r'(-|\\')', '', word)\n",
        "    return word\n",
        "\n",
        "\n",
        "def is_valid_word(word):\n",
        "    return (re.search(r'^[a-zA-Z][a-z0-9A-Z\\._]*$', word) is not None)\n",
        "\n",
        "def handle_emojis(tweet):\n",
        "    # Smile -- :), : ), :-), (:, ( :, (-:, :')\n",
        "    tweet = re.sub(r'(:\\s?\\)|:-\\)|\\(\\s?:|\\(-:|:\\'\\))', ' EMO_POS ', str(tweet))\n",
        "    # Laugh -- :D, : D, :-D, xD, x-D, XD, X-D\n",
        "    tweet = re.sub(r'(:\\s?D|:-D|x-?D|X-?D)', ' EMO_POS ', str(tweet))\n",
        "    # Love -- <3, :*\n",
        "    tweet = re.sub(r'(<3|:\\*)', ' EMO_POS ', str(tweet))\n",
        "    # Wink -- ;-), ;), ;-D, ;D, (;,  (-;\n",
        "    tweet = re.sub(r'(;-?\\)|;-?D|\\(-?;)', ' EMO_POS ', str(tweet))\n",
        "    # Sad -- :-(, : (, :(, ):, )-:\n",
        "    tweet = re.sub(r'(:\\s?\\(|:-\\(|\\)\\s?:|\\)-:)', ' EMO_NEG ', str(tweet))\n",
        "    # Cry -- :,(, :'(, :\"(\n",
        "    tweet = re.sub(r'(:,\\(|:\\'\\(|:\"\\()', ' EMO_NEG ', str(tweet))\n",
        "    return tweet\n",
        "\n",
        "use_stemmer = False\n",
        "\n",
        "def preprocess_tweet(tweet):\n",
        "    processed_tweet = []\n",
        "    # Convert to lower case\n",
        "    tweet = tweet.lower()\n",
        "    # Replaces URLs with the word URL\n",
        "    tweet = re.sub(r\"\\\\n\",\"\", str(tweet))\n",
        "    tweet = re.sub(r\"\\n\\n\",\" \", str(tweet))\n",
        "    tweet = re.sub(r\"\\n\",\"\", str(tweet))\n",
        "    tweet = re.sub(r'((www\\.[\\S]+)|(https?://[\\S]+))', ' URL ', str(tweet))\n",
        "    # Replace @handle with the word USER_MENTION\n",
        "    tweet = re.sub(r'@[\\S]+', 'USER_MENTION', str(tweet))\n",
        "    # Replaces #hashtag with hashtag\n",
        "    tweet = re.sub(r'#(\\S+)', r' \\1 ', str(tweet))\n",
        "    # Remove RT (retweet)\n",
        "    tweet = re.sub(r'\\brt\\b', '', str(tweet))\n",
        "    # Replace 2+ dots with space\n",
        "    tweet = re.sub(r'\\.{2,}', ' ', str(tweet))\n",
        "    # Strip space, \" and ' from tweet\n",
        "    tweet = tweet.strip(' \"\\'')\n",
        "    # Replace emojis with either EMO_POS or EMO_NEG\n",
        "    tweet = handle_emojis(tweet)\n",
        "    # Replace multiple spaces with a single space\n",
        "    tweet = re.sub(r'\\s+', ' ', str(tweet))\n",
        "    words = tweet.split()\n",
        "\n",
        "    for word in words:\n",
        "        word = preprocess_word(word)\n",
        "        if is_valid_word(word):\n",
        "            if use_stemmer:\n",
        "                word = str(porter_stemmer.stem(word))\n",
        "            processed_tweet.append(word)\n",
        "\n",
        "    return ' '.join(processed_tweet)"
      ],
      "execution_count": null,
      "outputs": []
    },
    {
      "cell_type": "code",
      "metadata": {
        "id": "IfYzUnNpIR-P",
        "colab_type": "code",
        "colab": {
          "base_uri": "https://localhost:8080/",
          "height": 125
        },
        "outputId": "e2f19b52-23e3-4e58-bbb0-cd712211b53d"
      },
      "source": [
        "tweet_df = df[['new_Tweets']]\n",
        "tweet_df.head(2)"
      ],
      "execution_count": null,
      "outputs": [
        {
          "output_type": "execute_result",
          "data": {
            "text/html": [
              "<div>\n",
              "<style scoped>\n",
              "    .dataframe tbody tr th:only-of-type {\n",
              "        vertical-align: middle;\n",
              "    }\n",
              "\n",
              "    .dataframe tbody tr th {\n",
              "        vertical-align: top;\n",
              "    }\n",
              "\n",
              "    .dataframe thead th {\n",
              "        text-align: right;\n",
              "    }\n",
              "</style>\n",
              "<table border=\"1\" class=\"dataframe\">\n",
              "  <thead>\n",
              "    <tr style=\"text-align: right;\">\n",
              "      <th></th>\n",
              "      <th>new_Tweets</th>\n",
              "    </tr>\n",
              "  </thead>\n",
              "  <tbody>\n",
              "    <tr>\n",
              "      <th>0</th>\n",
              "      <td>what a shock hey, old bill is in the clear &amp;amp; every single #imwithher #metoo moron will swallow this huge pile of shit without a single gag 🤷🏼‍♂️ #hypocrites https://t.co/xkymfqnanj</td>\n",
              "    </tr>\n",
              "    <tr>\n",
              "      <th>1</th>\n",
              "      <td>no bucky, people are pissed off at ashleyperkins89 for attacking the credibility of an assault survivor after the attacker, thomas ravenel, was arrested as the result of a four month police investigation. the only people questioning the #metoo movement are men and rape enablers. https://t.co/yaqrgivqb3</td>\n",
              "    </tr>\n",
              "  </tbody>\n",
              "</table>\n",
              "</div>"
            ],
            "text/plain": [
              "                                                                                                                                                                                                                                                                                                        new_Tweets\n",
              "0  what a shock hey, old bill is in the clear &amp; every single #imwithher #metoo moron will swallow this huge pile of shit without a single gag 🤷🏼‍♂️ #hypocrites https://t.co/xkymfqnanj                                                                                                                       \n",
              "1  no bucky, people are pissed off at ashleyperkins89 for attacking the credibility of an assault survivor after the attacker, thomas ravenel, was arrested as the result of a four month police investigation. the only people questioning the #metoo movement are men and rape enablers. https://t.co/yaqrgivqb3"
            ]
          },
          "metadata": {
            "tags": []
          },
          "execution_count": 10
        }
      ]
    },
    {
      "cell_type": "code",
      "metadata": {
        "id": "Sr2dgjNrFWBu",
        "colab_type": "code",
        "colab": {}
      },
      "source": [
        "K = []\n",
        "L = list(tweet_df['new_Tweets'])\n",
        "for i in range(len(L)):\n",
        "  K.append(preprocess_tweet(L[i]))"
      ],
      "execution_count": null,
      "outputs": []
    },
    {
      "cell_type": "code",
      "metadata": {
        "id": "5sHIzTAOK9RQ",
        "colab_type": "code",
        "colab": {
          "base_uri": "https://localhost:8080/",
          "height": 321
        },
        "outputId": "1be268be-3cbc-4d37-9f13-7f1651c1e922"
      },
      "source": [
        "tweet_df['Processed_tweets'] = pd.DataFrame(K)\n",
        "tweet_df.sample(2)"
      ],
      "execution_count": null,
      "outputs": [
        {
          "output_type": "stream",
          "text": [
            "/usr/local/lib/python3.6/dist-packages/ipykernel_launcher.py:1: SettingWithCopyWarning: \n",
            "A value is trying to be set on a copy of a slice from a DataFrame.\n",
            "Try using .loc[row_indexer,col_indexer] = value instead\n",
            "\n",
            "See the caveats in the documentation: https://pandas.pydata.org/pandas-docs/stable/user_guide/indexing.html#returning-a-view-versus-a-copy\n",
            "  \"\"\"Entry point for launching an IPython kernel.\n"
          ],
          "name": "stderr"
        },
        {
          "output_type": "execute_result",
          "data": {
            "text/html": [
              "<div>\n",
              "<style scoped>\n",
              "    .dataframe tbody tr th:only-of-type {\n",
              "        vertical-align: middle;\n",
              "    }\n",
              "\n",
              "    .dataframe tbody tr th {\n",
              "        vertical-align: top;\n",
              "    }\n",
              "\n",
              "    .dataframe thead th {\n",
              "        text-align: right;\n",
              "    }\n",
              "</style>\n",
              "<table border=\"1\" class=\"dataframe\">\n",
              "  <thead>\n",
              "    <tr style=\"text-align: right;\">\n",
              "      <th></th>\n",
              "      <th>new_Tweets</th>\n",
              "      <th>Processed_tweets</th>\n",
              "    </tr>\n",
              "  </thead>\n",
              "  <tbody>\n",
              "    <tr>\n",
              "      <th>596</th>\n",
              "      <td>23 days, 6 hours, 24 minutes, 20 seconds and counting. vengeance is mine saith the scorned woman, now eat your vegetables, donald. @realdonaldtrump @jaketapper @chucktodd @johnkingcnn @johnavlon @johnberman @jeffreytoobin @amandacarpenter @maggienyt @cillizzacnn @niacnn #metoo https://t.co/vuak5ypndp</td>\n",
              "      <td>days hours minutes seconds and counting vengeance is mine saith the scorned woman now eat your vegetables donald USER_MENTION USER_MENTION USER_MENTION USER_MENTION USER_MENTION USER_MENTION USER_MENTION USER_MENTION USER_MENTION USER_MENTION USER_MENTION metoo URL</td>\n",
              "    </tr>\n",
              "    <tr>\n",
              "      <th>157</th>\n",
              "      <td>chicago review has a #metoo poetry collective https://t.co/fz3mfn9beg \\we want to thank the writers who have made such personal contributions...we want to offer our solidarity to them and to any of you,\\\" wrote editors  emily critchley and elizabeth-jane burnett #poetry @chireview https://t.co/orqzkcnj9c\"</td>\n",
              "      <td>chicago review has a metoo poetry collective URL want to thank the writers who have made such personal contributions we want to offer our solidarity to them and to any of wrote editors emily critchley and elizabethjane burnett poetry USER_MENTION URL</td>\n",
              "    </tr>\n",
              "  </tbody>\n",
              "</table>\n",
              "</div>"
            ],
            "text/plain": [
              "                                                                                                                                                                                                                                                                                                             new_Tweets                                                                                                                                                                                                                                                           Processed_tweets\n",
              "596  23 days, 6 hours, 24 minutes, 20 seconds and counting. vengeance is mine saith the scorned woman, now eat your vegetables, donald. @realdonaldtrump @jaketapper @chucktodd @johnkingcnn @johnavlon @johnberman @jeffreytoobin @amandacarpenter @maggienyt @cillizzacnn @niacnn #metoo https://t.co/vuak5ypndp       days hours minutes seconds and counting vengeance is mine saith the scorned woman now eat your vegetables donald USER_MENTION USER_MENTION USER_MENTION USER_MENTION USER_MENTION USER_MENTION USER_MENTION USER_MENTION USER_MENTION USER_MENTION USER_MENTION metoo URL\n",
              "157  chicago review has a #metoo poetry collective https://t.co/fz3mfn9beg \\we want to thank the writers who have made such personal contributions...we want to offer our solidarity to them and to any of you,\\\" wrote editors  emily critchley and elizabeth-jane burnett #poetry @chireview https://t.co/orqzkcnj9c\"  chicago review has a metoo poetry collective URL want to thank the writers who have made such personal contributions we want to offer our solidarity to them and to any of wrote editors emily critchley and elizabethjane burnett poetry USER_MENTION URL               "
            ]
          },
          "metadata": {
            "tags": []
          },
          "execution_count": 12
        }
      ]
    },
    {
      "cell_type": "code",
      "metadata": {
        "id": "6ovO_qFkZAlH",
        "colab_type": "code",
        "colab": {}
      },
      "source": [
        "#Count of emojis\n",
        "\n",
        "def cleaning_tweets(tweet):\n",
        "    ''' Cleaning Tweets by tokenizing, converting to lowercase and converting EMOJI's to their string names'''\n",
        "    words = [x for x in TweetTokenizer(strip_handles= True, preserve_case=False, reduce_len=True).tokenize(tweet) if x not in stopwords.words('english')]\n",
        "    words = [x for x in words if x not in string.punctuation]\n",
        "    emoji_count = 0\n",
        "    for idx, word in enumerate(words):\n",
        "        try:\n",
        "            words[idx] = uni.name(word).lower()\n",
        "            emoji_count += 1\n",
        "        except:\n",
        "            pass\n",
        "    return words,emoji_count\n",
        "\n",
        "def tweet_prep(tweets):\n",
        "    '''\n",
        "    Gets all tweets and cleans the tweets using cleaning_tweets. Returns a list of list of words in a tweet and a list of the number of emoji's in that tweet.\n",
        "    Input: tweets: All tweets\n",
        "    Output: tweets_list: list of list of words in each tweet\n",
        "            emo_count: list of count of emoji's in each tweet\n",
        "    '''\n",
        "    tweets_list = []\n",
        "    emo_count = []\n",
        "    for tweet in tweets:\n",
        "        words, count = cleaning_tweets(tweet)\n",
        "        tweets_list.append(words)\n",
        "        emo_count.append(count)\n",
        "    #return tweets_list, emo_count\n",
        "    return emo_count"
      ],
      "execution_count": null,
      "outputs": []
    },
    {
      "cell_type": "code",
      "metadata": {
        "id": "kEr9NFVNCh5v",
        "colab_type": "code",
        "colab": {}
      },
      "source": [
        "def feat(tweet_df):\n",
        "    ment=[]\n",
        "    url=[]\n",
        "    #emo_counts = []\n",
        "    pe=[]\n",
        "    ne=[]\n",
        "    bg=[]\n",
        "    for i in range(len(tweet_df)):\n",
        "        ment.append(analyze_tweet(tweet_df[\"Processed_tweets\"].values[i])[0]['MENTIONS'])\n",
        "        url.append(analyze_tweet(tweet_df[\"Processed_tweets\"].values[i])[0]['URLS'])\n",
        "        #emo_counts.append(cleaning_tweets(tweet_df[\"new_Tweets\"].values[i]))\n",
        "        pe.append(analyze_tweet(tweet_df[\"Processed_tweets\"].values[i])[0]['POS_EMOS'])\n",
        "        ne.append(analyze_tweet(tweet_df[\"Processed_tweets\"].values[i])[0]['NEG_EMOS'])\n",
        "        bg.append(analyze_tweet(tweet_df[\"Processed_tweets\"].values[i])[0]['BIGRAMS'])\n",
        "\n",
        "    tweet_df['mentions']=ment\n",
        "    tweet_df['url']=url\n",
        "    #tweet_df['emoji_counts']=emo_counts\n",
        "    tweet_df['pos_em']=pe\n",
        "    tweet_df['neg_em']=ne\n",
        "    tweet_df['bigrams']=bg\n",
        "    return tweet_df"
      ],
      "execution_count": null,
      "outputs": []
    },
    {
      "cell_type": "code",
      "metadata": {
        "id": "3S9cGeae2oMO",
        "colab_type": "code",
        "colab": {}
      },
      "source": [
        "feat(tweet_df)\n",
        "tweet_df.head(3)"
      ],
      "execution_count": null,
      "outputs": []
    },
    {
      "cell_type": "code",
      "metadata": {
        "id": "CxylYssL4B1o",
        "colab_type": "code",
        "colab": {
          "base_uri": "https://localhost:8080/",
          "height": 126
        },
        "outputId": "bdbdd626-bd25-4360-fbcb-eb151a81dca3"
      },
      "source": [
        "tweet_df['emoji_counts'] = tweet_prep(tweet_df[\"new_Tweets\"])"
      ],
      "execution_count": null,
      "outputs": [
        {
          "output_type": "stream",
          "text": [
            "/usr/local/lib/python3.6/dist-packages/ipykernel_launcher.py:1: SettingWithCopyWarning: \n",
            "A value is trying to be set on a copy of a slice from a DataFrame.\n",
            "Try using .loc[row_indexer,col_indexer] = value instead\n",
            "\n",
            "See the caveats in the documentation: https://pandas.pydata.org/pandas-docs/stable/user_guide/indexing.html#returning-a-view-versus-a-copy\n",
            "  \"\"\"Entry point for launching an IPython kernel.\n"
          ],
          "name": "stderr"
        }
      ]
    },
    {
      "cell_type": "code",
      "metadata": {
        "id": "twhg5gWNWi8Y",
        "colab_type": "code",
        "colab": {
          "base_uri": "https://localhost:8080/",
          "height": 187
        },
        "outputId": "06c0c368-139b-452c-adb8-cbb879dc9518"
      },
      "source": [
        "#Checking if the count of tweets is generated correctly\n",
        "print(df[\"Tweets\"].values[11])\n",
        "tweet_df.iloc[11]"
      ],
      "execution_count": null,
      "outputs": [
        {
          "output_type": "stream",
          "text": [
            "@dani_ries #metoo literally😂😂😂 https://t.co/S2f6Y2AvPQ\n"
          ],
          "name": "stdout"
        },
        {
          "output_type": "execute_result",
          "data": {
            "text/plain": [
              "new_Tweets          @dani_ries #metoo literally😂😂😂 https://t.co/s2f6y2avpq\n",
              "Processed_tweets    USER_MENTION metoo URL                                \n",
              "mentions            1                                                     \n",
              "url                 1                                                     \n",
              "pos_em              0                                                     \n",
              "neg_em              0                                                     \n",
              "bigrams             0                                                     \n",
              "emoji_counts        3                                                     \n",
              "Name: 11, dtype: object"
            ]
          },
          "metadata": {
            "tags": []
          },
          "execution_count": 37
        }
      ]
    },
    {
      "cell_type": "markdown",
      "metadata": {
        "id": "871oLaf-he50",
        "colab_type": "text"
      },
      "source": [
        "##Simple Classifiers [with above Pre-Processing]"
      ]
    },
    {
      "cell_type": "code",
      "metadata": {
        "id": "F__owYrp6odx",
        "colab_type": "code",
        "colab": {
          "base_uri": "https://localhost:8080/",
          "height": 485
        },
        "outputId": "dba0d5da-15bc-4ebc-b5ee-020b3a3a6de1"
      },
      "source": [
        "final_df = pd.concat([tweet_df[['Processed_tweets','mentions','url','pos_em','neg_em','bigrams']],df[['Text_Only_Informative', 'Image_Only_Informative', 'Directed_Hate', 'Generalized_Hate', 'Sarcasm',\n",
        "                                                         'Allegation','Justification', 'Refutation', 'Support', 'Oppose']]],axis=1)\n",
        "final_df.sample(3)"
      ],
      "execution_count": null,
      "outputs": [
        {
          "output_type": "execute_result",
          "data": {
            "text/html": [
              "<div>\n",
              "<style scoped>\n",
              "    .dataframe tbody tr th:only-of-type {\n",
              "        vertical-align: middle;\n",
              "    }\n",
              "\n",
              "    .dataframe tbody tr th {\n",
              "        vertical-align: top;\n",
              "    }\n",
              "\n",
              "    .dataframe thead th {\n",
              "        text-align: right;\n",
              "    }\n",
              "</style>\n",
              "<table border=\"1\" class=\"dataframe\">\n",
              "  <thead>\n",
              "    <tr style=\"text-align: right;\">\n",
              "      <th></th>\n",
              "      <th>Processed_tweets</th>\n",
              "      <th>mentions</th>\n",
              "      <th>url</th>\n",
              "      <th>pos_em</th>\n",
              "      <th>neg_em</th>\n",
              "      <th>bigrams</th>\n",
              "      <th>Text_Only_Informative</th>\n",
              "      <th>Image_Only_Informative</th>\n",
              "      <th>Directed_Hate</th>\n",
              "      <th>Generalized_Hate</th>\n",
              "      <th>Sarcasm</th>\n",
              "      <th>Allegation</th>\n",
              "      <th>Justification</th>\n",
              "      <th>Refutation</th>\n",
              "      <th>Support</th>\n",
              "      <th>Oppose</th>\n",
              "    </tr>\n",
              "  </thead>\n",
              "  <tbody>\n",
              "    <tr>\n",
              "      <th>5359</th>\n",
              "      <td>amid sexual harassment allegations anu malik takes a break from indian idol read his statement URL anumalik metoo USER_MENTION indianidol10 URL</td>\n",
              "      <td>1</td>\n",
              "      <td>2</td>\n",
              "      <td>0</td>\n",
              "      <td>0</td>\n",
              "      <td>17</td>\n",
              "      <td>1</td>\n",
              "      <td>1</td>\n",
              "      <td>0</td>\n",
              "      <td>0</td>\n",
              "      <td>0</td>\n",
              "      <td>0</td>\n",
              "      <td>1</td>\n",
              "      <td>0</td>\n",
              "      <td>1</td>\n",
              "      <td>0</td>\n",
              "    </tr>\n",
              "    <tr>\n",
              "      <th>3427</th>\n",
              "      <td>rahuljohri coa split sharply over metoo action on bccis ceo rahul johri read URL URL</td>\n",
              "      <td>0</td>\n",
              "      <td>2</td>\n",
              "      <td>0</td>\n",
              "      <td>0</td>\n",
              "      <td>12</td>\n",
              "      <td>0</td>\n",
              "      <td>0</td>\n",
              "      <td>0</td>\n",
              "      <td>0</td>\n",
              "      <td>0</td>\n",
              "      <td>0</td>\n",
              "      <td>0</td>\n",
              "      <td>0</td>\n",
              "      <td>0</td>\n",
              "      <td>0</td>\n",
              "    </tr>\n",
              "    <tr>\n",
              "      <th>2934</th>\n",
              "      <td>metoo is not just a moment its a revolution that should have been come years ago in india because now timesup URL</td>\n",
              "      <td>0</td>\n",
              "      <td>1</td>\n",
              "      <td>0</td>\n",
              "      <td>0</td>\n",
              "      <td>20</td>\n",
              "      <td>1</td>\n",
              "      <td>0</td>\n",
              "      <td>1</td>\n",
              "      <td>0</td>\n",
              "      <td>0</td>\n",
              "      <td>0</td>\n",
              "      <td>0</td>\n",
              "      <td>0</td>\n",
              "      <td>1</td>\n",
              "      <td>0</td>\n",
              "    </tr>\n",
              "  </tbody>\n",
              "</table>\n",
              "</div>"
            ],
            "text/plain": [
              "                                                                                                                                     Processed_tweets  ...  Oppose\n",
              "5359  amid sexual harassment allegations anu malik takes a break from indian idol read his statement URL anumalik metoo USER_MENTION indianidol10 URL  ...  0     \n",
              "3427  rahuljohri coa split sharply over metoo action on bccis ceo rahul johri read URL URL                                                             ...  0     \n",
              "2934  metoo is not just a moment its a revolution that should have been come years ago in india because now timesup URL                                ...  0     \n",
              "\n",
              "[3 rows x 16 columns]"
            ]
          },
          "metadata": {
            "tags": []
          },
          "execution_count": 56
        }
      ]
    },
    {
      "cell_type": "markdown",
      "metadata": {
        "id": "QyTVbGHARtqQ",
        "colab_type": "text"
      },
      "source": [
        "###Cleaning up the Test Data just like Train "
      ]
    },
    {
      "cell_type": "code",
      "metadata": {
        "id": "QoXAZO5WRqlG",
        "colab_type": "code",
        "colab": {
          "base_uri": "https://localhost:8080/",
          "height": 196
        },
        "outputId": "9856cbb4-75f2-48a1-8e8a-853b26e98b42"
      },
      "source": [
        "test_data = pd.read_csv(\"test.txt\")\n",
        "\n",
        "for i in range(len(test_data.tweets)):\n",
        "    test_data['tweets'].iloc[i] = test_data['tweets'].iloc[i].replace('\"', '')\n",
        "\n",
        "test_data.head(2)"
      ],
      "execution_count": null,
      "outputs": [
        {
          "output_type": "stream",
          "text": [
            "/usr/local/lib/python3.6/dist-packages/pandas/core/indexing.py:671: SettingWithCopyWarning: \n",
            "A value is trying to be set on a copy of a slice from a DataFrame\n",
            "\n",
            "See the caveats in the documentation: https://pandas.pydata.org/pandas-docs/stable/user_guide/indexing.html#returning-a-view-versus-a-copy\n",
            "  self._setitem_with_indexer(indexer, value)\n"
          ],
          "name": "stderr"
        },
        {
          "output_type": "execute_result",
          "data": {
            "text/html": [
              "<div>\n",
              "<style scoped>\n",
              "    .dataframe tbody tr th:only-of-type {\n",
              "        vertical-align: middle;\n",
              "    }\n",
              "\n",
              "    .dataframe tbody tr th {\n",
              "        vertical-align: top;\n",
              "    }\n",
              "\n",
              "    .dataframe thead th {\n",
              "        text-align: right;\n",
              "    }\n",
              "</style>\n",
              "<table border=\"1\" class=\"dataframe\">\n",
              "  <thead>\n",
              "    <tr style=\"text-align: right;\">\n",
              "      <th></th>\n",
              "      <th>tweet_id</th>\n",
              "      <th>tweets</th>\n",
              "    </tr>\n",
              "  </thead>\n",
              "  <tbody>\n",
              "    <tr>\n",
              "      <th>0</th>\n",
              "      <td>1052098315687346177</td>\n",
              "      <td>Such insensitive words. But alll laughing and applauding including the woman anchor. #MeToo @dhanyarajendran https://t.co/AipLJ7pnyj</td>\n",
              "    </tr>\n",
              "    <tr>\n",
              "      <th>1</th>\n",
              "      <td>1052084623763591168</td>\n",
              "      <td>Be like Kali... Supporting through art for #MeToo #MeTooIndia moment https://t.co/8o991KymUb</td>\n",
              "    </tr>\n",
              "  </tbody>\n",
              "</table>\n",
              "</div>"
            ],
            "text/plain": [
              "              tweet_id                                                                                                                                tweets\n",
              "0  1052098315687346177  Such insensitive words. But alll laughing and applauding including the woman anchor. #MeToo @dhanyarajendran https://t.co/AipLJ7pnyj\n",
              "1  1052084623763591168  Be like Kali... Supporting through art for #MeToo #MeTooIndia moment https://t.co/8o991KymUb                                        "
            ]
          },
          "metadata": {
            "tags": []
          },
          "execution_count": 57
        }
      ]
    },
    {
      "cell_type": "code",
      "metadata": {
        "id": "3a06i2qEdBgb",
        "colab_type": "code",
        "colab": {
          "base_uri": "https://localhost:8080/",
          "height": 247
        },
        "outputId": "e13dd60c-73e9-4ffb-a47b-c6efbb6c38d7"
      },
      "source": [
        "test_data[\"new_Tweets\"]=normalise_text(test_data[\"tweets\"])\n",
        "\n",
        "K = []\n",
        "L = list(test_data['new_Tweets'])\n",
        "for i in range(len(L)):\n",
        "  K.append(preprocess_tweet(L[i]))\n",
        "\n",
        "\n",
        "test_data['Processed_tweets'] = pd.DataFrame(K)\n",
        "test_data.sample(2)"
      ],
      "execution_count": null,
      "outputs": [
        {
          "output_type": "execute_result",
          "data": {
            "text/html": [
              "<div>\n",
              "<style scoped>\n",
              "    .dataframe tbody tr th:only-of-type {\n",
              "        vertical-align: middle;\n",
              "    }\n",
              "\n",
              "    .dataframe tbody tr th {\n",
              "        vertical-align: top;\n",
              "    }\n",
              "\n",
              "    .dataframe thead th {\n",
              "        text-align: right;\n",
              "    }\n",
              "</style>\n",
              "<table border=\"1\" class=\"dataframe\">\n",
              "  <thead>\n",
              "    <tr style=\"text-align: right;\">\n",
              "      <th></th>\n",
              "      <th>tweet_id</th>\n",
              "      <th>tweets</th>\n",
              "      <th>new_Tweets</th>\n",
              "      <th>Processed_tweets</th>\n",
              "      <th>mentions</th>\n",
              "      <th>url</th>\n",
              "      <th>pos_em</th>\n",
              "      <th>neg_em</th>\n",
              "      <th>bigrams</th>\n",
              "    </tr>\n",
              "  </thead>\n",
              "  <tbody>\n",
              "    <tr>\n",
              "      <th>856</th>\n",
              "      <td>1050018356714201090</td>\n",
              "      <td>Looks like men aren't the only enemies females have in the work place...#AI now dislikes them as well!\\nCome hear @Ella_M_Whelan strident views on the #Metoo movement this Nov Tix ➡️ https://t.co/zd6AMeHLRj\\n https://t.co/79ou9HepF8 via @BIUK_Tech https://t.co/qAImnfvP3L</td>\n",
              "      <td>looks like men aren't the only enemies females have in the work place...#ai now dislikes them as well! come hear @ella_m_whelan strident views on the #metoo movement this nov tix ➡️ https://t.co/zd6amehlrj  https://t.co/79ou9hepf8 via @biuk_tech https://t.co/qaimnfvp3l</td>\n",
              "      <td>looks like men arent the only enemies females have in the work place ai now dislikes them as well come hear USER_MENTION strident views on the metoo movement this nov tix URL URL via USER_MENTION URL</td>\n",
              "      <td>2</td>\n",
              "      <td>3</td>\n",
              "      <td>0</td>\n",
              "      <td>0</td>\n",
              "      <td>30</td>\n",
              "    </tr>\n",
              "    <tr>\n",
              "      <th>1355</th>\n",
              "      <td>1057245809098584064</td>\n",
              "      <td>Sochi Film Festival &amp;amp; Awards Press Conference\\n#MeToo @SochiFilmAwards\\nDetails at #Fabuk Web: https://t.co/mVcxy1fprR https://t.co/s63jMD0Cv6</td>\n",
              "      <td>sochi film festival &amp;amp; awards press conference #metoo @sochifilmawards details at #fabuk web: https://t.co/mvcxy1fprr https://t.co/s63jmd0cv6</td>\n",
              "      <td>sochi film festival awards press conference metoo USER_MENTION details at fabuk web URL URL</td>\n",
              "      <td>1</td>\n",
              "      <td>2</td>\n",
              "      <td>0</td>\n",
              "      <td>0</td>\n",
              "      <td>10</td>\n",
              "    </tr>\n",
              "  </tbody>\n",
              "</table>\n",
              "</div>"
            ],
            "text/plain": [
              "                 tweet_id  ... bigrams\n",
              "856   1050018356714201090  ...  30    \n",
              "1355  1057245809098584064  ...  10    \n",
              "\n",
              "[2 rows x 9 columns]"
            ]
          },
          "metadata": {
            "tags": []
          },
          "execution_count": 60
        }
      ]
    },
    {
      "cell_type": "code",
      "metadata": {
        "id": "v2az7juMdBa_",
        "colab_type": "code",
        "colab": {
          "base_uri": "https://localhost:8080/",
          "height": 227
        },
        "outputId": "eac749dd-ea1e-4b31-d507-9e70daadcb7e"
      },
      "source": [
        "feat(test_data)\n",
        "# test_data['emoji_counts'] = tweet_prep(test_data[\"new_Tweets\"])\n",
        "test_data.sample(3)"
      ],
      "execution_count": null,
      "outputs": [
        {
          "output_type": "execute_result",
          "data": {
            "text/html": [
              "<div>\n",
              "<style scoped>\n",
              "    .dataframe tbody tr th:only-of-type {\n",
              "        vertical-align: middle;\n",
              "    }\n",
              "\n",
              "    .dataframe tbody tr th {\n",
              "        vertical-align: top;\n",
              "    }\n",
              "\n",
              "    .dataframe thead th {\n",
              "        text-align: right;\n",
              "    }\n",
              "</style>\n",
              "<table border=\"1\" class=\"dataframe\">\n",
              "  <thead>\n",
              "    <tr style=\"text-align: right;\">\n",
              "      <th></th>\n",
              "      <th>tweet_id</th>\n",
              "      <th>tweets</th>\n",
              "      <th>new_Tweets</th>\n",
              "      <th>Processed_tweets</th>\n",
              "      <th>mentions</th>\n",
              "      <th>url</th>\n",
              "      <th>pos_em</th>\n",
              "      <th>neg_em</th>\n",
              "      <th>bigrams</th>\n",
              "    </tr>\n",
              "  </thead>\n",
              "  <tbody>\n",
              "    <tr>\n",
              "      <th>1015</th>\n",
              "      <td>1050814454764429312</td>\n",
              "      <td>@yamigautam Behind the scenes @filmfare #Elegant and #classy .#MeToo Yami should speak out https://t.co/R9DQTYuKWq</td>\n",
              "      <td>@yamigautam behind the scenes @filmfare #elegant and #classy .#metoo yami should speak out https://t.co/r9dqtyukwq</td>\n",
              "      <td>USER_MENTION behind the scenes USER_MENTION elegant and classy metoo yami should speak out URL</td>\n",
              "      <td>2</td>\n",
              "      <td>1</td>\n",
              "      <td>0</td>\n",
              "      <td>0</td>\n",
              "      <td>10</td>\n",
              "    </tr>\n",
              "    <tr>\n",
              "      <th>682</th>\n",
              "      <td>1052175013934182400</td>\n",
              "      <td>Animal prints are everywhere in all styles and colours check us out!\\n\\n#boutiqueanimalprint\\n#metoo\\n#likeforlike https://t.co/tthUhu2AWN</td>\n",
              "      <td>animal prints are everywhere in all styles and colours check us out!  #boutiqueanimalprint #metoo #likeforlike https://t.co/tthuhu2awn</td>\n",
              "      <td>animal prints are everywhere in all styles and colours check us out boutiqueanimalprint metoo likeforlike URL</td>\n",
              "      <td>0</td>\n",
              "      <td>1</td>\n",
              "      <td>0</td>\n",
              "      <td>0</td>\n",
              "      <td>14</td>\n",
              "    </tr>\n",
              "    <tr>\n",
              "      <th>566</th>\n",
              "      <td>1051827733699805184</td>\n",
              "      <td>Yes we can survive this too 😣\\n#MeToo https://t.co/kPiRJr1X8l</td>\n",
              "      <td>yes we can survive this too 😣 #metoo https://t.co/kpirjr1x8l</td>\n",
              "      <td>yes we can survive this too metoo URL</td>\n",
              "      <td>0</td>\n",
              "      <td>1</td>\n",
              "      <td>0</td>\n",
              "      <td>0</td>\n",
              "      <td>6</td>\n",
              "    </tr>\n",
              "  </tbody>\n",
              "</table>\n",
              "</div>"
            ],
            "text/plain": [
              "                 tweet_id  ... bigrams\n",
              "1015  1050814454764429312  ...  10    \n",
              "682   1052175013934182400  ...  14    \n",
              "566   1051827733699805184  ...  6     \n",
              "\n",
              "[3 rows x 9 columns]"
            ]
          },
          "metadata": {
            "tags": []
          },
          "execution_count": 61
        }
      ]
    },
    {
      "cell_type": "markdown",
      "metadata": {
        "id": "LUKkolg3KIjH",
        "colab_type": "text"
      },
      "source": [
        "##NaiveBayes Classifier"
      ]
    },
    {
      "cell_type": "code",
      "metadata": {
        "id": "KD_m9qRdKF8L",
        "colab_type": "code",
        "colab": {
          "base_uri": "https://localhost:8080/",
          "height": 85
        },
        "outputId": "093e0740-dda9-4d30-9913-aa89c6b81ba5"
      },
      "source": [
        "categories = ['Justification', 'Refutation', 'Support', 'Oppose']\n",
        "\n",
        "#categories = ['Justification']\n",
        "X_train_NB = train_X.Processed_tweets\n",
        "X_val_NB = val_X.Processed_tweets\n",
        "print(X_train_NB.shape)\n",
        "print(X_val_NB.shape)\n",
        "\n",
        "from sklearn.feature_extraction.text import CountVectorizer\n",
        "count_vect = CountVectorizer()\n",
        "X_train_counts = count_vect.fit_transform(X_train_NB)\n",
        "print('Shape using CountVectorizer():' , X_train_counts.shape)\n",
        "\n",
        "\n",
        "from sklearn.feature_extraction.text import TfidfTransformer\n",
        "tfidf_transformer = TfidfTransformer()\n",
        "X_train_tfidf = tfidf_transformer.fit_transform(X_train_counts)\n",
        "print('Shape using TfidfTransformer():' , X_train_tfidf.shape)"
      ],
      "execution_count": null,
      "outputs": [
        {
          "output_type": "stream",
          "text": [
            "(4808,)\n",
            "(2061,)\n",
            "Shape using CountVectorizer(): (4808, 9689)\n",
            "Shape using TfidfTransformer(): (4808, 9689)\n"
          ],
          "name": "stdout"
        }
      ]
    },
    {
      "cell_type": "code",
      "metadata": {
        "id": "GNBTCKZ9fQgv",
        "colab_type": "code",
        "colab": {}
      },
      "source": [
        "# Define a pipeline combining a text feature extractor with multi label classifier\n",
        "\n",
        "from sklearn.feature_extraction.text import TfidfVectorizer\n",
        "tvec = TfidfVectorizer()\n",
        "# clf2 = LogisticRegression()\n",
        "nb = MultinomialNB()\n",
        "#svc = SVC()\n",
        "\n",
        "model = Pipeline([('vectorizer',tvec)\n",
        "                 ,('bernaulli_classifier',nb)\n",
        "                 ])\n",
        "\n",
        "for category in categories:\n",
        "    print('... Processing {}'.format(category))\n",
        "    # train the model using X_dtm & y\n",
        "    model.fit(X_train, train[category])\n",
        "    # compute the testing accuracy\n",
        "    prediction = model.predict(X_test)\n",
        "    print('Test F1-Score using Bernaulli\\'s NB is {}'.format(f1_score(test[category], prediction)))\n",
        "    print('Validation F1-Score using naive_bayes: ', f1_score(test[category],prediction))\n",
        "    print(\"Validation AUC-ROC Score: \", roc_auc_score(test[category],prediction))\n",
        "    #print('Test Weighted F1-Score using Logistic is {}'.format(f1_score(test[category], prediction, average = 'weighted')))"
      ],
      "execution_count": null,
      "outputs": []
    },
    {
      "cell_type": "code",
      "metadata": {
        "id": "eXW8bEHUKFzs",
        "colab_type": "code",
        "colab": {
          "base_uri": "https://localhost:8080/",
          "height": 499
        },
        "outputId": "cede11cf-6645-44ed-e16c-4c9595628873"
      },
      "source": [
        "from sklearn.pipeline import Pipeline\n",
        "from sklearn.naive_bayes import MultinomialNB\n",
        "text_clf = Pipeline([('vect', CountVectorizer()),('tfidf', TfidfTransformer()),('clf', MultinomialNB()),])\n",
        "\n",
        "for category in categories:\n",
        "    print('... Processing {}'.format(category))\n",
        "    text_clf.fit(X_train_NB, train_Y[category])\n",
        "    # compute the validation accuracy\n",
        "    prediction = text_clf.predict(X_val_NB)\n",
        "    print(\"Validation Accuracy using naive_bayes: \", accuracy_score(val_Y[category],prediction))\n",
        "    print('Validation F1-Score using naive_bayes: ', f1_score(val_Y[category],prediction))\n",
        "    print(\"Validation AUC-ROC Score: \", roc_auc_score(val_Y[category],prediction))\n",
        "    #Confusion Matrix\n",
        "    print('\\n')\n",
        "    print('CONFUSION MATRIX:->')\n",
        "    skplt.metrics.plot_confusion_matrix(val_Y[category],np.round(prediction),figsize=(6,6))"
      ],
      "execution_count": null,
      "outputs": [
        {
          "output_type": "stream",
          "text": [
            "... Processing Justification\n",
            "Validation Accuracy using naive_bayes:  0.9665211062590975\n",
            "Validation F1-Score using naive_bayes:  0.0\n",
            "Validation AUC-ROC Score:  0.5\n",
            "\n",
            "\n",
            "CONFUSION MATRIX:->\n"
          ],
          "name": "stdout"
        },
        {
          "output_type": "execute_result",
          "data": {
            "text/plain": [
              "<matplotlib.axes._subplots.AxesSubplot at 0x7fd9106facf8>"
            ]
          },
          "metadata": {
            "tags": []
          },
          "execution_count": 118
        },
        {
          "output_type": "display_data",
          "data": {
            "image/png": "[encoded data removed]",
            "text/plain": [
              "<Figure size 432x432 with 2 Axes>"
            ]
          },
          "metadata": {
            "tags": [],
            "needs_background": "light"
          }
        }
      ]
    },
    {
      "cell_type": "code",
      "metadata": {
        "id": "mDTIbmP_hA5W",
        "colab_type": "code",
        "colab": {
          "base_uri": "https://localhost:8080/",
          "height": 160
        },
        "outputId": "611227a9-e8a4-4257-dc19-b64ca7911c08"
      },
      "source": [
        "embed_size = 500 \n",
        "max_features = 1000\n",
        "maxlen = 100\n",
        "\n",
        "tokenizer = Tokenizer(num_words=max_features)\n",
        "tokenizer.fit_on_texts(list(final_df.Processed_tweets))\n",
        "new_train_X = tokenizer.texts_to_sequences(final_df.Processed_tweets)\n",
        "\n",
        "## Pad the sentences\n",
        "new_train_X = pad_sequences(new_train_X, maxlen=maxlen)\n",
        "\n",
        "model_train_X = pd.concat([pd.DataFrame(new_train_X),final_df[['mentions','url', 'pos_em','neg_em','bigrams']].reset_index(drop=True)],axis=1)\n",
        "\n",
        "model_train_X.head(2)"
      ],
      "execution_count": null,
      "outputs": [
        {
          "output_type": "execute_result",
          "data": {
            "text/html": [
              "<div>\n",
              "<style scoped>\n",
              "    .dataframe tbody tr th:only-of-type {\n",
              "        vertical-align: middle;\n",
              "    }\n",
              "\n",
              "    .dataframe tbody tr th {\n",
              "        vertical-align: top;\n",
              "    }\n",
              "\n",
              "    .dataframe thead th {\n",
              "        text-align: right;\n",
              "    }\n",
              "</style>\n",
              "<table border=\"1\" class=\"dataframe\">\n",
              "  <thead>\n",
              "    <tr style=\"text-align: right;\">\n",
              "      <th></th>\n",
              "      <th>0</th>\n",
              "      <th>1</th>\n",
              "      <th>2</th>\n",
              "      <th>3</th>\n",
              "      <th>4</th>\n",
              "      <th>5</th>\n",
              "      <th>6</th>\n",
              "      <th>7</th>\n",
              "      <th>8</th>\n",
              "      <th>9</th>\n",
              "      <th>10</th>\n",
              "      <th>11</th>\n",
              "      <th>12</th>\n",
              "      <th>13</th>\n",
              "      <th>14</th>\n",
              "      <th>15</th>\n",
              "      <th>16</th>\n",
              "      <th>17</th>\n",
              "      <th>18</th>\n",
              "      <th>19</th>\n",
              "      <th>20</th>\n",
              "      <th>21</th>\n",
              "      <th>22</th>\n",
              "      <th>23</th>\n",
              "      <th>24</th>\n",
              "      <th>25</th>\n",
              "      <th>26</th>\n",
              "      <th>27</th>\n",
              "      <th>28</th>\n",
              "      <th>29</th>\n",
              "      <th>30</th>\n",
              "      <th>31</th>\n",
              "      <th>32</th>\n",
              "      <th>33</th>\n",
              "      <th>34</th>\n",
              "      <th>35</th>\n",
              "      <th>36</th>\n",
              "      <th>37</th>\n",
              "      <th>38</th>\n",
              "      <th>39</th>\n",
              "      <th>...</th>\n",
              "      <th>65</th>\n",
              "      <th>66</th>\n",
              "      <th>67</th>\n",
              "      <th>68</th>\n",
              "      <th>69</th>\n",
              "      <th>70</th>\n",
              "      <th>71</th>\n",
              "      <th>72</th>\n",
              "      <th>73</th>\n",
              "      <th>74</th>\n",
              "      <th>75</th>\n",
              "      <th>76</th>\n",
              "      <th>77</th>\n",
              "      <th>78</th>\n",
              "      <th>79</th>\n",
              "      <th>80</th>\n",
              "      <th>81</th>\n",
              "      <th>82</th>\n",
              "      <th>83</th>\n",
              "      <th>84</th>\n",
              "      <th>85</th>\n",
              "      <th>86</th>\n",
              "      <th>87</th>\n",
              "      <th>88</th>\n",
              "      <th>89</th>\n",
              "      <th>90</th>\n",
              "      <th>91</th>\n",
              "      <th>92</th>\n",
              "      <th>93</th>\n",
              "      <th>94</th>\n",
              "      <th>95</th>\n",
              "      <th>96</th>\n",
              "      <th>97</th>\n",
              "      <th>98</th>\n",
              "      <th>99</th>\n",
              "      <th>mentions</th>\n",
              "      <th>url</th>\n",
              "      <th>pos_em</th>\n",
              "      <th>neg_em</th>\n",
              "      <th>bigrams</th>\n",
              "    </tr>\n",
              "  </thead>\n",
              "  <tbody>\n",
              "    <tr>\n",
              "      <th>0</th>\n",
              "      <td>0</td>\n",
              "      <td>0</td>\n",
              "      <td>0</td>\n",
              "      <td>0</td>\n",
              "      <td>0</td>\n",
              "      <td>0</td>\n",
              "      <td>0</td>\n",
              "      <td>0</td>\n",
              "      <td>0</td>\n",
              "      <td>0</td>\n",
              "      <td>0</td>\n",
              "      <td>0</td>\n",
              "      <td>0</td>\n",
              "      <td>0</td>\n",
              "      <td>0</td>\n",
              "      <td>0</td>\n",
              "      <td>0</td>\n",
              "      <td>0</td>\n",
              "      <td>0</td>\n",
              "      <td>0</td>\n",
              "      <td>0</td>\n",
              "      <td>0</td>\n",
              "      <td>0</td>\n",
              "      <td>0</td>\n",
              "      <td>0</td>\n",
              "      <td>0</td>\n",
              "      <td>0</td>\n",
              "      <td>0</td>\n",
              "      <td>0</td>\n",
              "      <td>0</td>\n",
              "      <td>0</td>\n",
              "      <td>0</td>\n",
              "      <td>0</td>\n",
              "      <td>0</td>\n",
              "      <td>0</td>\n",
              "      <td>0</td>\n",
              "      <td>0</td>\n",
              "      <td>0</td>\n",
              "      <td>0</td>\n",
              "      <td>0</td>\n",
              "      <td>...</td>\n",
              "      <td>0</td>\n",
              "      <td>0</td>\n",
              "      <td>0</td>\n",
              "      <td>0</td>\n",
              "      <td>0</td>\n",
              "      <td>0</td>\n",
              "      <td>0</td>\n",
              "      <td>0</td>\n",
              "      <td>0</td>\n",
              "      <td>0</td>\n",
              "      <td>0</td>\n",
              "      <td>0</td>\n",
              "      <td>0</td>\n",
              "      <td>0</td>\n",
              "      <td>0</td>\n",
              "      <td>0</td>\n",
              "      <td>0</td>\n",
              "      <td>44</td>\n",
              "      <td>9</td>\n",
              "      <td>969</td>\n",
              "      <td>265</td>\n",
              "      <td>586</td>\n",
              "      <td>11</td>\n",
              "      <td>10</td>\n",
              "      <td>5</td>\n",
              "      <td>732</td>\n",
              "      <td>187</td>\n",
              "      <td>2</td>\n",
              "      <td>42</td>\n",
              "      <td>15</td>\n",
              "      <td>7</td>\n",
              "      <td>970</td>\n",
              "      <td>421</td>\n",
              "      <td>9</td>\n",
              "      <td>1</td>\n",
              "      <td>0</td>\n",
              "      <td>1</td>\n",
              "      <td>0</td>\n",
              "      <td>0</td>\n",
              "      <td>26</td>\n",
              "    </tr>\n",
              "    <tr>\n",
              "      <th>1</th>\n",
              "      <td>0</td>\n",
              "      <td>0</td>\n",
              "      <td>0</td>\n",
              "      <td>0</td>\n",
              "      <td>0</td>\n",
              "      <td>0</td>\n",
              "      <td>0</td>\n",
              "      <td>0</td>\n",
              "      <td>0</td>\n",
              "      <td>0</td>\n",
              "      <td>0</td>\n",
              "      <td>0</td>\n",
              "      <td>0</td>\n",
              "      <td>0</td>\n",
              "      <td>0</td>\n",
              "      <td>0</td>\n",
              "      <td>0</td>\n",
              "      <td>0</td>\n",
              "      <td>0</td>\n",
              "      <td>0</td>\n",
              "      <td>0</td>\n",
              "      <td>0</td>\n",
              "      <td>0</td>\n",
              "      <td>0</td>\n",
              "      <td>0</td>\n",
              "      <td>0</td>\n",
              "      <td>0</td>\n",
              "      <td>0</td>\n",
              "      <td>0</td>\n",
              "      <td>0</td>\n",
              "      <td>0</td>\n",
              "      <td>0</td>\n",
              "      <td>0</td>\n",
              "      <td>0</td>\n",
              "      <td>0</td>\n",
              "      <td>0</td>\n",
              "      <td>0</td>\n",
              "      <td>0</td>\n",
              "      <td>0</td>\n",
              "      <td>0</td>\n",
              "      <td>...</td>\n",
              "      <td>0</td>\n",
              "      <td>0</td>\n",
              "      <td>0</td>\n",
              "      <td>61</td>\n",
              "      <td>90</td>\n",
              "      <td>21</td>\n",
              "      <td>387</td>\n",
              "      <td>22</td>\n",
              "      <td>13</td>\n",
              "      <td>5</td>\n",
              "      <td>7</td>\n",
              "      <td>62</td>\n",
              "      <td>92</td>\n",
              "      <td>465</td>\n",
              "      <td>38</td>\n",
              "      <td>5</td>\n",
              "      <td>54</td>\n",
              "      <td>35</td>\n",
              "      <td>5</td>\n",
              "      <td>7</td>\n",
              "      <td>9</td>\n",
              "      <td>871</td>\n",
              "      <td>193</td>\n",
              "      <td>565</td>\n",
              "      <td>5</td>\n",
              "      <td>129</td>\n",
              "      <td>90</td>\n",
              "      <td>5</td>\n",
              "      <td>2</td>\n",
              "      <td>14</td>\n",
              "      <td>21</td>\n",
              "      <td>56</td>\n",
              "      <td>8</td>\n",
              "      <td>141</td>\n",
              "      <td>1</td>\n",
              "      <td>0</td>\n",
              "      <td>1</td>\n",
              "      <td>0</td>\n",
              "      <td>0</td>\n",
              "      <td>43</td>\n",
              "    </tr>\n",
              "  </tbody>\n",
              "</table>\n",
              "<p>2 rows × 105 columns</p>\n",
              "</div>"
            ],
            "text/plain": [
              "   0  1  2  3  4  5  6  7  ...   97   98  99  mentions  url  pos_em  neg_em  bigrams\n",
              "0  0  0  0  0  0  0  0  0  ...  421  9    1   0         1    0       0       26     \n",
              "1  0  0  0  0  0  0  0  0  ...  8    141  1   0         1    0       0       43     \n",
              "\n",
              "[2 rows x 105 columns]"
            ]
          },
          "metadata": {
            "tags": []
          },
          "execution_count": 79
        }
      ]
    },
    {
      "cell_type": "code",
      "metadata": {
        "id": "cAz_AUdtkQ9k",
        "colab_type": "code",
        "colab": {
          "base_uri": "https://localhost:8080/",
          "height": 160
        },
        "outputId": "1dbfbfc2-1580-4d01-e7a2-9c8452ca0903"
      },
      "source": [
        "#Same Processing for test data\n",
        "embed_size = 500 \n",
        "max_features = 1000\n",
        "maxlen = 100\n",
        "\n",
        "test_data_tokenizer = Tokenizer(num_words=max_features)\n",
        "test_data_tokenizer.fit_on_texts(list(test_data.Processed_tweets))\n",
        "new_test_X = tokenizer.texts_to_sequences(test_data.Processed_tweets)\n",
        "\n",
        "## Pad the sentences\n",
        "new_test_X = pad_sequences(new_test_X, maxlen=maxlen)\n",
        "\n",
        "model_test_X = pd.concat([pd.DataFrame(new_test_X),test_data[['mentions','url', 'pos_em','neg_em','bigrams']].reset_index(drop=True)],axis=1)\n",
        "model_test_X.head(2)"
      ],
      "execution_count": null,
      "outputs": [
        {
          "output_type": "execute_result",
          "data": {
            "text/html": [
              "<div>\n",
              "<style scoped>\n",
              "    .dataframe tbody tr th:only-of-type {\n",
              "        vertical-align: middle;\n",
              "    }\n",
              "\n",
              "    .dataframe tbody tr th {\n",
              "        vertical-align: top;\n",
              "    }\n",
              "\n",
              "    .dataframe thead th {\n",
              "        text-align: right;\n",
              "    }\n",
              "</style>\n",
              "<table border=\"1\" class=\"dataframe\">\n",
              "  <thead>\n",
              "    <tr style=\"text-align: right;\">\n",
              "      <th></th>\n",
              "      <th>0</th>\n",
              "      <th>1</th>\n",
              "      <th>2</th>\n",
              "      <th>3</th>\n",
              "      <th>4</th>\n",
              "      <th>5</th>\n",
              "      <th>6</th>\n",
              "      <th>7</th>\n",
              "      <th>8</th>\n",
              "      <th>9</th>\n",
              "      <th>10</th>\n",
              "      <th>11</th>\n",
              "      <th>12</th>\n",
              "      <th>13</th>\n",
              "      <th>14</th>\n",
              "      <th>15</th>\n",
              "      <th>16</th>\n",
              "      <th>17</th>\n",
              "      <th>18</th>\n",
              "      <th>19</th>\n",
              "      <th>20</th>\n",
              "      <th>21</th>\n",
              "      <th>22</th>\n",
              "      <th>23</th>\n",
              "      <th>24</th>\n",
              "      <th>25</th>\n",
              "      <th>26</th>\n",
              "      <th>27</th>\n",
              "      <th>28</th>\n",
              "      <th>29</th>\n",
              "      <th>30</th>\n",
              "      <th>31</th>\n",
              "      <th>32</th>\n",
              "      <th>33</th>\n",
              "      <th>34</th>\n",
              "      <th>35</th>\n",
              "      <th>36</th>\n",
              "      <th>37</th>\n",
              "      <th>38</th>\n",
              "      <th>39</th>\n",
              "      <th>...</th>\n",
              "      <th>65</th>\n",
              "      <th>66</th>\n",
              "      <th>67</th>\n",
              "      <th>68</th>\n",
              "      <th>69</th>\n",
              "      <th>70</th>\n",
              "      <th>71</th>\n",
              "      <th>72</th>\n",
              "      <th>73</th>\n",
              "      <th>74</th>\n",
              "      <th>75</th>\n",
              "      <th>76</th>\n",
              "      <th>77</th>\n",
              "      <th>78</th>\n",
              "      <th>79</th>\n",
              "      <th>80</th>\n",
              "      <th>81</th>\n",
              "      <th>82</th>\n",
              "      <th>83</th>\n",
              "      <th>84</th>\n",
              "      <th>85</th>\n",
              "      <th>86</th>\n",
              "      <th>87</th>\n",
              "      <th>88</th>\n",
              "      <th>89</th>\n",
              "      <th>90</th>\n",
              "      <th>91</th>\n",
              "      <th>92</th>\n",
              "      <th>93</th>\n",
              "      <th>94</th>\n",
              "      <th>95</th>\n",
              "      <th>96</th>\n",
              "      <th>97</th>\n",
              "      <th>98</th>\n",
              "      <th>99</th>\n",
              "      <th>mentions</th>\n",
              "      <th>url</th>\n",
              "      <th>pos_em</th>\n",
              "      <th>neg_em</th>\n",
              "      <th>bigrams</th>\n",
              "    </tr>\n",
              "  </thead>\n",
              "  <tbody>\n",
              "    <tr>\n",
              "      <th>0</th>\n",
              "      <td>0</td>\n",
              "      <td>0</td>\n",
              "      <td>0</td>\n",
              "      <td>0</td>\n",
              "      <td>0</td>\n",
              "      <td>0</td>\n",
              "      <td>0</td>\n",
              "      <td>0</td>\n",
              "      <td>0</td>\n",
              "      <td>0</td>\n",
              "      <td>0</td>\n",
              "      <td>0</td>\n",
              "      <td>0</td>\n",
              "      <td>0</td>\n",
              "      <td>0</td>\n",
              "      <td>0</td>\n",
              "      <td>0</td>\n",
              "      <td>0</td>\n",
              "      <td>0</td>\n",
              "      <td>0</td>\n",
              "      <td>0</td>\n",
              "      <td>0</td>\n",
              "      <td>0</td>\n",
              "      <td>0</td>\n",
              "      <td>0</td>\n",
              "      <td>0</td>\n",
              "      <td>0</td>\n",
              "      <td>0</td>\n",
              "      <td>0</td>\n",
              "      <td>0</td>\n",
              "      <td>0</td>\n",
              "      <td>0</td>\n",
              "      <td>0</td>\n",
              "      <td>0</td>\n",
              "      <td>0</td>\n",
              "      <td>0</td>\n",
              "      <td>0</td>\n",
              "      <td>0</td>\n",
              "      <td>0</td>\n",
              "      <td>0</td>\n",
              "      <td>...</td>\n",
              "      <td>0</td>\n",
              "      <td>0</td>\n",
              "      <td>0</td>\n",
              "      <td>0</td>\n",
              "      <td>0</td>\n",
              "      <td>0</td>\n",
              "      <td>0</td>\n",
              "      <td>0</td>\n",
              "      <td>0</td>\n",
              "      <td>0</td>\n",
              "      <td>0</td>\n",
              "      <td>0</td>\n",
              "      <td>0</td>\n",
              "      <td>0</td>\n",
              "      <td>0</td>\n",
              "      <td>0</td>\n",
              "      <td>0</td>\n",
              "      <td>0</td>\n",
              "      <td>0</td>\n",
              "      <td>0</td>\n",
              "      <td>0</td>\n",
              "      <td>0</td>\n",
              "      <td>0</td>\n",
              "      <td>280</td>\n",
              "      <td>587</td>\n",
              "      <td>45</td>\n",
              "      <td>40</td>\n",
              "      <td>8</td>\n",
              "      <td>956</td>\n",
              "      <td>5</td>\n",
              "      <td>74</td>\n",
              "      <td>2</td>\n",
              "      <td>4</td>\n",
              "      <td>3</td>\n",
              "      <td>1</td>\n",
              "      <td>1</td>\n",
              "      <td>1</td>\n",
              "      <td>0</td>\n",
              "      <td>0</td>\n",
              "      <td>12</td>\n",
              "    </tr>\n",
              "    <tr>\n",
              "      <th>1</th>\n",
              "      <td>0</td>\n",
              "      <td>0</td>\n",
              "      <td>0</td>\n",
              "      <td>0</td>\n",
              "      <td>0</td>\n",
              "      <td>0</td>\n",
              "      <td>0</td>\n",
              "      <td>0</td>\n",
              "      <td>0</td>\n",
              "      <td>0</td>\n",
              "      <td>0</td>\n",
              "      <td>0</td>\n",
              "      <td>0</td>\n",
              "      <td>0</td>\n",
              "      <td>0</td>\n",
              "      <td>0</td>\n",
              "      <td>0</td>\n",
              "      <td>0</td>\n",
              "      <td>0</td>\n",
              "      <td>0</td>\n",
              "      <td>0</td>\n",
              "      <td>0</td>\n",
              "      <td>0</td>\n",
              "      <td>0</td>\n",
              "      <td>0</td>\n",
              "      <td>0</td>\n",
              "      <td>0</td>\n",
              "      <td>0</td>\n",
              "      <td>0</td>\n",
              "      <td>0</td>\n",
              "      <td>0</td>\n",
              "      <td>0</td>\n",
              "      <td>0</td>\n",
              "      <td>0</td>\n",
              "      <td>0</td>\n",
              "      <td>0</td>\n",
              "      <td>0</td>\n",
              "      <td>0</td>\n",
              "      <td>0</td>\n",
              "      <td>0</td>\n",
              "      <td>...</td>\n",
              "      <td>0</td>\n",
              "      <td>0</td>\n",
              "      <td>0</td>\n",
              "      <td>0</td>\n",
              "      <td>0</td>\n",
              "      <td>0</td>\n",
              "      <td>0</td>\n",
              "      <td>0</td>\n",
              "      <td>0</td>\n",
              "      <td>0</td>\n",
              "      <td>0</td>\n",
              "      <td>0</td>\n",
              "      <td>0</td>\n",
              "      <td>0</td>\n",
              "      <td>0</td>\n",
              "      <td>0</td>\n",
              "      <td>0</td>\n",
              "      <td>0</td>\n",
              "      <td>0</td>\n",
              "      <td>0</td>\n",
              "      <td>0</td>\n",
              "      <td>0</td>\n",
              "      <td>0</td>\n",
              "      <td>0</td>\n",
              "      <td>0</td>\n",
              "      <td>24</td>\n",
              "      <td>77</td>\n",
              "      <td>502</td>\n",
              "      <td>341</td>\n",
              "      <td>434</td>\n",
              "      <td>13</td>\n",
              "      <td>2</td>\n",
              "      <td>26</td>\n",
              "      <td>121</td>\n",
              "      <td>1</td>\n",
              "      <td>0</td>\n",
              "      <td>1</td>\n",
              "      <td>0</td>\n",
              "      <td>0</td>\n",
              "      <td>9</td>\n",
              "    </tr>\n",
              "  </tbody>\n",
              "</table>\n",
              "<p>2 rows × 105 columns</p>\n",
              "</div>"
            ],
            "text/plain": [
              "   0  1  2  3  4  5  6  7  ...  97   98  99  mentions  url  pos_em  neg_em  bigrams\n",
              "0  0  0  0  0  0  0  0  0  ...  4   3    1   1         1    0       0       12     \n",
              "1  0  0  0  0  0  0  0  0  ...  26  121  1   0         1    0       0       9      \n",
              "\n",
              "[2 rows x 105 columns]"
            ]
          },
          "metadata": {
            "tags": []
          },
          "execution_count": 80
        }
      ]
    },
    {
      "cell_type": "markdown",
      "metadata": {
        "id": "zmbsD-0Bg_WP",
        "colab_type": "text"
      },
      "source": [
        "##XGBoost Classifier"
      ]
    },
    {
      "cell_type": "code",
      "metadata": {
        "id": "QNjdUSd9hArr",
        "colab_type": "code",
        "colab": {
          "base_uri": "https://localhost:8080/",
          "height": 697
        },
        "outputId": "03895a42-d9b0-4787-b165-77174fe033f2"
      },
      "source": [
        "import xgboost as xgb\n",
        "categories = ['Text_Only_Informative', 'Image_Only_Informative','Directed_Hate', 'Generalized_Hate', 'Sarcasm', 'Allegation','Justification', 'Refutation', 'Support', 'Oppose']\n",
        "\n",
        "pred = pd.DataFrame()\n",
        "for category in categories:\n",
        "  train_Y = final_df[category]\n",
        "  #scale_pos_weights = sum(negative instances) / sum(positive instances)\n",
        "  cls_weights = (len(final_df)-final_df[category].sum())/(final_df[category].sum())\n",
        "  clf = xgb.XGBClassifier(scale_pos_weight =round(cls_weights,2))\n",
        "  clf.fit(model_train_X,train_Y.values)\n",
        "  xgb_pred = clf.predict(model_train_X)\n",
        "  print('... Processing XGBoost Classifier for {}'.format(category))\n",
        "  print(\"Train Accuracy: \", accuracy_score(train_Y.values,np.round(xgb_pred)))\n",
        "  print(\"Train F1 Score: \", f1_score(train_Y.values,np.round(xgb_pred)))\n",
        "  print(\"Train AUC-ROC Score: \", roc_auc_score(train_Y.values,np.round(xgb_pred)))\n",
        "  pred[category] = clf.predict(model_test_X)\n",
        "\n",
        "# #Confusion Matrix\n",
        "# print('\\n')\n",
        "# print('CONFUSION MATRIX:->')\n",
        "# skplt.metrics.plot_confusion_matrix(val_Y,np.round(xgb_pred),figsize=(6,6))"
      ],
      "execution_count": null,
      "outputs": [
        {
          "output_type": "stream",
          "text": [
            "... Processing XGBoost Classifier for Text_Only_Informative\n",
            "Train Accuracy:  0.6484204396564275\n",
            "Train F1 Score:  0.7203890239666552\n",
            "Train AUC-RUC Score:  0.6689667801077264\n",
            "... Processing XGBoost Classifier for Image_Only_Informative\n",
            "Train Accuracy:  0.6529334692094919\n",
            "Train F1 Score:  0.569364161849711\n",
            "Train AUC-RUC Score:  0.6633168959605471\n",
            "... Processing XGBoost Classifier for Directed_Hate\n",
            "Train Accuracy:  0.8194788178774203\n",
            "Train F1 Score:  0.2592592592592593\n",
            "Train AUC-RUC Score:  0.8314348866934544\n",
            "... Processing XGBoost Classifier for Generalized_Hate\n",
            "Train Accuracy:  0.8244285922259427\n",
            "Train F1 Score:  0.22293814432989692\n",
            "Train AUC-RUC Score:  0.8571122437159735\n",
            "... Processing XGBoost Classifier for Sarcasm\n",
            "Train Accuracy:  0.8465569951958073\n",
            "Train F1 Score:  0.197869101978691\n",
            "Train AUC-RUC Score:  0.8680077998447366\n",
            "... Processing XGBoost Classifier for Allegation\n",
            "Train Accuracy:  0.7609550152860678\n",
            "Train F1 Score:  0.26499552372426144\n",
            "Train AUC-RUC Score:  0.784553867798952\n",
            "... Processing XGBoost Classifier for Justification\n",
            "Train Accuracy:  0.8040471684379095\n",
            "Train F1 Score:  0.23954802259887006\n",
            "Train AUC-RUC Score:  0.8608545027079773\n",
            "... Processing XGBoost Classifier for Refutation\n",
            "Train Accuracy:  0.8538360751201048\n",
            "Train F1 Score:  0.213166144200627\n",
            "Train AUC-RUC Score:  0.901409102345766\n",
            "... Processing XGBoost Classifier for Support\n",
            "Train Accuracy:  0.6753530353763284\n",
            "Train F1 Score:  0.5405850844664195\n",
            "Train AUC-RUC Score:  0.6551289372269271\n",
            "... Processing XGBoost Classifier for Oppose\n",
            "Train Accuracy:  0.6517688164216043\n",
            "Train F1 Score:  0.26760563380281693\n",
            "Train AUC-RUC Score:  0.750083701016236\n"
          ],
          "name": "stdout"
        }
      ]
    },
    {
      "cell_type": "code",
      "metadata": {
        "id": "20-bW_2UhAlW",
        "colab_type": "code",
        "colab": {
          "base_uri": "https://localhost:8080/",
          "height": 335
        },
        "outputId": "9b7aac06-2c67-415a-ebb7-f49088516655"
      },
      "source": [
        "final_preds = pd.concat([test_data,pred],axis=1)\n",
        "final_preds.head(2)"
      ],
      "execution_count": null,
      "outputs": [
        {
          "output_type": "execute_result",
          "data": {
            "text/html": [
              "<div>\n",
              "<style scoped>\n",
              "    .dataframe tbody tr th:only-of-type {\n",
              "        vertical-align: middle;\n",
              "    }\n",
              "\n",
              "    .dataframe tbody tr th {\n",
              "        vertical-align: top;\n",
              "    }\n",
              "\n",
              "    .dataframe thead th {\n",
              "        text-align: right;\n",
              "    }\n",
              "</style>\n",
              "<table border=\"1\" class=\"dataframe\">\n",
              "  <thead>\n",
              "    <tr style=\"text-align: right;\">\n",
              "      <th></th>\n",
              "      <th>tweet_id</th>\n",
              "      <th>tweets</th>\n",
              "      <th>new_Tweets</th>\n",
              "      <th>Processed_tweets</th>\n",
              "      <th>mentions</th>\n",
              "      <th>url</th>\n",
              "      <th>pos_em</th>\n",
              "      <th>neg_em</th>\n",
              "      <th>bigrams</th>\n",
              "      <th>Text_Only_Informative</th>\n",
              "      <th>Image_Only_Informative</th>\n",
              "      <th>Directed_Hate</th>\n",
              "      <th>Generalized_Hate</th>\n",
              "      <th>Sarcasm</th>\n",
              "      <th>Allegation</th>\n",
              "      <th>Justification</th>\n",
              "      <th>Refutation</th>\n",
              "      <th>Support</th>\n",
              "      <th>Oppose</th>\n",
              "    </tr>\n",
              "  </thead>\n",
              "  <tbody>\n",
              "    <tr>\n",
              "      <th>0</th>\n",
              "      <td>1052098315687346177</td>\n",
              "      <td>Such insensitive words. But alll laughing and applauding including the woman anchor. #MeToo @dhanyarajendran https://t.co/AipLJ7pnyj</td>\n",
              "      <td>such insensitive words. but alll laughing and applauding including the woman anchor. #metoo @dhanyarajendran https://t.co/aiplj7pnyj</td>\n",
              "      <td>such insensitive words but all laughing and applauding including the woman anchor metoo USER_MENTION URL</td>\n",
              "      <td>1</td>\n",
              "      <td>1</td>\n",
              "      <td>0</td>\n",
              "      <td>0</td>\n",
              "      <td>12</td>\n",
              "      <td>1</td>\n",
              "      <td>0</td>\n",
              "      <td>0</td>\n",
              "      <td>0</td>\n",
              "      <td>0</td>\n",
              "      <td>0</td>\n",
              "      <td>0</td>\n",
              "      <td>1</td>\n",
              "      <td>0</td>\n",
              "      <td>1</td>\n",
              "    </tr>\n",
              "    <tr>\n",
              "      <th>1</th>\n",
              "      <td>1052084623763591168</td>\n",
              "      <td>Be like Kali... Supporting through art for #MeToo #MeTooIndia moment https://t.co/8o991KymUb</td>\n",
              "      <td>be like kali... supporting through art for #metoo #metooindia moment https://t.co/8o991kymub</td>\n",
              "      <td>be like kali supporting through art for metoo metooindia moment URL</td>\n",
              "      <td>0</td>\n",
              "      <td>1</td>\n",
              "      <td>0</td>\n",
              "      <td>0</td>\n",
              "      <td>9</td>\n",
              "      <td>1</td>\n",
              "      <td>0</td>\n",
              "      <td>1</td>\n",
              "      <td>0</td>\n",
              "      <td>0</td>\n",
              "      <td>1</td>\n",
              "      <td>1</td>\n",
              "      <td>1</td>\n",
              "      <td>0</td>\n",
              "      <td>0</td>\n",
              "    </tr>\n",
              "  </tbody>\n",
              "</table>\n",
              "</div>"
            ],
            "text/plain": [
              "              tweet_id  ... Oppose\n",
              "0  1052098315687346177  ...  1    \n",
              "1  1052084623763591168  ...  0    \n",
              "\n",
              "[2 rows x 19 columns]"
            ]
          },
          "metadata": {
            "tags": []
          },
          "execution_count": 90
        }
      ]
    },
    {
      "cell_type": "code",
      "metadata": {
        "id": "DZIUCpWkzw7Y",
        "colab_type": "code",
        "colab": {}
      },
      "source": [
        "final_sub.to_csv('sub1_xgboost_balanced.csv', index=False)"
      ],
      "execution_count": null,
      "outputs": []
    },
    {
      "cell_type": "markdown",
      "metadata": {
        "id": "035i2fduBGks",
        "colab_type": "text"
      },
      "source": [
        "###XGBoost Classifier"
      ]
    },
    {
      "cell_type": "code",
      "metadata": {
        "id": "MrfqUMDf-lf_",
        "colab_type": "code",
        "colab": {
          "base_uri": "https://localhost:8080/",
          "height": 529
        },
        "outputId": "b7ec4ef6-34cd-4a8d-fb7d-2c00f3dda4ca"
      },
      "source": [
        "import xgboost as xgb\n",
        "#scale_pos_weights = sum(negative instances) / sum(positive instances)\n",
        "clf = xgb.XGBClassifier(scale_pos_weight =28.9)\n",
        "clf.fit(model_train_X,train_Y)\n",
        "xgb_pred = clf.predict(model_val_X)\n",
        "print('... Processing for XGBoost Classifier:')\n",
        "print(\"Accuracy: \", accuracy_score(val_Y,np.round(xgb_pred)))\n",
        "print(\"Precision: \", precision_score(val_Y,np.round(xgb_pred)))\n",
        "print(\"Recall\", recall_score(val_Y,np.round(xgb_pred)))\n",
        "print(\"F1 Score: \", f1_score(val_Y,np.round(xgb_pred)))\n",
        "print(\"AUC-RUC Score: \", roc_auc_score(val_Y,np.round(xgb_pred)))\n",
        "\n",
        "#Confusion Matrix\n",
        "print('\\n')\n",
        "print('CONFUSION MATRIX:->')\n",
        "skplt.metrics.plot_confusion_matrix(val_Y,np.round(xgb_pred),figsize=(6,6))"
      ],
      "execution_count": null,
      "outputs": [
        {
          "output_type": "stream",
          "text": [
            "... Processing for XGBoost Classifier:\n",
            "Accuracy:  0.7438136826783115\n",
            "Precision:  0.024844720496894408\n",
            "Recall 0.17391304347826086\n",
            "F1 Score:  0.043478260869565216\n",
            "AUC-RUC Score:  0.4687336301728653\n",
            "\n",
            "\n",
            "CONFUSION MATRIX:->\n"
          ],
          "name": "stdout"
        },
        {
          "output_type": "execute_result",
          "data": {
            "text/plain": [
              "<matplotlib.axes._subplots.AxesSubplot at 0x7fd8964f86d8>"
            ]
          },
          "metadata": {
            "tags": []
          },
          "execution_count": 120
        },
        {
          "output_type": "display_data",
          "data": {
            "image/png": "[encoded data removed]",
            "text/plain": [
              "<Figure size 432x432 with 2 Axes>"
            ]
          },
          "metadata": {
            "tags": [],
            "needs_background": "light"
          }
        }
      ]
    },
    {
      "cell_type": "markdown",
      "metadata": {
        "id": "icU5KDBHlaYf",
        "colab_type": "text"
      },
      "source": [
        "##BiLSTM with Adam Optimizer using dropout [to avoid overfitting]"
      ]
    },
    {
      "cell_type": "code",
      "metadata": {
        "id": "gpHXBcOeyt9U",
        "colab_type": "code",
        "colab": {}
      },
      "source": [
        "from keras.callbacks import ModelCheckpoint, ReduceLROnPlateau, EarlyStopping\n",
        "\n",
        "# Callbacks\n",
        "lr_reduce = ReduceLROnPlateau(monitor='val_loss', factor=0.1, patience=3, verbose=2, mode='max')\n",
        "#early_stop = EarlyStopping(monitor='val_loss', min_delta=0.1, patience=2, mode='min')\n",
        "\n",
        "def get_model():\n",
        "    embed_size = 64\n",
        "    #100 text features+6 derived features\n",
        "    maxlen=106\n",
        "    inp = Input(shape=(maxlen, ))\n",
        "    x = Embedding(max_features, embed_size)(inp)\n",
        "    x = Bidirectional(LSTM(50, return_sequences=True))(x)\n",
        "    x = GlobalMaxPool1D()(x)\n",
        "    x = Dropout(0.1)(x)\n",
        "    x = Dense(50, activation=\"relu\")(x)    \n",
        "    x = Dropout(0.1)(x)\n",
        "    x = Dense(1, activation=\"sigmoid\")(x)\n",
        "    model = Model(inputs=inp, outputs=x)\n",
        "    model.compile(loss='binary_crossentropy',\n",
        "                  optimizer='adam',\n",
        "                  metrics=['accuracy'])\n",
        "    return model\n",
        "\n",
        "model1 = get_model()\n",
        "\n",
        "from matplotlib import pyplot\n",
        "history = model1.fit(model_train_X,train_Y, batch_size=32, epochs=10, validation_data=(model_val_X, val_Y),callbacks=[lr_reduce])\n",
        "\n",
        "pyplot.plot(history.history['loss'])\n",
        "pyplot.plot(history.history['val_loss'])\n",
        "pyplot.title('Model train vs validation loss')\n",
        "pyplot.ylabel('loss')\n",
        "pyplot.xlabel('epoch')\n",
        "pyplot.legend(['train', 'validation'], loc='upper right')\n",
        "pyplot.show()"
      ],
      "execution_count": null,
      "outputs": []
    },
    {
      "cell_type": "code",
      "metadata": {
        "id": "hmovJV3tYaS3",
        "colab_type": "code",
        "colab": {
          "base_uri": "https://localhost:8080/",
          "height": 587
        },
        "outputId": "a55f47cd-5e6d-48f5-c4a9-4d0c96154e89"
      },
      "source": [
        "#Predictions\n",
        "from sklearn.metrics import confusion_matrix\n",
        "print('... Processing for BiLSTM Model with Dropout and Adam Optimizer:')\n",
        "pred = model1.predict(model_val_X)\n",
        "\n",
        "#Scores using BiLSTM Model\n",
        "print(\"Accuracy: \", accuracy_score(val_Y,np.round(pred)))\n",
        "print(\"Precision: \", precision_score(val_Y,np.round(pred)))\n",
        "print(\"Recall\", recall_score(val_Y,np.round(pred)))\n",
        "print(\"F1 Score: \", f1_score(val_Y,np.round(pred)))\n",
        "print(\"AUC-RUC Score: \", roc_auc_score(val_Y,np.round(pred)))\n",
        "\n",
        "#Confusion Matrix\n",
        "print('\\n')\n",
        "print('CONFUSION MATRIX:->')\n",
        "skplt.metrics.plot_confusion_matrix(val_Y,np.round(pred),figsize=(6,6))"
      ],
      "execution_count": null,
      "outputs": [
        {
          "output_type": "stream",
          "text": [
            "... Processing for BiLSTM Model with Dropout and Adam Optimizer:\n",
            "Accuracy:  0.9665211062590975\n",
            "Precision:  0.0\n",
            "Recall 0.0\n",
            "F1 Score:  0.0\n",
            "AUC-RUC Score:  0.5\n",
            "\n",
            "\n",
            "CONFUSION MATRIX:->\n"
          ],
          "name": "stdout"
        },
        {
          "output_type": "stream",
          "text": [
            "/usr/local/lib/python3.6/dist-packages/sklearn/metrics/_classification.py:1272: UndefinedMetricWarning: Precision is ill-defined and being set to 0.0 due to no predicted samples. Use `zero_division` parameter to control this behavior.\n",
            "  _warn_prf(average, modifier, msg_start, len(result))\n"
          ],
          "name": "stderr"
        },
        {
          "output_type": "execute_result",
          "data": {
            "text/plain": [
              "<matplotlib.axes._subplots.AxesSubplot at 0x7fd895d80c50>"
            ]
          },
          "metadata": {
            "tags": []
          },
          "execution_count": 122
        },
        {
          "output_type": "display_data",
          "data": {
            "image/png": "[encoded data removed]",
            "text/plain": [
              "<Figure size 432x432 with 2 Axes>"
            ]
          },
          "metadata": {
            "tags": [],
            "needs_background": "light"
          }
        }
      ]
    }
  ]
}