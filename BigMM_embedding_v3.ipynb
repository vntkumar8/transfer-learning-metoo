{
  "nbformat": 4,
  "nbformat_minor": 0,
  "metadata": {
    "colab": {
      "name": "BigMM_embedding_v3",
      "provenance": [],
      "collapsed_sections": [],
      "toc_visible": true
    },
    "kernelspec": {
      "name": "python3",
      "display_name": "Python 3"
    },
    "accelerator": "GPU"
  },
  "cells": [
    {
      "cell_type": "markdown",
      "metadata": {
        "id": "Jaci9DcqMU0x",
        "colab_type": "text"
      },
      "source": [
        "Following things are implemented in this notebook\n",
        "\n",
        "1. Making use of auxiliary variables obtained from Hydrated tweets, like favorite_count, possibly__sensitive, retweet_count, user_verified etc.\n",
        "2. Glove 27B Tweet Embeddings [50d,100d]\n",
        "3. Different model tryouts of SVM, MNB, RandomForest, LGBM, XGBoost, BiLSTM, Fasttext with GloVe Twitter embeddings"
      ]
    },
    {
      "cell_type": "code",
      "metadata": {
        "id": "T-wVXCaVMPIW",
        "colab_type": "code",
        "colab": {
          "base_uri": "https://localhost:8080/",
          "height": 128
        },
        "outputId": "ac416c7c-9538-4849-e9fc-e87e172c34f0"
      },
      "source": [
        "import numpy as np # linear algebra\n",
        "import pandas as pd # data processing, CSV file I/O (e.g. pd.read_csv)\n",
        "import io\n",
        "pd.set_option('display.max_colwidth', -1)\n",
        "!pip install emoji\n",
        "! pip install -q scikit-plot\n",
        "import scikitplot as skplt\n",
        "\n",
        "import emoji\n",
        "import gensim\n",
        "from gensim import corpora, models, similarities\n",
        "\n",
        "import nltk\n",
        "nltk.download('punkt')\n",
        "from nltk.tokenize import word_tokenize, sent_tokenize\n",
        "\n",
        "import re\n",
        "import os\n",
        "import sys\n",
        "import string\n",
        "import time\n",
        "import math\n",
        "from sklearn import metrics\n",
        "from sklearn.metrics import accuracy_score, precision_score, recall_score, roc_auc_score, f1_score\n",
        "\n",
        "import unicodedata as uni\n",
        "import nltk\n",
        "from nltk.tokenize import TweetTokenizer\n",
        "from nltk.stem.porter import PorterStemmer\n",
        "from tqdm import tqdm\n",
        "\n",
        "from keras.preprocessing.text import Tokenizer\n",
        "from keras.preprocessing.sequence import pad_sequences\n",
        "from keras.layers import Dense, Input, LSTM, Embedding, Dropout, Activation, GRU, Conv1D,GRU\n",
        "from keras.layers import Bidirectional, GlobalMaxPool1D\n",
        "from keras.models import Model\n",
        "from keras import initializers, regularizers, constraints, optimizers, layers\n",
        "from keras.optimizers import Adam, RMSprop, Adamax\n",
        "from keras.layers import MaxPooling2D,Activation,Dropout,Flatten,Dense,BatchNormalization\n",
        "\n",
        "print(os.listdir(\"../\"))"
      ],
      "execution_count": null,
      "outputs": [
        {
          "output_type": "stream",
          "text": [
            "/usr/local/lib/python3.6/dist-packages/ipykernel_launcher.py:4: FutureWarning: Passing a negative integer is deprecated in version 1.0 and will not be supported in future version. Instead, use None to not limit the column width.\n",
            "  after removing the cwd from sys.path.\n"
          ],
          "name": "stderr"
        },
        {
          "output_type": "stream",
          "text": [
            "[nltk_data] Downloading package punkt to /root/nltk_data...\n",
            "[nltk_data]   Unzipping tokenizers/punkt.zip.\n",
            "['etc', 'media', 'bin', 'srv', 'sys', 'boot', 'home', 'lib', 'dev', 'opt', 'var', 'proc', 'usr', 'tmp', 'lib64', 'root', 'mnt', 'sbin', 'run', 'content', '.dockerenv', 'tools', 'datalab', 'swift', 'dlib-19.18.0-cp36-cp36m-linux_x86_64.whl', 'dlib-19.18.0-cp27-cp27mu-linux_x86_64.whl', 'tensorflow-1.15.2', 'lib32']\n"
          ],
          "name": "stdout"
        }
      ]
    },
    {
      "cell_type": "code",
      "metadata": {
        "id": "0h8xoAndMURl",
        "colab_type": "code",
        "colab": {
          "base_uri": "https://localhost:8080/",
          "height": 51
        },
        "outputId": "e612c06b-01ac-4bfc-ed0b-a193fd833196"
      },
      "source": [
        "ls"
      ],
      "execution_count": null,
      "outputs": [
        {
          "output_type": "stream",
          "text": [
            "auxiliary_test.csv   merged_tweets.txt  \u001b[0m\u001b[01;34msample_data\u001b[0m/\n",
            "auxiliary_train.csv  MeTooMMD_test.csv  test.txt\n"
          ],
          "name": "stdout"
        }
      ]
    },
    {
      "cell_type": "code",
      "metadata": {
        "id": "NAxgMNRIMRH0",
        "colab_type": "code",
        "colab": {}
      },
      "source": [
        "df = pd.read_csv(\"merged_tweets.txt\")\n",
        "aux_train = pd.read_csv(\"/content/auxiliary_train.csv\")\n",
        "\n",
        "df = df.drop(columns = ['Unnamed: 0'],axis=1)\n",
        "\n",
        "flag_cols = ['Text_Only_Informative', 'Image_Only_Informative', 'Directed_Hate', 'Generalized_Hate', 'Sarcasm', 'Allegation', 'Justification', \n",
        "             'Refutation', 'Support', 'Oppose']\n",
        "for i in flag_cols:\n",
        "  df[i] = df[i].map({1.0: 1, 0.0: 0})\n",
        "  df[i] = df[i].astype('uint8')\n",
        "\n",
        "train_df = pd.concat([df,aux_train],axis=1)\n",
        "\n",
        "#Some tweet pre-proc\n",
        "def normalise_text (text):\n",
        "    text = text.str.lower() # lowercase\n",
        "    text = text.str.replace(r\"\\\\n\",\" \")\n",
        "    text = text.str.replace(r\"\\\\n\\n\",\" \")\n",
        "    text = text.str.replace(r\"\\n\\n\",\" \")\n",
        "    text = text.str.replace(r\"\\\\\\n\\\\n\",\" \")\n",
        "    return text\n",
        "\n",
        "train_df[\"Tweets\"]=normalise_text(train_df[\"Tweets\"])\n",
        "train_df['possibly__senstive'] = train_df['possibly__senstive'].astype('uint8')\n",
        "train_df['user_verified'] = train_df['user_verified'].astype('uint8') "
      ],
      "execution_count": null,
      "outputs": []
    },
    {
      "cell_type": "code",
      "metadata": {
        "id": "qDeWI1QGduWi",
        "colab_type": "code",
        "colab": {
          "base_uri": "https://localhost:8080/",
          "height": 268
        },
        "outputId": "377be272-f367-45cc-d01b-08a44e9ede7a"
      },
      "source": [
        "test = pd.read_csv('test.txt')\n",
        "\n",
        "for i in range(len(test.tweets)):\n",
        "    test['tweets'].iloc[i] = test['tweets'].iloc[i].replace('\"', '')\n",
        "\n",
        "aux_test = pd.read_csv(\"/content/auxiliary_test.csv\")\n",
        "test_df = pd.concat([test,aux_test],axis=1)\n",
        "test_df[\"tweets\"]=normalise_text(test_df[\"tweets\"])\n",
        "test_df['possibly__senstive'] = test_df['possibly__senstive'].astype('uint8')\n",
        "test_df['user_verified'] = test_df['user_verified'].astype('uint8') \n",
        "\n",
        "test_df.sample(2)"
      ],
      "execution_count": null,
      "outputs": [
        {
          "output_type": "stream",
          "text": [
            "/usr/local/lib/python3.6/dist-packages/pandas/core/indexing.py:671: SettingWithCopyWarning: \n",
            "A value is trying to be set on a copy of a slice from a DataFrame\n",
            "\n",
            "See the caveats in the documentation: https://pandas.pydata.org/pandas-docs/stable/user_guide/indexing.html#returning-a-view-versus-a-copy\n",
            "  self._setitem_with_indexer(indexer, value)\n"
          ],
          "name": "stderr"
        },
        {
          "output_type": "execute_result",
          "data": {
            "text/html": [
              "<div>\n",
              "<style scoped>\n",
              "    .dataframe tbody tr th:only-of-type {\n",
              "        vertical-align: middle;\n",
              "    }\n",
              "\n",
              "    .dataframe tbody tr th {\n",
              "        vertical-align: top;\n",
              "    }\n",
              "\n",
              "    .dataframe thead th {\n",
              "        text-align: right;\n",
              "    }\n",
              "</style>\n",
              "<table border=\"1\" class=\"dataframe\">\n",
              "  <thead>\n",
              "    <tr style=\"text-align: right;\">\n",
              "      <th></th>\n",
              "      <th>tweet_id</th>\n",
              "      <th>tweets</th>\n",
              "      <th>favorite_count</th>\n",
              "      <th>possibly__senstive</th>\n",
              "      <th>retweet_count</th>\n",
              "      <th>user_verified</th>\n",
              "    </tr>\n",
              "  </thead>\n",
              "  <tbody>\n",
              "    <tr>\n",
              "      <th>406</th>\n",
              "      <td>1051894764050808842</td>\n",
              "      <td>after a deluge of #metoo allegations, indian men claim they are the ones under attack https://t.co/e2pc0gsvdo https://t.co/0wmou9fucw</td>\n",
              "      <td>0</td>\n",
              "      <td>0</td>\n",
              "      <td>0</td>\n",
              "      <td>0</td>\n",
              "    </tr>\n",
              "    <tr>\n",
              "      <th>1299</th>\n",
              "      <td>1058278364270739457</td>\n",
              "      <td>@chtycommission has updated its #safeguarding advice.  the free cef safety module has been updated to reflect this &amp;amp; also assesses #whistleblowing, #harassment &amp;amp; other safety issues, using 50+ checks.  join us at https://t.co/rakurcheys https://t.co/p4vp76hzui #metoo https://t.co/3biqovuwr8</td>\n",
              "      <td>0</td>\n",
              "      <td>0</td>\n",
              "      <td>0</td>\n",
              "      <td>0</td>\n",
              "    </tr>\n",
              "  </tbody>\n",
              "</table>\n",
              "</div>"
            ],
            "text/plain": [
              "                 tweet_id  ... user_verified\n",
              "406   1051894764050808842  ...  0           \n",
              "1299  1058278364270739457  ...  0           \n",
              "\n",
              "[2 rows x 6 columns]"
            ]
          },
          "metadata": {
            "tags": []
          },
          "execution_count": 4
        }
      ]
    },
    {
      "cell_type": "markdown",
      "metadata": {
        "id": "D9EhavJx2O7Z",
        "colab_type": "text"
      },
      "source": [
        "### Text Pre-prop\n",
        "1. Extracting & Counting Emojis\n",
        "2. Similar Pre-processing as earlier versions\n",
        "3. No stemming, No removal of stopwords"
      ]
    },
    {
      "cell_type": "code",
      "metadata": {
        "id": "LSFCeqmOMRJm",
        "colab_type": "code",
        "colab": {
          "base_uri": "https://localhost:8080/",
          "height": 560
        },
        "outputId": "804e2295-a84b-42d5-94ff-581616677537"
      },
      "source": [
        "#train_df = train_df.drop(columns = ['TweetId'],axis=1)\n",
        "#test_df = test_df.drop(columns = ['tweet_id'],axis=1)\n",
        "train_df.sample(2)##"
      ],
      "execution_count": null,
      "outputs": [
        {
          "output_type": "execute_result",
          "data": {
            "text/html": [
              "<div>\n",
              "<style scoped>\n",
              "    .dataframe tbody tr th:only-of-type {\n",
              "        vertical-align: middle;\n",
              "    }\n",
              "\n",
              "    .dataframe tbody tr th {\n",
              "        vertical-align: top;\n",
              "    }\n",
              "\n",
              "    .dataframe thead th {\n",
              "        text-align: right;\n",
              "    }\n",
              "</style>\n",
              "<table border=\"1\" class=\"dataframe\">\n",
              "  <thead>\n",
              "    <tr style=\"text-align: right;\">\n",
              "      <th></th>\n",
              "      <th>Tweets</th>\n",
              "      <th>TweetId</th>\n",
              "      <th>Text_Only_Informative</th>\n",
              "      <th>Image_Only_Informative</th>\n",
              "      <th>Directed_Hate</th>\n",
              "      <th>Generalized_Hate</th>\n",
              "      <th>Sarcasm</th>\n",
              "      <th>Allegation</th>\n",
              "      <th>Justification</th>\n",
              "      <th>Refutation</th>\n",
              "      <th>Support</th>\n",
              "      <th>Oppose</th>\n",
              "      <th>favorite_count</th>\n",
              "      <th>possibly__senstive</th>\n",
              "      <th>retweet_count</th>\n",
              "      <th>user_verified</th>\n",
              "    </tr>\n",
              "  </thead>\n",
              "  <tbody>\n",
              "    <tr>\n",
              "      <th>6629</th>\n",
              "      <td>ready to fight, says @priyaramani after #mjakbar sues her over #metoo. read here: https://t.co/iyfxypnnj2 #priyaramani  #metooindia #meetooindia #metoocontroversy https://t.co/4vncjteqs6</td>\n",
              "      <td>1052166509793955840</td>\n",
              "      <td>1</td>\n",
              "      <td>1</td>\n",
              "      <td>0</td>\n",
              "      <td>0</td>\n",
              "      <td>0</td>\n",
              "      <td>0</td>\n",
              "      <td>0</td>\n",
              "      <td>1</td>\n",
              "      <td>0</td>\n",
              "      <td>1</td>\n",
              "      <td>0</td>\n",
              "      <td>0</td>\n",
              "      <td>0</td>\n",
              "      <td>0</td>\n",
              "    </tr>\n",
              "    <tr>\n",
              "      <th>1537</th>\n",
              "      <td>yesterday our howard university mentors and howard middle school mentees discussed the history of the #metoo moment and signed the girls inc. #girlstoo pledge! respect starts young! have you signed the pledge yet? visit https://t.co/prrznwz7ol to sign on! #girlsinc #girlstoo https://t.co/3dgellxxx1</td>\n",
              "      <td>1052227813523238917</td>\n",
              "      <td>1</td>\n",
              "      <td>1</td>\n",
              "      <td>0</td>\n",
              "      <td>0</td>\n",
              "      <td>0</td>\n",
              "      <td>0</td>\n",
              "      <td>0</td>\n",
              "      <td>0</td>\n",
              "      <td>0</td>\n",
              "      <td>0</td>\n",
              "      <td>13</td>\n",
              "      <td>0</td>\n",
              "      <td>6</td>\n",
              "      <td>0</td>\n",
              "    </tr>\n",
              "  </tbody>\n",
              "</table>\n",
              "</div>"
            ],
            "text/plain": [
              "                                                                                                                                                                                                                                                                                                           Tweets  ...  user_verified\n",
              "6629  ready to fight, says @priyaramani after #mjakbar sues her over #metoo. read here: https://t.co/iyfxypnnj2 #priyaramani  #metooindia #meetooindia #metoocontroversy https://t.co/4vncjteqs6                                                                                                                   ...  0            \n",
              "1537  yesterday our howard university mentors and howard middle school mentees discussed the history of the #metoo moment and signed the girls inc. #girlstoo pledge! respect starts young! have you signed the pledge yet? visit https://t.co/prrznwz7ol to sign on! #girlsinc #girlstoo https://t.co/3dgellxxx1  ...  0            \n",
              "\n",
              "[2 rows x 16 columns]"
            ]
          },
          "metadata": {
            "tags": []
          },
          "execution_count": 6
        }
      ]
    },
    {
      "cell_type": "code",
      "metadata": {
        "id": "gcVPfSXrQB18",
        "colab_type": "code",
        "colab": {}
      },
      "source": [
        "def extract_emojis(s):\n",
        "  return ''.join(c for c in s if c in emoji.UNICODE_EMOJI)\n",
        "\n",
        "D = []\n",
        "L = list(train_df['Tweets'])\n",
        "\n",
        "for i in range(len(L)):\n",
        "  D.append(extract_emojis(L[i]))\n",
        "\n",
        "train_df['emojis'] = pd.DataFrame(D)"
      ],
      "execution_count": null,
      "outputs": []
    },
    {
      "cell_type": "code",
      "metadata": {
        "id": "Yjca81boexcK",
        "colab_type": "code",
        "colab": {}
      },
      "source": [
        "def extract_emojis(s):\n",
        "  return ''.join(c for c in s if c in emoji.UNICODE_EMOJI)\n",
        "\n",
        "D = []\n",
        "L = list(test_df['tweets'])\n",
        "\n",
        "for i in range(len(L)):\n",
        "  D.append(extract_emojis(L[i]))\n",
        "\n",
        "test_df['emojis'] = pd.DataFrame(D)"
      ],
      "execution_count": null,
      "outputs": []
    },
    {
      "cell_type": "code",
      "metadata": {
        "id": "TqZuJTOKRHM9",
        "colab_type": "code",
        "colab": {
          "base_uri": "https://localhost:8080/",
          "height": 346
        },
        "outputId": "ac3be6be-4e6a-41bb-82ff-56a6ab14d64d"
      },
      "source": [
        "# train_df = train_df.drop(['demojized_tweets'],axis=1)\n",
        "train_df.iloc[6]"
      ],
      "execution_count": null,
      "outputs": [
        {
          "output_type": "execute_result",
          "data": {
            "text/plain": [
              "Tweets                    if labor win government what a #quinella 🏇🏼🏇🏼  prime minister - accused of historic rape allegation  deputy pm - married to convicted drug trafficker  #auspol #metoo #everest #kavanaugh @anncoulter @theboltreport @j_c_campbell @tomwconnell @sunriseon7 @annelisenews @couriermail https://t.co/h8jnmaz1zc\n",
              "TweetId                   1049804220696748033                                                                                                                                                                                                                                                                                           \n",
              "Text_Only_Informative     1                                                                                                                                                                                                                                                                                                             \n",
              "Image_Only_Informative    1                                                                                                                                                                                                                                                                                                             \n",
              "Directed_Hate             0                                                                                                                                                                                                                                                                                                             \n",
              "Generalized_Hate          0                                                                                                                                                                                                                                                                                                             \n",
              "Sarcasm                   1                                                                                                                                                                                                                                                                                                             \n",
              "Allegation                1                                                                                                                                                                                                                                                                                                             \n",
              "Justification             0                                                                                                                                                                                                                                                                                                             \n",
              "Refutation                0                                                                                                                                                                                                                                                                                                             \n",
              "Support                   1                                                                                                                                                                                                                                                                                                             \n",
              "Oppose                    0                                                                                                                                                                                                                                                                                                             \n",
              "favorite_count            5                                                                                                                                                                                                                                                                                                             \n",
              "possibly__senstive        0                                                                                                                                                                                                                                                                                                             \n",
              "retweet_count             4                                                                                                                                                                                                                                                                                                             \n",
              "user_verified             0                                                                                                                                                                                                                                                                                                             \n",
              "Name: 6, dtype: object"
            ]
          },
          "metadata": {
            "tags": []
          },
          "execution_count": 11
        }
      ]
    },
    {
      "cell_type": "code",
      "metadata": {
        "id": "WtrpXXOPMRLk",
        "colab_type": "code",
        "colab": {}
      },
      "source": [
        "def analyze_tweet(tweet):\n",
        "    result = {}\n",
        "    result['MENTIONS'] = tweet.count('USER_MENTION')\n",
        "    result['URLS'] = tweet.count('URL')\n",
        "    #result['POS_EMOS'] = tweet.count('EMO_POS')\n",
        "    #result['NEG_EMOS'] = tweet.count('EMO_NEG')\n",
        "    tweet = tweet.replace('USER_MENTION', '').replace('URL', '')\n",
        "    words = tweet.split()\n",
        "    result['WORDS'] = len(words)\n",
        "    bigrams = get_bigrams(words)\n",
        "    result['BIGRAMS'] = len(bigrams)\n",
        "    return result, words, bigrams\n",
        "\n",
        "def get_bigrams(tweet_words):\n",
        "    bigrams = []\n",
        "    num_words = len(tweet_words)\n",
        "    for i in range(num_words - 1):\n",
        "        bigrams.append((tweet_words[i], tweet_words[i + 1]))\n",
        "    return bigrams\n",
        "\n",
        "def get_bigram_freqdist(bigrams):\n",
        "    freq_dict = {}\n",
        "    for bigram in bigrams:\n",
        "        if freq_dict.get(bigram):\n",
        "            freq_dict[bigram] += 1\n",
        "        else:\n",
        "            freq_dict[bigram] = 1\n",
        "    counter = Counter(freq_dict)\n",
        "    return counter"
      ],
      "execution_count": null,
      "outputs": []
    },
    {
      "cell_type": "code",
      "metadata": {
        "id": "j3cS3lL-MRNa",
        "colab_type": "code",
        "colab": {}
      },
      "source": [
        "def preprocess_word(word):\n",
        "    # Remove punctuation\n",
        "    word = word.strip('\\'\"?!,.():;')\n",
        "    # Convert more than 2 letter repetitions to 2 letter\n",
        "    # funnnnny --> funny\n",
        "    word = re.sub(r'(.)\\1+', r'\\1\\1', word)\n",
        "    # Remove - & '\n",
        "    word = re.sub(r'(-|\\')', '', word)\n",
        "    return word\n",
        "\n",
        "\n",
        "def is_valid_word(word):\n",
        "    return (re.search(r'^[a-zA-Z][a-z0-9A-Z\\._]*$', word) is not None)\n",
        "\n",
        "def handle_emojis(tweet):\n",
        "    # Smile -- :), : ), :-), (:, ( :, (-:, :')\n",
        "    tweet = re.sub(r'(:\\s?\\)|:-\\)|\\(\\s?:|\\(-:|:\\'\\))', ' EMO_POS ', str(tweet))\n",
        "    # Laugh -- :D, : D, :-D, xD, x-D, XD, X-D\n",
        "    tweet = re.sub(r'(:\\s?D|:-D|x-?D|X-?D)', ' EMO_POS ', str(tweet))\n",
        "    # Love -- <3, :*\n",
        "    tweet = re.sub(r'(<3|:\\*)', ' EMO_POS ', str(tweet))\n",
        "    # Wink -- ;-), ;), ;-D, ;D, (;,  (-;\n",
        "    tweet = re.sub(r'(;-?\\)|;-?D|\\(-?;)', ' EMO_POS ', str(tweet))\n",
        "    # Sad -- :-(, : (, :(, ):, )-:\n",
        "    tweet = re.sub(r'(:\\s?\\(|:-\\(|\\)\\s?:|\\)-:)', ' EMO_NEG ', str(tweet))\n",
        "    # Cry -- :,(, :'(, :\"(\n",
        "    tweet = re.sub(r'(:,\\(|:\\'\\(|:\"\\()', ' EMO_NEG ', str(tweet))\n",
        "    return tweet\n",
        "\n",
        "use_stemmer = False\n",
        "\n",
        "def preprocess_tweet(tweet):\n",
        "    processed_tweet = []\n",
        "    # Convert to lower case\n",
        "    tweet = tweet.lower()\n",
        "    # Replaces URLs with the word URL\n",
        "    tweet = re.sub(r\"\\\\n\",\"\", str(tweet))\n",
        "    tweet = re.sub(r\"\\n\\n\",\" \", str(tweet))\n",
        "    tweet = re.sub(r\"\\n\",\"\", str(tweet))\n",
        "    tweet = re.sub(r'((www\\.[\\S]+)|(https?://[\\S]+))', ' URL ', str(tweet))\n",
        "    # Replace @handle with the word USER_MENTION\n",
        "    tweet = re.sub(r'@[\\S]+', 'USER_MENTION', str(tweet))\n",
        "    # Replaces #hashtag with hashtag\n",
        "    tweet = re.sub(r'#(\\S+)', r' \\1 ', str(tweet))\n",
        "    # Remove RT (retweet)\n",
        "    tweet = re.sub(r'\\brt\\b', '', str(tweet))\n",
        "    # Replace 2+ dots with space\n",
        "    tweet = re.sub(r'\\.{2,}', ' ', str(tweet))\n",
        "    # Strip space, \" and ' from tweet\n",
        "    tweet = tweet.strip(' \"\\'')\n",
        "    # Replace emojis with either EMO_POS or EMO_NEG\n",
        "    #tweet = handle_emojis(tweet)\n",
        "    # Replace multiple spaces with a single space\n",
        "    tweet = re.sub(r'\\s+', ' ', str(tweet))\n",
        "    words = tweet.split()\n",
        "\n",
        "    for word in words:\n",
        "        word = preprocess_word(word)\n",
        "        if is_valid_word(word):\n",
        "            if use_stemmer:\n",
        "                word = str(porter_stemmer.stem(word))\n",
        "            processed_tweet.append(word)\n",
        "\n",
        "    return ' '.join(processed_tweet)"
      ],
      "execution_count": null,
      "outputs": []
    },
    {
      "cell_type": "code",
      "metadata": {
        "id": "Cf1kHMpaMRPL",
        "colab_type": "code",
        "colab": {
          "base_uri": "https://localhost:8080/",
          "height": 405
        },
        "outputId": "ec49e868-bf20-4395-dfae-17dc20901e73"
      },
      "source": [
        "K = []\n",
        "L = list(train_df['Tweets'])\n",
        "for i in range(len(L)):\n",
        "  K.append(preprocess_tweet(L[i]))\n",
        "\n",
        "train_df['Processed_tweets'] = pd.DataFrame(K)\n",
        "train_df.sample(2)"
      ],
      "execution_count": null,
      "outputs": [
        {
          "output_type": "execute_result",
          "data": {
            "text/html": [
              "<div>\n",
              "<style scoped>\n",
              "    .dataframe tbody tr th:only-of-type {\n",
              "        vertical-align: middle;\n",
              "    }\n",
              "\n",
              "    .dataframe tbody tr th {\n",
              "        vertical-align: top;\n",
              "    }\n",
              "\n",
              "    .dataframe thead th {\n",
              "        text-align: right;\n",
              "    }\n",
              "</style>\n",
              "<table border=\"1\" class=\"dataframe\">\n",
              "  <thead>\n",
              "    <tr style=\"text-align: right;\">\n",
              "      <th></th>\n",
              "      <th>Tweets</th>\n",
              "      <th>TweetId</th>\n",
              "      <th>Text_Only_Informative</th>\n",
              "      <th>Image_Only_Informative</th>\n",
              "      <th>Directed_Hate</th>\n",
              "      <th>Generalized_Hate</th>\n",
              "      <th>Sarcasm</th>\n",
              "      <th>Allegation</th>\n",
              "      <th>Justification</th>\n",
              "      <th>Refutation</th>\n",
              "      <th>Support</th>\n",
              "      <th>Oppose</th>\n",
              "      <th>favorite_count</th>\n",
              "      <th>possibly__senstive</th>\n",
              "      <th>retweet_count</th>\n",
              "      <th>user_verified</th>\n",
              "      <th>Processed_tweets</th>\n",
              "    </tr>\n",
              "  </thead>\n",
              "  <tbody>\n",
              "    <tr>\n",
              "      <th>1191</th>\n",
              "      <td>\\there’s no obvious reason that a movement against misogyny, sexual assault, and non-consensual advances should be incompatible with fantasies of consensual, sexual submission.\\\" why we still need erotica after #metoo: https://t.co/rsvkhjjzid https://t.co/zxdn8rflef\"</td>\n",
              "      <td>1050642376836825090</td>\n",
              "      <td>1</td>\n",
              "      <td>0</td>\n",
              "      <td>1</td>\n",
              "      <td>0</td>\n",
              "      <td>0</td>\n",
              "      <td>1</td>\n",
              "      <td>0</td>\n",
              "      <td>0</td>\n",
              "      <td>1</td>\n",
              "      <td>0</td>\n",
              "      <td>4</td>\n",
              "      <td>0</td>\n",
              "      <td>1</td>\n",
              "      <td>1</td>\n",
              "      <td>no obvious reason that a movement against misogyny sexual assault and nonconsensual advances should be incompatible with fantasies of consensual sexual why we still need erotica after metoo URL URL</td>\n",
              "    </tr>\n",
              "    <tr>\n",
              "      <th>2261</th>\n",
              "      <td>after #metoo effect...😂😂😂 https://t.co/rsokxyqvxu</td>\n",
              "      <td>1052066153554538496</td>\n",
              "      <td>0</td>\n",
              "      <td>0</td>\n",
              "      <td>0</td>\n",
              "      <td>0</td>\n",
              "      <td>0</td>\n",
              "      <td>0</td>\n",
              "      <td>0</td>\n",
              "      <td>0</td>\n",
              "      <td>0</td>\n",
              "      <td>0</td>\n",
              "      <td>13</td>\n",
              "      <td>0</td>\n",
              "      <td>4</td>\n",
              "      <td>0</td>\n",
              "      <td>after metoo effect URL</td>\n",
              "    </tr>\n",
              "  </tbody>\n",
              "</table>\n",
              "</div>"
            ],
            "text/plain": [
              "                                                                                                                                                                                                                                                                           Tweets  ...                                                                                                                                                                                       Processed_tweets\n",
              "1191  \\there’s no obvious reason that a movement against misogyny, sexual assault, and non-consensual advances should be incompatible with fantasies of consensual, sexual submission.\\\" why we still need erotica after #metoo: https://t.co/rsvkhjjzid https://t.co/zxdn8rflef\"  ...  no obvious reason that a movement against misogyny sexual assault and nonconsensual advances should be incompatible with fantasies of consensual sexual why we still need erotica after metoo URL URL\n",
              "2261  after #metoo effect...😂😂😂 https://t.co/rsokxyqvxu                                                                                                                                                                                                                            ...  after metoo effect URL                                                                                                                                                                               \n",
              "\n",
              "[2 rows x 17 columns]"
            ]
          },
          "metadata": {
            "tags": []
          },
          "execution_count": 14
        }
      ]
    },
    {
      "cell_type": "code",
      "metadata": {
        "id": "GZZPiw1qMRRH",
        "colab_type": "code",
        "colab": {
          "base_uri": "https://localhost:8080/",
          "height": 592
        },
        "outputId": "7e72dacb-5e02-4f96-f46d-db7560e1d55e"
      },
      "source": [
        "K = []\n",
        "L = list(test_df['tweets'])\n",
        "for i in range(len(L)):\n",
        "  K.append(preprocess_tweet(L[i]))\n",
        "\n",
        "test_df['Processed_tweets'] = pd.DataFrame(K)\n",
        "test_df.sample(2)"
      ],
      "execution_count": null,
      "outputs": [
        {
          "output_type": "execute_result",
          "data": {
            "text/html": [
              "<div>\n",
              "<style scoped>\n",
              "    .dataframe tbody tr th:only-of-type {\n",
              "        vertical-align: middle;\n",
              "    }\n",
              "\n",
              "    .dataframe tbody tr th {\n",
              "        vertical-align: top;\n",
              "    }\n",
              "\n",
              "    .dataframe thead th {\n",
              "        text-align: right;\n",
              "    }\n",
              "</style>\n",
              "<table border=\"1\" class=\"dataframe\">\n",
              "  <thead>\n",
              "    <tr style=\"text-align: right;\">\n",
              "      <th></th>\n",
              "      <th>tweet_id</th>\n",
              "      <th>tweets</th>\n",
              "      <th>favorite_count</th>\n",
              "      <th>possibly__senstive</th>\n",
              "      <th>retweet_count</th>\n",
              "      <th>user_verified</th>\n",
              "      <th>Processed_tweets</th>\n",
              "    </tr>\n",
              "  </thead>\n",
              "  <tbody>\n",
              "    <tr>\n",
              "      <th>1352</th>\n",
              "      <td>1056855755264065541</td>\n",
              "      <td>@doctor_oxford in a fresh apology from a spa in arizona, philip green said that of course he'd meant his high court gag on the press to include a let-out for innocent banter. 'you just can't get the staff these days,' he lamented. 'or at least i can't.' #metoo https://t.co/anwoplsstx</td>\n",
              "      <td>0</td>\n",
              "      <td>0</td>\n",
              "      <td>0</td>\n",
              "      <td>0</td>\n",
              "      <td>USER_MENTION in a fresh apology from a spa in arizona philip green said that of course hed meant his high court gag on the press to include a letout for innocent banter you just cant get the staff these days he lamented or at least i cant metoo URL</td>\n",
              "    </tr>\n",
              "    <tr>\n",
              "      <th>438</th>\n",
              "      <td>1051850183506583552</td>\n",
              "      <td>the concerted efforts of the judiciary and movements like #metoo have definitely initiated a new age revolution where a woman does not just seek her rights but fights against every such act that encroaches upon her dignity.   @nanagpatekar #tanushreedutta  https://t.co/czqpfxyzkl https://t.co/ksq5yd9jfc</td>\n",
              "      <td>1</td>\n",
              "      <td>0</td>\n",
              "      <td>0</td>\n",
              "      <td>0</td>\n",
              "      <td>the concerted efforts of the judiciary and movements like metoo have definitely initiated a new age revolution where a woman does not just seek her rights but fights against every such act that encroaches upon her dignity USER_MENTION tanushreedutta URL URL</td>\n",
              "    </tr>\n",
              "  </tbody>\n",
              "</table>\n",
              "</div>"
            ],
            "text/plain": [
              "                 tweet_id  ...                                                                                                                                                                                                                                                   Processed_tweets\n",
              "1352  1056855755264065541  ...  USER_MENTION in a fresh apology from a spa in arizona philip green said that of course hed meant his high court gag on the press to include a letout for innocent banter you just cant get the staff these days he lamented or at least i cant metoo URL         \n",
              "438   1051850183506583552  ...  the concerted efforts of the judiciary and movements like metoo have definitely initiated a new age revolution where a woman does not just seek her rights but fights against every such act that encroaches upon her dignity USER_MENTION tanushreedutta URL URL\n",
              "\n",
              "[2 rows x 7 columns]"
            ]
          },
          "metadata": {
            "tags": []
          },
          "execution_count": 15
        }
      ]
    },
    {
      "cell_type": "code",
      "metadata": {
        "id": "IKPunSc8MRjz",
        "colab_type": "code",
        "colab": {}
      },
      "source": [
        "E = []\n",
        "L = list(train_df['emojis'])\n",
        "\n",
        "for i in range(len(L)):\n",
        "  E.append(emojis.count(L[i]))\n",
        "train_df['emoji_count'] = pd.DataFrame(E)"
      ],
      "execution_count": null,
      "outputs": []
    },
    {
      "cell_type": "code",
      "metadata": {
        "id": "rp-x-IrqdoFf",
        "colab_type": "code",
        "colab": {}
      },
      "source": [
        "E = []\n",
        "L = list(test_df['emojis'])\n",
        "\n",
        "for i in range(len(L)):\n",
        "  E.append(emojis.count(L[i]))\n",
        "test_df['emoji_count'] = pd.DataFrame(E)"
      ],
      "execution_count": null,
      "outputs": []
    },
    {
      "cell_type": "code",
      "metadata": {
        "id": "JRzZSOc3E1g2",
        "colab_type": "code",
        "colab": {
          "base_uri": "https://localhost:8080/",
          "height": 1000
        },
        "outputId": "a80e826c-ef96-4071-bca2-c0e3a5cd09d2"
      },
      "source": [
        "def feat(tweet_df):\n",
        "    ment=[]\n",
        "    url=[]\n",
        "    bg=[]\n",
        "    for i in range(len(tweet_df)):\n",
        "        ment.append(analyze_tweet(tweet_df[\"Processed_tweets\"].values[i])[0]['MENTIONS'])\n",
        "        url.append(analyze_tweet(tweet_df[\"Processed_tweets\"].values[i])[0]['URLS'])\n",
        "        bg.append(analyze_tweet(tweet_df[\"Processed_tweets\"].values[i])[0]['BIGRAMS'])\n",
        "    tweet_df['mentions']=ment\n",
        "    tweet_df['url']=url\n",
        "    tweet_df['bigrams']=bg\n",
        "    return tweet_df\n",
        "\n",
        "feat(train_df)\n",
        "feat(test_df)"
      ],
      "execution_count": null,
      "outputs": [
        {
          "output_type": "execute_result",
          "data": {
            "text/html": [
              "<div>\n",
              "<style scoped>\n",
              "    .dataframe tbody tr th:only-of-type {\n",
              "        vertical-align: middle;\n",
              "    }\n",
              "\n",
              "    .dataframe tbody tr th {\n",
              "        vertical-align: top;\n",
              "    }\n",
              "\n",
              "    .dataframe thead th {\n",
              "        text-align: right;\n",
              "    }\n",
              "</style>\n",
              "<table border=\"1\" class=\"dataframe\">\n",
              "  <thead>\n",
              "    <tr style=\"text-align: right;\">\n",
              "      <th></th>\n",
              "      <th>tweet_id</th>\n",
              "      <th>tweets</th>\n",
              "      <th>favorite_count</th>\n",
              "      <th>possibly__senstive</th>\n",
              "      <th>retweet_count</th>\n",
              "      <th>user_verified</th>\n",
              "      <th>Processed_tweets</th>\n",
              "      <th>mentions</th>\n",
              "      <th>url</th>\n",
              "      <th>bigrams</th>\n",
              "    </tr>\n",
              "  </thead>\n",
              "  <tbody>\n",
              "    <tr>\n",
              "      <th>0</th>\n",
              "      <td>1052098315687346177</td>\n",
              "      <td>such insensitive words. but alll laughing and applauding including the woman anchor. #metoo @dhanyarajendran https://t.co/aiplj7pnyj</td>\n",
              "      <td>552</td>\n",
              "      <td>0</td>\n",
              "      <td>188</td>\n",
              "      <td>0</td>\n",
              "      <td>such insensitive words but all laughing and applauding including the woman anchor metoo USER_MENTION URL</td>\n",
              "      <td>1</td>\n",
              "      <td>1</td>\n",
              "      <td>12</td>\n",
              "    </tr>\n",
              "    <tr>\n",
              "      <th>1</th>\n",
              "      <td>1052084623763591168</td>\n",
              "      <td>be like kali... supporting through art for #metoo #metooindia moment https://t.co/8o991kymub</td>\n",
              "      <td>0</td>\n",
              "      <td>0</td>\n",
              "      <td>1</td>\n",
              "      <td>0</td>\n",
              "      <td>be like kali supporting through art for metoo metooindia moment URL</td>\n",
              "      <td>0</td>\n",
              "      <td>1</td>\n",
              "      <td>9</td>\n",
              "    </tr>\n",
              "    <tr>\n",
              "      <th>2</th>\n",
              "      <td>1052089712004014083</td>\n",
              "      <td>men understand consent when a gay guy touches them: mallika dua on #metoo https://t.co/i9kxmkmd52 via @gayindia https://t.co/wuzk9uokxl</td>\n",
              "      <td>1</td>\n",
              "      <td>0</td>\n",
              "      <td>0</td>\n",
              "      <td>0</td>\n",
              "      <td>men understand consent when a gay guy touches them mallika dua on metoo URL via USER_MENTION URL</td>\n",
              "      <td>1</td>\n",
              "      <td>2</td>\n",
              "      <td>13</td>\n",
              "    </tr>\n",
              "    <tr>\n",
              "      <th>3</th>\n",
              "      <td>1052089572870385665</td>\n",
              "      <td>priya ramani is going to be fighting mj akbar’s 97 lawyers in the #metoo defamation suit. https://t.co/ipyelqz8wf</td>\n",
              "      <td>0</td>\n",
              "      <td>0</td>\n",
              "      <td>0</td>\n",
              "      <td>0</td>\n",
              "      <td>priya ramani is going to be fighting mj lawyers in the metoo defamation suit URL</td>\n",
              "      <td>0</td>\n",
              "      <td>1</td>\n",
              "      <td>13</td>\n",
              "    </tr>\n",
              "    <tr>\n",
              "      <th>4</th>\n",
              "      <td>1052089363667017728</td>\n",
              "      <td>must see this video. tells what is legal for #metoo @drabchandorkar  @somanathg @proudbhagavathi @goldenthrust https://t.co/pkjr1auevn</td>\n",
              "      <td>1</td>\n",
              "      <td>0</td>\n",
              "      <td>0</td>\n",
              "      <td>0</td>\n",
              "      <td>must see this video tells what is legal for metoo USER_MENTION USER_MENTION USER_MENTION USER_MENTION URL</td>\n",
              "      <td>4</td>\n",
              "      <td>1</td>\n",
              "      <td>9</td>\n",
              "    </tr>\n",
              "    <tr>\n",
              "      <th>...</th>\n",
              "      <td>...</td>\n",
              "      <td>...</td>\n",
              "      <td>...</td>\n",
              "      <td>...</td>\n",
              "      <td>...</td>\n",
              "      <td>...</td>\n",
              "      <td>...</td>\n",
              "      <td>...</td>\n",
              "      <td>...</td>\n",
              "      <td>...</td>\n",
              "    </tr>\n",
              "    <tr>\n",
              "      <th>1732</th>\n",
              "      <td>1051214758370631680</td>\n",
              "      <td>saying #metoo changed their lives https://t.co/smllz1m3ez https://t.co/0bvwgirdmx</td>\n",
              "      <td>0</td>\n",
              "      <td>0</td>\n",
              "      <td>0</td>\n",
              "      <td>0</td>\n",
              "      <td>saying metoo changed their lives URL URL</td>\n",
              "      <td>0</td>\n",
              "      <td>2</td>\n",
              "      <td>4</td>\n",
              "    </tr>\n",
              "    <tr>\n",
              "      <th>1733</th>\n",
              "      <td>1050605251605094402</td>\n",
              "      <td>anil kapoor on #metoo: it is fantastic https://t.co/uqhbqfmwa5 https://t.co/z84zrha2t0</td>\n",
              "      <td>0</td>\n",
              "      <td>0</td>\n",
              "      <td>0</td>\n",
              "      <td>0</td>\n",
              "      <td>anil kapoor on metoo it is fantastic URL URL</td>\n",
              "      <td>0</td>\n",
              "      <td>2</td>\n",
              "      <td>6</td>\n",
              "    </tr>\n",
              "    <tr>\n",
              "      <th>1734</th>\n",
              "      <td>1049873692149391360</td>\n",
              "      <td>#metoo  that ratham and thakkali chutney moment! https://t.co/cxpnvordpc</td>\n",
              "      <td>0</td>\n",
              "      <td>0</td>\n",
              "      <td>0</td>\n",
              "      <td>0</td>\n",
              "      <td>metoo that ratham and thakkali chutney moment URL</td>\n",
              "      <td>0</td>\n",
              "      <td>1</td>\n",
              "      <td>6</td>\n",
              "    </tr>\n",
              "    <tr>\n",
              "      <th>1735</th>\n",
              "      <td>1049904241165443077</td>\n",
              "      <td>coverage of #metoo and #vaw is excellent in ⁦@gulf_news⁩ - powerful stories of change all week. https://t.co/rfsapq4nqq</td>\n",
              "      <td>5</td>\n",
              "      <td>0</td>\n",
              "      <td>2</td>\n",
              "      <td>0</td>\n",
              "      <td>coverage of metoo and vaw is excellent in powerful stories of change all week URL</td>\n",
              "      <td>0</td>\n",
              "      <td>1</td>\n",
              "      <td>13</td>\n",
              "    </tr>\n",
              "    <tr>\n",
              "      <th>1736</th>\n",
              "      <td>1049344613398413317</td>\n",
              "      <td>rose mcgowan says she was slamming hollywood, not the #metoo movement https://t.co/pugeslb1a0 https://t.co/a2ppi26prk</td>\n",
              "      <td>0</td>\n",
              "      <td>0</td>\n",
              "      <td>0</td>\n",
              "      <td>0</td>\n",
              "      <td>rose mcgowan says she was slamming hollywood not the metoo movement URL URL</td>\n",
              "      <td>0</td>\n",
              "      <td>2</td>\n",
              "      <td>10</td>\n",
              "    </tr>\n",
              "  </tbody>\n",
              "</table>\n",
              "<p>1737 rows × 10 columns</p>\n",
              "</div>"
            ],
            "text/plain": [
              "                 tweet_id  ... bigrams\n",
              "0     1052098315687346177  ...  12    \n",
              "1     1052084623763591168  ...  9     \n",
              "2     1052089712004014083  ...  13    \n",
              "3     1052089572870385665  ...  13    \n",
              "4     1052089363667017728  ...  9     \n",
              "...                   ...  ... ..     \n",
              "1732  1051214758370631680  ...  4     \n",
              "1733  1050605251605094402  ...  6     \n",
              "1734  1049873692149391360  ...  6     \n",
              "1735  1049904241165443077  ...  13    \n",
              "1736  1049344613398413317  ...  10    \n",
              "\n",
              "[1737 rows x 10 columns]"
            ]
          },
          "metadata": {
            "tags": []
          },
          "execution_count": 16
        }
      ]
    },
    {
      "cell_type": "code",
      "metadata": {
        "id": "6OVvM0oxwUcU",
        "colab_type": "code",
        "colab": {}
      },
      "source": [
        "import nltk\n",
        "import string\n",
        "import re\n",
        "\n",
        "def clean_text(text):\n",
        "    ## Remove puncuation\n",
        "    text = text.translate(string.punctuation)\n",
        "    ## Clean the text\n",
        "    text = re.sub(r\"[^A-Za-z0-9^,!.\\/'+-=_]\", \" \", text)\n",
        "    text = re.sub(r\"what's\", \"what is \", text)\n",
        "    text = re.sub(r\"\\'s\", \" \", text)\n",
        "    text = re.sub(r\"\\'ve\", \" have \", text)\n",
        "    text = re.sub(r\"n't\", \" not \", text)\n",
        "    text = re.sub(r\"i'm\", \"i am \", text)\n",
        "    text = re.sub(r\"\\'re\", \" are \", text)\n",
        "    text = re.sub(r\"\\'d\", \" would \", text)\n",
        "    text = re.sub(r\"\\'ll\", \" will \", text)\n",
        "    text = re.sub(r\",\", \" \", text)\n",
        "    text = re.sub(r\"\\.\", \" \", text)\n",
        "    text = re.sub(r\"!\", \" ! \", text)\n",
        "    text = re.sub(r\"\\/\", \" \", text)\n",
        "    text = re.sub(r\"\\^\", \" ^ \", text)\n",
        "    text = re.sub(r\"\\+\", \" + \", text)\n",
        "    text = re.sub(r\"\\-\", \" - \", text)\n",
        "    text = re.sub(r\"\\=\", \" = \", text)\n",
        "    text = re.sub(r\"'\", \" \", text)\n",
        "    text = re.sub(r\"(\\d+)(k)\", r\"\\g<1>000\", text)\n",
        "    text = re.sub(r\":\", \" : \", text)\n",
        "    text = re.sub(r\" e g \", \" eg \", text)\n",
        "    text = re.sub(r\" b g \", \" bg \", text)\n",
        "    text = re.sub(r\" u s \", \" american \", text)\n",
        "    text = re.sub(r\"\\0s\", \"0\", text)\n",
        "    text = re.sub(r\" 9 11 \", \"911\", text)\n",
        "    text = re.sub(r\"e - mail\", \"email\", text)\n",
        "    text = re.sub(r\"j k\", \"jk\", text)\n",
        "    text = re.sub(r\"\\s{2,}\", \" \", text)\n",
        "    return text\n",
        "\n",
        "train_df['Processed_tweets'] = train_df['Processed_tweets'].map(lambda x: clean_text(x))\n",
        "test_df['Processed_tweets'] = test_df['Processed_tweets'].map(lambda x: clean_text(x))"
      ],
      "execution_count": null,
      "outputs": []
    },
    {
      "cell_type": "code",
      "metadata": {
        "id": "w-q8kETyxns1",
        "colab_type": "code",
        "colab": {
          "base_uri": "https://localhost:8080/",
          "height": 857
        },
        "outputId": "b4e5c230-76c4-4e06-a82c-0c8952edc382"
      },
      "source": [
        "train_df.sample(5)"
      ],
      "execution_count": null,
      "outputs": [
        {
          "output_type": "execute_result",
          "data": {
            "text/html": [
              "<div>\n",
              "<style scoped>\n",
              "    .dataframe tbody tr th:only-of-type {\n",
              "        vertical-align: middle;\n",
              "    }\n",
              "\n",
              "    .dataframe tbody tr th {\n",
              "        vertical-align: top;\n",
              "    }\n",
              "\n",
              "    .dataframe thead th {\n",
              "        text-align: right;\n",
              "    }\n",
              "</style>\n",
              "<table border=\"1\" class=\"dataframe\">\n",
              "  <thead>\n",
              "    <tr style=\"text-align: right;\">\n",
              "      <th></th>\n",
              "      <th>Tweets</th>\n",
              "      <th>TweetId</th>\n",
              "      <th>Text_Only_Informative</th>\n",
              "      <th>Image_Only_Informative</th>\n",
              "      <th>Directed_Hate</th>\n",
              "      <th>Generalized_Hate</th>\n",
              "      <th>Sarcasm</th>\n",
              "      <th>Allegation</th>\n",
              "      <th>Justification</th>\n",
              "      <th>Refutation</th>\n",
              "      <th>Support</th>\n",
              "      <th>Oppose</th>\n",
              "      <th>favorite_count</th>\n",
              "      <th>possibly__senstive</th>\n",
              "      <th>retweet_count</th>\n",
              "      <th>user_verified</th>\n",
              "      <th>Processed_tweets</th>\n",
              "      <th>mentions</th>\n",
              "      <th>url</th>\n",
              "      <th>bigrams</th>\n",
              "    </tr>\n",
              "  </thead>\n",
              "  <tbody>\n",
              "    <tr>\n",
              "      <th>5809</th>\n",
              "      <td>this #metoo brigade causes shit like this. that poor kid. https://t.co/0kkg8iunts</td>\n",
              "      <td>1051020625307930624</td>\n",
              "      <td>1</td>\n",
              "      <td>0</td>\n",
              "      <td>0</td>\n",
              "      <td>0</td>\n",
              "      <td>0</td>\n",
              "      <td>0</td>\n",
              "      <td>0</td>\n",
              "      <td>0</td>\n",
              "      <td>1</td>\n",
              "      <td>0</td>\n",
              "      <td>1</td>\n",
              "      <td>0</td>\n",
              "      <td>3</td>\n",
              "      <td>0</td>\n",
              "      <td>this metoo brigade causes shit like this that poor kid URL</td>\n",
              "      <td>0</td>\n",
              "      <td>1</td>\n",
              "      <td>9</td>\n",
              "    </tr>\n",
              "    <tr>\n",
              "      <th>292</th>\n",
              "      <td>it is not possible to be in favor of justice for some people and not be in favor for justice for all people- dr. martin luther king jr. just think about that, how these words still resonates today. #mentoo #kidstoo #metoo #survivorculture #abuseisgenderless #abusersaregenderless https://t.co/ckqhbpnzlh</td>\n",
              "      <td>1051961261607579648</td>\n",
              "      <td>0</td>\n",
              "      <td>0</td>\n",
              "      <td>0</td>\n",
              "      <td>0</td>\n",
              "      <td>0</td>\n",
              "      <td>0</td>\n",
              "      <td>0</td>\n",
              "      <td>0</td>\n",
              "      <td>0</td>\n",
              "      <td>0</td>\n",
              "      <td>4</td>\n",
              "      <td>0</td>\n",
              "      <td>6</td>\n",
              "      <td>0</td>\n",
              "      <td>it is not possible to be in favor of justice for some people and not be in favor for justice for all people dr martin luther king jr just think about that how these words still resonates today mentoo kidstoo metoo survivorculture abuseisgenderless abusersaregenderless URL</td>\n",
              "      <td>0</td>\n",
              "      <td>1</td>\n",
              "      <td>43</td>\n",
              "    </tr>\n",
              "    <tr>\n",
              "      <th>3288</th>\n",
              "      <td>after so long time i have wrote something.. time has changed.. now people must.. #metoo #metooindia #womenpower #feminist #feminism #womenempowerment #girls #woman #equality #respect… https://t.co/kzrcbaagxq https://t.co/5liedvi79f</td>\n",
              "      <td>1055790274461425664</td>\n",
              "      <td>1</td>\n",
              "      <td>0</td>\n",
              "      <td>0</td>\n",
              "      <td>0</td>\n",
              "      <td>0</td>\n",
              "      <td>0</td>\n",
              "      <td>0</td>\n",
              "      <td>0</td>\n",
              "      <td>0</td>\n",
              "      <td>1</td>\n",
              "      <td>0</td>\n",
              "      <td>0</td>\n",
              "      <td>0</td>\n",
              "      <td>0</td>\n",
              "      <td>after so long time i have wrote something time has changed now people must metoo metooindia womenpower feminist feminism womenempowerment girls woman equality URL URL</td>\n",
              "      <td>0</td>\n",
              "      <td>2</td>\n",
              "      <td>22</td>\n",
              "    </tr>\n",
              "    <tr>\n",
              "      <th>2609</th>\n",
              "      <td>currently india with #metooindia #metoo and #section497   #pun https://t.co/kr5qcgnvtq</td>\n",
              "      <td>1049672576195280897</td>\n",
              "      <td>1</td>\n",
              "      <td>0</td>\n",
              "      <td>0</td>\n",
              "      <td>1</td>\n",
              "      <td>0</td>\n",
              "      <td>0</td>\n",
              "      <td>0</td>\n",
              "      <td>0</td>\n",
              "      <td>0</td>\n",
              "      <td>1</td>\n",
              "      <td>0</td>\n",
              "      <td>0</td>\n",
              "      <td>0</td>\n",
              "      <td>0</td>\n",
              "      <td>currently india with metooindia metoo and section497 pun URL</td>\n",
              "      <td>0</td>\n",
              "      <td>1</td>\n",
              "      <td>7</td>\n",
              "    </tr>\n",
              "    <tr>\n",
              "      <th>6714</th>\n",
              "      <td>watch @nehadhupia’s gentle, yet powerful take on the #metoo movement. #metooindia #metoomovement https://t.co/j07jojp8z7</td>\n",
              "      <td>1052132728550899712</td>\n",
              "      <td>0</td>\n",
              "      <td>0</td>\n",
              "      <td>0</td>\n",
              "      <td>0</td>\n",
              "      <td>0</td>\n",
              "      <td>0</td>\n",
              "      <td>0</td>\n",
              "      <td>0</td>\n",
              "      <td>0</td>\n",
              "      <td>0</td>\n",
              "      <td>10</td>\n",
              "      <td>0</td>\n",
              "      <td>1</td>\n",
              "      <td>1</td>\n",
              "      <td>watch USER_MENTION gentle yet powerful take on the metoo movement metooindia metoomovement URL</td>\n",
              "      <td>1</td>\n",
              "      <td>1</td>\n",
              "      <td>10</td>\n",
              "    </tr>\n",
              "  </tbody>\n",
              "</table>\n",
              "</div>"
            ],
            "text/plain": [
              "                                                                                                                                                                                                                                                                                                               Tweets  ...  bigrams\n",
              "5809  this #metoo brigade causes shit like this. that poor kid. https://t.co/0kkg8iunts                                                                                                                                                                                                                                ...  9      \n",
              "292   it is not possible to be in favor of justice for some people and not be in favor for justice for all people- dr. martin luther king jr. just think about that, how these words still resonates today. #mentoo #kidstoo #metoo #survivorculture #abuseisgenderless #abusersaregenderless https://t.co/ckqhbpnzlh  ...  43     \n",
              "3288  after so long time i have wrote something.. time has changed.. now people must.. #metoo #metooindia #womenpower #feminist #feminism #womenempowerment #girls #woman #equality #respect… https://t.co/kzrcbaagxq https://t.co/5liedvi79f                                                                          ...  22     \n",
              "2609  currently india with #metooindia #metoo and #section497   #pun https://t.co/kr5qcgnvtq                                                                                                                                                                                                                           ...  7      \n",
              "6714  watch @nehadhupia’s gentle, yet powerful take on the #metoo movement. #metooindia #metoomovement https://t.co/j07jojp8z7                                                                                                                                                                                         ...  10     \n",
              "\n",
              "[5 rows x 20 columns]"
            ]
          },
          "metadata": {
            "tags": []
          },
          "execution_count": 19
        }
      ]
    },
    {
      "cell_type": "code",
      "metadata": {
        "id": "Wl9Je_F43wuE",
        "colab_type": "code",
        "colab": {
          "base_uri": "https://localhost:8080/",
          "height": 126
        },
        "outputId": "6e2f4afe-7489-4b7b-bb5b-c2957bf517d4"
      },
      "source": [
        "train_df.columns"
      ],
      "execution_count": null,
      "outputs": [
        {
          "output_type": "execute_result",
          "data": {
            "text/plain": [
              "Index(['Tweets', 'TweetId', 'Text_Only_Informative', 'Image_Only_Informative',\n",
              "       'Directed_Hate', 'Generalized_Hate', 'Sarcasm', 'Allegation',\n",
              "       'Justification', 'Refutation', 'Support', 'Oppose', 'favorite_count',\n",
              "       'possibly__senstive', 'retweet_count', 'user_verified',\n",
              "       'Processed_tweets', 'mentions', 'url', 'bigrams'],\n",
              "      dtype='object')"
            ]
          },
          "metadata": {
            "tags": []
          },
          "execution_count": 21
        }
      ]
    },
    {
      "cell_type": "code",
      "metadata": {
        "id": "tlV7kF7t34zv",
        "colab_type": "code",
        "colab": {}
      },
      "source": [
        ""
      ],
      "execution_count": null,
      "outputs": []
    },
    {
      "cell_type": "code",
      "metadata": {
        "id": "zM0eYVZa3cse",
        "colab_type": "code",
        "colab": {}
      },
      "source": [
        "from sklearn.model_selection import train_test_split\n",
        "X_train, X_test, y_train, y_test = train_test_split(train_df[['TweetId','Processed_tweets','favorite_count', \n",
        "                                                              'possibly__senstive', 'retweet_count', 'user_verified', 'mentions', 'url', 'bigrams']], \n",
        "                                                    train_df[['Text_Only_Informative', 'Image_Only_Informative',\n",
        "       'Directed_Hate', 'Generalized_Hate', 'Sarcasm', 'Allegation',\n",
        "       'Justification', 'Refutation', 'Support', 'Oppose']], test_size=0.2, random_state=42)"
      ],
      "execution_count": null,
      "outputs": []
    },
    {
      "cell_type": "code",
      "metadata": {
        "id": "59-JM8wN4y8s",
        "colab_type": "code",
        "colab": {
          "base_uri": "https://localhost:8080/",
          "height": 259
        },
        "outputId": "15e39d0a-5049-4757-a743-6896caa1578f"
      },
      "source": [
        "X_train.sample(3)"
      ],
      "execution_count": null,
      "outputs": [
        {
          "output_type": "execute_result",
          "data": {
            "text/html": [
              "<div>\n",
              "<style scoped>\n",
              "    .dataframe tbody tr th:only-of-type {\n",
              "        vertical-align: middle;\n",
              "    }\n",
              "\n",
              "    .dataframe tbody tr th {\n",
              "        vertical-align: top;\n",
              "    }\n",
              "\n",
              "    .dataframe thead th {\n",
              "        text-align: right;\n",
              "    }\n",
              "</style>\n",
              "<table border=\"1\" class=\"dataframe\">\n",
              "  <thead>\n",
              "    <tr style=\"text-align: right;\">\n",
              "      <th></th>\n",
              "      <th>TweetId</th>\n",
              "      <th>Processed_tweets</th>\n",
              "      <th>favorite_count</th>\n",
              "      <th>possibly__senstive</th>\n",
              "      <th>retweet_count</th>\n",
              "      <th>user_verified</th>\n",
              "      <th>mentions</th>\n",
              "      <th>url</th>\n",
              "      <th>bigrams</th>\n",
              "    </tr>\n",
              "  </thead>\n",
              "  <tbody>\n",
              "    <tr>\n",
              "      <th>619</th>\n",
              "      <td>1051479122986307584</td>\n",
              "      <td>pay it forward please help someone become a dental assistant educateallgirls educationforall educacion educationisgreat learning learningtogether metoo dental dentistry URL</td>\n",
              "      <td>0</td>\n",
              "      <td>0</td>\n",
              "      <td>0</td>\n",
              "      <td>0</td>\n",
              "      <td>0</td>\n",
              "      <td>1</td>\n",
              "      <td>18</td>\n",
              "    </tr>\n",
              "    <tr>\n",
              "      <th>5604</th>\n",
              "      <td>1051738896999088128</td>\n",
              "      <td>a nice lil ignorant comment to get me riled up on a monday morning metoo USER_MENTION URL</td>\n",
              "      <td>0</td>\n",
              "      <td>0</td>\n",
              "      <td>0</td>\n",
              "      <td>0</td>\n",
              "      <td>1</td>\n",
              "      <td>1</td>\n",
              "      <td>14</td>\n",
              "    </tr>\n",
              "    <tr>\n",
              "      <th>808</th>\n",
              "      <td>1051150624157560832</td>\n",
              "      <td>how has the metoo movement changed the world and what does that mean for writers join writers in residence at the university of iowa international writing program on october at noon in meeting room a to explore this topic USER_MENTION metoomovement genderroles URL</td>\n",
              "      <td>2</td>\n",
              "      <td>0</td>\n",
              "      <td>3</td>\n",
              "      <td>0</td>\n",
              "      <td>1</td>\n",
              "      <td>1</td>\n",
              "      <td>40</td>\n",
              "    </tr>\n",
              "  </tbody>\n",
              "</table>\n",
              "</div>"
            ],
            "text/plain": [
              "                  TweetId  ... bigrams\n",
              "619   1051479122986307584  ...  18    \n",
              "5604  1051738896999088128  ...  14    \n",
              "808   1051150624157560832  ...  40    \n",
              "\n",
              "[3 rows x 9 columns]"
            ]
          },
          "metadata": {
            "tags": []
          },
          "execution_count": 144
        }
      ]
    },
    {
      "cell_type": "code",
      "metadata": {
        "id": "ZRG3pKXTfbaB",
        "colab_type": "code",
        "colab": {}
      },
      "source": [
        "#Copy the preprocessed tweets dataframe to .csv files\n",
        "# train_df.to_csv('trainable.csv',index=False)\n",
        "# test_df.to_csv('testable.csv',index=False)"
      ],
      "execution_count": null,
      "outputs": []
    },
    {
      "cell_type": "code",
      "metadata": {
        "id": "bWJ5AfsWfb9I",
        "colab_type": "code",
        "colab": {
          "base_uri": "https://localhost:8080/",
          "height": 108
        },
        "outputId": "2dc2ad08-a5b0-463c-b33e-3f61f1066883"
      },
      "source": [
        "#CREATING A BUNCH OF ALL TWEETS (train, test) FOR CREATING EMBEDDINGS\n",
        "all_tweets = pd.DataFrame(pd.concat([train_df['Processed_tweets'],test_df['Processed_tweets']],axis=0))\n",
        "all_tweets.columns = ['tweets']\n",
        "all_tweets['tweets'] = all_tweets['tweets'].astype(str)\n",
        "all_tweets.sample(2)"
      ],
      "execution_count": null,
      "outputs": [
        {
          "output_type": "execute_result",
          "data": {
            "text/html": [
              "<div>\n",
              "<style scoped>\n",
              "    .dataframe tbody tr th:only-of-type {\n",
              "        vertical-align: middle;\n",
              "    }\n",
              "\n",
              "    .dataframe tbody tr th {\n",
              "        vertical-align: top;\n",
              "    }\n",
              "\n",
              "    .dataframe thead th {\n",
              "        text-align: right;\n",
              "    }\n",
              "</style>\n",
              "<table border=\"1\" class=\"dataframe\">\n",
              "  <thead>\n",
              "    <tr style=\"text-align: right;\">\n",
              "      <th></th>\n",
              "      <th>tweets</th>\n",
              "    </tr>\n",
              "  </thead>\n",
              "  <tbody>\n",
              "    <tr>\n",
              "      <th>2061</th>\n",
              "      <td>metoo hashtag usage on USER_MENTION over the past year URL</td>\n",
              "    </tr>\n",
              "    <tr>\n",
              "      <th>2309</th>\n",
              "      <td>i had written metoo is created to downplay rapesonnuns by christian fathers bishops now it is clear that tanushreedutta is a convertedchristian rest is left to the readers URL</td>\n",
              "    </tr>\n",
              "  </tbody>\n",
              "</table>\n",
              "</div>"
            ],
            "text/plain": [
              "                                                                                                                                                                               tweets\n",
              "2061  metoo hashtag usage on USER_MENTION over the past year URL                                                                                                                     \n",
              "2309  i had written metoo is created to downplay rapesonnuns by christian fathers bishops now it is clear that tanushreedutta is a convertedchristian rest is left to the readers URL"
            ]
          },
          "metadata": {
            "tags": []
          },
          "execution_count": 33
        }
      ]
    },
    {
      "cell_type": "code",
      "metadata": {
        "id": "vTB8sMqf0tgc",
        "colab_type": "code",
        "colab": {
          "base_uri": "https://localhost:8080/",
          "height": 35
        },
        "outputId": "fe5a429a-bfa6-4cdd-c334-675852fa6e61"
      },
      "source": [
        "list(all_tweets['tweets'])[0]"
      ],
      "execution_count": null,
      "outputs": [
        {
          "output_type": "execute_result",
          "data": {
            "application/vnd.google.colaboratory.intrinsic+json": {
              "type": "string"
            },
            "text/plain": [
              "'what a shock hey old bill is in the clear every single imwithher metoo moron will swallow this huge pile of shit without a single gag hypocrites URL'"
            ]
          },
          "metadata": {
            "tags": []
          },
          "execution_count": 34
        }
      ]
    },
    {
      "cell_type": "code",
      "metadata": {
        "id": "aT2Zg_6wMRoL",
        "colab_type": "code",
        "colab": {}
      },
      "source": [
        "dialogs=[]\n",
        "\n",
        "for i in range(len(all_tweets)):\n",
        "    my_string=list(all_tweets['tweets'])[i]\n",
        "    tokens = word_tokenize(my_string)\n",
        "    tokens= [word for word in tokens if word.isalnum()]\n",
        "    words = [word.lower() for word in tokens]\n",
        "    dialogs.append(words)"
      ],
      "execution_count": null,
      "outputs": []
    },
    {
      "cell_type": "code",
      "metadata": {
        "id": "BASAL6ah1G10",
        "colab_type": "code",
        "colab": {}
      },
      "source": [
        "corp=[dialogs[i] for i in range(len(dialogs))]"
      ],
      "execution_count": null,
      "outputs": []
    },
    {
      "cell_type": "code",
      "metadata": {
        "id": "G7eTp4r5y6Mf",
        "colab_type": "code",
        "colab": {
          "base_uri": "https://localhost:8080/",
          "height": 54
        },
        "outputId": "ba7de16d-ee19-4b16-81a3-d2a4ad7450ae"
      },
      "source": [
        "#Finding the number of unique words in the whole corpus\n",
        "flat_list = [item for sublist in corp for item in sublist]\n",
        "print(\"Total number of words:\", (len(flat_list)))\n",
        "print(\"Total number of unique words: \",len(set(flat_list)))\n",
        "#If stopwords are not removed, it's around 17,487"
      ],
      "execution_count": null,
      "outputs": [
        {
          "output_type": "stream",
          "text": [
            "Total number of words: 183248\n",
            "Total number of unique words:  17487\n"
          ],
          "name": "stdout"
        }
      ]
    },
    {
      "cell_type": "code",
      "metadata": {
        "id": "STrTu-th4-j6",
        "colab_type": "code",
        "colab": {
          "base_uri": "https://localhost:8080/",
          "height": 54
        },
        "outputId": "69f5bd38-0398-4afe-c1ec-a01bea0a4207"
      },
      "source": [
        "# tweets with maximum lengths\n",
        "print(\"training data tweet with maximum length : \",max(set(list(train_df['Processed_tweets'].str.split().str.len()))))\n",
        "print(\"testing data tweet with maximum length : \",max(set(list(test_df['Processed_tweets'].str.split().str.len()))))"
      ],
      "execution_count": null,
      "outputs": [
        {
          "output_type": "stream",
          "text": [
            "training data tweet with maximum length :  91\n",
            "testing data tweet with maximum length :  90\n"
          ],
          "name": "stdout"
        }
      ]
    },
    {
      "cell_type": "markdown",
      "metadata": {
        "id": "FcLGR3k82Hcw",
        "colab_type": "text"
      },
      "source": [
        "### Word Tokenizer (Glove & Embeddings)"
      ]
    },
    {
      "cell_type": "code",
      "metadata": {
        "id": "I57EFZxQ1Spa",
        "colab_type": "code",
        "colab": {
          "base_uri": "https://localhost:8080/",
          "height": 381
        },
        "outputId": "f4e55b9d-2fe3-462d-d6b9-5123da9f6132"
      },
      "source": [
        "!wget http://nlp.stanford.edu/data/glove.twitter.27B.zip"
      ],
      "execution_count": null,
      "outputs": [
        {
          "output_type": "stream",
          "text": [
            "--2020-07-29 17:12:50--  http://nlp.stanford.edu/data/glove.twitter.27B.zip\n",
            "Resolving nlp.stanford.edu (nlp.stanford.edu)... 171.64.67.140\n",
            "Connecting to nlp.stanford.edu (nlp.stanford.edu)|171.64.67.140|:80... connected.\n",
            "HTTP request sent, awaiting response... 302 Found\n",
            "Location: https://nlp.stanford.edu/data/glove.twitter.27B.zip [following]\n",
            "--2020-07-29 17:12:51--  https://nlp.stanford.edu/data/glove.twitter.27B.zip\n",
            "Connecting to nlp.stanford.edu (nlp.stanford.edu)|171.64.67.140|:443... connected.\n",
            "HTTP request sent, awaiting response... 301 Moved Permanently\n",
            "Location: http://downloads.cs.stanford.edu/nlp/data/glove.twitter.27B.zip [following]\n",
            "--2020-07-29 17:12:51--  http://downloads.cs.stanford.edu/nlp/data/glove.twitter.27B.zip\n",
            "Resolving downloads.cs.stanford.edu (downloads.cs.stanford.edu)... 171.64.64.22\n",
            "Connecting to downloads.cs.stanford.edu (downloads.cs.stanford.edu)|171.64.64.22|:80... connected.\n",
            "HTTP request sent, awaiting response... 200 OK\n",
            "Length: 1520408563 (1.4G) [application/zip]\n",
            "Saving to: ‘glove.twitter.27B.zip’\n",
            "\n",
            "glove.twitter.27B.z 100%[===================>]   1.42G  2.18MB/s    in 11m 43s \n",
            "\n",
            "2020-07-29 17:24:34 (2.06 MB/s) - ‘glove.twitter.27B.zip’ saved [1520408563/1520408563]\n",
            "\n"
          ],
          "name": "stdout"
        }
      ]
    },
    {
      "cell_type": "code",
      "metadata": {
        "id": "Qu4A38xF-pMf",
        "colab_type": "code",
        "colab": {
          "base_uri": "https://localhost:8080/",
          "height": 108
        },
        "outputId": "832fc305-8c76-46fe-ee58-8415351f79a2"
      },
      "source": [
        "!unzip '/content/glove.twitter.27B.zip' -d '/content/glove.twitter.27B'"
      ],
      "execution_count": null,
      "outputs": [
        {
          "output_type": "stream",
          "text": [
            "Archive:  /content/glove.twitter.27B.zip\n",
            "  inflating: /content/glove.twitter.27B/glove.twitter.27B.25d.txt  \n",
            "  inflating: /content/glove.twitter.27B/glove.twitter.27B.50d.txt  \n",
            "  inflating: /content/glove.twitter.27B/glove.twitter.27B.100d.txt  \n",
            "  inflating: /content/glove.twitter.27B/glove.twitter.27B.200d.txt  \n"
          ],
          "name": "stdout"
        }
      ]
    },
    {
      "cell_type": "markdown",
      "metadata": {
        "id": "u8YjCywyGhEY",
        "colab_type": "text"
      },
      "source": [
        "##Bi-LSTM [for Stance, Hate labels]"
      ]
    },
    {
      "cell_type": "code",
      "metadata": {
        "id": "Dhlk4xhi6osU",
        "colab_type": "code",
        "colab": {
          "base_uri": "https://localhost:8080/",
          "height": 266
        },
        "outputId": "6f0e540b-c578-481c-f6fd-baf50b2cf64f"
      },
      "source": [
        "train = pd.concat([X_train[['Processed_tweets']], y_train],axis=1)\n",
        "test = pd.concat([X_test[['Processed_tweets']], y_test],axis=1)\n",
        "train.head(2)"
      ],
      "execution_count": null,
      "outputs": [
        {
          "output_type": "execute_result",
          "data": {
            "text/html": [
              "<div>\n",
              "<style scoped>\n",
              "    .dataframe tbody tr th:only-of-type {\n",
              "        vertical-align: middle;\n",
              "    }\n",
              "\n",
              "    .dataframe tbody tr th {\n",
              "        vertical-align: top;\n",
              "    }\n",
              "\n",
              "    .dataframe thead th {\n",
              "        text-align: right;\n",
              "    }\n",
              "</style>\n",
              "<table border=\"1\" class=\"dataframe\">\n",
              "  <thead>\n",
              "    <tr style=\"text-align: right;\">\n",
              "      <th></th>\n",
              "      <th>Processed_tweets</th>\n",
              "      <th>Text_Only_Informative</th>\n",
              "      <th>Image_Only_Informative</th>\n",
              "      <th>Directed_Hate</th>\n",
              "      <th>Generalized_Hate</th>\n",
              "      <th>Sarcasm</th>\n",
              "      <th>Allegation</th>\n",
              "      <th>Justification</th>\n",
              "      <th>Refutation</th>\n",
              "      <th>Support</th>\n",
              "      <th>Oppose</th>\n",
              "    </tr>\n",
              "  </thead>\n",
              "  <tbody>\n",
              "    <tr>\n",
              "      <th>252</th>\n",
              "      <td>unsung hero rose schneiderman was a forerunner of the metoo movement history mondaymotivation URL URL</td>\n",
              "      <td>1</td>\n",
              "      <td>0</td>\n",
              "      <td>0</td>\n",
              "      <td>0</td>\n",
              "      <td>0</td>\n",
              "      <td>0</td>\n",
              "      <td>0</td>\n",
              "      <td>0</td>\n",
              "      <td>0</td>\n",
              "      <td>0</td>\n",
              "    </tr>\n",
              "    <tr>\n",
              "      <th>2705</th>\n",
              "      <td>metoo row nivetha pethuraj faces harrasement in party URL thimirupudichavan thimirupudichavanfromdiwali nivethapethuraj URL</td>\n",
              "      <td>1</td>\n",
              "      <td>1</td>\n",
              "      <td>0</td>\n",
              "      <td>0</td>\n",
              "      <td>0</td>\n",
              "      <td>0</td>\n",
              "      <td>0</td>\n",
              "      <td>0</td>\n",
              "      <td>0</td>\n",
              "      <td>0</td>\n",
              "    </tr>\n",
              "  </tbody>\n",
              "</table>\n",
              "</div>"
            ],
            "text/plain": [
              "                                                                                                                 Processed_tweets  ...  Oppose\n",
              "252   unsung hero rose schneiderman was a forerunner of the metoo movement history mondaymotivation URL URL                        ...  0     \n",
              "2705  metoo row nivetha pethuraj faces harrasement in party URL thimirupudichavan thimirupudichavanfromdiwali nivethapethuraj URL  ...  0     \n",
              "\n",
              "[2 rows x 11 columns]"
            ]
          },
          "metadata": {
            "tags": []
          },
          "execution_count": 49
        }
      ]
    },
    {
      "cell_type": "code",
      "metadata": {
        "id": "gOaoiIluGlTG",
        "colab_type": "code",
        "colab": {}
      },
      "source": [
        "import re\n",
        "def clean_text(text):\n",
        "    text = re.sub(r'#(\\S+)', r' \\1 ', str(text))\n",
        "    ## Remove punctuation\n",
        "    text = text.translate(string.punctuation)\n",
        "    text = re.sub(r\"URL\", \"\", str(text))\n",
        "    text = re.sub(r\"USER_MENTION\", \"\", str(text))\n",
        "    text = re.sub(r\"\\s{2,}\", \"\", str(text))\n",
        "    return text\n",
        "\n",
        "train['Processed_tweets'] = train['Processed_tweets'].map(lambda x: clean_text(x))\n",
        "test['Processed_tweets'] = test['Processed_tweets'].map(lambda x: clean_text(x))\n",
        "\n",
        "categories = ['Directed_Hate', 'Generalized_Hate','Support', 'Oppose']"
      ],
      "execution_count": null,
      "outputs": []
    },
    {
      "cell_type": "code",
      "metadata": {
        "id": "kPcZBO_qKw2w",
        "colab_type": "code",
        "colab": {
          "base_uri": "https://localhost:8080/",
          "height": 266
        },
        "outputId": "8651c899-a74c-49b9-aa4c-0202b1917c5e"
      },
      "source": [
        "train.head(2)"
      ],
      "execution_count": null,
      "outputs": [
        {
          "output_type": "execute_result",
          "data": {
            "text/html": [
              "<div>\n",
              "<style scoped>\n",
              "    .dataframe tbody tr th:only-of-type {\n",
              "        vertical-align: middle;\n",
              "    }\n",
              "\n",
              "    .dataframe tbody tr th {\n",
              "        vertical-align: top;\n",
              "    }\n",
              "\n",
              "    .dataframe thead th {\n",
              "        text-align: right;\n",
              "    }\n",
              "</style>\n",
              "<table border=\"1\" class=\"dataframe\">\n",
              "  <thead>\n",
              "    <tr style=\"text-align: right;\">\n",
              "      <th></th>\n",
              "      <th>Processed_tweets</th>\n",
              "      <th>Text_Only_Informative</th>\n",
              "      <th>Image_Only_Informative</th>\n",
              "      <th>Directed_Hate</th>\n",
              "      <th>Generalized_Hate</th>\n",
              "      <th>Sarcasm</th>\n",
              "      <th>Allegation</th>\n",
              "      <th>Justification</th>\n",
              "      <th>Refutation</th>\n",
              "      <th>Support</th>\n",
              "      <th>Oppose</th>\n",
              "    </tr>\n",
              "  </thead>\n",
              "  <tbody>\n",
              "    <tr>\n",
              "      <th>252</th>\n",
              "      <td>unsung hero rose schneiderman was a forerunner of the metoo movement history mondaymotivation</td>\n",
              "      <td>1</td>\n",
              "      <td>0</td>\n",
              "      <td>0</td>\n",
              "      <td>0</td>\n",
              "      <td>0</td>\n",
              "      <td>0</td>\n",
              "      <td>0</td>\n",
              "      <td>0</td>\n",
              "      <td>0</td>\n",
              "      <td>0</td>\n",
              "    </tr>\n",
              "    <tr>\n",
              "      <th>2705</th>\n",
              "      <td>metoo row nivetha pethuraj faces harrasement in partythimirupudichavan thimirupudichavanfromdiwali nivethapethuraj</td>\n",
              "      <td>1</td>\n",
              "      <td>1</td>\n",
              "      <td>0</td>\n",
              "      <td>0</td>\n",
              "      <td>0</td>\n",
              "      <td>0</td>\n",
              "      <td>0</td>\n",
              "      <td>0</td>\n",
              "      <td>0</td>\n",
              "      <td>0</td>\n",
              "    </tr>\n",
              "  </tbody>\n",
              "</table>\n",
              "</div>"
            ],
            "text/plain": [
              "                                                                                                         Processed_tweets  ...  Oppose\n",
              "252   unsung hero rose schneiderman was a forerunner of the metoo movement history mondaymotivation                        ...  0     \n",
              "2705  metoo row nivetha pethuraj faces harrasement in partythimirupudichavan thimirupudichavanfromdiwali nivethapethuraj   ...  0     \n",
              "\n",
              "[2 rows x 11 columns]"
            ]
          },
          "metadata": {
            "tags": []
          },
          "execution_count": 59
        }
      ]
    },
    {
      "cell_type": "code",
      "metadata": {
        "id": "wE3lrjJaGk49",
        "colab_type": "code",
        "colab": {
          "base_uri": "https://localhost:8080/",
          "height": 54
        },
        "outputId": "3f66c747-7627-462c-9205-315a322d413d"
      },
      "source": [
        "# tweets with maximum lengths\n",
        "print(\"training data tweet with maximum length : \",max(set(list(train['Processed_tweets'].str.split().str.len()))))\n",
        "print(\"validation data tweet with maximum length : \",max(set(list(test['Processed_tweets'].str.split().str.len()))))"
      ],
      "execution_count": null,
      "outputs": [
        {
          "output_type": "stream",
          "text": [
            "training data tweet with maximum length :  55\n",
            "validation data tweet with maximum length :  53\n"
          ],
          "name": "stdout"
        }
      ]
    },
    {
      "cell_type": "code",
      "metadata": {
        "id": "wqQPdZvVR-fP",
        "colab_type": "code",
        "colab": {}
      },
      "source": [
        "EMBEDDING_FILE = '/content/glove.twitter.27B/glove.twitter.27B.100d.txt'\n",
        "def get_coefs(word,*arr):\n",
        "  return word, np.asarray(arr, dtype='float32')\n",
        "embeddings_index = dict(get_coefs(*o.split(\" \")) for o in open(EMBEDDING_FILE))"
      ],
      "execution_count": null,
      "outputs": []
    },
    {
      "cell_type": "code",
      "metadata": {
        "id": "I4DnRHjR__KT",
        "colab_type": "code",
        "colab": {
          "base_uri": "https://localhost:8080/",
          "height": 108
        },
        "outputId": "ede533e6-6be0-4c30-a7f0-0ccc19e95809"
      },
      "source": [
        "#CREATING A BUNCH OF ALL TWEETS (train, test) FOR CREATING EMBEDDINGS\n",
        "all_tweets = pd.DataFrame(pd.concat([train['Processed_tweets'],test['Processed_tweets']],axis=0))\n",
        "all_tweets.columns = ['tweets']\n",
        "all_tweets['tweets'] = all_tweets['tweets'].astype(str)\n",
        "all_tweets.sample(2)"
      ],
      "execution_count": null,
      "outputs": [
        {
          "output_type": "execute_result",
          "data": {
            "text/html": [
              "<div>\n",
              "<style scoped>\n",
              "    .dataframe tbody tr th:only-of-type {\n",
              "        vertical-align: middle;\n",
              "    }\n",
              "\n",
              "    .dataframe tbody tr th {\n",
              "        vertical-align: top;\n",
              "    }\n",
              "\n",
              "    .dataframe thead th {\n",
              "        text-align: right;\n",
              "    }\n",
              "</style>\n",
              "<table border=\"1\" class=\"dataframe\">\n",
              "  <thead>\n",
              "    <tr style=\"text-align: right;\">\n",
              "      <th></th>\n",
              "      <th>tweets</th>\n",
              "    </tr>\n",
              "  </thead>\n",
              "  <tbody>\n",
              "    <tr>\n",
              "      <th>4996</th>\n",
              "      <td>metoo high court slams anurag kashyap and vikramaditya motwane for not producing witness</td>\n",
              "    </tr>\n",
              "    <tr>\n",
              "      <th>3257</th>\n",
              "      <td>kabir khan on metoo we ignored but it happen again</td>\n",
              "    </tr>\n",
              "  </tbody>\n",
              "</table>\n",
              "</div>"
            ],
            "text/plain": [
              "                                                                                        tweets\n",
              "4996  metoo high court slams anurag kashyap and vikramaditya motwane for not producing witness\n",
              "3257  kabir khan on metoo we ignored but it happen again                                      "
            ]
          },
          "metadata": {
            "tags": []
          },
          "execution_count": 66
        }
      ]
    },
    {
      "cell_type": "code",
      "metadata": {
        "id": "cPAcBNOyopxv",
        "colab_type": "code",
        "colab": {
          "base_uri": "https://localhost:8080/",
          "height": 74
        },
        "outputId": "156c3227-89f0-4ed4-bd27-8c89a2102adb"
      },
      "source": [
        "from collections import Counter\n",
        "results = Counter()\n",
        "# total['tweet'].str.lower().str.split().apply(results.update)\n",
        "all_tweets['tweets'].str.lower().str.split().apply(results.update)\n",
        "print(results)\n",
        "print(\"Size of train vocabulary: \",len(results.keys()))"
      ],
      "execution_count": null,
      "outputs": [
        {
          "output_type": "stream",
          "text": [
            "Counter({'metoo': 6694, 'the': 4339, 'to': 3284, 'of': 2706, 'a': 2220, 'and': 2208, 'in': 1972, 'is': 1513, 'on': 1377, 'for': 1249, 'movement': 1011, 'this': 982, 'women': 925, 'sexual': 804, 'you': 771, 'with': 747, 'i': 708, 'are': 700, 'that': 662, 'be': 651, 'at': 621, 'it': 607, 'about': 577, 'not': 569, 'metooindia': 560, 'by': 546, 'against': 537, 'her': 521, 'from': 518, 'have': 505, 'we': 499, 'harassment': 493, 'as': 490, 'after': 456, 'has': 454, 'who': 449, 'all': 444, 'my': 371, 'but': 363, 'will': 362, 'what': 358, 'me': 355, 'more': 352, 'allegations': 344, 'she': 344, 'up': 338, 'out': 336, 'one': 335, 'your': 334, 'how': 324, 'was': 318, 'men': 313, 'our': 311, 'india': 294, 'their': 283, 'now': 276, 'no': 266, 'an': 266, 'they': 257, 'can': 257, 'says': 257, 'when': 257, 'he': 247, 'why': 246, 'over': 246, 'its': 242, 'so': 240, 'if': 239, 'his': 237, 'timesup': 233, 'woman': 227, 'or': 225, 'do': 223, 'year': 217, 'us': 215, 'been': 211, 'like': 208, 'accused': 207, 'time': 205, 'support': 203, 'read': 200, 'just': 199, 'should': 194, 'bollywood': 189, 'him': 186, 'people': 183, 'news': 177, 'too': 172, 'assault': 171, 'indian': 169, 'take': 167, 'campaign': 167, 'being': 166, 'trump': 165, 'need': 155, 'there': 146, 'here': 144, 'today': 144, 'abuse': 144, 'get': 141, 'them': 137, 'some': 135, 'come': 132, 'story': 130, 'know': 129, 'these': 127, 'world': 127, 'new': 127, 'look': 126, 'dont': 124, 'work': 124, 'than': 122, 'moment': 121, 'want': 121, 'video': 120, 'make': 120, 'case': 119, 'media': 118, 'film': 118, 'say': 118, 'many': 118, 'man': 116, 'only': 116, 'had': 115, 'were': 114, 'also': 114, 'years': 113, 'arjunsarja': 113, 'would': 113, 'still': 112, 'victims': 111, 'any': 110, 'rape': 108, 'violence': 106, 'must': 105, 'workplace': 104, 'kavanaugh': 103, 'because': 102, 'even': 102, 'stories': 101, 'see': 101, 'back': 101, 'down': 100, 'right': 99, 'join': 99, 'actress': 98, 'speak': 98, 'way': 96, 'talk': 95, 'love': 95, 'raped': 94, 'misconduct': 93, 'did': 92, 'change': 91, 'power': 91, 'sruthihariharan': 89, 'help': 89, 'director': 88, 'good': 88, 'said': 88, 'minister': 88, 'first': 88, 'where': 87, 'action': 86, 'believe': 86, 'stand': 86, 'other': 85, 'post': 85, 'survivors': 85, 'going': 84, 'go': 84, 'am': 84, 'then': 84, 'very': 84, 'actor': 83, 'think': 83, 'era': 82, 'every': 81, 'police': 79, 'most': 79, 'arjun': 78, 'made': 78, 'court': 78, 'those': 78, 'girls': 78, 'u': 77, 'social': 77, 'into': 77, 'really': 76, 'called': 76, 'metoocontroversy': 76, 'share': 76, 'show': 76, 'rights': 76, 'industry': 76, 'powerful': 76, 'rally': 75, 'life': 75, 'please': 75, 'stop': 73, 'times': 73, 'part': 73, 'victim': 73, 'watch': 73, 'long': 72, 'got': 72, 'feminism': 72, 'khan': 72, 'sexualharassment': 72, 'akbar': 72, 'malik': 71, 'another': 71, 'which': 70, 'vote': 70, 'justice': 69, 'book': 69, 'forward': 69, 'sruthi': 69, 'panel': 69, 'day': 68, 'male': 68, 'before': 68, 'sex': 67, 'anu': 66, 'defamation': 65, 'indias': 65, 'call': 65, 'real': 65, 'kfcc': 64, 'allegation': 64, 'hope': 63, 'live': 63, 'full': 63, 'during': 63, 'silence': 63, 'consent': 63, 'went': 62, 'while': 62, 'melania': 62, 'never': 62, 'place': 62, 'questions': 62, 'rahul': 61, 'takes': 61, 'young': 61, 'much': 60, 'asked': 60, 'days': 60, 'since': 60, 'shame': 60, 'student': 59, 'well': 59, 'face': 59, 'interview': 59, 'making': 59, 'age': 59, 'better': 59, 'away': 59, 'old': 59, 'could': 58, 'viral': 58, 'mjakbar': 58, 'link': 58, 'october': 58, 'legal': 58, 'best': 58, 'next': 58, 'im': 58, 'great': 57, 'such': 57, 'ago': 57, 'hashtag': 57, 'congress': 57, 'does': 57, 'start': 56, 'cases': 56, 'always': 56, 'coming': 56, 'gender': 56, 'tanushree': 56, 'politics': 56, 'may': 56, 'tanushreedutta': 55, 'courage': 55, 'two': 55, 'metoomovement': 55, 'meet': 55, 'issue': 55, 'public': 55, 'hariharan': 55, 'girl': 55, 'truth': 54, 'fashion': 54, 'himtoo': 54, 'feel': 53, 'become': 53, 'state': 53, 'awareness': 53, 'conversation': 53, 'white': 53, 'sarja': 53, 'effect': 53, 'culture': 53, 'thank': 52, 'claims': 52, 'bignews': 52, 'political': 52, 'impact': 52, 'keep': 52, 'society': 51, 'womens': 51, 'true': 51, 'judge': 51, 'own': 51, 'complaint': 51, 'through': 50, 'changed': 50, 'meeting': 50, 'leopard': 50, 'fight': 50, 'singh': 50, 'issues': 50, 'music': 50, 'breaking': 50, 'hours': 49, 'around': 49, 'let': 49, 'black': 49, 'bcci': 49, 'pm': 49, 'someone': 48, 'evidence': 48, 'print': 48, 'mentoo': 48, 'statement': 48, 'lets': 48, 'idol': 48, 'needs': 47, 'r': 47, 'committee': 47, 'johri': 47, 'act': 47, 'step': 47, 'name': 47, 'calls': 46, 'talking': 46, 'accuses': 46, 'bjp': 46, 'press': 46, 'ceo': 46, 'law': 46, 'twitter': 46, 'tweet': 46, 'safe': 46, 'mj': 46, 'wave': 46, 'tell': 45, 'country': 45, 'dr': 45, 'others': 45, 'charges': 45, 'end': 44, 'both': 44, 'important': 44, 'strong': 44, 'week': 44, 'heres': 44, 'free': 44, 'saying': 44, 'oct': 44, 'vairamuthu': 43, 'later': 43, 'respect': 43, 'things': 43, 'l': 43, 'episode': 43, 'off': 43, 'left': 43, 'nothing': 43, 'taking': 43, 'lives': 42, 'top': 42, 'fake': 42, 'due': 42, 'allegedly': 42, 'started': 42, 'guy': 42, 'give': 42, 'sandalwood': 42, 'voice': 42, 'sexually': 42, 'charge': 41, 'hear': 41, 'accusations': 41, 'via': 41, 'named': 41, 'resist': 41, 'feminist': 41, 'd': 40, 'discuss': 40, 'hollywood': 40, 'listen': 39, 'latest': 39, 'different': 39, 'everyone': 39, 'believesurvivors': 39, 'chinmayi': 38, 'hearing': 38, 'without': 38, 'problem': 38, 'false': 38, 'tv': 38, 'behind': 38, 'mumbai': 38, 'report': 38, 'meetooindia': 38, 'under': 38, 'supports': 38, 'poetry': 38, 'believewomen': 38, 'using': 38, 'author': 37, 'anyone': 37, 'college': 37, 'harassed': 37, 'following': 37, 'dutta': 37, 'goes': 37, 'party': 37, 'ask': 37, 'last': 37, 'taken': 37, 'used': 36, 'predators': 36, 'happened': 36, 'set': 36, 'empowerment': 36, 'govt': 36, 'doesnt': 36, 'alok': 36, 'delhi': 36, 'sure': 36, 'art': 36, 'soon': 35, 'friend': 35, 'talks': 35, 'system': 35, 'ever': 35, 'open': 35, 'event': 35, 'finally': 35, 'home': 35, 'female': 35, 'comes': 35, 'calling': 35, 'learn': 34, 'former': 34, 'anirban': 34, 'again': 34, 'thanks': 34, 'check': 34, 'conference': 34, 'trends': 34, 'speaking': 34, 'three': 34, 'matter': 34, 'put': 34, 'forget': 34, 'leave': 33, 'getting': 33, 'experience': 33, 'continue': 33, 'government': 33, 'comments': 33, 'students': 33, 'enough': 33, 'wrong': 33, 'google': 33, 'journalists': 33, 'business': 33, 'wetoo': 33, 'group': 33, 'heard': 33, 'guys': 33, 'response': 33, 'happy': 33, 'yes': 33, 'weinstein': 33, 'probe': 33, 'wont': 32, 'urgent': 32, 'asking': 32, 'blah': 32, 'done': 32, 'having': 32, 'anniversary': 32, 'working': 32, 'wants': 32, 'tweets': 32, 'wake': 32, 'big': 32, 'cant': 32, 'maga': 32, 'find': 32, 'understand': 32, 'lot': 32, 'safety': 31, 'president': 31, 'speaks': 31, 'survivor': 31, 'rs': 31, 'proud': 31, 'fighting': 31, 'salman': 31, 'little': 31, 'vs': 31, 'bring': 31, 'sets': 31, 'office': 31, 'equality': 31, 'supporting': 31, 'marriage': 31, 'reports': 31, 'rakhisawant': 30, 'found': 30, 'tonight': 30, 'shared': 30, 'voices': 30, 'lady': 30, 'between': 30, 'm': 30, 'whole': 30, 'makes': 30, 'million': 30, 'silent': 30, 'yet': 30, 'family': 30, 'journalist': 30, 'decades': 30, 'doing': 30, 'might': 30, 'sharing': 30, 'brett': 30, 'bad': 30, 'personal': 29, 'multiple': 29, 'sexualassault': 29, 'controversy': 29, 'activist': 29, 'far': 29, 'hillary': 29, 'founder': 29, 'came': 29, 'sajid': 29, 'raj': 29, 'children': 29, 'thing': 29, 'bollywoodmetoo': 29, 'same': 29, 'merch': 29, 'money': 29, 'ready': 29, 'shares': 29, 'stay': 29, 'anumalik': 29, 'rahman': 29, 'high': 29, 'anonymous': 29, 'incident': 29, 'uk': 29, 'file': 29, 'child': 29, 'something': 28, 'coa': 28, 'domestic': 28, 'supreme': 28, 'reveals': 28, 'bill': 28, 'animal': 28, 'wild': 28, 'kind': 28, 'patriarchy': 28, 'employees': 28, 'ford': 28, 'perspective': 28, 'mother': 28, 'cannot': 28, 'words': 28, 'told': 27, 'sc': 27, 'fear': 27, 'kids': 27, 'thats': 27, 'side': 27, 'future': 27, 'kannada': 27, 'dominate': 27, 'page': 27, 'complaints': 27, 'facing': 27, 'follow': 27, 'house': 27, 'global': 27, 'quote': 27, 'attending': 27, 'names': 27, 'nath': 27, 'release': 27, 'light': 27, 'alyssa': 27, 'colleges': 27, 'rose': 26, 'few': 26, 'sons': 26, 'reading': 26, 'together': 26, 'mean': 26, 'spots': 26, 'school': 26, 'use': 26, 'father': 26, 'hands': 26, 'hard': 26, 'strength': 26, 'entertainment': 26, 'singer': 26, 'discussion': 26, 'rejected': 26, 'shocked': 26, 'metooinindia': 26, 'thought': 26, 'body': 26, 'move': 26, 'whats': 26, 'vikas': 26, 'firs': 25, 'writes': 25, 'facebook': 25, 'rapist': 25, 'until': 25, 'scandal': 25, 'everything': 25, 'n': 25, 'investigation': 25, 'person': 25, 'inspiration': 25, 'caught': 25, 'selfcontained': 25, 'ocelot': 25, 'zebra': 25, 'tiger': 25, 'stripes': 25, 'looking': 25, 'voteblue': 25, 'theres': 25, 'sir': 25, 'anything': 25, 'gop': 25, 'alleged': 25, 'democrats': 25, 'trying': 25, 'tarana': 25, 'across': 25, 'modi': 25, 'famous': 25, 'tells': 25, 'gets': 25, 'hold': 25, 'process': 25, 'tried': 25, 'hits': 25, 'chetan': 24, 'declines': 24, 'based': 24, 'education': 24, 'predator': 24, 'tata': 24, 'fire': 24, 'bookworm': 24, 'readtherainbow': 24, 'brettkavanaugh': 24, 'click': 24, 'leadership': 24, 'actresses': 24, 'helped': 24, 'each': 24, 'hypocrisy': 24, 'thoughts': 24, 'tomorrow': 24, 'denies': 24, 'burke': 24, 'project': 24, 'season': 24, 'miss': 24, 'standing': 24, 'corporate': 24, 'given': 24, 'survey': 24, 'night': 24, 'rajnath': 24, 'remember': 24, 'america': 24, 'hr': 24, 'crore': 24, 'inspires': 24, 'controversial': 24, 'accusing': 23, 'aftermath': 23, 'movie': 23, 'ur': 23, 'ensure': 23, 'once': 23, 'hetoo': 23, 'national': 23, 'actually': 23, 'crime': 23, 'international': 23, 'despite': 23, 'petition': 23, 'nana': 23, 'clinton': 23, 'liberal': 23, 'filed': 23, 'clear': 23, 'human': 23, 'available': 23, 'debate': 23, 'editor': 23, 'laws': 23, 's': 23, 'lawyer': 23, 'message': 23, 'guess': 23, 'cartoon': 23, 'fired': 23, 'recent': 23, 'bahl': 23, 'joke': 23, 'states': 23, 'girlpower': 23, 'lie': 22, 'publicity': 22, 'professor': 22, 'seems': 22, 'youtoo': 22, 'longer': 22, 'karnataka': 22, 'shocking': 22, 'details': 22, 'manager': 22, 'artist': 22, 'accusers': 22, 'save': 22, 'inspired': 22, 'churchtoo': 22, 'movements': 22, 'success': 22, 'mindset': 22, 'meetoo': 22, 'solidarity': 22, 'means': 22, 'brought': 22, 'exclusive': 22, 'companies': 22, 'opens': 22, 'bengaluru': 22, 'reason': 22, 'tv9000annada': 22, 'avoid': 22, 'already': 22, 'lawyers': 22, 'experiences': 22, 'rare': 22, 'videos': 21, 'beyond': 21, 'kashyap': 21, 'career': 21, 'vinta': 21, 'community': 21, 'past': 21, 'shows': 21, 'usa': 21, 'boys': 21, 'wait': 21, 'reaction': 21, 'caused': 21, 'claim': 21, 'yourself': 21, 'destruction': 21, 'happen': 21, 'tofor': 21, 'islam': 21, 'trauma': 21, 'point': 21, 'trouble': 21, 'team': 21, 'ali': 21, 'daughter': 21, 'files': 20, 'pil': 20, 'amazing': 20, 'funny': 20, 'novel': 20, 'innocent': 20, 'shoot': 20, 'anurag': 20, 'ladies': 20, 'prashanthsambargi': 20, 'word': 20, 'asks': 20, 'supporters': 20, 'motivation': 20, 'needed': 20, 'list': 20, 'rakhi': 20, 'looks': 20, 'guilty': 20, 'sad': 20, 'das': 20, 'spoke': 20, 'feminists': 20, 'article': 20, 'attempt': 20, 'food': 20, 'gone': 20, 'ar': 20, 'reality': 20, 'award': 20, 'turning': 20, 'order': 20, 'criminal': 20, 'opinion': 20, 'serious': 20, 'american': 20, 'fair': 20, 'stage': 20, 'milano': 20, 'womensrights': 20, 'update': 20, 'cause': 20, 'discusses': 20, 'jacket': 20, 'mondaymotivation': 19, 'sent': 19, 'sexism': 19, 'immediately': 19, 'secret': 19, 'republican': 19, 'month': 19, 'metoo4publicity': 19, 'senior': 19, 'actors': 19, 'writer': 19, 'accuser': 19, 'aloknath': 19, 'nanda': 19, 'friends': 19, 'brave': 19, 'watching': 19, 'potus': 19, 'reporting': 19, 'husband': 19, 'job': 19, 'parties': 19, 'wealth': 19, 'b': 19, 'cretinising': 19, 'role': 19, 'storm': 19, 'books': 19, 'kumar': 19, 'environment': 19, 'failed': 19, 'union': 19, 'city': 19, 'sunday': 19, 'continues': 19, 'attention': 19, 'internal': 19, 'tickets': 19, 'question': 19, 'steps': 19, 'visit': 19, 'fir': 19, 'piece': 19, 'wonder': 19, 'democrat': 19, 'equal': 19, 'history': 18, 'missouri': 18, 'didnt': 18, 'create': 18, 'dark': 18, 'whether': 18, 'w': 18, 'walkaway': 18, 'towards': 18, 'son': 18, 'note': 18, 'domesticviolence': 18, 'nanapatekar': 18, 'abused': 18, 'saw': 18, 'momentum': 18, 'producer': 18, 'patekar': 18, 'celebrities': 18, 'till': 18, 'finds': 18, 'took': 18, 'todays': 18, 'academy': 18, 'e': 18, 'wisdom': 18, 'instead': 18, 'address': 18, 'john': 18, 'changing': 18, 'patronage': 18, 'paradigm': 18, 'dear': 18, 'dumb': 18, 'lgbtq': 18, 'force': 18, 'seeking': 18, 'simple': 18, 'risk': 18, 'senate': 18, 'talent': 18, 'kwan': 18, 'wife': 18, 'sometimes': 18, 'though': 18, 'drive': 18, 'welcome': 18, 'posts': 18, 'malinga': 18, 'growing': 18, 'manup': 18, 'womenempowerment': 18, 'suit': 18, 'research': 18, 'ambareesh': 18, 'faces': 17, 'deal': 17, 'including': 17, 'actions': 17, 'shit': 17, 'notice': 17, 'dedicated': 17, 'raise': 17, 'auspol': 17, 'morning': 17, 'contract': 17, 'several': 17, 'god': 17, 'scared': 17, 'angry': 17, 'expose': 17, 'short': 17, 'bitcoin': 17, 'entrepreneur': 17, 'sign': 17, 'current': 17, 'officer': 17, 'ahead': 17, 'protect': 17, 'reacts': 17, 'workplaces': 17, 'akshay': 17, 'written': 17, 'events': 17, 'number': 17, 'relentless': 17, 'special': 17, 'speech': 17, 'festival': 17, 'amid': 17, 'break': 17, 'picture': 17, 'fakecases': 17, 'mcgowan': 17, 'decided': 17, 'halloween': 17, 'harvey': 17, 'choosing': 17, 'confirmation': 17, 'least': 17, 'exposed': 17, 'leaders': 17, 'pay': 17, 'politician': 16, 'seth': 16, 'fun': 16, 'vikramaditya': 16, 'motwane': 16, 'askswatimaliwal': 16, 'sruthihariharans': 16, 'harassing': 16, 'health': 16, 'colleagues': 16, 'soul': 16, 'course': 16, 'sawant': 16, 'session': 16, 'prakash': 16, 'oh': 16, 'hate': 16, 'account': 16, 'dua': 16, 'miracleworker': 16, 'bruno': 16, 'roque': 16, 'bookgenius': 16, 'hooponopono': 16, 'quotedaily': 16, 'investor': 16, 'loa': 16, 'line': 16, 'fully': 16, 'hell': 16, 'shes': 16, 'youre': 16, 'offcentrespeaks': 16, 'ofindia': 16, 'staying': 16, 'sony': 16, 'chance': 16, 'himself': 16, 'care': 16, 'gives': 16, 'church': 16, 'letter': 16, 'south': 16, 'center': 16, 'religion': 16, 'narrative': 16, 'interesting': 16, 'jobs': 16, 'podcast': 16, 'hit': 16, 'whatsapp': 16, 'backlash': 16, 'molested': 16, 'divided': 16, 'character': 16, 'instagram': 16, 'services': 16, 'possible': 15, 'almost': 15, 'attended': 15, 'fact': 15, 'suhel': 15, 'suhelseth': 15, 'moments': 15, 'harveyweinstein': 15, 'blog': 15, 'cancels': 15, 'vinod': 15, 'incidents': 15, 'poor': 15, 'c': 15, 'writing': 15, 'magazine': 15, 'gorgeous': 15, 'gonna': 15, 'gave': 15, 'date': 15, 'principal': 15, 'kapoor': 15, 'necessary': 15, 'include': 15, 'bank': 15, 'happening': 15, 'else': 15, 'corruption': 15, 'trigger': 15, 'bluewave2018': 15, 'serial': 15, 'target': 15, 'example': 15, 'related': 15, 'protests': 15, 'bollywoodexposed': 15, 'privilege': 15, 'suicide': 15, 'winning': 15, 'blasey': 15, 'intimate': 15, 'mentalhealth': 15, 'heart': 15, 'association': 15, 'alone': 15, 'head': 15, 'vicky': 15, 'feeling': 15, 'publicly': 15, 'isnt': 15, 'write': 15, 'mr': 15, 'became': 15, 'removed': 15, 'hot': 15, 'seen': 15, 'china': 15, 'casting': 15, 'assaulted': 15, 'spaces': 14, 'anger': 14, 'creating': 14, 'cricket': 14, 'ok': 14, 'slaps': 14, 'song': 14, 'demand': 14, 'filmmaker': 14, 'telling': 14, 'within': 14, 'trust': 14, 'bit': 14, 'dropped': 14, 'whos': 14, 'protest': 14, 'low': 14, 'climate': 14, 'wall': 14, 'stars': 14, 'whose': 14, 'sexuality': 14, 'channel': 14, 'drops': 14, 'themselves': 14, 'biggest': 14, 'clothes': 14, 'road': 14, 'topic': 14, 'published': 14, 'lol': 14, 'leading': 14, 'housefull': 14, 'gulls': 14, 'traumasurvivors': 14, 'summit': 14, 'proof': 14, 'fit': 14, 'sweden': 14, 'guest': 14, 'molestation': 14, 'j': 14, 'worried': 14, 'indianidol': 14, 'attacks': 14, 'concept': 14, 'mental': 14, 'bluewave': 14, 'sold': 14, 'thursday': 14, 'bikini': 14, 'weeks': 14, 'advice': 14, 'harrassment': 14, 'conspiracy': 14, 'along': 14, 'members': 14, 'believed': 14, 'monica': 14, 'respond': 14, 'organization': 14, 'midterms': 14, 'nation': 14, 'online': 14, 'death': 14, 'genderequality': 14, 'trumps': 14, 'toxic': 14, 'sen': 14, 'dayofthegirl': 14, 'win': 14, 'sisterhood': 14, 'rapes': 14, 'stronger': 14, 'potential': 14, 'resistance': 14, 'susiganesan': 13, 'harrasment': 13, 'awards': 13, 'tweetchat': 13, 'fame': 13, 'form': 13, 'wanted': 13, 'cover': 13, 'chief': 13, 'star': 13, 'clean': 13, 'learning': 13, 'melaniatrump': 13, 'womensmarch': 13, 'easy': 13, 'p': 13, 'seeing': 13, 'springfield': 13, 'blacklivesmatter': 13, 'credit': 13, 'responds': 13, 'moving': 13, 'workers': 13, 'joining': 13, 'views': 13, 'front': 13, 'damage': 13, 'shraddha': 13, 'v': 13, 'send': 13, 'per': 13, 'itself': 13, 'aishwarya': 13, 'feels': 13, 'situation': 13, 'running': 13, 'policy': 13, 'st': 13, 'view': 13, 'therapy': 13, 'acting': 13, 'difference': 13, 'disgusting': 13, 'resign': 13, 'try': 13, 'politicians': 13, 'touch': 13, 'tuesdaythoughts': 13, 'rather': 13, 'shouldnt': 13, 'listening': 13, 'often': 13, 'everywhere': 13, 'chennai': 13, 'model': 13, 'registration': 13, 'christine': 13, 'pakistan': 13, 'lgbt': 13, 'overcome': 13, 'tv9live': 13, 'discussed': 13, 'second': 13, 'groups': 13, 'punjab': 13, 'complex': 13, 'explanation': 13, 'subscribe': 13, 'misogyny': 13, 'autumn': 13, 'launch': 13, 'mail': 13, 'raping': 13, 'breakingnews': 13, 'seriously': 13, 'sister': 13, 'revolution': 13, 'especially': 13, 'ibelievesurvivors': 13, 'whyididntreport': 13, 'folks': 13, 'leader': 13, 'fallout': 13, 'sajidkhan': 13, 'happens': 13, 'scary': 13, 'killed': 13, 'opposition': 13, 'individual': 13, 'keeping': 13, 'centre': 13, 'assaults': 13, 'gom': 13, 'member': 13, 'ive': 13, 'nomeansno': 13, 'directors': 13, 'nyt': 13, 'daily': 13, 'series': 13, 'showing': 13, 'raveena': 12, 'tandon': 12, 'indiatides': 12, 'kollywood': 12, 'bringing': 12, 'present': 12, 'platform': 12, 'dreams': 12, 'drop': 12, 'teach': 12, 'proven': 12, 'lies': 12, 'held': 12, 'accountable': 12, 'management': 12, 'prime': 12, 'comedy': 12, 'arent': 12, 'room': 12, 'photo': 12, 'rise': 12, 'mocks': 12, 'mami': 12, 'double': 12, 'yrs': 12, 'pain': 12, 'answer': 12, 'srinath': 12, 'yesallwomen': 12, 'votebluetosaveamerica': 12, 'further': 12, 'poll': 12, 'space': 12, 'musicians': 12, 't': 12, 'plea': 12, 'amalapaul': 12, 'roll': 12, 'focus': 12, 'explains': 12, 'foundation': 12, 'safer': 12, 'gather': 12, 'girlstoo': 12, 'among': 12, 'claiming': 12, 'war': 12, 'elections': 12, 'november': 12, 'myself': 12, 'empower': 12, 'prepare': 12, 'less': 12, 'meanwhile': 12, 'amitabh': 12, 'column': 12, 'sidana': 12, 'hai': 12, 'sending': 12, 'testify': 12, 'months': 12, 'shown': 12, 'inside': 12, 'dcw': 12, 'late': 12, 'aamir': 12, 'dream': 12, 'ends': 12, 'financial': 12, 'soni': 12, 'beautiful': 12, 'bollywoodcelebs': 12, 'rob': 12, 'youth': 12, 'arrahman': 12, 'received': 12, 'rapists': 12, 'expect': 12, 'wonderful': 12, 'bar': 12, 'york': 12, 'minutes': 12, 'prove': 12, 'sandalwoodmetoo': 12, 'damn': 12, 'single': 12, 'accounts': 12, 'civil': 12, 'memes': 12, 'voting': 12, 'giving': 12, 'radhika': 12, 'offenders': 12, 'starting': 12, 'empowering': 12, 'seek': 12, 'progress': 12, 'image': 12, 'outside': 12, 'sorry': 12, 'hijab': 12, 'farah': 12, 'convicted': 11, 'reportedly': 11, 'security': 11, 'hey': 11, 'coworking': 11, 'netflix': 11, 'forms': 11, 'below': 11, 'thinks': 11, 'certain': 11, 'small': 11, 'seeks': 11, 'waiting': 11, 'ethics': 11, 'blame': 11, 'jackie': 11, 'explore': 11, 'veteran': 11, 'millions': 11, 'ibelieveher': 11, 'fb': 11, 'green': 11, 'workshop': 11, 'bullying': 11, 'indiametoo': 11, 'newyorker': 11, 'movies': 11, 'crimes': 11, 'faced': 11, 'theatre': 11, 'feminismiscancer': 11, 'executive': 11, 'spot': 11, 'illegal': 11, 'believes': 11, 'wish': 11, 'absolutely': 11, 'bluetsunami2018': 11, 'novemberiscoming': 11, 'tatas': 11, 'offender': 11, 'matters': 11, 'responsible': 11, 'king': 11, 'interest': 11, 'website': 11, 'witness': 11, 'forced': 11, 'icc': 11, 'banerjee': 11, 'steam': 11, 'original': 11, 'speakers': 11, 'madam': 11, 'threatens': 11, 'commitment': 11, 'lead': 11, 'board': 11, 'bs': 11, 'bookwormforlife': 11, 'mind': 11, 'ending': 11, 'punished': 11, 'youtube': 11, 'channi': 11, 'reckoning': 11, 'relationships': 11, 'becoming': 11, 'inspiring': 11, 'ill': 11, 'worked': 11, 'visual': 11, 'canada': 11, 'joined': 11, 'revealed': 11, 'mock': 11, 'scotus': 11, 'secretary': 11, 'behavior': 11, 'paper': 11, 'buy': 11, 'beginning': 11, 'information': 11, 'agree': 11, 'prakashraj': 11, 'partner': 11, 'boss': 11, 'saif': 11, 'joins': 11, 'fraud': 11, 'donald': 11, 'offers': 11, 'felt': 11, 'company': 11, 'paid': 11, 'test': 11, 'tech': 11, 'recorded': 11, 'aware': 11, 'democracy': 11, 'london': 11, 'emraan': 11, 'likely': 11, 'urges': 11, 'places': 11, 'backs': 11, 'building': 11, 'sundaymorning': 11, 'films': 11, 'dating': 11, 'atul': 11, 'mani': 11, 'reported': 11, 'earth': 11, 'afraid': 11, 'mob': 11, 'padma': 11, 'explained': 11, 'o': 11, 'employers': 11, 'official': 11, 'fine': 11, 'game': 11, 'reach': 11, 'according': 11, 'sends': 11, 'ones': 11, 'reply': 11, 'artistes': 11, 'shout': 11, 'ira': 10, 'email': 10, 'emotional': 10, 'setback': 10, 'austrian': 10, 'libel': 10, 'prominent': 10, 'fund': 10, 'violent': 10, 'prison': 10, 'kangana': 10, 'strange': 10, 'seduced': 10, 'puts': 10, 'spotlight': 10, 'sacred': 10, 'games': 10, 'provide': 10, 'rai': 10, 'info': 10, 'forgotten': 10, 'starts': 10, 'spread': 10, 'affected': 10, 'bollywoods': 10, 'compassion': 10, 'probably': 10, 'surprised': 10, 'comment': 10, 'university': 10, 'advocate': 10, 'presenting': 10, 'falls': 10, 'priya': 10, 'result': 10, 'behaviour': 10, 'impeachtrump': 10, 'standards': 10, 'iftda': 10, 'followed': 10, 'subhash': 10, 'played': 10, 'parents': 10, 'lewinsky': 10, 'susan': 10, 'religious': 10, 'effects': 10, 'et': 10, 'stormy': 10, 'exploitation': 10, 'treated': 10, 'scene': 10, 'main': 10, 'seven': 10, 'shaken': 10, 'self': 10, 'senator': 10, 'gains': 10, 'abraham': 10, 'key': 10, 'able': 10, 'attack': 10, 'class': 10, 'kathua': 10, 'ias': 10, 'retail': 10, 'marks': 10, 'misuse': 10, 'deserve': 10, 'nature': 10, 'similar': 10, 'urban': 10, 'okay': 10, 'seminar': 10, 'strongwomen': 10, 'victimhood': 10, 'level': 10, 'began': 10, 'truly': 10, 'known': 10, 'stockholm': 10, 'exit': 10, 'judges': 10, 'billionaire': 10, 'indeed': 10, 'warning': 10, 'turn': 10, 'allowed': 10, 'speakup': 10, 'wrote': 10, 'shroff': 10, 'toll': 10, 'refused': 10, 'celebrating': 10, 'nice': 10, 'sparked': 10, 'express': 10, 'usps': 10, 'returns': 10, 'station': 10, 'ground': 10, 'supremecourt': 10, 'promote': 10, 'questioning': 10, 'fans': 10, 'washington': 10, 'biggboss12': 10, 'tune': 10, 'attorney': 10, 'professional': 10, 'build': 10, 'sarah': 10, 'activists': 10, 'lessons': 10, 'ways': 10, 'breaks': 10, 'hand': 10, 'conduct': 10, 'various': 10, 'grand': 10, 'programme': 10, 'respectful': 10, 'idea': 10, 'amala': 10, 'susi': 10, 'dodges': 10, 'monday': 10, 'data': 10, 'production': 10, 'review': 10, 'created': 10, 'cnn': 10, 'entire': 10, 'tweeting': 10, 'decade': 10, 'posted': 10, 'opening': 10, 'housefull4': 10, 'hashmi': 10, 'sharma': 10, 'selfie': 10, 'perry': 10, 'cogov': 10, 'coleg': 10, 'eyes': 10, 'americans': 10, 'somy': 10, 'raised': 10, 'quit': 10, 'investigate': 10, 'handle': 10, 'theresistance': 10, 'sarkar': 10, 'above': 10, 'christineblaseyfordwestandwithyou': 10, 'viewpoint': 10, 'veterans': 10, 'photos': 10, 'apte': 10, 'bhushan': 10, 'ravi': 10, 'malicious': 10, 'internet': 10, 'screenshot': 10, 'store': 10, 'spade': 10, 'none': 10, 'y': 10, 'nun': 10, 'united': 10, 'hero': 9, 'supported': 9, 'huge': 9, 'parenting': 9, 'weve': 9, 'choice': 9, 'levelled': 9, 'turned': 9, 'karlyletomms': 9, 'trending': 9, 'mens': 9, 'saturday': 9, 'sisters': 9, 'confused': 9, 'freedom': 9, 'consequences': 9, 'involved': 9, 'hariharans': 9, 'midterms2018': 9, 'chat': 9, 'fridayfeeling': 9, 'speaker': 9, 'source': 9, 'fathers': 9, 'follows': 9, 'gaining': 9, 'four': 9, 'frm': 9, 'captain': 9, 'inappropriate': 9, 'recently': 9, 'sports': 9, 'training': 9, 'hasnt': 9, 'guests': 9, 'contact': 9, 'undergoes': 9, 'etc': 9, 'afternoon': 9, 'quiet': 9, 'dead': 9, 'flipitblue': 9, 'trumprussia': 9, 'brown': 9, 'connect': 9, 'tolerance': 9, 'ratantata': 9, 'experts': 9, 'play': 9, 'caste': 9, 'protected': 9, 'promoting': 9, 'performance': 9, 'yesterday': 9, 'mocked': 9, 'horror': 9, 'jatindas': 9, 'sit': 9, 'payal': 9, 'dibakar': 9, 'yrf': 9, 'launched': 9, 'respected': 9, 'cry': 9, 'wing': 9, 'liberals': 9, 'cosby': 9, 'energy': 9, 'difficult': 9, 'responded': 9, 'shweta': 9, 'pandit': 9, 'quits': 9, 'close': 9, 'spokesperson': 9, 'mla': 9, 'loving': 9, 'loved': 9, 'honest': 9, 'followers': 9, 'imagine': 9, 'kher': 9, 'profile': 9, 'pic': 9, 'believeher': 9, 'raw': 9, 'karlyle': 9, 'tomms': 9, 'poetrylover': 9, 'dance': 9, 'heforshe': 9, 'accuse': 9, 'physical': 9, 'hearings': 9, 'florida': 9, 'copy': 9, 'tackles': 9, 'led': 9, 'values': 9, 'crucial': 9, 'pa': 9, 'denied': 9, 'friday': 9, 'moral': 9, 'unfortunate': 9, 'agency': 9, 'chamber': 9, 'audience': 9, 'helping': 9, 'survival': 9, 'dialogue': 9, 'prevent': 9, 'keeps': 9, 'ministers': 9, 'razdan': 9, 'harshikapoonacha': 9, 'popular': 9, 'activism': 9, 'privileged': 9, 'concern': 9, 'candidate': 9, 'labor': 9, 'cbivscbi': 9, 'everyday': 9, 'gandhi': 9, 'karnatakafilmchamber': 9, 'experienced': 9, 'kavanaughs': 9, 'misused': 9, 'married': 9, 'shut': 9, 'paul': 9, 'cost': 9, 'ke': 9, 'bullshit': 9, 'guts': 9, 'problems': 9, 'ruined': 9, 'hyderabad': 9, 'alliance': 9, 'healthcare': 9, 'nicole': 9, 'linksruthihariharan': 9, 'linksandalwood': 9, 'porn': 9, 'diversity': 9, 'defend': 9, 'demanding': 9, 'thrashes': 9, 'gujarat': 9, 'works': 9, 'bold': 9, 'stepped': 9, 'featuring': 9, 'sabarimala': 9, 'chinese': 9, 'sandhya': 9, 'daniels': 9, 'committed': 9, 'encourage': 9, 'underwear': 9, 'alive': 9, 'early': 9, 'yr': 9, 'development': 9, 'science': 9, 'lasith': 9, 'madras': 9, 'medical': 9, 'newyork': 9, 'added': 9, 'ppl': 9, 'nadigarsangam': 9, 'bishop': 9, 'credible': 9, 'run': 9, 'journalism': 9, 'ramani': 9, 'bail': 9, 'mistake': 9, 'clearly': 9, 'trivedi': 8, 'stupid': 8, 'cheap': 8, 'symbiosis': 8, 'knows': 8, 'lucky': 8, 'doubt': 8, 'assam': 8, 'preach': 8, 'otherwise': 8, 'facts': 8, 'phantom': 8, 'disintegration': 8, 'retains': 8, 'plan': 8, 'decide': 8, 'jacqueline': 8, 'trees': 8, 'apology': 8, 'throw': 8, 'messages': 8, 'thursdaythoughts': 8, 'receive': 8, 'kerala': 8, 'economic': 8, 'terminates': 8, 'club': 8, 'air': 8, 'relevant': 8, 'changes': 8, 'sick': 8, 'suspended': 8, 'openly': 8, 'mogul': 8, 'akshaykumar': 8, 'private': 8, 'simply': 8, 'apply': 8, 'risks': 8, 'gain': 8, 'agenda': 8, 'studio': 8, 'battle': 8, 'kidstoo': 8, 'leenamanimekalai': 8, 'prevention': 8, 'total': 8, 'zero': 8, 'trend': 8, 'peace': 8, 'batla': 8, 'fucking': 8, 'finding': 8, 'wasnt': 8, 'concerned': 8, 'timely': 8, 'dignity': 8, 'talib': 8, 'shah': 8, 'crazyexgirlfriend': 8, 'sherri': 8, 'rohatgi': 8, 'wow': 8, 'period': 8, 'behalf': 8, 'outrage': 8, 'positive': 8, 'television': 8, 'perfect': 8, 'retreat': 8, 'conferences': 8, 'stopbullying': 8, 'susiganeshan': 8, 'slams': 8, 'patel': 8, 'firestorm': 8, 'bbc': 8, 'omg': 8, 'harassers': 8, 'excuse': 8, 'quite': 8, 'cabinet': 8, 'kailash': 8, 'musician': 8, 'bullied': 8, 'bachchan': 8, 'candidates': 8, 'modesty': 8, 'winner': 8, 'baseless': 8, 'stood': 8, 'remains': 8, 'nomination': 8, 'understanding': 8, 'context': 8, 'surrounding': 8, 'webelievesurvivors': 8, 'commission': 8, 'rule': 8, 'obvious': 8, 'ellison': 8, 'neck': 8, 'gallery': 8, 'firm': 8, 'tape': 8, 'cultural': 8, 'alleges': 8, 'sues': 8, 'compromise': 8, 'reboot': 8, 'comic': 8, 'comics': 8, 'hashtags': 8, 'allegationsmetoo': 8, 'gathers': 8, 'weighed': 8, 'inward': 8, 'outward': 8, 'accountability': 8, 'credibility': 8, 'invite': 8, 'metoovia': 8, 'download': 8, 'katz': 8, 'prof': 8, 'abusing': 8, 'firecrackers': 8, 'aspiring': 8, 'socialmedia': 8, 'allies': 8, 'parliament': 8, 'host': 8, 'sanjana': 8, 'meaning': 8, 'targeted': 8, 'hypocrites': 8, 'ms': 8, 'crazy': 8, 'denying': 8, 'mine': 8, 'goddess': 8, 'stopkavanaugh': 8, 'granted': 8, 'completely': 8, 'boy': 8, 'imwithher': 8, 'regarding': 8, 'general': 8, 'mp': 8, 'favours': 8, 'approve': 8, 'loan': 8, 'molester': 8, 'exgirlfriend': 8, 'michael': 8, 'aib': 8, 'trendingnews': 8, 'opportunity': 8, 'hitting': 8, 'chandraye': 8, 'soumik': 8, 'kasbekar': 8, 'fuck': 8, 'major': 8, 'tolerated': 8, 'wear': 8, 'iisc': 8, 'rage': 8, 'youthtakeover': 8, 'intended': 8, 'solution': 8, 'walk': 8, 'apologize': 8, 'shop': 8, 'blue': 8, 'weaken': 8, 'position': 8, 'rest': 8, 'filing': 8, 'radharavi': 8, 'ipl': 8, 'carnatic': 8, 'device': 8, 'red': 8, 'type': 8, 'collective': 8, 'mouth': 8, 'europe': 8, 'losangeles': 8, 'sexy': 8, 'boundaries': 8, 'remain': 8, 'bombaywaali': 8, 'amazon': 8, 'election': 8, 'kiss': 8, 'debut': 8, 'survived': 8, 'gang': 8, 'christian': 8, 'resignation': 8, 'herself': 8, 'injunction': 8, 'lose': 8, 'franco': 8, 'boyfriend': 8, 'obama': 8, 'michelle': 8, 'numbers': 8, 'roots': 8, 'f': 8, 'democratic': 8, 'row': 7, 'struggle': 7, 'poster': 7, 'dangerous': 7, 'teaching': 7, 'schools': 7, 'massive': 7, 'families': 7, 'council': 7, 'genuine': 7, 'motivated': 7, 'omar': 7, 'redheaded': 7, 'haunted': 7, 'berated': 7, 'readinglist': 7, 'investigations': 7, 'genderbased': 7, 'vambam': 7, 'slap': 7, 'beat': 7, 'protection': 7, 'depression': 7, 'bhagat': 7, 'anatomy': 7, 'selfawareness': 7, 'socialawareness': 7, 'organisationalawareness': 7, 'mindfulness': 7, 'sustainability': 7, 'mentoring': 7, 'zip': 7, 'thinking': 7, 'dirty': 7, 'stands': 7, 'abusers': 7, 'streets': 7, 'transparent': 7, 'threatening': 7, 'blind': 7, 'items': 7, 'rules': 7, 'complete': 7, 'bigger': 7, 'dollar': 7, 'whr': 7, 'brilliant': 7, 'kalki': 7, 'bed': 7, 'investigative': 7, 'adoption': 7, 'expected': 7, 'ad': 7, 'bangalore': 7, 'touching': 7, 'peoples': 7, 'common': 7, 'intern': 7, 'yeah': 7, 'spoken': 7, 'h': 7, 'offer': 7, 'midtermelections': 7, 'fall': 7, 'healing': 7, 'ignored': 7, 'half': 7, 'indira': 7, 'jnu': 7, 'surveillance': 7, 'living': 7, 'ambaressh': 7, 'surfaced': 7, 'speakupman': 7, 'sacked': 7, 'g': 7, 'possibilities': 7, 'officeby': 7, 'honour': 7, 'posting': 7, 'remind': 7, 'bollywoodtimesup': 7, 'rapeculture': 7, 'abuser': 7, 'practice': 7, 'chose': 7, 'tracker': 7, 'standupnow': 7, 'relocates': 7, 'elected': 7, 'sue': 7, 'teen': 7, 'interested': 7, 'knowing': 7, 'sushant': 7, 'salim': 7, 'regards': 7, 'varsha': 7, 'dhanoa': 7, 'testimony': 7, 'advances': 7, 'composer': 7, 'jury': 7, 'sapna': 7, 'harshika': 7, 'eye': 7, 'deep': 7, 'wordpress': 7, 'marketing': 7, 'replace': 7, 'humor': 7, 'sale': 7, 'wary': 7, 'helps': 7, 'kavanaughconfirmation': 7, 'fernandez': 7, 'cope': 7, 'pleased': 7, 'announce': 7, 'keith': 7, 'race': 7, 'shopfourmi': 7, 'animalprint': 7, 'escape': 7, 'conversations': 7, 'super': 7, 'acclaimed': 7, 'cameras': 7, 'master': 7, 'dc': 7, 'asshole': 7, 'touched': 7, 'pls': 7, 'heads': 7, 'initiative': 7, 'junior': 7, 'reasons': 7, 'shamed': 7, 'id': 7, 'costar': 7, 'lost': 7, 'apart': 7, 'excellent': 7, 'poem': 7, 'planned': 7, 'service': 7, 'fellow': 7, 'sexualabuse': 7, 'triggered': 7, 'perpetrator': 7, 'tries': 7, 'updates': 7, 'ptsd': 7, 'canadian': 7, 'pressure': 7, 'plz': 7, 'request': 7, 'minds': 7, 'price': 7, 'romance': 7, 'sachin': 7, 'fat': 7, 'points': 7, 'proceedings': 7, 'represent': 7, 'fest': 7, 'spirit': 7, 'stayed': 7, 'childlessness': 7, 'bollywoodnews': 7, 'balekempa': 7, 'screening': 7, 'push': 7, 'seconds': 7, 'cornerstorecaroline': 7, 'debates': 7, 'racist': 7, 'ongoing': 7, 'kidman': 7, 'tom': 7, 'cruise': 7, 'treat': 7, 'replied': 7, 'seem': 7, 'considering': 7, 'kavanaughconfirmed': 7, 'humanrights': 7, 'stages': 7, 'surprise': 7, 'prize': 7, 'females': 7, 'hotel': 7, 'modern': 7, 'ashamed': 7, 'gay': 7, 'supremecourtjustice': 7, 'queen': 7, 'allow': 7, 'legs': 7, 'chord': 7, 'levels': 7, 'explain': 7, 'arrived': 7, 'cat': 7, 'artists': 7, 'extremely': 7, 'gift': 7, 'tv9news': 7, 'havent': 7, 'morearjunsarja': 7, 'winter': 7, 'bff': 7, 'ministry': 7, 'publishing': 7, 'responsibility': 7, 'grab': 7, 'parts': 7, 'cinema': 7, 'reveal': 7, 'demands': 7, 'bosslady': 7, 'essence': 7, 'lack': 7, 'military': 7, 'filmmakers': 7, 'poet': 7, 'bio': 7, 'refuses': 7, 'medicaldevice': 7, 'registering': 7, 'lasvegas': 7, 'neworleans': 7, 'shirt': 7, 'users': 7, 'careful': 7, 'alisha': 7, 'chinai': 7, 'pass': 7, 'smile': 7, 'k': 7, 'theyre': 7, 'immediate': 7, 'mo': 7, 'liberty': 7, 'charged': 7, 'handling': 7, 'suffered': 7, 'mentality': 7, 'sarjas': 7, 'employee': 7, 'app': 7, 'appears': 7, 'tribute': 7, 'sruthis': 7, 'communities': 7, 'hindu': 7, 'metoos': 7, 'coverage': 7, 'youfor': 7, 'kudos': 7, 'presidential': 7, 'imagines': 7, 'staff': 7, 'released': 7, 'com': 7, 'plus': 7, 'hundreds': 7, 'millennials': 7, 'baby': 6, 'either': 6, 'sentenced': 6, 'revenge': 6, 'decision': 6, 'totally': 6, 'cm': 6, 'bappi': 6, 'meira': 6, 'perpetrators': 6, 'metooneyearlater': 6, 'hispzla': 6, 'anywhere': 6, 'insurance': 6, 'deepika': 6, 'situations': 6, 'vinoddua': 6, 'benefit': 6, 'spark': 6, 'bunch': 6, 'donaldtrump': 6, 'internationaldayofthegirl': 6, 'pretty': 6, 'unwanted': 6, 'shaming': 6, 'sonam': 6, 'writers': 6, 'program': 6, 'chicago': 6, 'icon': 6, 'quarter': 6, 'teddy': 6, 'sweatshirt': 6, 'photoshoot': 6, 'popupshop': 6, 'ex': 6, 'girlfriend': 6, 'reform': 6, 'honor': 6, 'survive': 6, 'linkmetoo': 6, 'mad': 6, 'worlds': 6, 'assistant': 6, 'closed': 6, 'recognize': 6, 'edu': 6, 'lectr': 6, 'jolly': 6, 'roles': 6, 'retweet': 6, 'attitude': 6, 'collateral': 6, 'worth': 6, 'thriller': 6, 'itbollywood': 6, 'adult': 6, 'pants': 6, 'raising': 6, 'fires': 6, 'onon': 6, 'antillaon': 6, 'kathryn': 6, 'joyceon': 6, 'migrant': 6, 'anirbanblah': 6, 'cofounder': 6, 'africa': 6, 'producers': 6, 'abusive': 6, 'metoomvmt': 6, 'jatin': 6, 'debars': 6, 'horrifying': 6, 'ordeal': 6, 'december': 6, 'covering': 6, 'suspends': 6, 'teacher': 6, 're': 6, 'survivorculture': 6, 'mueller': 6, 'sherrod': 6, 'conservative': 6, 'un': 6, 'husbands': 6, 'consensual': 6, 'cops': 6, 'jaising': 6, 'courts': 6, 'articles': 6, 'die': 6, 'laugh': 6, 'rekindles': 6, 'guide': 6, 'vaw': 6, 'animals': 6, 'sabrimala': 6, 'notme': 6, 'devi': 6, 'panelist': 6, 'responding': 6, 'motivates': 6, 'mathrubhumi': 6, 'record': 6, 'tushita': 6, 'revelations': 6, 'klimat': 6, 'lund': 6, 'delicious': 6, 'swedishfood': 6, 'wednesdaywisdom': 6, 'opinionlive': 6, 'nyheter': 6, 'sense': 6, 'lecture': 6, 'external': 6, 'sulaiman': 6, 'mom': 6, 'challenge': 6, 'persons': 6, 'serve': 6, 'bhavnani': 6, 'saymetooindia': 6, 'liar': 6, 'memories': 6, 'indianidol10': 6, 'classic': 6, 'limited': 6, 'destroy': 6, 'hour': 6, 'sri': 6, 'awarded': 6, 'christineblaseyford': 6, 'underscored': 6, 'inability': 6, 'morethenews': 6, 'patriarchal': 6, 'prashanthsambragi': 6, 'sruthihariharanalligationagainstarjunsarja': 6, 'dm': 6, 'confident': 6, 'harasser': 6, 'opened': 6, 'banishment': 6, 'uc': 6, 'irvine': 6, 'ronaldo': 6, 'broke': 6, 'sruthihariharanarjunsarja': 6, 'apparently': 6, 'supposed': 6, 'defended': 6, 'sanjay': 6, 'humour': 6, 'hurt': 6, 'taxidermy': 6, 'moth': 6, 'gothic': 6, 'oufc': 6, 'drugs': 6, 'enjoy': 6, 'relationship': 6, 'network': 6, 'reminded': 6, 'arbaaz': 6, 'playing': 6, 'actual': 6, 'drford': 6, 'tanya': 6, 'rising': 6, 'milanos': 6, 'anymore': 6, 'donate': 6, 'language': 6, 'served': 6, 'maneka': 6, 'duo': 6, 'ayushmann': 6, 'sparks': 6, 'sack': 6, 'stuff': 6, 'tactic': 6, 'whoever': 6, 'leena': 6, 'kissed': 6, 'generation': 6, 'ere': 6, 'gowda': 6, 'elizabeth': 6, 'organisations': 6, 'pathetic': 6, 'socialist': 6, 'lynching': 6, 'spurs': 6, 'fiery': 6, 'sides': 6, 'reputation': 6, 'nepal': 6, 'de': 6, 'addressing': 6, 'indians': 6, 'hiring': 6, 'votethemout': 6, 'immigration': 6, 'jail': 6, 'advertising': 6, 'park': 6, 'tough': 6, 'obviously': 6, 'reached': 6, 'advantage': 6, 'ben': 6, 'karnatakas': 6, 'mondaymorning': 6, 'elastic': 6, 'ankle': 6, 'boots': 6, 'fallfashion': 6, 'innovation': 6, 'sundaymotivation': 6, 'proved': 6, 'blrlitfest': 6, 'destroyed': 6, 'cartoons': 6, 'discussing': 6, 'favorite': 6, 'foxnews': 6, 'industries': 6, 'culprits': 6, 'youve': 6, 'candid': 6, 'lyricist': 6, 'glad': 6, 'directed': 6, 'owner': 6, 'philip': 6, 'study': 6, 'ran': 6, 'tackling': 6, 'mayor': 6, 'effort': 6, 'definitely': 6, 'unveils': 6, 'bhopal': 6, 'harass': 6, 'withmetoo': 6, 'theview': 6, 'sacking': 6, 'suffering': 6, 'hungry': 6, 'somebody': 6, 'professionals': 6, 'lens': 6, 'threatened': 6, 'digital': 6, 'dress': 6, 'alokverma': 6, 'england': 6, 'pushkar': 6, 'toward': 6, 'abuseofpower': 6, 'accusation': 6, 'literary': 6, 'daughters': 6, 'believing': 6, 'sexualpolitics': 6, 'arrested': 6, 'camel': 6, 'blanket': 6, 'scarf': 6, 'bigcat': 6, 'moda': 6, 'nobody': 6, 'reporters': 6, 'town': 6, 'painting': 6, 'smartgirlceo': 6, 'pyeagency': 6, 'ladyboss': 6, 'girlboss': 6, 'blackgirlsrock': 6, 'blackgirlmagic': 6, 'west': 6, 'worldwide': 6, 'issued': 6, 'midterm': 6, 'brings': 6, 'fan': 6, 'thrilled': 6, 'edition': 6, 'amidst': 6, 'screenshots': 6, 'birthday': 6, 'pink': 6, 'himmetoo': 6, 'mary': 6, 'examine': 6, 'dig': 6, 'ignorance': 6, 'muslim': 6, 'exchange': 6, 'inc': 6, 'react': 6, 'architecture': 6, 'mocking': 6, 'believeallwomen': 6, 'trial': 6, 'defends': 6, 'managers': 6, 'kanye': 6, 'couples': 6, 'throwing': 6, 'recognition': 6, 'offered': 6, 'federal': 6, 'everybody': 6, 'jayakumar': 6, 'tips': 6, 'fault': 6, 'faith': 6, 'communicate': 6, 'belief': 6, 'thoroughly': 6, 'sambargi': 6, 'quotes': 6, 'absolute': 6, 'ravisrivatsa': 6, 'forces': 6, 'resources': 6, 'announces': 6, 'kid': 6, 'watershed': 6, 'pictures': 6, 'variety': 6, 'display': 6, 'spared': 6, 'consider': 6, 'karma': 6, 'nandita': 6, 'begins': 6, 'declared': 6, 'hypocrite': 6, 'performing': 6, 'faculty': 6, 'hide': 6, 'worse': 6, 'growth': 6, 'managing': 6, 'authorities': 6, 'holding': 6, 'solutions': 6, 'uses': 6, 'willing': 6, 'x': 6, 'literally': 6, 'fantastic': 6, 'providing': 6, 'worldfoodday': 6, 'nasty': 6, 'clarify': 6, 'explaining': 6, 'mention': 6, 'cc': 6, 'forcing': 6, 'steve': 6, 'attacking': 6, 'anjanettespeak': 6, 'beheard': 6, 'anjanettespeak66': 6, 'amie': 6, 'tsang': 6, 'empoweringwomen': 6, 'networking': 6, 'shameless': 6, 'entitled': 5, 'sohaila': 5, 'institute': 5, 'individuals': 5, 'receiving': 5, 'donation': 5, 'background': 5, 'cares': 5, 'politically': 5, 'lahiri': 5, 'murphybrown': 5, 'prosecutors': 5, 'fails': 5, 'earlier': 5, 'clarifies': 5, 'fights': 5, 'outed': 5, 'max': 5, 'vishal': 5, 'overdue': 5, 'mirror': 5, 'participated': 5, 'abt': 5, 'encouraged': 5, 'watched': 5, 'correct': 5, 'darkest': 5, 'nomore': 5, 'comedian': 5, 'bhat': 5, 'ahmedabad': 5, 'btw': 5, 'bhatt': 5, 'invited': 5, 'considered': 5, 'amma': 5, 'quick': 5, 'march': 5, 'sound': 5, 'roy': 5, 'organizations': 5, 'angela': 5, 'webelievechristine': 5, 'ronnie': 5, 'screwvala': 5, 'keynote': 5, 'priyaramani': 5, 'teamabrams': 5, 'civilrights': 5, 'meme': 5, 'predatory': 5, 'lockhimup': 5, 'dvam': 5, 'aug': 5, 'ic': 5, 'llb': 5, 'shameful': 5, 'pivotal': 5, 'orders': 5, 'notokay': 5, 'anonymously': 5, 'painter': 5, 'legacy': 5, 'sleep': 5, 'lots': 5, 'elsewhere': 5, 'negative': 5, 'importance': 5, 'guild': 5, 'offices': 5, 'shooting': 5, 'achieved': 5, 'odisha': 5, 'diff': 5, 'cool': 5, 'fail': 5, 'regional': 5, 'gloves': 5, 'lefties': 5, 'whenweallvote': 5, 'midtermsmatter': 5, 'votebluemidterms2018': 5, 'naths': 5, 'grow': 5, 'maybe': 5, 'partisan': 5, 'vulnerable': 5, 'doors': 5, 'bajaj': 5, 'gap': 5, 'reportage': 5, 'naming': 5, 'fresh': 5, 'metoocontroversyarjunsarja': 5, 'rich': 5, 'fakenews': 5, 'knew': 5, 'beware': 5, 'straight': 5, 'latestbollywood': 5, 'mothernature': 5, 'local': 5, 'compares': 5, 'terrorists': 5, 'hussain': 5, 'kashmir': 5, 'brand': 5, 'touches': 5, 'womenwholead': 5, 'eventnews': 5, 'metooconversations': 5, 'yvonne': 5, 'ridley': 5, 'trampled': 5, 'injustice': 5, 'aggressive': 5, 'however': 5, 'mainstream': 5, 'barbie': 5, 'worldmentalhealthday2018': 5, 'exploited': 5, 'beach': 5, 'mentioned': 5, 'kept': 5, 'clue': 5, 'topshop': 5, 'logic': 5, 'associated': 5, 'arts': 5, 'recovery': 5, 'associate': 5, 'weapon': 5, 'falseallegations': 5, 'technology': 5, 'cheat': 5, 'irony': 5, 'rao': 5, 'impeach': 5, 'salmankhan': 5, 'ashish': 5, 'bravely': 5, 'accept': 5, 'newest': 5, 'six': 5, 'sessions': 5, 'emotions': 5, 'stigma': 5, 'hurricanemichael': 5, 'anuradhasays': 5, 'affects': 5, 'glass': 5, 'mask': 5, 'lovebetter': 5, 'kicked': 5, 'attend': 5, 'honored': 5, 'door': 5, 'county': 5, 'cristiano': 5, 'carrier': 5, 'dvrs': 5, 'sub': 5, 'dvr': 5, 'chewed': 5, 'institutional': 5, 'nair': 5, 'protester': 5, 'shall': 5, 'nyc': 5, 'rahuljohri': 5, 'domesticabuse': 5, 'cell': 5, 'arrives': 5, 'mum': 5, 'comicstrip': 5, 'webcomics': 5, 'webcomicseries': 5, 'comicart': 5, 'comicartist': 5, 'forto': 5, 'commerce': 5, 'previous': 5, 'asylum': 5, 'tampa': 5, 'aur': 5, 'banned': 5, 'reporter': 5, 'closure': 5, 'phone': 5, 'viswasamthiruvizha': 5, 'bts': 5, 'pcas': 5, 'got7': 5, 'booked': 5, 'significant': 5, 'tamilnadu': 5, 'atlanta': 5, 'lucas': 5, 'wondering': 5, 'types': 5, 'joel': 5, 'graham': 5, 'alcohol': 5, 'opportunities': 5, 'topics': 5, 'bodies': 5, 'gun': 5, 'missionsahasi': 5, 'strip': 5, 'pushing': 5, 'turns': 5, 'makeup': 5, 'newsmetooindia': 5, 'promoted': 5, 'deserves': 5, 'supporter': 5, 'employment': 5, 'conducting': 5, 'register': 5, 'happybirthdayprabhas': 5, 'horrible': 5, 'jigar': 5, 'blaming': 5, 'proponents': 5, 'ideas': 5, 'mipcom': 5, 'deception': 5, 'manimekalai': 5, 'ganesan': 5, 'subjected': 5, 'eve': 5, 'site': 5, 'murphy': 5, 'mark': 5, 'reaches': 5, 'proves': 5, 'breakthesilence': 5, 'replacement': 5, 'japan': 5, 'reduced': 5, 'lying': 5, 'employer': 5, 'counting': 5, 'vengeance': 5, 'scorned': 5, 'eat': 5, 'grace': 5, 'innocence': 5, 'oshiwara': 5, 'stopped': 5, 'restaurant': 5, 'missing': 5, 'voteredtosaveamerica': 5, 'unions': 5, 'kavanaughhearings': 5, 'durga': 5, 'thousands': 5, 'cubbon': 5, 'version': 5, 'terms': 5, 'market': 5, 'rajesh': 5, 'paying': 5, 'defamationcase': 5, 'stunt': 5, 'dozens': 5, 'campus': 5, 'davanagere': 5, 'weasel': 5, 'final': 5, 'nobel': 5, 'denial': 5, 'fearless': 5, 'puran': 5, 'chauhan': 5, 'reyna': 5, 'vashishtha': 5, 'guru': 5, 'supremecourtjusticebrettkavanaugh': 5, 'satire': 5, 'packed': 5, 'dynamics': 5, 'burning': 5, 'noted': 5, 'specifically': 5, 'rsvp': 5, 'huh': 5, 'heidi': 5, 'latestnews': 5, 'newstracker': 5, 'count': 5, 'defense': 5, 'animojis': 5, 'tag': 5, 'registered': 5, 'tn': 5, 'selfcare': 5, 'mridul': 5, 'adults': 5, 'concerns': 5, 'personally': 5, 'stahl': 5, 'landscape': 5, 'sacks': 5, 'hotels': 5, 'thithi': 5, 'eregowda': 5, 'protecting': 5, 'silencing': 5, 'kissing': 5, 'native': 5, 'dressed': 5, 'indvswi': 5, 'republicans': 5, 'headlines': 5, 'whoopi': 5, 'goldberg': 5, 'recipient': 5, 'style': 5, 'shopmycloset': 5, 'fits': 5, 'chant': 5, 'believeallwomentimesup': 5, 'investigated': 5, 'exercised': 5, 'circle': 5, 'apologise': 5, 'lust': 5, 'establish': 5, 'offensive': 5, 'tools': 5, 'dates': 5, 'tshirt': 5, 'sky': 5, 'hillaryclinton': 5, 'content': 5, 'exactly': 5, 'womensupportingwomen': 5, 'enjoying': 5, 'kate': 5, 'starring': 5, 'ego': 5, 'yours': 5, 'whatever': 5, 'uncle': 5, 'hindutvaangle': 5, 'five': 5, 'abuses': 5, 'cut': 5, 'currently': 5, 'challenging': 5, 'chinmayisripaada': 5, 'crisis': 5, 'murders': 5, 'conviction': 5, 'advance': 5, 'cr': 5, 'thankful': 5, 'aurora': 5, 'rephas': 5, 'wronged': 5, 'resigncopolitics': 5, 'se': 5, 'mostly': 5, 'warren': 5, 'essay': 5, 'watchbjp': 5, 'tajinder': 5, 'bagga': 5, 'supportdont': 5, 'trendynews': 5, 'beating': 5, 'sextoys': 5, 'wildnoutmiami': 5, 'constitutes': 5, 'broken': 5, 'tiss': 5, 'brother': 5, 'creeps': 5, 'womenpower': 5, 'statements': 5, 'hello': 5, 'silently': 5, 'rani': 5, 'blocked': 5, 'tamil': 5, 'cognizant': 5, 'refuse': 5, 'kill': 5, 'value': 5, 'status': 5, 'kohli': 5, 'worldmentalhealthday': 5, 'water': 5, 'evil': 5, 'cleaner': 5, 'pti': 5, 'femori': 5, 'wednesday': 5, 'agencies': 5, 'atand': 5, 'fakefeminism': 5, 'blamed': 5, 'commit': 5, 'insightful': 5, 'flirting': 5, 'edit': 5, 'resource': 5, 'martha': 5, 'tool': 5, 'threat': 5, 'srivatsa': 5, 'purpose': 5, 'gargi': 5, 'fbi': 5, 'lights': 5, 'shareholder': 5, 'loads': 5, 'subscriber': 5, 'presence': 5, 'tavleen': 5, 'barkha': 5, 'redwave': 5, 'scenario': 5, 'daddy': 5, 'chitrangada': 5, 'sexist': 5, 'responsibly': 5, 'clintons': 5, 'affairs': 5, 'thiagarajan': 5, 'muslims': 5, 'suggested': 5, 'msnbc': 5, 'reference': 5, 'vital': 5, 'blockbuster': 5, 'solving': 5, 'mashagessen': 5, 'ten': 5, 'mass': 5, 'misbehave': 5, 'lesbian': 5, 'laura': 5, 'helena': 5, 'silenced': 5, 'scottish': 5, 'nearly': 5, 'excited': 5, 'tellson': 5, 'dnc': 5, 'hindus': 5, 'brothers': 5, 'warrior': 5, 'punishment': 5, 'extraordinary': 5, 'morningjoefbr': 5, 'eeoc': 5, 'meghan': 5, 'removing': 5, 'uber': 5, 'helpful': 5, 'metoodebate': 5, 'path': 5, 'characters': 5, 'argument': 5, 'manage': 5, 'includes': 5, 'vijay': 5, 'prashant': 5, 'guidance': 5, 'womensafety': 5, 'raja': 5, 'onwards': 5, 'marched': 5, 'heroes': 4, 'shetoo': 4, 'srilanka': 4, 'complicit': 4, 'arrogant': 4, 'responses': 4, 'random': 4, 'safercities': 4, 'scheme': 4, 'empoweredwomen': 4, 'nc': 4, 'ignorant': 4, 'enablers': 4, 'himmetooindia': 4, 'channels': 4, 'independent': 4, 'sport': 4, 'monster': 4, 'padukone': 4, 'proactive': 4, 'benefits': 4, 'krishna': 4, 'varun': 4, 'lashes': 4, 'met': 4, 'atleast': 4, 'inspirational': 4, 'domesticviolenceawareness': 4, 'sangeetha': 4, 'nowadays': 4, 'decaying': 4, 'warriors': 4, 'blatant': 4, 'brettkavanuagh': 4, 'evening': 4, 'walked': 4, 'tipped': 4, 'greater': 4, 'bully': 4, 'rachel': 4, 'feelings': 4, 'appreciate': 4, 'thanksfor': 4, 'gapol': 4, 'workingfamilies': 4, 'gafilm': 4, 'trumpsamerikka': 4, 'text': 4, 'praised': 4, 'vote4dan': 4, 'ofencourages': 4, 'sadly': 4, 'startups': 4, 'koechlin': 4, 'timetoact': 4, 'dearprofessorford': 4, 'ibelievewomen': 4, 'ihave': 4, 'whywomendontreport': 4, 'right2consent': 4, 'ihearyou': 4, 'rapecultureiswhen': 4, 'testimonies': 4, 'upcoming': 4, 'ads': 4, 'loss': 4, 'pull': 4, 'population': 4, 'sunrun': 4, 'silicon': 4, 'valley': 4, 'talented': 4, 'youmetoo': 4, 'recounts': 4, 'abc': 4, 'died': 4, 'herald': 4, 'poverty': 4, 'explosion': 4, 'bastards': 4, 'earn': 4, 'records': 4, 'pissed': 4, 'eastenders': 4, 'wtf': 4, 'mallika': 4, 'disgusted': 4, 'dare': 4, 'bravery': 4, 'phoenix': 4, 'jesus': 4, 'rescue': 4, 'womenleaders': 4, 'acknowledge': 4, 'celebrity': 4, 'withdraws': 4, 'amit': 4, 'strongest': 4, 'attacked': 4, 'kickstarter': 4, 'nbc': 4, 'cast': 4, 'mjakbarmustgo': 4, 'sweetu': 4, 'map': 4, 'valued': 4, 'australia': 4, 'land': 4, 'ignore': 4, 'msu': 4, 'slasher': 4, 'furiously': 4, 'literal': 4, 'realise': 4, 'harnessing': 4, 'releases': 4, 'thiruttupayale2': 4, 'exposes': 4, 'metoomadamdear': 4, 'produced': 4, 'attacker': 4, 'contest': 4, 'sacredgames': 4, 'humanity': 4, 'believesurviviors': 4, 'jr': 4, 'maestro': 4, 'presentation': 4, 'unfortunately': 4, 'messed': 4, 'heat': 4, 'table': 4, 'atmetoo': 4, 'aftermetoo': 4, 'forum': 4, 'oktosay': 4, 'poonacha': 4, 'pune': 4, 'football': 4, 'biased': 4, 'punish': 4, 'complainant': 4, 'default': 4, 'rejects': 4, 'design': 4, 'pixel3': 4, 'screen': 4, 'whoopigoldberg': 4, 'fridaymotivation': 4, 'prevail': 4, 'creator': 4, 'command': 4, 'billcosby': 4, 'tweeted': 4, 'amarinder': 4, 'chinas': 4, 'maria': 4, 'repnikova': 4, 'weile': 4, 'zhou': 4, 'kailashkher': 4, 'mukesh': 4, 'spreads': 4, 'funding': 4, 'third': 4, 'lewd': 4, 'breakfast': 4, 'legend': 4, 'appeal': 4, 'suo': 4, 'motu': 4, 'offcentre': 4, 'allahabad': 4, 'highlights': 4, 'celebrate': 4, 'dubois': 4, 'monsters': 4, 'lurk': 4, 'entry': 4, 'shishir': 4, 'mentioning': 4, 'construction': 4, 'byand': 4, 'celebrated': 4, 'ghomeshieffect': 4, 'nuns': 4, 'annual': 4, 'promise': 4, 'maya': 4, 'recalls': 4, 'horseface': 4, 'middle': 4, 'hed': 4, 'abolition': 4, 'dutt': 4, 'doctor': 4, 'toon': 4, 'dad': 4, 'easwar': 4, 'stocks': 4, 'manner': 4, 'carried': 4, 'na': 4, 'models': 4, 'dvam2018': 4, 'loses': 4, 'mantra': 4, 'crumble': 4, 'previously': 4, 'themondayblogsmetoo': 4, 'magic': 4, 'premiere': 4, 'twogirls': 4, 'metooaccused': 4, 'indiecomics': 4, 'launches': 4, 'brittanymurphy': 4, 'cbi': 4, 'leftist': 4, 'printing': 4, 'maa': 4, 'jokes': 4, 'varungrover': 4, 'tuesday': 4, 'closely': 4, 'ties': 4, 'pity': 4, 'metooliars': 4, 'osteen': 4, 'counter': 4, 'subject': 4, 'drink': 4, 'extends': 4, 'android': 4, 'pooja': 4, 'gratitude': 4, 'manekagandhi': 4, 'challenges': 4, 'grows': 4, 'crap': 4, 'ki': 4, 'nycshrm': 4, 'legislative': 4, 'tix': 4, 'ahuja': 4, 'vikasbahl': 4, 'tuesdaymotivation': 4, 'misogynistic': 4, 'disgrace': 4, 'traitor': 4, 'tv9': 4, 'metoocampaign': 4, 'highlight': 4, 'willful': 4, 'misunderstanding': 4, 'qldpol': 4, 'stock': 4, 'criticize': 4, 'lawsuit': 4, 'tellsthat': 4, 'farahkhan': 4, 'thedovecotecommunity': 4, 'rock': 4, 'metoogender': 4, 'weekend': 4, 'helpline': 4, 'timeline': 4, 'heros': 4, 'pride': 4, 'charity': 4, 'trade': 4, 'preferred': 4, 'menmetoo': 4, 'category': 4, 'non': 4, 'saith': 4, 'vegetables': 4, 'itvideo': 4, 'accepted': 4, 'writesmetoo': 4, 'backfire': 4, 'onto': 4, 'nevadans': 4, 'jacky': 4, 'rosen': 4, 'segregation': 4, 'divya': 4, 'alencier': 4, 'victory': 4, 'signed': 4, 'attached': 4, 'culprit': 4, 'nicolekidman': 4, 'rajasthan': 4, 'shielding': 4, 'pro': 4, 'microsoft': 4, 'flow': 4, 'dems': 4, 'ring': 4, 'vdeshi': 4, 'stance': 4, 'inclusive': 4, 'identity': 4, 'skirt': 4, 'limitations': 4, 'easily': 4, 'yall': 4, 'msm': 4, 'womans': 4, 'hang': 4, 'antifa': 4, 'cintaa': 4, 'catholic': 4, 'sitting': 4, 'sake': 4, 'icymi': 4, 'sleaze': 4, 'politicalities': 4, 'co06': 4, 'department': 4, 'themetoo': 4, 'deny': 4, 'hotline': 4, 'misbehaviour': 4, 'anthology': 4, 'grandfather': 4, 'jacob': 4, 'varghese': 4, 'raging': 4, 'anita': 4, 'parking': 4, 'kick': 4, 'sheila': 4, 'hooda': 4, 'heitkamp': 4, 'shruthi': 4, 'counseling': 4, 'linkmetooallegation': 4, 'ambarishreaction': 4, 'shruthihariharanmetoo': 4, 'counselingatkfcc': 4, 'turnout': 4, 'impeach45': 4, 'merely': 4, 'hookedfeaturing': 4, 'enoughisenough': 4, 'upon': 4, 'gaslight': 4, 'unless': 4, 'wechat': 4, 'weibo': 4, 'depict': 4, 'virtually': 4, 'omnipresent': 4, 'governor': 4, 'remembered': 4, 'riseup': 4, 'nonsense': 4, 'milordsseditionisnotdissent': 4, 'atalbiharivajpayee': 4, 'ataljiamarrahen': 4, 'smritisthal': 4, 'amdavadrain': 4, 'parsinewyear': 4, 'mohanbhagwat': 4, 'muzaffarpurshelterhome': 4, 'keralasos': 4, 'expressfrontpage': 4, 'jabalpur': 4, 'endviolence': 4, 'affair': 4, 'votebluenomatterwho': 4, 'approach': 4, 'forever': 4, 'bottom': 4, 'atthe': 4, 'alia': 4, 'filia': 4, 'moon': 4, 'actorslife': 4, 'suffer': 4, 'opponent': 4, 'holder': 4, 'suggests': 4, 'amjoy': 4, 'busy': 4, 'lovely': 4, 'code': 4, 'fought': 4, 'menscommission': 4, 'metoovsakbar': 4, 'hi': 4, 'molestor': 4, 'silpanchal': 4, 'duty': 4, 'rallies': 4, 'indvwi': 4, 'equalityforall': 4, 'metoobollywood': 4, 'pervert': 4, 'onposhmark': 4, 'journey': 4, 'professors': 4, 'insights': 4, 'legally': 4, 'liars': 4, 'ofand': 4, 'introduce': 4, 'patients': 4, 'ncw': 4, 'direct': 4, 'chatting': 4, 'taranaburke': 4, 'groping': 4, 'favourite': 4, 'bt': 4, 'gb': 4, 'booth': 4, 'lifes': 4, 'rotdecided': 4, 'exceeded': 4, 'empowered': 4, 'creepy': 4, 'involving': 4, 'moderate': 4, 'cities': 4, 'tanvishukla': 4, 'nov': 4, 'doctorwho': 4, 'aid': 4, 'feet': 4, 'kisses': 4, 'nishabora': 4, 'vantur': 4, 'elements': 4, 'nor': 4, 'killing': 4, 'citizens': 4, 'modis': 4, 'ghai': 4, 'chiefwill': 4, 'poonam': 4, 'pandey': 4, 'comfortable': 4, 'unfair': 4, 'tired': 4, 'indies': 4, 'areas': 4, 'pappu': 4, 'femalemusician': 4, 'panelists': 4, 'lankan': 4, 'briefing': 4, 'insult': 4, 'sector': 4, 'sexualaddiction': 4, 'jaguar': 4, 'wto': 4, 'founded': 4, 'toand': 4, 'sexualmisconduct': 4, 'expert': 4, 'invites': 4, 'yuvavirodhicongress': 4, 'voters': 4, 'approval': 4, 'cyber': 4, 'conducted': 4, 'dealing': 4, 'aap': 4, 'retaliation': 4, 'fast': 4, 'traction': 4, 'systemic': 4, 'dumptrump': 4, 'kokokorina': 4, 'lunch': 4, 'likes': 4, 'untrue': 4, 'wellness': 4, 'owned': 4, 'although': 4, 'causes': 4, 'donating': 4, 'champions': 4, 'wh': 4, 'educate': 4, 'chapter': 4, 'vile': 4, 'mannkibaat': 4, 'navratri': 4, 'palestine': 4, 'leads': 4, 'thursdaymotivation': 4, 'wearing': 4, 'shethepeople': 4, 'businesses': 4, 'misusing': 4, 'violation': 4, 'voicesrising': 4, 'dna': 4, 'basis': 4, 'enable': 4, 'woke': 4, 'rss': 4, 'exists': 4, 'awomansplace': 4, 'peter': 4, 'consumes': 4, 'thelastword': 4, 'carefully': 4, 'insight': 4, 'inclusion': 4, 'meant': 4, 'schwendener': 4, 'extortion': 4, 'foreign': 4, 'ranaut': 4, 'historic': 4, 'advertisement': 4, 'confront': 4, 'blood': 4, 'split': 4, 'ji': 4, 'influence': 4, 'leaving': 4, 'britain': 4, 'prompts': 4, 'privacy': 4, 'arkansas': 4, 'logical': 4, 'hes': 4, 'headed': 4, 'malayalam': 4, 'urdu': 4, 'tonedeaf': 4, 'african': 4, 'opinions': 4, 'unlawful': 4, 'maam': 4, 'sabarimalaprotests': 4, 'uncomfortable': 4, 'honestly': 4, 'shakti': 4, 'ruin': 4, 'oneyear': 4, 'heal': 4, 'votered': 4, 'alishachinai': 4, 'hospital': 4, 'choose': 4, 'hating': 4, 'counsel': 4, 'nehru': 4, 'polls': 4, 'cnnsotu': 4, 'murder': 4, 'mood': 4, 'fundamental': 4, 'newindia': 4, 'achieve': 4, 'johnricecameron': 4, 'roundup': 4, 'color': 4, 'narendra': 4, 'lessfamous': 4, 'render': 4, 'unelectable': 4, 'algebra': 4, 'resolving': 4, 'odi': 4, 'acceptance': 4, 'guidelines': 4, 'panic': 4, 'usual': 4, 'baldwin': 4, 'questioned': 4, 'deceives': 4, 'pe': 4, 'shift': 4, 'citing': 4, 'historical': 4, 'jk': 4, 'gatekeepers': 4, 'tears': 4, 'voiced': 4, 'standup': 4, 'siddiqui': 4, 'unity': 4, 'upa': 4, 'struggles': 4, 'sane': 4, 'discourse': 4, 'photography': 4, 'pocahontas': 4, 'largest': 4, 'firms': 4, 'dirt': 4, 'lines': 4, 'wanting': 4, 'sassy': 4, 'sinclair': 4, 'increase': 4, 'learned': 4, 'monthly': 4, 'solves': 4, 'increased': 4, 'vintananda': 4, 'eludes': 4, 'tales': 4, 'provided': 4, 'access': 4, 'phd': 4, 'putting': 4, 'english': 4, 'statue': 4, 'repeated': 4, 'existing': 4, 'fop2018': 4, 'walks': 4, 'sarma': 4, 'colleague': 4, 'hindi': 4, 'patil': 4, 'pennsylvania': 4, 'beliefs': 4, 'gov': 4, 'stated': 4, 'majority': 4, 'cross': 4, 'lodge': 4, 'ellen': 4, 'barry': 4, 'khans': 4, 'usually': 4, 'empowermentensemble': 4, 'keepshowingup': 4, 'shareyourstory': 4, 'empowermentinthewild': 4, 'title': 4, 'engage': 4, 'shatrughan': 4, 'sinha': 4, 'christmas': 4, 'button': 4, 'wethewomen': 4, 'perhaps': 4, 'charanjit': 4, 'redirected': 4, 'pound': 4, 'alumna': 4, 'colette': 4, 'rush': 4, 'taapsee': 4, 'pannu': 4, 'cleaning': 4, 'imammehdi': 4, 'cong': 4, 'card': 4, 'upset': 4, 'attitudes': 4, 'colour': 4, 'bashing': 4, 'ourselves': 4, 'figure': 4, 'asian': 4, 'dey': 4, 'enter': 4, 'reconciliation': 4, 'bloody': 4, 'streetwear': 4, 'cyrus': 4, 'electronica': 4, 'arnold': 4, 'schwarzenegger': 4, 'releasing': 3, 'exist': 3, 'survivorauthor': 3, 'jeff': 3, 'youand': 3, 'counselling': 3, 'personalities': 3, 'except': 3, 'couple': 3, 'convict': 3, 'spotted': 3, 'super30': 3, 'hrithik': 3, 'shouldve': 3, 'awardwinningauthor': 3, 'stats': 3, 'govegan': 3, 'superstar': 3, 'radicalgenerosity': 3, 'beautifully': 3, 'ep': 3, 'retirement': 3, 'notashamed': 3, 'rightsmen': 3, 'genderinitiatiative': 3, 'ousted': 3, 'dhfl': 3, 'morons': 3, 'drama': 3, 'grover': 3, 'canyouhearthesilence': 3, 'metoospeakingtrees': 3, 'proper': 3, 'waste': 3, 'achievers': 3, 'pest': 3, 'stormydaniels': 3, 'admire': 3, 'jackieshroff': 3, 'sums': 3, 'mahesh': 3, 'iowa': 3, 'band': 3, 'broaddrick': 3, 'strides': 3, 'bassett': 3, 'captivates': 3, 'antiaging': 3, 'allure': 3, 'mockery': 3, 'aline': 3, 'brosh': 3, 'mckenna': 3, 'hypocritical': 3, 'highest': 3, 'natural': 3, 'disguise': 3, 'galabor': 3, 'johnnydepp': 3, 'amberheardadmitted': 3, 'impeachkavanaugh': 3, 'backed': 3, 'sponsored': 3, 'candidatenov': 3, 'area': 3, 'likeand': 3, 'locked': 3, 'oldest': 3, 'checking': 3, 'da': 3, 'bills': 3, 'caution': 3, 'stopmerger': 3, 'coverup': 3, 'hair': 3, 'golden': 3, 'visualizes': 3, 'soft': 3, 'vawg': 3, 'mushtaq': 3, 'al': 3, 'harrowing': 3, 'moves': 3, 'grabbing': 3, 'tax': 3, 'progressive': 3, 'morality': 3, 'pure': 3, 'deccan': 3, 'mode': 3, 'populationcontrollaw': 3, 'unemployment': 3, 'iamwithmodi': 3, 'dalip': 3, 'tahil': 3, 'rafale': 3, 'headline': 3, 'ruby': 3, 'tip': 3, 'core': 3, 'ancient': 3, 'fish': 3, 'projectsnowball': 3, 'personcentredliving': 3, 'survivormap': 3, 'teenmaptoo': 3, 'nomaptoo': 3, 'surely': 3, 'mee': 3, 'gentlemen': 3, 'extended': 3, 'moremeetooindia': 3, 'cbd': 3, 'measures': 3, 'diabolical': 3, 'kanyewest': 3, 'severe': 3, 'jiomamiwithstar2018': 3, 'friendship': 3, 'boycottsexualpredators': 3, 'particular': 3, 'dying': 3, 'adultery': 3, 'bizarre': 3, 'irrespective': 3, 'intent': 3, 'symposium': 3, 'kabir': 3, 'beaten': 3, 'hanging': 3, 'dozen': 3, 'forgiven': 3, 'tapes': 3, 'rejection': 3, 'phenomenon': 3, 'suffrage': 3, 'unique': 3, 'reflecting': 3, 'consisting': 3, 'chetanbhagat': 3, 'rethink': 3, 'evans': 3, 'starvingindia': 3, 'rainn': 3, 'supportsurvivors': 3, 'viametoo': 3, 'pledgemetoo': 3, 'ani': 3, 'slam': 3, 'entering': 3, 'pretence': 3, 'frommetoo': 3, 'ordeals': 3, 'increasingly': 3, 'storymetoo': 3, 'ticket': 3, 'specific': 3, 'standupforhumanrights': 3, 'determination': 3, 'timesnow': 3, 'deplorable': 3, 'bigwigs': 3, 'polpette': 3, 'unnao': 3, 'visiting': 3, 'mos': 3, 'greatest': 3, 'don': 3, 'percent': 3, 'highly': 3, 'inr': 3, 'wedding': 3, 'appreciated': 3, 'hidden': 3, 'kicks': 3, 'reactions': 3, 'rip': 3, 'brit': 3, 'defensive': 3, 'mississippi': 3, 'racoon': 3, 'metro': 3, 'holds': 3, 'karachi': 3, 'sat': 3, 'ottawa': 3, 'alyssamilano': 3, 'metooinsandalwood': 3, 'critical': 3, 'careers': 3, 'sales': 3, 'truths': 3, 'psychoanalysis': 3, 'themes': 3, 'favor': 3, 'martin': 3, 'gaze': 3, 'gaurd': 3, 'embarassment': 3, 'sentinel': 3, 'twice': 3, 'warns': 3, 'sushantsinghrajput': 3, 'tanushreedatta': 3, 'confirms': 3, 'kritika': 3, 'nandas': 3, 'cinemashowbiz': 3, 'nitin': 3, 'crores': 3, 'buyers': 3, 'shoes': 3, 'drchristineblaseyford': 3, 'tootsie': 3, 'charming': 3, 'amin': 3, 'dissolved': 3, 'trumpwatch': 3, 'mcconnell': 3, 'fayedsouza': 3, 'despicable': 3, 'linkkfccrucialmeeting': 3, 'begin': 3, 'barriers': 3, 'sources': 3, 'pet': 3, 'cats': 3, 'incredible': 3, 'donated': 3, 'metoopakistan': 3, 'hattangdi': 3, 'urgently': 3, 'ibelievechristineblaseyford': 3, 'erotica': 3, 'documentary': 3, 'exciting': 3, 'engagement': 3, 'segment': 3, 'organised': 3, 'fancy': 3, 'farrow': 3, 'western': 3, 'scream': 3, 'karvachauth': 3, 'karwachauth': 3, 'angelou': 3, 'milwaukee': 3, 'wisconsin': 3, 'marginalized': 3, 'illustration': 3, 'genderequity': 3, 'provides': 3, 'scam': 3, 'hurricane': 3, 'climatechange': 3, 'statistic': 3, 'af': 3, 'weact': 3, 'towho': 3, 'choudhury': 3, 'toometoo': 3, 'sell': 3, 'dhruvasarja': 3, 'broker': 3, 'truce': 3, 'terrible': 3, 'slide': 3, 'chopra': 3, 'deathshead': 3, 'oddity': 3, 'deathsheadmoth': 3, 'aussie': 3, 'tattoo': 3, 'theblockau': 3, 'butterfly': 3, 'spider': 3, 'fortnite': 3, 'hardquiz': 3, 'kelilane': 3, 'ispr': 3, 'etalk': 3, 'qanda': 3, 'ufc229': 3, 'untouchable': 3, 'sita': 3, 'fiction': 3, 'mi': 3, 'jimin': 3, 'exo': 3, 'mpn': 3, 'molesting': 3, 'hurting': 3, 'retweets': 3, 'domesticviolenceawarenessmonth': 3, 'losing': 3, 'cigar': 3, 'billy': 3, 'lawstreet': 3, 'journal': 3, 'bollywoodactress': 3, 'wire': 3, 'apologies': 3, 'anxiety': 3, 'included': 3, 'prepared': 3, 'frivolous': 3, 'worldnews': 3, 'tothe': 3, 'thr': 3, 'inaugural': 3, 'mishra': 3, 'enforcement': 3, 'revolutionary': 3, 'proposed': 3, 'outpouring': 3, 'blunt': 3, 'trolls': 3, 'cheated': 3, 'pmo': 3, 'derogatory': 3, 'allday': 3, 'sweety': 3, 'awesome': 3, 'competition': 3, 'treatment': 3, 'bharathiraja': 3, 'arjunsarjametoo': 3, 'retired': 3, 'judicial': 3, 'protesters': 3, 'supernatural': 3, 'cake': 3, 'courageous': 3, 'tahira': 3, 'tis': 3, 'wmhd18': 3, 'economy': 3, 'villages': 3, 'forgot': 3, 'inequality': 3, 'sabarimalaforall': 3, 'partys': 3, 'lok': 3, 'sabha': 3, 'mothers': 3, 'penned': 3, 'dinner': 3, 'bury': 3, 'fees': 3, 'smells': 3, 'emergence': 3, 'shielded': 3, 'spineless': 3, 'couldnt': 3, 'bodily': 3, 'contacts': 3, 'belonging': 3, 'findyourtribe': 3, 'utterly': 3, 'egypt': 3, 'employmentlaw': 3, 'nishtha': 3, 'suspend': 3, 'associations': 3, 'slander': 3, 'employed': 3, 'qanon': 3, 'scheduled': 3, 'successful': 3, 'legalterrorism': 3, 'audio': 3, 'screaming': 3, 'pleasure': 3, 'manchester': 3, 'untangling': 3, 'skripal': 3, 'poisoning': 3, 'tariff': 3, 'principles': 3, 'evictions': 3, 'gossip': 3, 'sensitive': 3, 'misogynist': 3, 'womenrising': 3, 'minnesota': 3, 'loosing': 3, 'products': 3, 'product': 3, 'donaldmetoo': 3, 'ranbir': 3, 'saysmetoo': 3, 'masculinity': 3, 'lacking': 3, 'tarnish': 3, 'heartened': 3, 'gaurang': 3, 'doshi': 3, 'navaratri': 3, 'harassmentfreealbany': 3, 'swati': 3, 'votethemout2018': 3, 'ruleoflaw': 3, 'bahubali': 3, 'assaultmetoo': 3, 'rubbed': 3, 'allege': 3, 'enabler': 3, 'complain': 3, 'wethepeople': 3, 'cubbonparkpolicestation': 3, 'chris': 3, 'loud': 3, 'brooke': 3, 'labour': 3, 'ended': 3, 'frieze': 3, 'nope': 3, 'sushmita': 3, 'receives': 3, 'ohh': 3, 'cancelkavanaugh': 3, 'lift': 3, 'reacted': 3, 'forgive': 3, 'statute': 3, 'believesurvivorsnow': 3, 'pile': 3, 'understands': 3, 'snoopgate': 3, 'udit': 3, 'shames': 3, 'slaves': 3, 'ye': 3, 'ga': 3, 'ma': 3, 'stapletons': 3, 'brauchlers': 3, 'coffmans': 3, 'villain': 3, 'peoplecopolitics': 3, 'central': 3, 'legislation': 3, 'economics': 3, 'celebs': 3, 'cintaas': 3, 'experiencing': 3, 'suspected': 3, 'cricketer': 3, 'leaves': 3, 'size': 3, 'chandra': 3, 'atin': 3, 'inspire': 3, 'slay': 3, 'falling': 3, 'exposure': 3, 'putinspuppet': 3, 'minor': 3, 'roger': 3, 'dir': 3, 'fox': 3, 'compliant': 3, 'deborah': 3, 'hers': 3, 'moresruthihariharan': 3, 'dhruvsarja': 3, 'takeaknee': 3, 'censorship': 3, 'binoy': 3, 'curated': 3, 'toronto': 3, 'broadsheet': 3, 'fortune': 3, 'educational': 3, 'affecting': 3, 'normal': 3, 'setting': 3, 'efforts': 3, 'dismisses': 3, 'neveragain': 3, 'renowned': 3, 'invades': 3, 'threaten': 3, 'ridicules': 3, 'damaged': 3, 'sits': 3, 'notices': 3, 'counterparts': 3, 'viewer': 3, 'hostile': 3, 'toys': 3, 'focused': 3, 'wearelistening': 3, 'disclaimer': 3, 'sufferings': 3, 'sting': 3, 'blown': 3, 'flowing': 3, 'perspectives': 3, 'stating': 3, 'proving': 3, 'developing': 3, 'projects': 3, 'neighborhood': 3, 'judgement': 3, 'freely': 3, 'onand': 3, 'lynch': 3, 'historytoday': 3, 'thakur': 3, 'gopcorruption': 3, 'trumpliesmatter': 3, 'trumplies': 3, 'vote2018': 3, 'korean': 3, 'replacements': 3, 'feted': 3, 'alertand': 3, 'withthank': 3, 'nisha': 3, 'marrying': 3, 'kejriwal': 3, 'mahila': 3, 'mahavidyalaya': 3, 'infront': 3, 'postallegation': 3, 'academic': 3, 'norms': 3, 'fizzle': 3, 'gala': 3, 'tall': 3, 'hill': 3, 'net': 3, 'sand': 3, 'desert': 3, 'rakeshasthana': 3, 'funds': 3, 'strippers': 3, 'rescuing': 3, 'lgbtiq': 3, 'waronwomen': 3, 'awardee': 3, 'armed': 3, 'thefinancial': 3, 'rsvpnyc': 3, 'womenontheverge': 3, 'academia': 3, 'passed': 3, 'talcher': 3, 'campaigns': 3, 'maharashtra': 3, 'insist': 3, 'furtherinvestigationmetoo': 3, 'dared': 3, 'abpoli': 3, 'sundayfunday': 3, 'deeply': 3, 'houses': 3, 'burst': 3, 'disrespect': 3, 'cinimirror': 3, 'entered': 3, 'tragedy': 3, 'forefathers': 3, 'sleeve': 3, 'oscars': 3, 'accord': 3, 'prostitution': 3, 'leahyweoc': 3, 'settle': 3, 'maximum': 3, 'sheriff': 3, 'fgkia': 3, 'voter': 3, 'elizabethwarren': 3, 'menhaveatendency': 3, 'patriarchs': 3, 'tgeontour': 3, 'brain': 3, 'singing': 3, 'mission': 3, 'accepts': 3, 'bc': 3, 'existence': 3, 'organizing': 3, 'anthem': 3, 'admitted': 3, 'retirecarper': 3, 'term': 3, 'urge': 3, 'spent': 3, 'audition': 3, 'queer': 3, 'offering': 3, 'metooinkannadacinema': 3, 'rohit': 3, 'sept': 3, 'betrayed': 3, 'leveled': 3, 'claimed': 3, 'plaints': 3, 'womenandpower': 3, 'jumping': 3, 'train': 3, 'hopes': 3, 'sussanne': 3, 'neutral': 3, 'complementing': 3, 'horrific': 3, 'intersectionality': 3, 'viswasam2ndlookfromtoday': 3, 'performers': 3, 'teaches': 3, 'educators': 3, 'migration': 3, 'welcomes': 3, 'ceiling': 3, 'covered': 3, 'magdalene': 3, 'prostitute': 3, 'apathy': 3, 'object': 3, 'participants': 3, 'valid': 3, 'informed': 3, 'drivers': 3, 'filled': 3, 'sounds': 3, 'flipthesenate': 3, 'conclusion': 3, 'ko': 3, 'tomorrows': 3, 'graphicdesign': 3, 'metoomentum': 3, 'd3js': 3, 'haters': 3, 'discussions': 3, 'constructive': 3, 'saudi': 3, 'addresses': 3, 'weigh': 3, 'delay': 3, 'theme': 3, 'sheena': 3, 'sikarwithcongress': 3, 'district': 3, 'progressives': 3, 'voteblue2018': 3, 'terminate': 3, 'lonely': 3, 'search': 3, 'partners': 3, 'traumatic': 3, 'mandatory': 3, 'desperate': 3, 'evidencemetoo': 3, 'countrys': 3, 'toabout': 3, 'kar': 3, 'mna': 3, 'eruption': 3, 'sudden': 3, 'popularity': 3, 'distract': 3, 'antibullying': 3, 'tackle': 3, 'hote': 3, 'kya': 3, 'round': 3, 'return': 3, 'bandra': 3, 'track': 3, 'promotes': 3, 'talked': 3, 'box': 3, 'boxset': 3, 'resilience': 3, 'nepotism': 3, 'intervention': 3, 'submit': 3, 'pledge': 3, 'freedomofexpression': 3, 'taylor': 3, 'swift': 3, 'army': 3, 'driver': 3, 'pending': 3, 'revealing': 3, 'thatmetoo': 3, 'collect': 3, 'kumari': 3, 'travel': 3, 'rahulgandhi': 3, 'failing': 3, 'intention': 3, 'tak': 3, 'alex': 3, 'coalition': 3, 'everywomanmatters': 3, 'sustained': 3, 'news18': 3, 'goodness': 3, 'entitlement': 3, 'solid': 3, 'lit': 3, 'projectaasha': 3, 'knowledgeispower': 3, 'consciousness': 3, 'lifted': 3, 'prayagraj': 3, 'orange': 3, 'arrest': 3, 'prashanth': 3, 'naked': 3, 'customer': 3, 'hattangadi': 3, 'fwice': 3, 'lifestyle': 3, 'confidence': 3, 'staystrong': 3, 'delightfully': 3, 'pray': 3, 'unbelievable': 3, 'oklahoma': 3, 'trafficking': 3, 'housing': 3, 'songs': 3, 'disturbing': 3, 'swedish': 3, 'propaganda': 3, 'sandalwoodactress': 3, 'tharki': 3, 'iosplay': 3, 'androidwomenempowerment': 3, 'strengthen': 3, 'toandspeak': 3, 'cruel': 3, 'surprising': 3, 'ian': 3, 'studies': 3, 'vocal': 3, 'coz': 3, 'moredownload': 3, 'bettertogether': 3, 'sought': 3, 'impacted': 3, 'sensitivity': 3, 'larger': 3, 'launching': 3, 'systems': 3, 'anyway': 3, 'shot': 3, 'quizzer': 3, 'madrasas': 3, 'civility': 3, 'crying': 3, 'bereal': 3, 'requests': 3, 'firebrew': 3, 'wide': 3, 'bookrelease': 3, 'jio': 3, 'sanjjanaa': 3, 'linkdirectorravisrivatsa': 3, 'sanjjanaagalrani': 3, 'mature': 3, 'mlaand': 3, 'kotra': 3, 'direction': 3, 'nervous': 3, 'agents': 3, 'draw': 3, 'televangelist': 3, 'hid': 3, 'nashville': 3, 'franchise': 3, 'ips': 3, 'widespread': 3, 'exposing': 3, 'massages': 3, 'moron': 3, 'goa': 3, 'aftab': 3, 'awakening': 3, 'featured': 3, 'option': 3, 'chimamanda': 3, 'adichie': 3, 'lock': 3, 'genius': 3, 'cch2018': 3, 'lokmatwomensummit': 3, 'luv': 3, 'cbs': 3, 'trumptaxfraud': 3, 'defame': 3, 'joinandon': 3, 'powherthevote': 3, 'eleanor': 3, 'mgtow': 3, 'idiots': 3, 'destroying': 3, 'stockalert': 3, 'chart': 3, 'signal': 3, 'rupee': 3, 'basic': 3, 'businessman': 3, 'sin': 3, 'marginalised': 3, 'hanson': 3, 'epic': 3, 'shifted': 3, 'weeping': 3, 'judiciary': 3, 'linknews': 3, 'qualify': 3, 'sis': 3, 'interviews': 3, 'ban': 3, 'defence': 3, 'requesting': 3, 'impartial': 3, 'crushed': 3, 'contractors': 3, 'frigays': 3, 'freshman': 3, 'sophomores': 3, 'juniors': 3, 'seniors': 3, 'podernfamily': 3, 'podcasts': 3, 'horrorpodcasts': 3, 'pennstate': 3, 'notredame': 3, 'michiganstate': 3, 'crywolf': 3, 'sororityrow': 3, 'horrormovies': 3, 'khurrana': 3, 'chair': 3, 'lends': 3, 'npr': 3, 'sanskari': 3, 'shamelessly': 3, 'sworn': 3, 'wives': 3, 'pushed': 3, 'screwed': 3, 'weareone': 3, 'deeper': 3, 'halt': 3, 'wellbeing': 3, 'pieces': 3, 'reminder': 3, 'clothing': 3, 'wid': 3, 'barrister': 3, 'commonlaw': 3, 'endwomenabuse': 3, 'fix': 3, 'shruthihariharan': 3, 'uncertain': 3, 'paycheck': 3, 'escaped': 3, 'hav': 3, 'catch': 3, 'molesters': 3, 'yo': 3, 'hiding': 3, 'luncheon': 3, 'ugly': 3, 'loves': 3, 'thiagarajanpressmeetmetooindia': 3, 'slogans': 3, 'meiraomar': 3, 'houston': 3, 'younger': 3, 'tear': 3, 'unicef': 3, 'preserve': 3, 'evewasshamed': 3, 'cow': 3, 'fueled': 3, 'field': 3, 'cash': 3, 'spare': 3, 'bhi': 3, 'desire': 3, 'strict': 3, 'ass': 3, 'hs': 3, 'usne': 3, 'hath': 3, 'meets': 3, 'dated': 3, 'ratings': 3, 'visible': 3, 'refusing': 3, 'bravo': 3, 'degree': 3, 'googleplus': 3, 'duttas': 3, 'hug': 3, 'remove': 3, 'gentleman': 3, 'witnessed': 3, 'appointment': 3, 'naysayers': 3, 'elizabella': 3, 'tuned': 3, 'gearing': 3, 'medicine': 3, 'wakeup': 3, 'david': 3, 'gulf': 3, 'seduction': 3, 'bhakt': 3, 'bigdata': 3, 'machinelearning': 3, 'blockchain': 3, 'announced': 3, 'depressed': 3, 'inevitable': 3, 'afford': 3, 'onscreen': 3, 'mono': 3, 'crystal': 3, 'versus': 3, 'babies': 3, 'viakeynote': 3, 'slowly': 3, 'strongly': 3, 'feathers': 3, 'bans': 3, 'bias': 3, 'worst': 3, 'topical': 3, 'nahi': 3, 'skeletons': 3, 'tk': 3, 'analysis': 3, 'advocacy': 3, 'passion': 3, 'bash': 3, 'ed': 3, 'knowledge': 3, 'blessed': 3, 'amendment': 3, 'constitution': 3, 'repeatedly': 3, 'braver': 3, 'dealbook': 3, 'mcqueen': 3, 'ai': 3, 'twist': 3, 'treason': 3, 'babita': 3, 'juri': 3, 'sunny': 3, 'abby': 3, 'tbt': 3, 'jamie': 3, 'older': 3, 'amusing': 3, 'fly': 3, 'yash': 3, 'reliving': 3, 'persistence': 3, 'ignoring': 3, 'ridiculous': 3, 'protectourcare': 3, 'blackfridays': 3, 'rightsmetoo': 3, 'sajids': 3, 'la': 3, 'reflect': 3, 'swapan55': 3, 'platforms': 3, 'homes': 3, 'selling': 3, 'notes': 3, 'separate': 3, 'reacting': 3, 'humanresources': 3, 'retraction': 3, 'secrets': 3, 'youll': 3, 'respectable': 3, 'fundraising': 3, 'confusion': 3, 'creative': 3, 'togetherwerise': 3, 'arora': 3, 'discount': 3, 'mil': 3, 'refugee': 3, 'carter': 3, 'sort': 3, 'expanding': 3, 'productions': 3, 'pussy': 3, 'womenunited': 3, 'saturdaythoughts': 3, 'transformative': 3, 'fuel': 3, 'educated': 3, 'california': 3, 'marchtothepolls': 3, 'charmed': 3, 'morningjoe': 3, 'columns': 3, 'bjpkilledmanoj': 3, 'timing': 3, 'morally': 3, 'results': 3, 'radhemaa': 3, 'womenriseup': 3, 'serves': 3, 'lff': 3, 'wednesdaymotivation': 3, 'beto': 3, 'bird': 3, 'booker': 3, 'childlessupport': 3, 'virat': 3, 'squeeze': 3, 'collapse': 3, 'sandalwoods': 3, 'burn': 3, 'moderating': 3, 'nra': 3, 'aloknaths': 3, 'comfort': 3, 'bossjoins': 3, 'withandatletstalknm': 3, 'bose': 3, 'mumbaimanthan18': 3, 'reflected': 3, 'workforce': 3, 'nhrd': 3, 'chancery': 3, 'pavilion': 3, 'residency': 3, 'siri': 3, 'mjaspeakers': 3, 'tictocnews': 3, 'theis': 3, 'practices': 3, 'gurjar': 3, 'russia': 3, 'towns': 3, 'sanjjanaas': 3, 'marchforourlives': 3, 'appropriate': 3, 'shrutihariharan': 3, 'century': 3, 'shining': 3, 'practical': 3, 'flight': 3, 'resume': 3, 'sued': 3, 'scrutiny': 3, 'dissolve': 3, 'ministerled': 3, 'sham': 3, 'khashoggi': 3, 'admin': 3, 'shirtclothing': 3, 'whatis': 3, 'rampant': 3, 'policies': 3, 'dispute': 3, 'unacceptable': 3, 'answers': 3, 'sati': 3, 'linkarjunsarja': 3, 'picked': 3, 'resolve': 3, 'unisex': 3, 'hats': 3, 'ambassador': 3, 'detail': 3, 'dint': 3, 'harrasement': 2, 'trail': 2, 'carve': 2, 'grants': 2, 'grant': 2, 'odd': 2, 'moreover': 2, 'mangina': 2, 'hairstylist': 2, 'tictok': 2, 'lakhs': 2, 'diandrasoares': 2, 'announcing': 2, 'contradictions': 2, 'aspects': 2, 'parent': 2, 'fairness': 2, 'thru': 2, 'kindness': 2, 'hatred': 2, 'chosen': 2, 'smriti': 2, 'ofmetoo': 2, 'papa': 2, 'bccis': 2, 'survivorwoman': 2, 'installed': 2, 'crowdfunding': 2, 'savemetoo': 2, 'compensation': 2, 'alisters': 2, 'weight': 2, 'mohammad': 2, 'shami': 2, 'enthusiastic': 2, 'marathon': 2, 'aamirkhan': 2, 'pulling': 2, 'boo': 2, 'impressions': 2, 'washing': 2, 'linen': 2, 'thm': 2, 'rakhisawants': 2, 'pressconference': 2, 'extend': 2, 'politicalcorrectness': 2, 'ontoday': 2, 'isayitsnotok': 2, 'crusaders': 2, 'slut': 2, 'shudnt': 2, 'mahajan': 2, 'ilikebeer': 2, 'weekly': 2, 'mouni': 2, 'begun': 2, 'participation': 2, 'feminisminindia': 2, 'communist': 2, 'connections': 2, 'evident': 2, 'flotus': 2, 'consultant': 2, 'feministsdontwearpink': 2, 'bitter': 2, 'pill': 2, 'acharya': 2, 'mst': 2, 'feres': 2, 'irresponsible': 2, 'pulled': 2, 'veil': 2, 'voteforourlives': 2, 'compared': 2, 'aww': 2, 'cheer': 2, 'counts': 2, 'canttrustkemp': 2, 'veteransforabrams': 2, 'gateachers': 2, 'bluewavemoms': 2, 'atlantapride': 2, 'gadems': 2, 'gotv': 2, 'memoir': 2, 'ghostwriting': 2, 'johnnydeppisinnocent': 2, 'wearewithyoujohnnydepp': 2, 'hr392': 2, 'cards': 2, 'voteny3': 2, 'pointed': 2, 'mumbaifilmfestival': 2, 'jollyllb': 2, 'incredibly': 2, 'grateful': 2, 'toilet': 2, 'movementindia': 2, 'youoksis': 2, 'loyalty': 2, 'binoyvarghese': 2, 'vijaya': 2, 'savepublicsectorbanks': 2, 'properly': 2, 'specialist': 2, 'influencing': 2, 'editors': 2, 'istandwithgentleman': 2, 'disorder': 2, 'harris': 2, 'afsar': 2, 'zaidi': 2, 'breasts': 2, 'thriving': 2, 'intellectual': 2, 'definition': 2, 'trip': 2, 'describe': 2, 'sole': 2, 'governments': 2, 'ngos': 2, 'intolerance': 2, 'redtsunami': 2, 'caption': 2, 'objective': 2, 'forgets': 2, 'illigal': 2, 'compare': 2, 'titili': 2, 'effectmetoo': 2, 'iceberg': 2, 'associating': 2, 'preaches': 2, 'newspapers': 2, 'infantileabuselaw': 2, 'childrentoo': 2, 'onevoicetogether': 2, 'xx': 2, 'suits': 2, 'goto': 2, 'ft': 2, 'mominamustehsan': 2, 'arizona': 2, 'fishing': 2, 'fishinglife': 2, 'cbd_hempire': 2, 'bribe': 2, 'slow': 2, 'bending': 2, 'backwards': 2, 'implementation': 2, 'aim': 2, 'subratabhowmick': 2, 'bastard': 2, 'activate': 2, 'goal': 2, 'nah': 2, 'pets': 2, 'counsellor': 2, 'momenr': 2, 'presamit': 2, 'snooping': 2, 'portals': 2, 'directing': 2, 'toof': 2, 'mint': 2, 'complaining': 2, 'excuses': 2, 'heading': 2, 'devastated': 2, 'surrounds': 2, 'repost': 2, 'asiaargento': 2, 'yourselves': 2, 'eager': 2, 'conservationist': 2, 'whiteprivilege': 2, 'manhattan': 2, 'agreed': 2, 'dismiss': 2, 'lone': 2, 'stung': 2, 'punishgungoonpandey': 2, 'sabarimalashowdown': 2, 'womenatsabarimala': 2, 'bratswithguns': 2, 'offline': 2, 'rajinikanth': 2, 'mentooindia': 2, 'autobiography': 2, 'reignited': 2, 'inner': 2, 'shines': 2, 'corner': 2, 'generalizing': 2, 'beings': 2, 'disappointed': 2, 'environmental': 2, 'globalwarming': 2, 'meetoomovement': 2, 'emilyslist': 2, 'alternative': 2, 'readytowait': 2, 'beaches': 2, 'femalefilmmakerfriday': 2, 'senses': 2, 'parker': 2, 'marvel': 2, 'yesodharanwrites': 2, 'ii': 2, 'built': 2, 'withviakeynote': 2, 'buoyed': 2, 'height': 2, 'nepalmountainnews': 2, 'revelation': 2, 'womenleaders18': 2, 'hushed': 2, 'unwavering': 2, 'circus': 2, 'mondaymotivaton': 2, 'graphic': 2, 'fiercely': 2, 'gum': 2, 'friendly': 2, 'standard': 2, 'measure': 2, 'stickers': 2, 'amitshah': 2, 'organises': 2, 'byat': 2, 'confined': 2, 'nude': 2, 'powell': 2, 'battleofideas': 2, 'vetrimaarans': 2, 'controversies': 2, 'hillarys': 2, 'manipulate': 2, 'removal': 2, 'throws': 2, 'tainted': 2, 'resigning': 2, 'readmore': 2, 'tamilcinema': 2, 'huffpost': 2, 'metoocannabis': 2, 'supremacist': 2, 'gif': 2, 'rapid': 2, 'parliamentarians': 2, 'soldiers': 2, 'weak': 2, 'withmore': 2, 'intimidated': 2, 'linkactressharshikapoonacha': 2, 'honoring': 2, 'moremetoo': 2, 'designer': 2, 'digitalmarketing': 2, 'puli': 2, 'ptselvakumar': 2, 'aboutissue': 2, 'tirade': 2, 'metooforpublicity': 2, 'promised': 2, 'wetwo': 2, 'itz': 2, 'pidis': 2, 'tollfree': 2, 'genders': 2, 'pick': 2, 'clarification': 2, 'dubs': 2, 'reserves': 2, 'satisfy': 2, 'lbgt': 2, 'neil': 2, 'generated': 2, 'bumper': 2, 'lanka': 2, 'boston': 2, 'mystory': 2, 'echo': 2, 'implicated': 2, 'programnewsday': 2, 'melatest': 2, 'dancehall': 2, 'carlenesmith': 2, 'jamaica': 2, 'palomafaith': 2, 'saysread': 2, 'doubles': 2, 'womenstrump': 2, 'custody': 2, 'cognizance': 2, 'drew': 2, 'courtesy': 2, 'symbols': 2, 'feminine': 2, 'solve': 2, 'higher': 2, 'citizen': 2, 'ice': 2, 'cure': 2, 'dogs': 2, 'davis': 2, 'portion': 2, 'proceeds': 2, 'tina': 2, 'tchen': 2, 'cognisance': 2, 'nonconsensual': 2, 'incompatible': 2, 'fantasies': 2, 'recap': 2, 'inhas': 2, 'pad': 2, 'executives': 2, 'cautious': 2, 'particularly': 2, 'handled': 2, 'churches': 2, 'immoralactsinchurches': 2, 'bombay': 2, 'watson': 2, 'harvard': 2, 'dynamic': 2, 'mia': 2, 'gestures': 2, 'vain': 2, 'flood': 2, 'wipolitics': 2, 'birth': 2, 'kaashiinsearchofganga': 2, 'heed': 2, 'itwrites': 2, 'tatagroup': 2, 'advocates': 2, 'distances': 2, 'solar': 2, 'sarita': 2, 'orgs': 2, 'thompson': 2, 'crooks': 2, 'trumpsamerica': 2, 'gathered': 2, 'introduced': 2, 'punk': 2, 'wict': 2, 'thi': 2, 'ibelievehim': 2, 'speakyourtruth': 2, 'dvhelper': 2, 'dvsurvivor': 2, 'msg': 2, 'realize': 2, 'stays': 2, 'parineeti': 2, 'mixes': 2, 'alltoo': 2, 'balance': 2, 'rosemcgowan': 2, 'pause': 2, 'admission': 2, 'grooming': 2, 'chakraborty': 2, 'batao': 2, 'problematic': 2, 'economictimes': 2, 'iamrahuljha': 2, 'lekha': 2, 'karwachauth2018': 2, 'karvachauthspecial': 2, 'indianmakeupartist': 2, 'worshipers': 2, 'indiancustoms': 2, 'pulls': 2, 'shortstory': 2, 'amwriting': 2, 'breakthesilenceday': 2, 'salesman': 2, 'escort': 2, 'escorts': 2, 'fordelhimodels': 2, 'wivsind': 2, 'metoo5': 2, 'viswasamsecondlook': 2, 'amas': 2, 'btsarmy': 2, 'freemonthlycheckupcamps': 2, 'floodgates': 2, 'andrew': 2, 'iti': 2, 'healthy': 2, 'publisher': 2, 'amongst': 2, 'fabric': 2, 'ruling': 2, 'csa': 2, 'itsnotok': 2, 'metoofamily': 2, 'unbroken': 2, 'cheryl': 2, 'mcwhorter': 2, 'gwade': 2, 'radio': 2, 'calendar': 2, 'vagina': 2, 'liberalshypocrisy': 2, 'attn': 2, 'shouting': 2, 'forgetting': 2, 'secrecy': 2, 'dicks': 2, 'stone': 2, 'wth': 2, 'birds': 2, 'obsessed': 2, 'warm': 2, 'abvp': 2, 'renew': 2, 'misuses': 2, 'pak': 2, 'arynewslivehd': 2, 'ozootv': 2, 'ravikiran': 2, 'timesupthanks': 2, 'concerts': 2, 'theirmusic': 2, 'istandwithchinmayi': 2, 'lowelltalks': 2, 'isa': 2, 'likelowell': 2, 'thiyagarajan': 2, 'british': 2, 'suffragette': 2, 'formation': 2, 'familycourt': 2, 'ajay': 2, 'nowwhyididntreport': 2, 'implement': 2, 'theyve': 2, 'implemented': 2, 'ironically': 2, 'virtue': 2, 'celebrations': 2, 'holiday': 2, 'charitytuesday': 2, 'stayinfotained': 2, 'item': 2, 'antiharassment': 2, 'juvenile': 2, 'kentucky': 2, 'victimsofkentuckyboyscamps': 2, 'clicksharadpawar': 2, 'allnewsantro': 2, 'smritiirani': 2, 'howrah': 2, 'delhihc': 2, 'rajatkapoor': 2, 'heartwarming': 2, 'videothenews': 2, 'obscene': 2, 'likeis': 2, 'annoyed': 2, 'dhruva': 2, 'confirmed': 2, 'signs': 2, 'rate': 2, 'thewalkingdead': 2, 'blogging': 2, 'torment': 2, 'haunt': 2, 'shud': 2, 'suicides': 2, 'scoot': 2, 'wa': 2, 'deedsnotwords': 2, 'wales': 2, 'alleging': 2, 'creature': 2, 'karimmorani': 2, 'prevented': 2, 'scientist': 2, 'killary': 2, 'large': 2, 'suing': 2, 'divorce': 2, 'thus': 2, 'societal': 2, 'laughed': 2, 'saystimesup': 2, 'kasab': 2, 'hanged': 2, 'bwood': 2, 'misinterpreted': 2, 'unchivalrous': 2, 'footage': 2, 'taylorswift': 2, 'sjw': 2, 'figures': 2, 'bollywoodstars': 2, 'performer': 2, 'theater': 2, 'allen': 2, 'min': 2, 'brennan': 2, 'pack': 2, 'function': 2, 'kajol': 2, 'slashermovie': 2, 'abe': 2, 'lincoln': 2, 'kag': 2, 'actressshares': 2, 'hence': 2, 'genderbiasedlaws': 2, 'vargas': 2, 'harrassed': 2, 'differently': 2, 'transgender': 2, 'obstructions': 2, 'indifferent': 2, 'elitesajopinion': 2, 'lauren': 2, 'representative': 2, 'erin': 2, 'retailer': 2, 'foot': 2, 'wise': 2, 'limits': 2, 'runhas': 2, 'trustees': 2, 'substanceand': 2, 'tinder': 2, 'sites': 2, 'byon': 2, 'pedophile': 2, 'aroused': 2, 'web': 2, 'endemic': 2, 'ol': 2, 'flora': 2, 'saini': 2, 'mohan': 2, 'angers': 2, 'analogy': 2, 'warn': 2, 'ah': 2, 'alert': 2, 'lawmakers': 2, 'andon': 2, 'cent': 2, 'scarce': 2, 'diet': 2, 'gods': 2, 'maliwal': 2, 'meantime': 2, 'compliment': 2, 'equalrights': 2, 'equalpay': 2, 'aclu': 2, 'feelthebern': 2, 'educationforall': 2, 'highereducation': 2, 'utter': 2, 'jumped': 2, 'bogus': 2, 'blaseyford': 2, 'signing': 2, 'loyal': 2, 'jerk': 2, 'fell': 2, 'ridiculing': 2, 'tomcruise': 2, 'celebritynews': 2, 'tens': 2, 'diwalis': 2, 'finalised': 2, 'sona': 2, 'mohapatras': 2, 'darshan': 2, 'udaipur': 2, 'shield': 2, 'lifetime': 2, 'brief': 2, 'amount': 2, 'sarjasruthi': 2, 'continuously': 2, 'verified': 2, 'unconvincing': 2, 'westminster': 2, 'nhs': 2, 'overcoming': 2, 'lifelong': 2, 'acts': 2, 'hysteria': 2, 'falsely': 2, 'sharia': 2, 'chinnegowda': 2, 'tv9onlinenews': 2, 'flak': 2, 'showcase': 2, 'derail': 2, 'commentary': 2, 'akbars': 2, 'nayak': 2, 'desi': 2, 'woodwork': 2, 'disgraceful': 2, 'demasculating': 2, 'bitches': 2, 'minorities': 2, 'corporations': 2, 'vision': 2, 'susancollinscowardice': 2, 'shameongop': 2, 'reformvianypasscva': 2, 'carry': 2, 'ya': 2, 'begging': 2, 'macro': 2, 'neglect': 2, 'regions': 2, 'fabricated': 2, 'vedic': 2, 'potato': 2, 'superhero': 2, 'somyali': 2, 'searching': 2, 'solace': 2, 'punch': 2, 'kavanope': 2, 'ton': 2, 'onabout': 2, 'ek': 2, 'dha': 2, 'ni': 2, 'pouring': 2, 'texas': 2, 'austin': 2, 'jason': 2, 'jessica': 2, 'americas': 2, 'rapidly': 2, 'regressing': 2, 'lover': 2, 'kim': 2, 'khaleej': 2, 'anti': 2, 'slamming': 2, 'sm': 2, 'inform': 2, 'ps': 2, 'deconstructing': 2, 'easton': 2, 'taft': 2, 'buddhism': 2, 'dharma': 2, 'alright': 2, 'mvg': 2, 'valuable': 2, 'independentwoman': 2, 'bossbabe': 2, 'runaway': 2, 'debt': 2, 'wages': 2, 'pollution': 2, 'divide': 2, 'ailes': 2, 'moderated': 2, 'kelly': 2, 'copied': 2, 'legitimate': 2, 'alma': 2, 'zakka': 2, 'swept': 2, 'btown': 2, 'rwmfest18': 2, 'explores': 2, 'opposite': 2, 'chaos': 2, 'defrantz': 2, 'eliminate': 2, 'submitted': 2, 'atpublic': 2, 'classics': 2, 'usshare': 2, 'neighbourhood': 2, 'damages': 2, 'wirewound': 2, 'illegally': 2, 'initiating': 2, 'fromjoin': 2, 'atinfodiversitywashingtondc': 2, 'differ': 2, 'plenty': 2, 'hicks': 2, 'ambarish': 2, 'lively': 2, 'unearthed': 2, 'wishes': 2, 'rooted': 2, 'crisispr': 2, 'werent': 2, 'morecelebrities_stuff': 2, 'bollywoodmusic': 2, 'pitch': 2, 'embarrassment': 2, 'ny': 2, 'vilified': 2, 'resister': 2, 'edchat': 2, 'founding': 2, 'outlined': 2, 'emphasis': 2, 'suicideprevention': 2, 'themmetoo': 2, 'leenamanimekala': 2, 'administrators': 2, 'spirituality': 2, 'poems': 2, 'harmless': 2, 'gross': 2, 'instances': 2, 'allegationsvia': 2, 'drunk': 2, 'surveyed': 2, 'resident': 2, 'expresses': 2, 'balanced': 2, 'websiteto': 2, 'setup': 2, 'capacities': 2, 'jkatz': 2, 'necklace': 2, 'plush': 2, 'stuffed': 2, 'debating': 2, 'shaking': 2, 'sequel': 2, 'agent': 2, 'hilarious': 2, 'imaginary': 2, 'paint': 2, 'airtel': 2, 'hunger': 2, 'endingyummy': 2, 'wine': 2, 'spirits': 2, 'nycwff': 2, 'foodbank4nyc': 2, 'nokidhungry': 2, 'eatdrinkandbemerry': 2, 'minoritised': 2, 'iratrivedi': 2, 'fyi': 2, 'metooinkannadafilms': 2, 'aides': 2, 'tiny': 2, 'patra': 2, 'speechless': 2, 'detroittheatre': 2, 'livetheatre': 2, 'feedingamonster': 2, 'math': 2, 'lesson': 2, 'reproductive': 2, 'unlike': 2, 'assembly': 2, 'housekeepers': 2, 'choices': 2, 'harsh': 2, 'sheisequal': 2, 'marijuana': 2, 'assassination': 2, 'scnoticetomphighcourt': 2, 'shardul': 2, 'pakvaus': 2, 'airindia': 2, 'indiavswestindies': 2, 'lime': 2, 'despair': 2, 'bite': 2, 'rear': 2, 'cbiextortionclaim': 2, 'modifor2019': 2, 'newsoftheweek': 2, 'newsnight': 2, 'politicsnation': 2, 'idols': 2, 'greeted': 2, 'empty': 2, 'bora': 2, 'levelling': 2, 'perform': 2, 'newstoday': 2, 'bloggers': 2, 'atdedicated': 2, 'fromrsvpdiversitywashingtondc': 2, 'nonprofit': 2, 'bought': 2, 'thankfully': 2, 'street': 2, 'stereotypes': 2, 'pl': 2, 'compensatoryattempts': 2, 'jonathan': 2, 'abp': 2, 'examples': 2, 'dreamers': 2, 'jones': 2, 'helen': 2, 'shilpa': 2, 'rhymecrime': 2, 'rid': 2, 'loser': 2, 'responsibilities': 2, 'agnes': 2, 'nancy': 2, 'craig': 2, 'princes': 2, 'uksolotheatre': 2, 'robertburns': 2, 'liarinchief': 2, 'lifeinamerica': 2, 'justindianthings': 2, 'beinganindianinamerica': 2, 'beinganamerican': 2, 'indianinamerica': 2, 'theshamelessindian': 2, 'onat': 2, 'annehathaway': 2, 'priorities': 2, 'arrive': 2, 'italy': 2, 'guerrilla': 2, 'proposal': 2, 'enters': 2, 'attach': 2, 'cultureofcorruption': 2, 'whataretheyhiding': 2, 'victimshaming': 2, 'istandwithdrford': 2, 'delving': 2, 'gate': 2, 'djt': 2, 'separated': 2, 'bye': 2, 'barrier': 2, 'unnecessarily': 2, 'seat': 2, 'indicates': 2, 'suppress': 2, 'sridevikametoo': 2, 'regulated': 2, 'ableg': 2, 'abndp': 2, 'rapper': 2, 'travelling': 2, 'stick': 2, 'episodes': 2, 'canon': 2, 'greek': 2, 'monthsbyterreform': 2, 'urdownwardspiral': 2, 'coeditor': 2, 'shortly': 2, 'maintained': 2, 'cog': 2, 'julio': 2, 'score': 2, 'asurvey': 2, 'arpita': 2, 'abhendra': 2, 'papers': 2, 'enemy': 2, 'milly': 2, 'justices': 2, 'gymnasts': 2, 'qatar': 2, 'votenovember6th': 2, 'plain': 2, 'sooner': 2, 'sovereignty': 2, 'traitorsno': 2, 'contentmetoo': 2, 'igersottawa': 2, 'defending': 2, 'empire': 2, 'ndtv': 2, 'thread': 2, 'pindrop': 2, 'silencethere': 2, 'slapped': 2, 'wouldnt': 2, 'required': 2, 'resignnow': 2, 'tracking': 2, 'uttar': 2, 'lag': 2, 'lesser': 2, 'provisions': 2, 'we4she': 2, 'speeches': 2, 'rameshreports': 2, 'beautifulkilling': 2, 'sundaythoughts': 2, 'gowdas': 2, 'rohitsharmas': 2, 'tollywood': 2, 'mere': 2, 'lutyens': 2, 'elite': 2, 'radhakyongorimainkyonkaala': 2, 'jimmy': 2, 'sheirgill': 2, 'lulia': 2, 'mixed': 2, 'deets': 2, 'betibachaobetipadhao': 2, 'shiny': 2, 'preorder': 2, 'grappling': 2, 'origin': 2, 'neither': 2, 'bijlani': 2, 'arjunbijlani': 2, 'prakashrai': 2, 'siddharth': 2, 'bhatia': 2, 'yoga': 2, 'sep': 2, 'remaining': 2, 'justicegeneration': 2, 'unapologetically': 2, 'expressed': 2, 'chronicle': 2, 'mechanic': 2, 'civilian': 2, 'firefighter': 2, 'athlete': 2, 'fitness': 2, 'becomes': 2, 'fromandabout': 2, 'lifetimes': 2, 'wwv18': 2, 'atdomesticviolence': 2, 'sexualharrassment': 2, 'gentle': 2, 'automation': 2, 'cbirafalegate': 2, 'tofreemonthlycheckupcamps': 2, 'aiadmk': 2, 'madrashc': 2, 'selflesservicesbybapuji': 2, 'chai': 2, 'chairs': 2, 'arms': 2, 'prosecutions': 2, 'radiation': 2, 'thick': 2, 'laid': 2, 'gospel': 2, 'apologised': 2, 'girlsplaybass': 2, 'womeneducation': 2, 'strippersbookclub': 2, 'infuriated': 2, 'thrown': 2, 'lka': 2, 'votebluetosaveamericandemocracy': 2, 'lower': 2, 'mentor': 2, 'processing': 2, 'contemporary': 2, 'antisexual': 2, 'coercion': 2, 'spamming': 2, 'clerics': 2, 'branch': 2, 'assaulting': 2, 'roads': 2, 'autonews': 2, 'neverthelesswepersist': 2, 'fabulous': 2, 'inserted': 2, 'basically': 2, 'flipthehouse': 2, 'redtoblue': 2, 'voteoutgop': 2, 'accomplished': 2, 'effectively': 2, 'bronx': 2, 'driven': 2, 'pew': 2, 'constant': 2, 'christians': 2, 'contributor': 2, 'throughout': 2, 'dedicating': 2, 'datavizgraphics': 2, 'ranauts': 2, 'rangoli': 2, 'drug': 2, 'storytelling': 2, 'kidmanmetoo': 2, 'emma': 2, 'aint': 2, 'backstage': 2, 'banner': 2, 'q': 2, 'kanganaranaut': 2, 'womenmetoo': 2, 'safest': 2, 'lewis': 2, 'showvia': 2, 'firstpost': 2, 'oberoi': 2, 'courses': 2, 'belowyourselfieunlocksbeccos': 2, 'noo': 2, 'plas': 2, 'wildnou': 2, 'countryvote': 2, 'millennialtalk': 2, 'millwwyd': 2, 'internpro': 2, 'ambitionista': 2, 'genychat': 2, 'blackmetoo': 2, 'raveenatandon': 2, 'beautifulgirl': 2, 'di': 2, 'harder': 2, 'committees': 2, 'referred': 2, 'metootimesup': 2, 'creates': 2, 'molestermlakanwarlal': 2, 'criminallawmaker': 2, 'equalityindueprocess': 2, 'settled': 2, 'sum': 2, 'possibly': 2, 'le': 2, 'naa': 2, 'saab': 2, 'brilliance': 2, 'mister': 2, 'rogers': 2, 'viatedx': 2, 'summits': 2, 'retreats': 2, 'makeanoise': 2, 'forcefully': 2, 'anybody': 2, 'sukanya': 2, 'whereissukanyadevi': 2, 'cherokeenation': 2, 'blogpost': 2, 'oprah2020': 2, 'complimentary': 2, 'hideous': 2, 'brazenly': 2, 'millennial': 2, 'restaurants': 2, 'tiktok': 2, 'sins': 2, 'garbage': 2, 'posh': 2, 'sentence': 2, 'runs': 2, 'tea': 2, 'eyewatch': 2, 'auditioning': 2, 'stillhere': 2, 'cbc': 2, 'hindusvscommunists': 2, 'justin': 2, 'expressaddapodcasttalks': 2, 'insidethecrazyantfarm': 2, 'cos': 2, 'scribe': 2, 'owning': 2, 'dictionary': 2, 'womeninmedia': 2, 'fullest': 2, 'credits': 2, 'mjakbarstepdown': 2, 'threats': 2, 'dubai': 2, 'sustainable': 2, 'demeaning': 2, 'er': 2, 'tribune': 2, 'bike': 2, 'talibhussain': 2, 'mondaymood': 2, 'realizing': 2, 'permission': 2, 'peoplemetoo': 2, 'average': 2, 'yearsmetoo': 2, 'murphybrowns': 2, 'reshaped': 2, 'hrs': 2, 'dishonest': 2, 'egacts': 2, 'trudeau': 2, 'meetskavanaugh': 2, 'registerandvote': 2, 'updated': 2, 'procedures': 2, 'embed': 2, 'zerotolerance': 2, 'apologizes': 2, 'asha': 2, 'tours': 2, 'packages': 2, 'deals': 2, 'travels': 2, 'consideration': 2, 'contains': 2, 'normalised': 2, 'olivia': 2, 'awaits': 2, 'figo': 2, 'violenceagainstwomen': 2, 'rewritten': 2, 'dindoshi': 2, 'equity': 2, 'nwmi': 2, 'distance': 2, 'fishery': 2, 'trichy': 2, 'suresh': 2, 'prabhu': 2, 'attaches': 2, 'inon': 2, 'admk': 2, 'according2': 2, 'buddies': 2, 'metoorising': 2, 'flop': 2, 'lekhawashington': 2, 'telugu': 2, 'adirothinks': 2, 'takeaction': 2, 'spreadtheword': 2, 'axe': 2, 'adam': 2, 'kidnapped': 2, 'funded': 2, 'indecent': 2, 'adjourns': 2, 'cyberpolice': 2, 'filescomplaint': 2, 'degogatoryposts': 2, 'priyankaupdendra': 2, 'hurry': 2, 'eventually': 2, 'feminismishypocrisy': 2, 'shakes': 2, 'termed': 2, 'natalie': 2, 'portman': 2, 'mythoughts': 2, 'positivity': 2, 'quoteoftheday': 2, 'quotesaboutlife': 2, 'schumer': 2, 'daliptahil': 2, 'filming': 2, 'epaper': 2, 'glimpse': 2, 'couch': 2, 'zoom': 2, 'skip': 2, 'franklyspeakingwithjkgovernor': 2, 'ayodhyadebate': 2, 'durgapuja': 2, 'durgapuja2018': 2, 'durgapujo2018': 2, 'ralph': 2, 'shortey': 2, 'coordinator': 2, 'ralphshortey': 2, 'bollywoodbubble': 2, 'yougov': 2, 'admit': 2, 'integrity': 2, 'sundays': 2, 'affordable': 2, 'magazines': 2, 'sung': 2, 'buzz': 2, 'yeahis': 2, 'suddenly': 2, 'unite': 2, 'emerge': 2, 'organized': 2, 'inaction': 2, 'technique': 2, 'brigade': 2, 'hannah': 2, 'ball': 2, 'spreading': 2, 'virus': 2, 'arjunsarjafatherinlaw': 2, 'figured': 2, 'disturb': 2, 'dust': 2, 'italian': 2, 'scriptwriter': 2, 'fortunate': 2, 'tagging': 2, 'mesutozil': 2, 'chinmayileaks': 2, 'constituted': 2, 'condition': 2, 'regular': 2, 'changemakers': 2, 'sruthihariharanmetoo': 2, 'protectedmetoo': 2, 'murdered': 2, 'metoosee': 2, 'phony': 2, 'shock': 2, 'whining': 2, 'billion': 2, 'participant': 2, 'base': 2, 'imagination': 2, 'actively': 2, 'eqality': 2, 'repercussions': 2, 'teachthem': 2, 'letstalkmonth': 2, 'honesty': 2, 'advanced': 2, 'streetart': 2, 'conf': 2, 'sthlmtech': 2, 'staging': 2, 'measureformeasure': 2, 'tw': 2, 'painted': 2, 'emerged': 2, 'chargesruthihariharan': 2, 'nights': 2, 'uspolitics': 2, 'shutting': 2, 'selfdefense': 2, 'informs': 2, 'insensitive': 2, 'betrays': 2, 'overcorrection': 2, 'readers': 2, 'damaging': 2, 'gr8': 2, 'actressfiles': 2, 'introspection': 2, 'whatdoyouthink': 2, 'kfi': 2, 'completes': 2, 'cautions': 2, 'dismissed': 2, 'attends': 2, 'middayimpact': 2, 'highlighting': 2, 'middayexclusiveread': 2, 'encouraging': 2, 'shashikiran': 2, 'rana': 2, 'daggubati': 2, 'palmer': 2, 'dhoni': 2, 'sf': 2, 'sing': 2, 'resonate': 2, 'shadows': 2, 'chased': 2, 'maniacal': 2, 'spite': 2, 'warletavnilive': 2, 'bulls': 2, 'galranis': 2, 'pressmeetbyravisrivatsa': 2, 'gandahendthifilm': 2, 'sanjjanaagalraniallegationagainstravisrivatsa': 2, 'nojusticenoseat': 2, 'sharply': 2, 'laughing': 2, 'bet': 2, 'taught': 2, 'wolf': 2, 'sceptical': 2, 'applaud': 2, 'guard': 2, 'metoowe': 2, 'indigenous': 2, 'screens': 2, 'getoutthevote': 2, 'scope': 2, 'madeleine': 2, 'north': 2, 'camera': 2, 'bright': 2, 'agains': 2, 'cup': 2, 'urged': 2, 'washed': 2, 'goswami': 2, 'err': 2, 'hollow': 2, 'mystery': 2, 'cage': 2, 'corporates': 2, 'chetankumar': 2, 'targeting': 2, 'references': 2, 'lil': 2, 'ronan': 2, 'thilakavathi': 2, 'dam': 2, 'swallow': 2, 'car': 2, 'npc2018': 2, 'chhodnamat': 2, 'alam': 2, 'walkawayfromdemocrats': 2, 'snapped': 2, 'absurd': 2, 'snap': 2, 'sphere': 2, 'add': 2, 'somehow': 2, 'varsity': 2, 'reconcile': 2, 'appreciatefor': 2, 'vadachennai': 2, 'metoothiagarajanpressmeetmetooindia': 2, 'expects': 2, 'bombaytimes': 2, 'presidency': 2, 'singhs': 2, 'oscar': 2, 'ngozi': 2, 'unpopular': 2, 'philadelphia': 2, 'oneterm': 2, 'handsy': 2, 'biden': 2, 'catalyst': 2, 'workplacesthatwork': 2, 'lend': 2, 'judged': 2, 'recall': 2, 'revealedbollywood': 2, 'everydaysexism': 2, 'badminton': 2, 'pv': 2, 'sindhu': 2, 'jane': 2, 'intense': 2, 'bare': 2, 'swear': 2, 'trumpgop': 2, 'altright': 2, 'gutta': 2, 'homecoming': 2, 'harry': 2, 'lo': 2, 'chandigarh': 2, 'speakout': 2, 'youarenotalone': 2, 'closet': 2, 'misunderstood': 2, 'roosevelt': 2, 'valkill': 2, 'notmetoo': 2, 'colorado': 2, 'roar': 2, 'subhashkapoor': 2, 'starrer': 2, 'andrea': 2, 'deplorables': 2, 'yenpennaemusiccomposer': 2, 'kumarnarayanan': 2, 'saintunes': 2, 'humble': 2, 'submission': 2, 'sensation': 2, 'cmp': 2, 'stocktrading': 2, 'stocksinnews': 2, 'stockstowatch': 2, 'valueinvesting': 2, 'nifty': 2, 'intraday': 2, 'etmarkets': 2, 'earningswithetnow': 2, 'aibalatkaris': 2, 'exhibition': 2, 'heythanks': 2, 'articleand': 2, 'episodewhyididntreport': 2, 'atrocities': 2, 'rumoured': 2, 'iulia': 2, 'singhwrites': 2, 'respondents': 2, 'complained': 2, 'pulse': 2, 'chest': 2, 'ovation': 2, 'menon': 2, 'grounds': 2, 'complaintagainstarjunsarja': 2, 'aims': 2, 'fragile': 2, 'enormous': 2, 'tues': 2, 'seller': 2, 'listener': 2, 'photographer': 2, 'reduce': 2, 'anthony': 2, 'george': 2, 'lovequotes': 2, 'loveyatri': 2, 'wed': 2, 'lakshmi': 2, 'linkmetoocampaign': 2, 'blessings': 2, 'balaji': 2, 'anna': 2, 'replaced': 2, 'stream': 2, 'theresa': 2, 'transform': 2, 'invisible': 2, 'hinterland': 2, 'verification': 2, 'rubbish': 2, 'resorts': 2, 'smoked': 2, 'consumed': 2, 'trusts': 2, 'toi': 2, 'fromand': 2, 'bait': 2, 'foxandfriends': 2, 'kamala': 2, 'jijabai': 2, 'polytechnic': 2, 'improve': 2, 'encourages': 2, 'jan': 2, 'statistics': 2, 'possibility': 2, 'discredit': 2, 'outing': 2, 'francomulakkal': 2, 'protects': 2, 'radha': 2, 'informative': 2, 'institutions': 2, 'michelleobama': 2, 'organisation': 2, 'bean': 2, 'officials': 2, 'reviewed': 2, 'girlfriends': 2, 'youtholympics': 2, 'arvindkejriwal': 2, 'predicament': 2, 'madhuangana': 2, 'generous': 2, 'grew': 2, 'hired': 2, 'andhadhun': 2, 'lionel': 2, 'shriver': 2, 'believable': 2, 'mentions': 2, 'rice': 2, 'maine': 2, 'boobs': 2, 'robinson': 2, 'extreme': 2, 'useful': 2, 'vehicle': 2, 'reliance': 2, 'painful': 2, 'categories': 2, 'lata': 2, 'mangeshkar': 2, 'features': 2, 'encounter': 2, 'interacting': 2, 'minimum': 2, 'aly': 2, 'oped': 2, 'radharavimetooindia': 2, 'stfu': 2, 'bish': 2, 'cop': 2, 'guns': 2, 'strikes': 2, 'kabilanvairamuthu': 2, 'messagesaysviolence': 2, 'mommy': 2, 'vow': 2, 'calm': 2, 'approved': 2, 'obamaera': 2, 'graphics': 2, 'kettavan': 2, 'saifalikhan': 2, 'ultra': 2, 'shorten': 2, 'misconstrued': 2, 'threw': 2, 'bus': 2, 'library': 2, 'diwali': 2, 'dravid': 2, 'forefront': 2, 'balatkari': 2, 'janta': 2, 'handpicks': 2, 'traffickers': 2, 'ustoo': 2, 'honorary': 2, 'doctorate': 2, 'intentions': 2, 'casteist': 2, 'muelleriscoming': 2, 'lawandorder': 2, 'chadandstacey': 2, 'incel': 2, 'kavanaughmaga': 2, 'mentalityuprisingsvu': 2, 'cafe': 2, 'rakhisawantmetoo': 2, 'postproduction': 2, 'lmfao': 2, 'appropriately': 2, 'treating': 2, 'defenders': 2, 'ravan': 2, 'howard': 2, 'chilling': 2, 'influencers': 2, 'dena': 2, 'diluting': 2, 'sided': 2, 'onpress': 2, 'morten': 2, 'morland': 2, 'bates': 2, 'votes': 2, 'miami': 2, 'remedy': 2, 'unitedwestand': 2, 'gopinath': 2, 'nsui': 2, 'fairoz': 2, 'u4uvoice': 2, 'babujimyass': 2, 'protesting': 2, 'chairman': 2, 'sam': 2, 'salute': 2, 'lvc': 2, 'aunt': 2, 'wonders': 2, 'aiyar': 2, 'womeninstem': 2, 'clients': 2, 'mall': 2, 'felony': 2, 'pervasiveness': 2, 'congratulate': 2, 'ngo': 2, 'kaam': 2, 'yeh': 2, 'disrespectful': 2, 'kiran': 2, 'sanghis': 2, 'greed': 2, 'kuriakose': 2, 'rapistbishop': 2, 'surge': 2, 'kansans': 2, 'schoolsmetoo': 2, 'mera': 2, 'kia': 2, 'atmosphere': 2, 'fueling': 2, 'storyone': 2, 'afterhypocrisyexploiting': 2, 'kanyewestfor': 2, 'approvalratings': 2, 'inquiry': 2, 'insulting': 2, 'trailer': 2, 'wbadebate': 2, 'selforganized': 2, 'grassroots': 2, 'networks': 2, 'sprouted': 2, 'rapport': 2, 'easier': 2, 'elude': 2, 'finger': 2, 'hall': 2, 'claire': 2, 'miller': 2, 'ash': 2, 'jus': 2, 'metoostorm': 2, 'simsr': 2, 'removes': 2, 'bosses': 2, 'convinced': 2, 'maker': 2, 'tree': 2, 'river': 2, 'perception': 2, 'essential': 2, 'wolves': 2, 'sonal': 2, 'nanditadas': 2, 'covers': 2, 'workshops': 2, 'endwvawg': 2, 'vote100': 2, 'maelstrom': 2, 'feministrani': 2, 'replies': 2, 'sob': 2, 'letters': 2, 'enlighten': 2, 'gujaratexodus': 2, 'understood': 2, 'aside': 2, 'redwave2018': 2, 'solo': 2, 'metoou': 2, 'sensible': 2, 'german': 2, 'dropping': 2, 'kk': 2, 'hv': 2, 'heck': 2, 'backing': 2, 'postcard': 2, 'antimen': 2, 'appointed': 2, 'pursue': 2, 'buzzing': 2, 'forand': 2, 'scribes': 2, 'approached': 2, 'promises': 2, 'looked': 2, 'taste': 2, 'hooked': 2, 'soros': 2, 'trunk': 2, 'itsoknottobeok': 2, 'nobelpeaceprize': 2, 'vast': 2, 'bjym': 2, 'ally': 2, 'raises': 2, 'crossing': 2, 'trains': 2, 'myindia': 2, 'dharwad': 2, 'division': 2, 'hamilton': 2, 'hat': 2, 'distressed': 2, 'pub': 2, 'erotic': 2, 'suspense': 2, 'novella': 2, 'lustful': 2, 'pcs': 2, 'paris': 2, 'ibelieveyou': 2, 'screeching': 2, 'keithellison': 2, 'gouridasan': 2, 'mechanisms': 2, 'combined': 2, 'extra': 2, 'robotics': 2, 'iot': 2, 'ditches': 2, 'swara': 2, 'goodbye': 2, 'strategy': 2, 'deliberate': 2, 'raghu': 2, 'dixit': 2, 'rates': 2, 'moore': 2, 'minute': 2, 'chandy': 2, 'sadness': 2, 'sonalvengurlekar': 2, 'rajabajaj': 2, 'courtroom': 2, 'personality': 2, 'spike': 2, 'shanmugarajan': 2, 'auditions': 2, 'script': 2, 'apt': 2, 'increases': 2, 'writerproducer': 2, 'violating': 2, 'verma': 2, 'deliver': 2, 'toarslei': 2, 'arsenal': 2, 'ozil': 2, 'baramura': 2, 'westtripura': 2, 'bajrangpunia': 2, 'leicester': 2, 'suitable': 2, 'length': 2, 'continued': 2, 'enabling': 2, 'letting': 2, 'managed': 2, 'athletes': 2, 'youths': 2, 'sriram': 2, 'jackson': 2, 'barely': 2, 'nadu': 2, 'scores': 2, 'equals': 2, 'ruffled': 2, 'fingers': 2, 'peaceful': 2, 'sabrimalaverdict': 2, 'league': 2, 'wat': 2, 'hip': 2, 'lagta': 2, 'daring': 2, 'fairy': 2, 'referring': 2, 'nadigar': 2, 'sangam': 2, 'bothers': 2, 'suppressing': 2, 'cropped': 2, 'increasing': 2, 'household': 2, 'weird': 2, 'decent': 2, 'scholar': 2, 'mananwani': 2, 'armyindependenceday': 2, 'concrete': 2, 'assist': 2, 'critics': 2, 'jamal': 2, 'gotta': 2, 'freakin': 2, 'sun': 2, 'comprehension': 2, 'illiterates': 2, 'utar': 2, 'whereas': 2, 'staggering': 2, 'laughable': 2, 'prabhas': 2, 'landmark': 2, 'presser': 2, 'childhood': 2, 'blrlitfest2018': 2, 'boom': 2, 'showcause': 2, 'surfaces': 2, 'honorable': 2, 'prey': 2, 'consuming': 2, 'poison': 2, 'ganda': 2, 'hendathi': 2, 'gandahendthi': 2, 'sanjanavsravisrivatsa': 2, 'clout': 2, 'anshuman': 2, 'misra': 2, 'barron': 2, 'ivanka': 2, 'returning': 2, 'siding': 2, 'gal': 2, 'kyrsten': 2, 'sinema': 2, 'azfamily': 2, 'neversinema': 2, 'azsen': 2, 'ineveraskforit': 2, 'largely': 2, 'sydney': 2, 'attaching': 2, 'straits': 2, 'artificialintelligence': 2, 'datascience': 2, 'corrupt': 2, 'trained': 2, 'volunteers': 2, 'unsaid': 2, 'complains': 2, 'toy': 2, 'tum': 2, 'koi': 2, 'kashmiri': 2, 'pages': 2, 'block': 2, 'dollars': 2, 'libtards': 2, 'certainly': 2, 'mix': 2, 'teaparty': 2, 'dental': 2, 'lee': 2, 'curtis': 2, 'kicking': 2, 'uprising': 2, 'forhow': 2, 'bsp': 2, 'ticktock': 2, 'disease': 2, 'cigarette': 2, 'ab': 2, 'jacquelinefernandez': 2, 'esquire': 2, 'bryan': 2, 'bryansinger': 2, 'involves': 2, 'nofear': 2, 'kuch': 2, 'jo': 2, 'dum': 2, 'hain': 2, 'relatives': 2, 'partnered': 2, 'withto': 2, 'findings': 2, 'pervasive': 2, 'ohio': 2, 'socialjustice': 2, 'libs': 2, 'respecting': 2, 'producing': 2, 'relate': 2, 'rachmuth': 2, 'chronicpain': 2, 'literature': 2, 'absence': 2, 'backfires': 2, 'jg': 2, 'attacksfinancial': 2, 'stooped': 2, 'favour': 2, 'ofchitralokametoocampaign': 2, 'hustle': 2, 'thomas': 2, 'louder': 2, 'dissent': 2, 'coco': 2, 'eventtalking': 2, 'ukemplaw': 2, 'ehrc': 2, 'abortion': 2, 'ratify': 2, 'louisiana': 2, 'carolina': 2, 'untill': 2, 'oftalks': 2, 'remark': 2, 'congratulations': 2, 'hacking': 2, 'saveavni': 2, 'sea': 2, 'kooda': 2, 'humans': 2, 'noshame': 2, 'saam': 2, 'healmetoo': 2, 'rolled': 2, 'mahindra': 2, 'intelligent': 2, 'artwork': 2, 'miscreants': 2, 'tkn': 2, 'galvanized': 2, 'kannadaactor': 2, 'arjunandsruthi': 2, 'coas': 2, 'narcissisticabuse': 2, 'emotionalabuse': 2, 'pioneer': 2, 'nsw': 2, 'mitchell': 2, 'willey': 2, 'admitting': 2, 'groped': 2, 'defqon': 2, 'penrith': 2, 'argued': 2, 'constable': 2, 'reviews': 2, 'joe': 2, 'unknown': 2, 'rightly': 2, 'socalled': 2, 'notallmen': 2, 'jenny': 2, 'yang': 2, 'critiques': 2, 'ayushmannkhurrana': 2, 'standwithstormy': 2, 'liberation': 2, 'womanlikeme': 2, 'entertain': 2, 'digs': 2, 'balances': 2, 'gained': 2, 'kokilamohan': 2, 'outcome': 2, 'census': 2, 'compete': 2, 'whistleblower': 2, 'bonham': 2, 'lehren': 2, 'income': 2, 'substance': 2, 'plans': 2, 'aarp': 2, 'roofie': 2, 'tender': 2, 'webelieveyou': 2, 'behaviors': 2, 'genderneutrallaws': 2, 'someones': 2, 'noble': 2, 'correctlynotmypresident': 2, 'fbr': 2, 'allegationsrahuleaswar': 2, 'jump': 2, 'unfit': 2, 'sharrimarkson': 2, 'blouses': 2, 'withand': 2, 'femininity': 2, 'weaponizing': 2, 'distress': 2, 'stacey': 2, 'abrams': 2, 'rosie': 2, 'spokenword': 2, 'france': 2, 'assure': 2, 'crowd': 2, 'impression': 2, 'sundar': 2, 'sturgeon': 2, 'naari': 2, 'congi': 2, 'meethu': 2, 'newsom': 2, 'slept': 2, 'feeds': 2, 'goodmorning': 2, 'delhimodels': 2, 'hellosago': 2, 'democratsaredangerous': 2, 'declaration': 2, 'incredibleindia': 2, 'wrongs': 2, 'kyare': 2, 'trumpcrimefamily': 2, 'boutique': 2, 'specta': 2, 'stops': 2, 'rainbow': 2, 'betibachao': 2, 'slogan': 2, 'suggest': 2, 'nativeamerican': 2, 'bestdiwaligift': 2, 'valmikijayanti': 2, 'nearby': 2, 'appear': 2, 'countless': 2, 'theirs': 2, 'stlouis': 2, 'lawsuits': 2, 'keiraknightley': 2, 'lbtq': 2, 'trumpcolluded': 2, 'traffic': 2, 'generally': 2, 'truthful': 2, 'bhanwari': 2, 'invitation': 2, 'checks': 2, 'cancer': 2, 'subhashghai': 2, 'quoted': 2, 'hurts': 2, 'suppose': 2, 'multan': 2, 'frame': 2, 'nationaldessertday': 2, 'casts': 2, 'dem': 2, 'degrading': 2, 'sripaada': 2, 'judgements': 2, 'hoping': 2, 'priyanka': 2, 'scornful': 2, 'anxious': 2, 'beauvoir': 2, 'sexualevolution': 2, 'avennati': 2, 'sonamohapatra': 2, 'pedophilia': 2, 'disagree': 2, 'milkman': 2, 'troubles': 2, 'herstory': 2, 'vendetta': 2, 'medal': 2, 'unzipped': 2, 'ratio': 2, 'shatrughansinha': 2, 'shruti': 2, 'temple': 2, 'lesley': 2, 'informal': 2, 'purushaayog': 2, 'square': 2, 'hajar': 2, 'aswad': 2, 'fitted': 2, 'kaaba': 2, 'merciful': 2, 'glance': 2, 'goharshahi': 2, 'settles': 2, 'choudhary': 2, 'owe': 2, 'badass': 2, 'powerofwomen': 2, 'occurred': 2, 'pop': 2, 'savvy': 2, 'prohibit': 2, 'usclimate': 2, 'commoncause': 2, 'match': 2, 'showed': 2, 'thein': 2, 'sr': 2, 'grabbed': 2, 'news9': 2, 'existed': 2, 'odious': 2, 'tammy': 2, 'passing': 2, 'gagas': 2, 'shorts': 2, 'bookstore': 2, 'tsunami': 2, 'sellbuydate': 2, 'evangelicals': 2, 'relaunching': 2, 'howwillwerespond': 2, 'bystanderintervention': 2, 'fiasco': 2, 'wifes': 2, 'application': 2, 'aajtak': 2, 'delayed': 2, 'activities': 2, 'cokestudio11': 2, 'motherhood': 2, 'embrace': 2, 'mutual': 2, 'circulated': 2, 'acceptable': 2, 'minded': 2, 'expecting': 2, 'princeharry': 2, 'str': 2, 'teenagers': 2, 'presstitutes': 2, 'halwa': 2, 'peoplescourt': 2, 'renamed': 2, 'traitors': 2, 'nationalfarmersday': 2, 'barkhadutt': 2, 'portrait': 2, 'beaware': 2, 'knowyourrights': 2, 'witnessing': 2, 'pretext': 2, 'define': 2, 'womensreality': 2, 'skeleton': 2, 'overflowing': 2, 'applies': 2, 'odia': 2, 'widows': 2, 'mag': 2, 'yeg': 2, 'shonali': 2, 'trapped': 2, 'gofundme': 2, 'alberta': 2, 'reads': 2, 'tometoo': 2, 'restore': 2, 'adanigroup': 2, 'patriarch': 2, 'liye': 2, 'amvi2017': 2, 'dalit': 2, 'assaulter': 2, 'continuing': 2, 'inclusivity': 2, 'danger': 2, 'chalamet': 2, 'trumptreason': 2, 'affidavit': 2, 'whom': 2, 'historically': 2, 'appalls': 2, 'womenswave': 2, 'jog': 2, 'eventprofs': 2, 'stuck': 2, 'fears': 2, 'differentiate': 2, 'blogger': 2, 'uhh': 2, 'wanna': 2, 'expiry': 2, 'wider': 2, 'sonirazdan': 2, 'endvawg': 2, 'latha': 2, 'rajinikath': 2, 'lovers': 2, 'weekargues': 2, 'aishwaryaraibachchan': 2, 'twists': 2, 'workplacemetoo': 2, 'impacts': 2, 'familiesbelongtogether': 2, 'achievements': 2, 'sana': 2, 'spray': 2, 'hauled': 2, 'emoji': 2, 'regulation': 2, 'viswasampongal2019': 2, 'smritionrighttopray': 2, 'citizenshipbillfaceoff': 2, 'arnabconfrontsrahuleaswar': 2, 'urdugitacontroversy': 2, 'mutually': 2, 'indianapolis': 2, 'warned': 2, 'theand': 2, 'edited': 2, 'hotshots': 2, 'fung': 2, 'creatures': 2, 'prashantsambargi': 2, 'firagainstprashantsambargi': 2, 'lsu': 2, 'saved': 2, 'reminds': 2, 'linked': 2, 'shilpashinde': 2, 'happiness': 2, 'hostel': 2, 'tale': 2, 'cheerleaders': 2, 'appreciation': 2, 'makers': 2, 'digest': 2, 'prompted': 2, 'relations': 2, 'extensive': 2, 'suchitra': 2, 'rages': 2, 'ledford': 2, 'believethevictim': 2, 'mcgoingstrong': 2, 'develop': 2, 'ibelievedrford': 2, 'titled': 2, 'heights': 2, 'detailsarjunsarja': 2, 'airteldelhihalfmarathon': 2, 'adhm2018': 2, 'amritsartrainaccident': 2, 'collaboration': 2, 'erroneous': 2, 'schedule': 2, 'goat': 2, 'calf': 2, 'dealt': 2, 'campuses': 2, 'soup': 2, 'joginis': 2, 'pradesh': 2, 'laureate': 2, 'mensrightsarehumanrights': 2, 'participating': 2, 'brijesh': 2, 'dhillukudhuddu2': 2, 'fakemetoo': 2, 'shower': 2, 'misandry': 2, 'wings': 2, 'romantic': 2, 'woh': 2, 'reforms': 2, 'awardwinningtheatre': 2, 'reluctant': 2, 'mesioux': 2, 'avoiding': 2, 'fucktrump': 2, 'photoshop': 2, 'baazaar': 2, 'pastors': 2, 'decides': 2, 'intervene': 2, 'trials': 2, 'saturdaymotivation': 2, 'nicely': 2, 'domain': 2, 'propagate': 2, 'worry': 2, 'strongertogether': 2, 'stunned': 2, 'autonomy': 2, 'chinne': 2, 'nawazuddin': 2, 'manjari': 2, 'teenage': 2, 'huntress': 2, 'heated': 2, 'zone': 2, 'itoo': 2, 'giveaway': 2, 'bullet': 2, 'blackmailing': 2, 'drinking': 2, 'answered': 2, 'summary': 2, 'justification': 2, 'breakinghas': 2, 'bureau': 2, 'atwith': 2, 'passage': 2, 'cronyism': 2, 'pleas': 2, 'posters': 2, 'withyou': 2, 'harassmentreports': 2, 'courier': 2, 'behaved': 2, 'brexit': 2, 'liberalism': 2, 'upto': 2, 'detailed': 2, 'hc': 2, 'vukmir': 2, 'metoosundayfunday': 2, 'abdulali': 2, 'daum': 2, 'evolve': 2, 'unified': 2, 'sexualharrasement': 2, 'dismembered': 2, 'dsbwearedsb': 2, 'electronicmusic': 2, 'rockmusic': 2, 'metoocsa': 2, 'talkaboutit': 2, 'unspokentruth': 2, 'truthownit': 2, 'hay': 2, 'shortsleeve': 2, 'tshirtclothing': 2, 'openingdoors': 2, 'verdict': 2, 'lyrist': 2, 'infosys': 2, 'bpo': 2, 'musical': 2, 'harmed': 2, 'bandwagon': 2, 'enforced': 2, 'sexes': 2, 'failure': 2, 'identified': 2, 'mitu': 2, 'dat': 2, 'movemnt': 2, 'falserapecase': 2, 'infosec': 2, 'withwas': 2, 'thefive': 2, '5': 2, 'chasing': 2, 'declined': 2, 'corners': 2, 'thirds': 2, 'attendants': 2, 'preventing': 2, 'organising': 2, 'agreements': 2, 'humiliating': 2, 'punishing': 2, 'ideology': 2, 'heavy': 2, 'condone': 2, 'ka': 2, 'ideological': 2, 'singers': 2, 'shwetapandit': 2, 'exemployee': 2, 'bison': 2, 'ride': 2, 'coin': 2, 'shadow': 2, 'promptly': 2, 'minneapolis': 2, 'smooth': 2, 'humanitarian': 2, 'theocratic': 2, 'santhi': 2, 'alis': 2, 'onfor': 2, 'stopsexualabuse': 2, 'benghazi': 2, 'tortured': 2, 'reexamining': 2, 'convenient': 2, 'prostitutes': 2, 'basics': 2, 'proposition': 2, 'rera': 2, 'redirects': 2, 'safeandsupportiveschools': 2, 'braveeducation': 2, 'blasts': 2, 'saga': 2, 'haha': 2, 'shyamsundar': 2, 'manipulative': 2, 'sadaf': 2, 'kanwal': 2, 'dokoupil': 2, 'tradeshow': 2, 'dmkeynotes': 2, 'infotainment': 2, 'colege': 2, 'manglik': 2, 'remedies': 2, 'billclinton': 2, 'figo2018': 2, 'speed': 2, 'favors': 2, 'nationalcomingoutday': 2, 'ceremony': 2, 'dose': 2, 'pinqmagazine': 2, 'morgan': 2, 'iron': 2, 'moms': 2, 'fordthefraud': 2, 'startup': 2, 'shapiro': 2, 'conservatives': 2, 'waveoflight': 2, 'internationalbabylossawarenessday': 2, 'honorees': 2, 'premier': 2, 'supply': 2, 'chains': 2, 'interaction': 2, 'skewed': 2, 'bitch': 2, 'banning': 2, 'pornban': 2, 'marriages': 2, 'embodies': 2, 'listened': 2, 'awaymetoo': 2, 'breathe': 2, 'gaffe': 2, 'unsung': 1, 'schneiderman': 1, 'forerunner': 1, 'nivetha': 1, 'pethuraj': 1, 'partythimirupudichavan': 1, 'thimirupudichavanfromdiwali': 1, 'nivethapethuraj': 1, 'leenamanimegali': 1, 'kanthaswamy': 1, 'zeroes': 1, 'wtfisthis': 1, 'sayscartoon': 1, 'selvanlka': 1, 'politcalcrisislk': 1, 'constitutionalcrisislk': 1, 'couplk': 1, 'pmchangedsl': 1, 'smug': 1, 'immune': 1, 'consequence': 1, 'abdulalimetooindia': 1, 'frank': 1, 'ewopinion': 1, 'kinergysurvivors': 1, 'requisites': 1, 'motto': 1, 'sperm': 1, 'donors': 1, 'positiveprogress': 1, 'whitehousepainting': 1, 'symbolically': 1, 'canvas': 1, 'joyful': 1, 'dejected': 1, 'joyless': 1, 'expressionless': 1, 'geoffreyrush': 1, 'brendon': 1, 'allister': 1, 'vikasbhal': 1, 'musically': 1, 'diandra': 1, 'soares': 1, 'sayswhile': 1, 'whove': 1, 'tarungogoi': 1, 'arise': 1, 'accusevia': 1, 'aegis': 1, 'meritorious': 1, 'democrate': 1, 'quality': 1, 'dss': 1, 'bafoonscps': 1, 'breastcancerawarnessmonth': 1, 'robporter': 1, 'jimjordan': 1, 'billshine': 1, 'butstarted': 1, 'terminologyvia': 1, 'honoreeenvisions': 1, 'irani': 1, 'stellagibson': 1, 'indulge': 1, 'invoke': 1, 'embattled': 1, 'afridarahmanali': 1, 'avoided': 1, 'reactive': 1, 'embroiled': 1, 'silencehelp': 1, 'harm': 1, 'mettoo': 1, 'linkentertainment': 1, 'bowled': 1, 'energetic': 1, 'teamteam': 1, 'splendid': 1, 'mumtaz': 1, 'onthaarumaarudharbar': 1, 'nanavstanusree': 1, 'beinghuman': 1, 'mouthed': 1, 'grade': 1, 'trough': 1, 'domesticviolencesurvivor': 1, 'arias': 1, 'billkavanaugh': 1, 'brettshorten': 1, 'melindahillcomedy': 1, 'watercolor': 1, 'shroffjackie': 1, 'atcinemashowbiz': 1, 'signatories': 1, 'thingy': 1, 'mann': 1, 'scarier': 1, 'ians': 1, 'sugandha': 1, 'schooluniform': 1, 'attentionpresident': 1, 'onatitsnotok': 1, 'girlsrights': 1, 'opportunists': 1, 'shamers': 1, 'cowards': 1, 'pretend': 1, 'bigotry': 1, 'residence': 1, 'noon': 1, 'topicmetoomovement': 1, 'genderroles': 1, 'casually': 1, 'beautyandthebeast': 1, 'thamilan': 1, 'thenga': 1, 'manga': 1, 'serendipity': 1, 'wrapping': 1, 'womenmarch': 1, 'opine': 1, 'juanita': 1, 'aremetoovia': 1, 'petrified': 1, 'protagonists': 1, 'aiwc': 1, 'insisting': 1, 'pulpit': 1, 'suhelseths': 1, 'girlswanktoo': 1, 'roomcatch': 1, 'thompsondiscussing': 1, 'persist': 1, 'breakup': 1, 'alanis': 1, 'morissette': 1, 'jagged': 1, 'withnominateddirector': 1, 'kirby': 1, 'dickarmy': 1, 'nidia': 1, 'doctrinemetoo': 1, 'ta': 1, 'dametooin': 1, 'continuation': 1, 'metoobeen': 1, 'appeared': 1, 'usawebreviews': 1, 'turnouttuesday': 1, 'sayhername': 1, 'iremembernicole': 1, 'nomorenicoles': 1, 'expense': 1, 'samar': 1, 'halarnkar': 1, 'postion': 1, 'casualties': 1, 'disasters': 1, 'blessing': 1, 'stoplyinbrian': 1, 'gopjimcrow': 1, 'protectthevote': 1, 'bringithome': 1, 'sharon': 1, 'hernamewasjennytellmeyouresorry': 1, 'depphead': 1, 'amber': 1, 'johnny': 1, 'screenwriter': 1, 'prenupyoure': 1, 'tooth': 1, 'latelytheresistabce': 1, 'dontjustgiveadamn': 1, 'texting': 1, 'nomoreexcuses': 1, 'enddomesticviolence': 1, 'miranda': 1, 'fricker': 1, 'notknowing': 1, 'epistemic': 1, 'samyuktha': 1, 'hegde': 1, 'samyukthahegde': 1, 'samyukthahegdebackssruthihariharan': 1, 'kirikparty': 1, 'praisecourage': 1, 'samyukthahegdeagainstarjunsarja': 1, 'veteransmade': 1, 'positivediscipline': 1, 'momliferaisingfuturevoters': 1, 'subinspector': 1, 'constables': 1, 'checkpoint': 1, 'rampura': 1, 'metoobangladesh': 1, 'bangladesh': 1, 'renuka': 1, 'shahane': 1, 'nuanced': 1, 'jiomamiwithstar2018metoo': 1, 'renukashahane': 1, 'rescheduling': 1, 'ku': 1, 'katiebrennan': 1, 'philtoonjpolitics': 1, 'njsenatemetoo': 1, 'seriessubhashkapoor': 1, 'enrmetoo': 1, 'startrekmetoo': 1, 'msalso': 1, 'feetoo': 1, 'privateschools': 1, 'regulations': 1, 'feeasperlaw': 1, 'vdemand': 1, 'voucher': 1, 'fury': 1, 'bytimely': 1, 'highoctane': 1, 'metoosuspense': 1, 'whatand': 1, 'magats': 1, 'capacity': 1, 'notmypresident': 1, 'instance': 1, 'manspreading': 1, 'merging': 1, 'banks': 1, 'profit': 1, 'scumbag': 1, 'aided': 1, 'waityour': 1, 'pip': 1, 'flip': 1, 'percentage': 1, 'tamra': 1, 'metoocontroversycartoonoftheday': 1, 'seobean': 1, 'bluemetoo': 1, 'rulebook': 1, 'tojusticeandequalityfund': 1, 'appointing': 1, 'solicitor': 1, 'improving': 1, 'victimsurvivors': 1, 'exceptions': 1, 'abide': 1, 'isupportarjunsarja': 1, 'symbol': 1, 'denegrate': 1, 'accrue': 1, 'psychopath': 1, 'patient': 1, 'beginner': 1, 'exceeds': 1, 'chor': 1, 'spine': 1, 'mahanayak': 1, 'mahanalayak': 1, 'anyways': 1, 'happybirthdayamitabhbachchan': 1, 'periyarists': 1, 'dravidians': 1, 'insultson': 1, 'samacheer': 1, 'kalvis': 1, 'syllabus': 1, 'bonguness': 1, 'dubakurness': 1, 'adayinporalislife': 1, 'brutalism': 1, 'trembling': 1, 'riseabove': 1, 'boost': 1, 'forsourcemetoo': 1, 'roiling': 1, 'quartz': 1, 'creepypornlawyer': 1, 'basta': 1, 'principle': 1, 'cbivscbibring': 1, 'whatsays': 1, 'billclintonisarapist': 1, 'bind': 1, 'puppet': 1, 'diffe': 1, 'atodisha': 1, 'jion': 1, 'muchneeded': 1, 'mumbaiwithhere': 1, 'andsets': 1, 'ishant': 1, 'comer': 1, 'relatable': 1, 'growingupagirl': 1, 'ot': 1, 'ammametoo': 1, 'mailers': 1, 'distort': 1, 'instant': 1, 'finish': 1, 'vernacular': 1, 'thisislife': 1, 'personaldevelopment': 1, 'dressing': 1, 'boardroom': 1, 'couture': 1, 'cocktail': 1, 'picks': 1, 'ss19iflauntme': 1, 'thesuit': 1, 'feministmovement': 1, 'fw18': 1, 'amandla': 1, 'stenberg': 1, 'rains': 1, 'camelback': 1, 'rain': 1, 'fishingtrip': 1, 'cbdoil': 1, 'deem': 1, 'saturdaymorning': 1, 'underway': 1, 'harmonize': 1, 'committment': 1, 'messiah': 1, 'cruelty': 1, 'weaved': 1, 'persecution': 1, 'dropsfrom': 1, 'latter': 1, 'sufferred': 1, 'preying': 1, 'pvr': 1, 'ithappenedatmami2018': 1, 'gurudevtalks': 1, 'natashjarathore': 1, 'sanasaeed': 1, 'mandakinigahlot': 1, 'personalpower': 1, 'stepsleadwithpersonalpower': 1, 'womenspeakers': 1, 'strugglenomore': 1, 'riseuptogether': 1, 'healthyrelationships': 1, 'objectification': 1, 'brownon': 1, 'talktokidsgirlstoo': 1, 'calculated': 1, 'hacks': 1, 'newrelease': 1, 'bookalert': 1, 'byis': 1, 'aboutdont': 1, 'apologizing': 1, 'mistakehad': 1, 'withnasty': 1, 'equally': 1, 'impressed': 1, 'withtouchingarse': 1, 'thejonathanrosshow': 1, 'perve': 1, 'rupan': 1, 'starlets': 1, 'bridging': 1, 'welcomesto': 1, 'sadhvi': 1, 'pragya': 1, 'upside': 1, 'policemen': 1, 'unconscious': 1, 'shamehasnt': 1, 'rectified': 1, 'shoddy': 1, 'corruptindia': 1, 'monstrousmalgovernance': 1, 'expectworse': 1, 'dangers': 1, 'fri': 1, 'octmore': 1, 'sakhuja': 1, 'matthewheld': 1, 'selfglorification': 1, 'floridapanhandle': 1, 'garimapura': 1, 'mcnair': 1, 'conventschool': 1, 'arranges': 1, 'shrutihariran': 1, 'nonfiction': 1, 'drakememe': 1, 'highschooldxd': 1, 'abcbrisbaneradio': 1, 'jd': 1, 'wwe': 1, 'cancelcrownjewel': 1, 'materialism': 1, 'asalbum': 1, 'insinuations': 1, 'sheknew': 1, 'heknew': 1, 'theyallknew': 1, 'agendadrivenlies': 1, 'matt': 1, 'lauers': 1, 'lair': 1, 'happybreitbart': 1, 'dissolving': 1, 'lucia': 1, 'detective': 1, 'coached': 1, 'sincelaunched': 1, 'recourse': 1, 'echoed': 1, 'froms': 1, 'tommorow': 1, 'vprakash': 1, 'aptmetoo': 1, 'susiganesanmeetooindia': 1, 'metookollywood': 1, 'dick': 1, 'cavett': 1, 'proclamation': 1, 'exhibits': 1, 'shekhar': 1, 'suman': 1, 'mania': 1, 'manasi': 1, 'phadkereports': 1, 'namamigange': 1, 'animalslivesmatter': 1, 'donewelcome': 1, 'seculars': 1, 'commies': 1, 'convergence': 1, 'divergence': 1, 'decolonial': 1, 'azadi': 1, 'soco': 1, 'naxal': 1, 'murderous': 1, 'maoist': 1, 'womenmovela': 1, 'spiderman': 1, 'sameer': 1, 'anjaan': 1, 'supportingshe': 1, 'ofamalapaul': 1, 'lakshmy': 1, 'ramakrishnan': 1, 'quitsindianidol': 1, 'mored': 1, 'moremondaythoughts': 1, 'uscmpa': 1, 'vasundhararaje': 1, 'letavniliveif': 1, 'judgeanumalik': 1, 'whispers': 1, 'obsession': 1, 'cyclical': 1, 'culpability': 1, 'oppose': 1, 'illtreatment': 1, 'abdulaliauthorinterview': 1, 'mattered': 1, 'classy': 1, 'glorifies': 1, 'casanovas': 1, 'dolls': 1, 'presents': 1, 'bydistinguished': 1, 'atoct': 1, 'lecturekyle': 1, 'morrow': 1, 'affairsrelinquished': 1, 'wef': 1, 'octmetoo': 1, 'dorm': 1, 'imperfection': 1, 'itgetsbetter': 1, 'technically': 1, 'flappers': 1, 'tournament': 1, 'preparedness': 1, 'prakruthifarms': 1, 'weekendhome': 1, 'farmland': 1, 'kms': 1, 'rhinestone': 1, 'shoe': 1, 'decals': 1, 'uo0023metoo': 1, 'commissioncalls': 1, 'fromgirlhero': 1, 'smoothies': 1, 'costa': 1, 'rica': 1, 'breakout': 1, 'indiana': 1, 'women4change': 1, 'thefutureisfemale': 1, 'harassement': 1, 'universal': 1, 'dido': 1, 'les': 1, 'demoiselles': 1, 'lifedrawing': 1, 'shreds': 1, 'powerless': 1, 'workplacesays': 1, 'casualty': 1, 'onis': 1, 'whilein': 1, 'firing': 1, 'kannadacinema': 1, 'trumpcrimesyndicate': 1, 'withdrawn': 1, 'trait': 1, 'retracted': 1, 'lurking': 1, 'selective': 1, 'tehrikeniswan': 1, 'focusing': 1, 'sculpture': 1, 'reckoned': 1, 'succumbing': 1, 'woodstock': 1, 'feed': 1, 'sonytv': 1, 'spsas': 1, 'outnumbered': 1, 'harshikapoonachaonmetoo': 1, 'metoomisused': 1, 'jiomamiwithstar2018kabirkhan': 1, 'alpha': 1, 'atis': 1, 'ankitametooindia': 1, 'rallykmov': 1, 'movementurges': 1, 'criminalhelpmemynation': 1, 'powertothepolls': 1, 'alligations': 1, 'maharashtratoday': 1, 'mate': 1, 'webwebtrafic': 1, 'templates': 1, 'webdesign': 1, 'socialmediamarketing': 1, 'networkmarketing': 1, 'onlinemarketing': 1, 'salimsulaiman': 1, 'actressharshikapoonacha': 1, 'harassedbyfemaleactors': 1, 'itsnot': 1, 'itsclearly': 1, 'luther': 1, 'resonates': 1, 'abuseisgenderless': 1, 'abusersaregenderless': 1, 'neilpatrickharris': 1, 'expectmore': 1, 'sexvia': 1, 'dirtytricks': 1, 'atwe': 1, 'peer': 1, 'mementalhealthawareness': 1, 'coloradoharveyweinstein': 1, 'inifite': 1, 'shashi': 1, 'tharoor': 1, 'ctc': 1, 'season7': 1, 'portraying': 1, 'youandmetoo': 1, 'dangal': 1, 'contemporarydance': 1, 'url': 1, 'calvin': 1, 'antifaterrorists': 1, 'ministerreports': 1, 'undergoing': 1, 'crackdown': 1, 'celebratedajopinion': 1, 'gazette': 1, 'harassmentanumalik': 1, 'entertainmentnews': 1, 'bisht': 1, 'sharmas': 1, 'sayvianews': 1, 'allegationsbollywood': 1, 'halal': 1, 'produce': 1, 'etailers': 1, 'mobiles': 1, 'ipads': 1, 'tier': 1, 'dolteconomists': 1, 'abhi': 1, 'mandi': 1, 'harassersvia': 1, 'mustread': 1, 'experiment': 1, 'archdiocese': 1, 'franks': 1, 'filmregister': 1, 'livemetooindia': 1, 'ellendegeneres': 1, 'suppressedemotions': 1, 'untoldstories': 1, 'dontholdback': 1, 'narrativetherapy': 1, 'psychotherapy': 1, 'indianpsychologist': 1, 'psychologistindia': 1, 'mentalhealthindia': 1, 'depressioncauses': 1, 'tonyrobbinsquotes': 1, 'sadhguruquotes': 1, 'oshoquotes': 1, 'coachformind': 1, 'unconsciousmind': 1, 'clip': 1, 'daterape': 1, 'inescapable': 1, 'genderswapping': 1, 'measureformeasureis': 1, 'flawed': 1, 'resonance': 1, 'journalistfor': 1, 'meaningful': 1, 'maledominated': 1, 'slate': 1, 'cluster': 1, 'meinterview': 1, 'ongave': 1, 'daretolead': 1, 'nationwide': 1, 'girlchild': 1, 'boycott': 1, 'murderer': 1, 'grindelia': 1, 'bhattacharya': 1, 'cvegaislas': 1, 'pinterest': 1, 'worshipped': 1, 'parodevi': 1, 'writerdenies': 1, 'emotionally': 1, 'logistically': 1, 'nonu': 1, 'detain': 1, 'totata': 1, 'terminatescontract': 1, 'modesty_in_islam': 1, 'pryag': 1, 'riveting': 1, 'detroit': 1, 'out4life': 1, 'reentry': 1, 'coalitions': 1, 'buckeye': 1, 'abigail': 1, 'founderthank': 1, 'purchased': 1, 'dontyouthink': 1, 'sushantsinghrajputbeyondmarket': 1, 'howeverr': 1, 'eviscerated': 1, 'anitahill': 1, 'freewayblogger': 1, 'sexualon': 1, 'enr': 1, 'storiesusrc': 1, 'argues': 1, 'tightens': 1, 'ghomeshi': 1, 'dancetheatre': 1, 'systemyyc': 1, 'yycarts': 1, 'messagemetoo': 1, 'shrm': 1, 'expo': 1, 'ac': 1, 'herei': 1, 'colaba': 1, 'butterflies': 1, 'fanciness': 1, 'byduring': 1, 'withlets': 1, 'jeannie': 1, 'suk': 1, 'gerson': 1, 'leadershipprofedwil': 1, 'unflinching': 1, 'timesuptake': 1, 'countsmetoo': 1, 'supportpetition': 1, 'pour': 1, 'tiring': 1, 'exhausting': 1, 'crossfire': 1, 'karvachauth2018': 1, 'yeti': 1, 'aftergave': 1, 'sharman': 1, 'joshi': 1, 'allegationsmetooindia': 1, 'enabled': 1, 'geographical': 1, 'underrepresented': 1, 'changemetoomentum': 1, 'newsalert': 1, 'cmandmp': 1, 'kc': 1, 'venugopal': 1, 'joincosponsoring': 1, 'emphatically': 1, 'walls': 1, 'eventfreethemall': 1, 'survivedandpunished': 1, 'bapu': 1, 'mkg': 1, 'filmy': 1, 'baapu': 1, 'femunist': 1, 'bythe': 1, 'mediacrooks': 1, 'stinking': 1, 'creekfeminism': 1, 'sexpredators': 1, 'doctorneeds': 1, 'asap': 1, 'canhetoo': 1, 'mughals': 1, 'britishers': 1, 'fridaycopolitics': 1, 'hurricaneseason': 1, 'whatmy': 1, 'gd': 1, 'eff': 1, 'stopping': 1, 'chargesrahuleaswar': 1, 'integral': 1, 'withwho': 1, 'mahilabol': 1, 'peach': 1, 'eachto': 1, 'espn': 1, 'espnw': 1, 'metoomoney': 1, 'ist': 1, 'againstceo': 1, 'kehti': 1, 'timesupclean': 1, 'scum': 1, 'valensdvam': 1, 'survivorspeaks': 1, 'pedowood': 1, 'aka': 1, 'knowingly': 1, 'pitched': 1, 'bys': 1, 'affixed': 1, 'signatures': 1, 'accompanied': 1, 'follo4folloback': 1, 'follobackforfolloback': 1, 'follome': 1, 'imprisoned': 1, 'boardmetoo': 1, 'nowalso': 1, 'reflective': 1, 'alike': 1, 'tormentors': 1, 'metoodcw': 1, 'indication': 1, 'francis': 1, 'fukuyama': 1, 'fornewsnight': 1, 'rosearmy': 1, 'harveyweinsteinany': 1, 'bm': 1, 'alokvermabring': 1, 'ona': 1, 'contemplates': 1, 'applauds': 1, 'adolescence': 1, 'sarojini': 1, 'naidu': 1, 'rhea': 1, 'jalebi': 1, 'awomansworduk': 1, 'videoforget': 1, 'thatsexual': 1, 'notbuyingit': 1, 'womennotobjects': 1, 'description': 1, 'tara': 1, 'stint': 1, 'complaintsvia': 1, 'simbu': 1, 'relative': 1, 'nowmetoo': 1, 'coffee': 1, 'dist': 1, 'collector': 1, 'electoral': 1, 'evm': 1, 'allnew': 1, 'instudio': 1, 'wellstone': 1, 'sierra': 1, 'survivoralong': 1, 'bhavnagar': 1, 'instructorgujarat': 1, 'survivorsbeauty': 1, 'bqopinion': 1, 'vishakha': 1, 'signatory': 1, 'urvashi': 1, 'butalia': 1, 'acquaintances': 1, 'clientwho': 1, 'omigod': 1, 'publicis': 1, 'ishrath': 1, 'nawaz': 1, 'lodges': 1, 'dsact2018': 1, 'itsnotove': 1, 'missed': 1, 'atgwade': 1, 'deacondirty': 1, 'gwaderadioshow': 1, 'wadeworksstudios': 1, 'atl': 1, 'wholenewlevel': 1, 'yourdaddytoo': 1, 'selfcertifying': 1, 'investigationvia': 1, 'draupadi': 1, 'victimsmore': 1, 'pooractually': 1, 'specialisation': 1, 'khatre': 1, 'fanatically': 1, 'audaciously': 1, 'communalising': 1, 'baba': 1, 'prevalent': 1, 'oursexual': 1, 'registerwomen': 1, 'womeninfinance': 1, 'vicious': 1, 'obey': 1, 'filmi': 1, 'unabashedly': 1, 'scanty': 1, 'promiscuous': 1, 'youwe': 1, 'amplifying': 1, 'arjunsarjaarjunsarja': 1, 'insomnia': 1, 'everynight': 1, 'nightsaretheworst': 1, 'sleepdisorder': 1, 'mentalhealthawareness': 1, 'contests': 1, 'studentled': 1, 'iton': 1, 'seths': 1, 'liveshould': 1, 'predatorravikiran': 1, 'woldeguiorguis': 1, 'healinglowellnps': 1, 'findyourpark': 1, 'biggs': 1, 'requires': 1, 'sadden': 1, 'spurious': 1, 'bygreatgranddaughter': 1, 'emmeline': 1, 'pankhurst': 1, 'elsewoty18': 1, 'themselvesto': 1, 'grapples': 1, 'metooandmykids': 1, 'collins': 1, 'latinaslead': 1, 'browngirlmagic': 1, 'luzcollective': 1, 'flbl': 1, 'latinas': 1, 'susancollins': 1, 'timesupmalinche': 1, 'zionist': 1, 'israel': 1, 'species': 1, 'shrieking': 1, 'signallers': 1, 'near': 1, 'restrictions': 1, 'bintiperiod': 1, 'smashshame': 1, 'menstruationmatters': 1, 'iloveperiods': 1, 'reusable': 1, 'mounted': 1, 'cornered': 1, 'fromcalling': 1, 'blatantly': 1, 'thrive': 1, 'eradiversity': 1, 'respectfulworkplace': 1, 'shyt': 1, 'craving': 1, 'masalamaushi': 1, 'masala': 1, 'shetooindiabriefs': 1, 'purchasing': 1, 'stuffs': 1, 'requirement': 1, 'coorperative': 1, 'fridaythoughts': 1, 'juvenilesystem': 1, 'provider': 1, 'meter': 1, 'kiddos': 1, 'gladiator': 1, 'dystopia': 1, 'comingofage': 1, 'middlegrade': 1, 'tuesdaymorning': 1, 'postworldtrump': 1, 'ganglife': 1, 'genderidentity': 1, 'disrepute': 1, 'mansplaining': 1, 'greet': 1, 'chethan': 1, 'linkdhruvasarja': 1, 'dhruvasarjaslamschetanandsruthihariharan': 1, 'dhruvasarjaexclusive': 1, 'godman': 1, 'sant': 1, 'swaranjit': 1, 'dutch': 1, 'conductor': 1, 'roberts': 1, 'justicekavanaugh': 1, 'fightback': 1, 'deportation': 1, 'outcries': 1, 'marches': 1, 'crickets': 1, 'sp': 1, 'linksandalwoodaspiringactress': 1, 'directorspprakash': 1, 'gorimelelagorimovie': 1, 'directorthreatensactress': 1, 'subsidiary': 1, 'prometheus': 1, 'mediahave': 1, 'lifeviastephenking': 1, 'winniethepooh': 1, 'twd': 1, 'candy': 1, 'chocolate': 1, 'archiveday': 1, 'strangerthings': 1, 'endedup': 1, 'khurranas': 1, 'dipression': 1, 'vl': 1, 'raining': 1, 'studios': 1, 'forwards': 1, 'morris': 1, 'vawdasv': 1, 'swansea': 1, 'sectors': 1, 'absent': 1, 'jayshree': 1, 'sengupta': 1, 'founderfound': 1, 'harassmentnow': 1, 'determined': 1, 'heyare': 1, 'admonishin': 1, 'supportingabout': 1, 'admonished': 1, 'thefor': 1, 'brettkavanaughauspol': 1, 'kavanaughwkavanaughconfirmation': 1, 'condemned': 1, 'salinger': 1, 'watchgentle': 1, 'sabarimalaverdict': 1, 'pongala': 1, 'lokmanya': 1, 'tilakwho': 1, 'womenreservationbill': 1, 'lip': 1, 'mankind': 1, 'cane': 1, 'sawantrakhisawant': 1, 'byit': 1, 'outs': 1, 'notorious': 1, 'pawns': 1, 'fraction': 1, 'me4': 1, 'going2': 1, 'attorneys': 1, 'has2': 1, 'unwelcomed': 1, 'fakeness': 1, 'sanghi': 1, 'terrorist': 1, 'beans': 1, 'stnd': 1, 'wt': 1, 'thirutupayale': 1, 'venting': 1, 'precisely': 1, 'honoreereflecting': 1, 'visualizationsmetoo': 1, 'elif': 1, 'batuman': 1, 'foresee': 1, 'blahest': 1, 'connected': 1, 'tribe': 1, 'infertility': 1, 'lovingwhatis': 1, 'livingourbestlife': 1, 'blahs': 1, 'be_strong': 1, 'mentally_strong': 1, 'hectoring': 1, 'signalling': 1, 'vacuouss': 1, 'violated': 1, 'ibarome2018': 1, 'ajaydevgns': 1, 'bollywoodmovies': 1, 'underestimate': 1, 'saath': 1, 'galat': 1, 'hua': 1, 'bahut': 1, 'chalate': 1, 'sare': 1, 'gunnah': 1, 'maaf': 1, 'stalker': 1, 'otherwisebelievesurvivors': 1, 'tomi': 1, 'fined': 1, 'finnish': 1, 'mamma': 1, 'woody': 1, 'condemnationcinemashowbiz': 1, 'issaying': 1, 'likejuanita': 1, 'everyand': 1, 'instantly': 1, 'outraged': 1, 'truepeople': 1, 'alvarez': 1, 'bags': 1, 'spin': 1, 'demselsindistressmetoo': 1, 'ifwould': 1, 'tompkins': 1, 'rbg': 1, 'wingers': 1, 'qarmy': 1, 'redoctober': 1, 'deepstatepanic': 1, 'critically': 1, 'dharmashala': 1, 'victoria': 1, 'unsuccessful': 1, 'fakedowrycharges': 1, 'fake498a': 1, 'mandated': 1, 'harassmentmetoo': 1, 'falsedowry': 1, 'legalextortion': 1, 'alimony': 1, 'childcustody': 1, 'heir': 1, 'erick': 1, 'bretz': 1, 'playbook': 1, 'erickbretz': 1, 'hii': 1, 'spit': 1, 'domination': 1, 'justiceforrajalakshmi': 1, 'dysphoria': 1, 'bluesmetoo': 1, 'ignoredmetooindia': 1, 'ganeshacharya': 1, 'mogossip': 1, 'material': 1, 'withpolitics': 1, 'maye': 1, 'quadevia': 1, 'denominator': 1, 'listing': 1, 'substandard': 1, 'helmet': 1, 'certified': 1, 'helmetsafeonroads': 1, 'prathibha': 1, 'nandakumar': 1, 'bmcolumn': 1, 'anitahillif': 1, 'ellewomeninhollywood': 1, 'reynavashishtha': 1, 'sanjaypuransinghchauhan': 1, 'bedrooms': 1, 'predation': 1, 'depriving': 1, 'declaring': 1, 'gaming': 1, 'gamers': 1, 'scamalert': 1, 'cosplayer': 1, 'comiccon': 1, 'goth': 1, 'thisisnotjustice': 1, 'movementsister': 1, 'reihana': 1, 'fume': 1, 'payouts': 1, 'claimsvia': 1, 'troglodytes': 1, 'jaw': 1, 'abvp_gautam_buddha_nagar': 1, 'mesahasi': 1, 'streeshakti': 1, 'vishwa': 1, 'predatorvmbhatt': 1, 'disheartening': 1, 'eau': 1, 'toilette': 1, 'bondage': 1, 'smell': 1, 'jeans': 1, 'pharmacy': 1, 'mudishten': 1, 'veetlaye': 1, 'veshtu': 1, 'vanten': 1, 'gradually': 1, 'womenwomanup': 1, 'albany': 1, 'input': 1, 'agreeing': 1, 'drainthedeepstate': 1, 'collegegameday': 1, 'kansascity': 1, 'saturdaynight': 1, 'minirevolution': 1, 'kills': 1, 'demon': 1, 'menacing': 1, 'socialmetooindia': 1, 'rageon': 1, 'earlydemocrats': 1, 'naacp': 1, 'victimsrights': 1, 'thois': 1, 'fruitloop': 1, 'twats': 1, 'maggot': 1, 'rotting': 1, 'corpse': 1, 'bullfuckingshit': 1, 'aabhaasam': 1, 'hurls': 1, 'innocentuntilprovenguilty': 1, 'youtheaevents': 1, 'indianadvertisingwomen': 1, 'indiancreativewomenpush': 1, 'frankens': 1, 'alfranken': 1, 'oksee': 1, 'holy': 1, 'beth': 1, 'moores': 1, 'punishes': 1, 'notmypresidenttheresistancewomensrights': 1, 'plannedparenthood': 1, 'mini': 1, 'experiencesmetoomentum': 1, 'lolguru': 1, 'noise': 1, 'plucked': 1, 'bra': 1, 'strap': 1, 'thumbs': 1, 'hopefullyis': 1, 'oftheallegedly': 1, 'aboutwho': 1, 'scotlands': 1, 'municipal': 1, 'corp': 1, 'voluntarily': 1, 'himtimesup': 1, 'onlywayout': 1, 'remorse': 1, 'happyness': 1, 'egos': 1, 'alsohow': 1, 'bono': 1, 'breeding': 1, 'pervs': 1, 'hotlinelearn': 1, 'observers': 1, 'louislamour': 1, 'godblessusa': 1, 'russiahack': 1, 'accesshollywoodtape': 1, 'unedited': 1, 'vismaya': 1, 'vismayauneditedversion': 1, 'rareind': 1, 'imnotrunningfantastic': 1, 'takeoff': 1, 'neha': 1, 'dhupiaread': 1, 'metoobooks': 1, 'fucks': 1, 'byreporter': 1, 'withshould': 1, 'agencys': 1, 'disney': 1, 'brooklyn': 1, 'consultantof': 1, 'gents': 1, 'godess': 1, 'subjugate': 1, 'enslave': 1, 'karnatakafilmchamberofcommerce': 1, 'fireside': 1, 'cultures': 1, 'kriti': 1, 'sanon': 1, 'vested': 1, 'interests': 1, 'epitaph': 1, 'bywho': 1, 'epicentre': 1, 'outstripping': 1, 'ananth': 1, 'magistratecourt': 1, 'recordsruthihariharanstatement': 1, 'ipcsection164': 1, 'blonde': 1, 'sucks': 1, 'flag': 1, 'marginalizing': 1, 'fulfills': 1, 'phyllis': 1, 'schlaflyreport': 1, 'uneasy': 1, 'descended': 1, 'dude': 1, 'cracked': 1, 'clause': 1, 'contracts': 1, 'khurana': 1, 'vigil': 1, 'hallway': 1, 'offended': 1, 'gor': 1, 'jasdo': 1, 'jaggesh': 1, 'linkjaggesh': 1, 'navarasanayaka': 1, 'jaggeshbacksarjunsarja': 1, 'questionssruthihariharan': 1, 'metooallegationonarjunsarja': 1, 'micro': 1, 'micros': 1, 'settings': 1, 'heating': 1, 'pmmodi': 1, 'brewing': 1, 'mansi': 1, 'poised': 1, 'modimadedisaster': 1, 'emperortoday': 1, 'goodmetoo': 1, 'ahamsharma': 1, 'hallabol': 1, 'paras': 1, 'supportsand': 1, 'andand': 1, 'votedemsout': 1, 'voteshe': 1, 'gina': 1, 'raimondo': 1, 'torchered': 1, 'christiandoes': 1, 'prodestants': 1, 'gutcolumn': 1, 'blues': 1, 'fabulousfor': 1, 'yt': 1, 'interactive': 1, 'kukoo': 1, 'shell': 1, 'bouncersyourquestions': 1, 'metootln': 1, 'hearties': 1, 'gira': 1, 'wicket': 1, 'sa': 1, 'putin': 1, 'willstick': 1, 'obligation': 1, 'exercising': 1, 'constitutional': 1, 'commander': 1, 'dusterhoft': 1, 'survivorshaveavoice': 1, 'overseas': 1, 'channeling': 1, 'raghudonna': 1, 'lenhoff': 1, 'stenderoutstanding': 1, 'formed': 1, 'brutally': 1, 'trollingthey': 1, 'contender': 1, 'nowwill': 1, 'metoocampaignfull': 1, 'seducing': 1, 'touring': 1, 'reviewmetoo': 1, 'clinic': 1, 'safeformetoo': 1, 'homelessness': 1, 'bolsters': 1, 'psycho': 1, 'looney': 1, 'nearest': 1, 'seductive': 1, 'doorstep': 1, 'kolkata': 1, 'weeklong': 1, 'apparent': 1, 'bappilahiri': 1, 'gathering': 1, 'attracted': 1, 'crowds': 1, 'shiekh': 1, 'hypocritesmetoo': 1, 'liberator': 1, 'saint': 1, 'martyr': 1, 'oscarromero': 1, 'heroic': 1, 'needham': 1, 'opentoallliberationtheology': 1, 'sanromero': 1, 'sanromerovive': 1, 'visitmetoo': 1, 'jennings': 1, 'allot': 1, 'everywherejlo': 1, 'youslay': 1, 'yougotthis': 1, 'newmusic': 1, 'bread': 1, 'affordablehousing': 1, 'armenian': 1, 'wondrousat': 1, 'lebni': 1, 'mushroomdick': 1, 'donny': 1, 'loosening': 1, 'pussygrabber': 1, 'draftdodger': 1, 'taxcheat': 1, 'dxiff2018': 1, 'closing': 1, 'revelatory': 1, 'conquer': 1, 'alexis': 1, 'bloom': 1, 'cohen': 1, 'cole': 1, 'channelised': 1, 'manifesto': 1, 'recommendaka': 1, 'driving': 1, 'consultations': 1, 'ambulance': 1, 'beasts': 1, 'coopting': 1, 'vpr': 1, 'longdead': 1, 'speakmytruth': 1, 'humorous': 1, 'recoil': 1, 'womenrule': 1, 'spikestactical': 1, 'coletac': 1, 'movemenr': 1, 'vikasbahls': 1, 'hrithikroshan': 1, 'hrithikvstiger': 1, 'shadesofsaaho': 1, 'katelyn': 1, 'gallucci': 1, 'coordinatormetoo': 1, 'dystopian': 1, 'ticketscopresented': 1, 'robert': 1, 'reconfirms': 1, 'wherever': 1, 'founders': 1, 'desires': 1, 'resolute': 1, 'offtheirmetoo': 1, 'andfor': 1, 'strengthmetoomentum': 1, 'beg': 1, 'outrageous': 1, 'trailblazers': 1, 'atbombaywaali': 1, 'importantly': 1, 'grim': 1, 'grimreality': 1, 'sexualharrasmentimage': 1, 'dave': 1, 'chappelle': 1, 'atoning': 1, 'tide': 1, 'advocateit': 1, 'ilk': 1, 'imparted': 1, 'dominated': 1, 'growswhyididntreport': 1, 'adder': 1, 'climateaction': 1, 'fever': 1, 'refine': 1, 'ignites': 1, 'crazies': 1, 'fightmetoo': 1, 'metoochetanbhagat': 1, 'topshops': 1, 'scandalmetoo': 1, 'ukmetoo': 1, 'vigilant': 1, 'healthcareforall': 1, 'gunreformnow': 1, 'immigrantsnotanimals': 1, 'nevertrumpsamerica': 1, 'beavoter': 1, 'processkavanaugh': 1, 'socialstudies': 1, 'ofspeaks': 1, 'srinagar': 1, 'chauvinism': 1, 'dominance': 1, 'rectifying': 1, 'motor': 1, 'racing': 1, 'ofreceives': 1, 'traces': 1, 'beganmetoo': 1, 'repostwwyd': 1, 'wwtd': 1, 'rockbottomsbasement': 1, 'nfl': 1, 'colinkaepernick': 1, 'taketheknee': 1, 'fuckgop': 1, 'diya': 1, 'thenwas': 1, 'tail': 1, 'pollsbusiness': 1, 'profsays': 1, 'corrective': 1, 'againstceovisualsani': 1, 'iveson': 1, 'edmonton': 1, 'frankly': 1, 'horrified': 1, 'indiabollywood': 1, 'lastditch': 1, 'sail': 1, 'morespeersonsunday': 1, 'statementanumalik': 1, 'metooindianidol10': 1, 'aagebadho': 1, 'bjpscamsbangaloretdp': 1, 'cbnarmyguntur': 1, 'cbnpressmeet3pm': 1, 'triggers': 1, 'solved': 1, 'gyandev': 1, 'kindnessmatters': 1, 'humanbeing1st': 1, 'thin': 1, 'fwding': 1, 'msgs': 1, 'lunchtime': 1, 'bythanks': 1, 'hosting': 1, 'delegitimize': 1, 'teresa': 1, 'klein': 1, 'authors': 1, 'narrates': 1, 'telefilm': 1, 'unannounced': 1, 'inebriated': 1, 'metoinindia': 1, 'abouthow': 1, 'trivia': 1, 'cophangs': 1, 'consenting': 1, 'disappear': 1, 'bluetsunami': 1, 'ct': 1, 'failures': 1, 'tometootamilnewslive': 1, 'mimicking': 1, 'metoothank': 1, 'persisted': 1, 'jewelry': 1, 'shepersistedmetoo': 1, 'deepakkalal': 1, 'roastvideo': 1, 'roast': 1, 'bjroaster': 1, 'carryminati': 1, 'pillows': 1, 'hugging': 1, 'childrenmetoo': 1, 'watchingon': 1, 'indiaglobal': 1, 'hrmetooindia': 1, 'shewhobornethebattle': 1, 'righting': 1, 'transforming': 1, 'vets': 1, 'envisioned': 1, 'readily': 1, 'favouritespanel': 1, 'declares': 1, 'lawsuitmetoo': 1, 'demonstration': 1, 'lawsvianypasscva': 1, 'legenddiscusses': 1, 'comingtoamerica': 1, 'heavens': 1, 'rationale': 1, 'morale': 1, 'run4menscommission': 1, 'youfrom': 1, 'proportion': 1, 'bhatts': 1, 'assessments': 1, 'korea': 1, 'argentina': 1, 'impunity': 1, 'salford': 1, 'sarcasm': 1, 'metoochitraloka': 1, 'candidatekept': 1, 'tnsen': 1, 'chintanruparel': 1, 'excolleague': 1, 'exfounder': 1, 'behaving': 1, 'produceras': 1, 'sambitpatra': 1, 'sambit': 1, 'staringand': 1, 'detroitcity': 1, 'feedingamonsterplay': 1, 'lovewins': 1, 'playwright': 1, 'veronicaloving': 1, 'fridaymovie': 1, 'celeb': 1, 'imp': 1, 'aspect': 1, 'likecrime': 1, 'lasting': 1, 'simplemathplay': 1, 'newworks': 1, 'nyctheater': 1, 'womenintheater': 1, 'endorsed': 1, 'akbarmetoo': 1, 'mourinho': 1, 'vijayhazaretrophy': 1, 'sanjuonstarplus': 1, 'chnvind': 1, 'rahulgandhiwithhal': 1, 'phrasesthatneedtogo': 1, 'movementacting': 1, 'pundi': 1, 'lewinski': 1, 'veronica': 1, 'broadwaycaliber': 1, 'stageplay': 1, 'starringdirected': 1, 'fridaythemovie': 1, 'roaming': 1, 'paresh': 1, 'naik': 1, 'withmumbai': 1, 'myhero': 1, 'btought': 1, 'mivement': 1, 'blogwomen': 1, 'womenlead': 1, 'provocatively': 1, 'metoometooindia': 1, 'hosttalk': 1, 'turbans': 1, 'motorcycles': 1, 'legalization': 1, 'vacate': 1, 'whatsherface': 1, 'difi': 1, 'leaked': 1, 'ensued': 1, 'luckily': 1, 'kav': 1, 'councilindiaelected': 1, 'unhumanrightscouncil': 1, 'mentoothankful': 1, 'causing': 1, 'corsets': 1, 'asthanarakeshasthanasupportindianidol': 1, 'trumpcorruption': 1, 'assessment': 1, 'latin': 1, 'meny': 1, 'feministbollywood': 1, 'ruthie': 1, 'ackerman': 1, 'bomb': 1, 'leeds': 1, 'accusedof': 1, 'eminent': 1, 'donaldmidterms2018': 1, 'congressgayitellene': 1, 'insulted': 1, 'workingplz': 1, 'stress': 1, 'workvia': 1, 'snubs': 1, 'malyalam': 1, 'dileep': 1, 'lbloggers': 1, 'fbloggers': 1, 'bbloggers': 1, 'bloggerstribe': 1, 'bloggerbabesrt': 1, 'blackswhoblog': 1, 'bloggerkind': 1, 'beechat': 1, 'theclqrt': 1, 'gwbchat': 1, 'qualityblogrt': 1, 'melaninbloggers': 1, 'atfundraising': 1, 'hextable': 1, 'anytime': 1, 'soonsexualharassment': 1, 'unfollowing': 1, 'tanushreexposesbollywood': 1, 'athealingtrauma': 1, 'louisville': 1, 'philanthropy': 1, 'beauty': 1, 'biden2020': 1, 'beacause': 1, 'insults': 1, 'nevermind': 1, 'closeness': 1, 'berniewouldhavewon': 1, 'bernie2020': 1, 'robbie': 1, 'sutton': 1, 'innocents': 1, 'thine': 1, 'boughtwait': 1, 'therescotus': 1, 'fixthecourt': 1, 'moneywellspent': 1, 'pushkarfair': 1, 'domestic_violence': 1, 'whynyt': 1, 'q2': 1, 'blacklash': 1, 'storyposted': 1, 'melwani': 1, 'tavis': 1, 'smiley': 1, 'rips': 1, 'pbs': 1, 'misappropriationmetoo': 1, 'religions': 1, 'neighbor': 1, 'unto': 1, 'humanrightsdefenders': 1, 'asylumseekers': 1, 'bridget': 1, 'tits': 1, 'fielding': 1, 'revived': 1, 'heroine': 1, 'womanhood': 1, 'shinde': 1, 'mutu': 1, 'sportmetoo': 1, 'linkukfemalemusician': 1, 'adelaidelgbt': 1, 'ha': 1, 'hahaha': 1, 'sofft': 1, 'qupid': 1, 'scarily': 1, 'ibelievechristine': 1, 'unitegreen': 1, 'uniteblue': 1, 'tcot': 1, 'motorbike': 1, 'naples': 1, 'yellowhorseproject': 1, 'rosariaiazzetta': 1, 'museums': 1, 'generations': 1, 'devils': 1, 'objectively': 1, 'lokmatwomansummit': 1, 'radhikaapte': 1, 'reemerges': 1, 'likewomenandpower': 1, 'sulking': 1, 'doesget': 1, 'depths': 1, 'avneet': 1, 'kaur': 1, 'humiliation': 1, 'btplz': 1, 'sara': 1, 'blevins': 1, 'visitfor': 1, 'bragging': 1, 'accomplishents': 1, 'toddlers': 1, 'detention': 1, 'centers': 1, 'preexisting': 1, 'conditions': 1, 'underreported': 1, 'prowomen': 1, 'ultimately': 1, 'detrimental': 1, 'reversetalibanisation': 1, 'thepublic': 1, 'socalling': 1, 'jas': 1, 'traditions': 1, 'catastrophic': 1, 'childbirth': 1, 'impermissible': 1, 'miniature_art_exhibition_2018': 1, 'art_goobi': 1, 'stop_rape': 1, 'justiceforrapevictims': 1, 'independently': 1, 'savitribaiphule': 1, 'savitribai': 1, 'bhidewada': 1, 'brahmanism': 1, 'neithermetooindia': 1, 'sexualexploitationattheworkplace': 1, 'vishakhaguidelines': 1, 'gutwrenching': 1, 'antiwoman': 1, 'mayorcondemn': 1, 'towhat': 1, 'lingadevarus': 1, 'daari': 1, 'tappisu': 1, 'devare': 1, 'sruthihariharantobedroppedfrommovie': 1, 'directorlingadevaru': 1, 'daaritappisudevaremovie': 1, 'withandlast': 1, 'workjoshsabarra': 1, 'dameduramp': 1, 'survivordeepika': 1, 'narayan': 1, 'bhardwaj': 1, 'howibecameaperson': 1, 'shinealight': 1, 'eft': 1, 'emdr': 1, 'empathy': 1, 'airplane': 1, 'unitedstates': 1, 'truthagrees': 1, 'patriarchyin': 1, 'babuji': 1, 'truemetoo': 1, 'mms': 1, 'youknowwho': 1, 'robehow': 1, 'stepping': 1, 'amnesty': 1, 'racket': 1, 'machinations': 1, 'squatter': 1, 'cot': 1, 'machinery': 1, 'kirana': 1, 'roof': 1, 'tanmay': 1, 'nownailsbundles': 1, 'condemn': 1, 'movt': 1, 'playback': 1, 'pentagon': 1, 'meryl': 1, 'streep': 1, 'acceptingbest': 1, 'leadingwomen': 1, 'potent': 1, 'metoointernal': 1, 'kharly': 1, 'roommates': 1, 'bystaysafe': 1, 'metoothemed': 1, 'reclaims': 1, 'suppression': 1, 'votersuppression': 1, 'maxinewaters': 1, 'nancypelosi': 1, 'lorettalynch': 1, 'donnabrazile': 1, 'pastoron': 1, 'mans': 1, 'responsibilitysundaymorning': 1, 'womenhaveatendency': 1, 'outstandingly': 1, 'leadershipdevelopment': 1, 'pres': 1, 'visuals': 1, 'behindthescenes': 1, 'belowottawatheatre': 1, 'madhoo': 1, 'readmadhooshah': 1, 'madhubala': 1, 'ats': 1, 'pinned': 1, 'bakchods': 1, 'molestersatwire': 1, 'bjpphirseekbaar': 1, 'withsuper30': 1, 'oprah': 1, 'presstitute': 1, 'endorsement': 1, 'pre': 1, 'hulk': 1, 'youkavanaugh': 1, 'pandemic': 1, 'sangeetpathshala': 1, 'dristinepal': 1, 'violenceagainstgirlsandwomen': 1, 'hearmetoo': 1, 'pewdiepieplease': 1, 'youtubedown': 1, 'youtu': 1, 'aviation': 1, 'askpewd': 1, 'asktheexperts': 1, 'anumaliks': 1, 'metooclaimed': 1, 'swelling': 1, 'discoloration': 1, 'delaware': 1, 'populous': 1, 'impt': 1, 'indexes': 1, 'routinely': 1, 'fakery': 1, 'actvishakha': 1, 'withhannahjosswe': 1, 'vibes': 1, 'allegationchitraloka': 1, 'mckinnon': 1, 'aidy': 1, 'bryant': 1, 'awkwafina': 1, 'ann': 1, 'widdecombe': 1, 'onward': 1, 'noh8': 1, 'nos': 1, 'twt': 1, 'btwn': 1, 'oct1': 1, 'whras': 1, 'twts': 1, 'refutes': 1, 'delight': 1, 'ostracised': 1, 'collaterals': 1, 'prem': 1, 'nameshametherapists': 1, 'presiding': 1, 'gruesome': 1, 'riots': 1, 'brazen': 1, 'fordetailsmetoo': 1, 'panelfire': 1, 'castingcouch': 1, 'massage': 1, 'hugged': 1, 'thatbestselling': 1, 'paperback': 1, 'afterword': 1, 'payel': 1, 'majumdarupreti': 1, 'momi': 1, 'hated': 1, 'psiquiatric': 1, 'changexworld': 1, 'veteranssponsored': 1, 'forny3candidate': 1, 'congessvote4dan': 1, 'iwillspeakup': 1, 'beboldforchange': 1, 'foyer': 1, 'bathroom': 1, 'tracks': 1, 'evokes': 1, 'justus': 1, 'kevin': 1, 'spacey': 1, 'wreck': 1, 'interior': 1, 'hookup': 1, 'nightslees': 1, 'tivoli': 1, 'westport': 1, 'kcmo': 1, 'octmaryville': 1, 'shraddhasrinath': 1, 'sandalwoodtrending': 1, 'oftimesup': 1, 'godiverin': 1, 'ivercity': 1, 'citywomen': 1, 'womenmetooindia': 1, 'sois': 1, 'useless': 1, 'raleigh': 1, 'onlinecourageconference2018': 1, 'defeat': 1, 'docs': 1, 'mvmnt': 1, 'grip': 1, 'initially': 1, 'actres': 1, 'stranded': 1, 'jet': 1, 'girlie': 1, 'shecandoboth': 1, 'crossfit': 1, 'pinkhair': 1, 'pinkoctober': 1, 'tour': 1, 'laudnering': 1, 'haitian': 1, 'organ': 1, 'harvesting': 1, 'harasses': 1, 'bipolar': 1, 'filmindustry': 1, 'windsor': 1, 'unitedkingdom': 1, 'throwback': 1, 'actormetooindia': 1, 'weekwithoutviolence': 1, 'toxicity': 1, 'moremetooindia': 1, 'selected': 1, 'daaritappisudevare': 1, 'ios': 1, 'breakingceo': 1, 'orientation': 1, 'requiredpeopleeffectchange': 1, 'karen': 1, 'monahansays': 1, 'smeared': 1, 'fullmeasurenews': 1, 'quincy': 1, 'addle': 1, 'pated': 1, 'felonious': 1, 'booty': 1, 'seekers': 1, 'babe': 1, 'aerocity': 1, 'upjoins': 1, 'rukh': 1, 'gray': 1, 'intimacy': 1, 'boring': 1, 'seethe': 1, 'operative': 1, 'metal': 1, 'cord': 1, 'groove': 1, 'plaster': 1, 'machine': 1, 'neighbouring': 1, 'flatmetoo': 1, 'disparage': 1, 'coworker': 1, 'fromwhich': 1, 'nationally': 1, 'sample': 1, 'quietly': 1, 'mohsin': 1, 'sayeed': 1, 'samina': 1, 'ahmedangelina': 1, 'tubbu': 1, 'womenspeacetable2018': 1, 'womenseriously': 1, 'journos': 1, 'singeron': 1, 'womenfortrump': 1, 'stoptrump': 1, 'corps': 1, 'iwpc': 1, 'toandhope': 1, 'occassion': 1, 'ditch': 1, 'evils': 1, 'commodity': 1, 'furious': 1, 'quaver': 1, 'banking': 1, 'textile': 1, 'lacemail': 1, 'defining': 1, 'saloon': 1, 'culloden': 1, 'battlefield': 1, 'lighthouse': 1, 'gyfhom': 1, 'ghibbie': 1, 'cinemas': 1, 'getyourfreakinghandsoffme': 1, 'ghibran': 1, 'uday': 1, 'delves': 1, 'anushakhan': 1, 'asiyashervani': 1, 'spam': 1, 'trolling': 1, 'peddle': 1, 'pimpsheknew': 1, 'cintta': 1, 'unfounded': 1, 'fraudulent': 1, 'outright': 1, 'godblessamerica': 1, 'godblesstheconstitution': 1, 'loudly': 1, 'cine': 1, 'oppressed': 1, 'der': 1, 'excm': 1, 'congressman': 1, 'oommenchandy': 1, 'sarithanair': 1, 'correspondencerefuse': 1, 'fingerprint': 1, 'acl': 1, 'atxtraffic': 1, 'buildthedome': 1, 'strengerformayor': 1, 'bylet': 1, 'indianwomensafety': 1, 'chitravinaravikiran': 1, 'unmarried': 1, 'umm': 1, 'votethegopout': 1, 'votedem': 1, 'votedemforthehouse': 1, 'veteransthe': 1, 'orvote': 1, 'ny3candidatevote4dan': 1, 'africanamerican': 1, 'ousts': 1, 'justkeepgoing': 1, 'jakhira': 1, 'markets': 1, 'isiliye': 1, 'itna': 1, 'dhoya': 1, 'metoohustle': 1, 'popularized': 1, 'converting': 1, 'crush': 1, 'venuquotes': 1, 'bible': 1, 'apptanushree': 1, 'contributors': 1, 'feature': 1, 'shubhomoy': 1, 'sikdar': 1, 'dontalertthestans': 1, 'featjoin': 1, 'decline': 1, 'soundcloudapple': 1, 'podcastsfollow': 1, 'vedio': 1, 'unforeseen': 1, 'discrepancies': 1, 'wil': 1, 'wit': 1, 'wen': 1, 'ontime': 1, 'againstmetooindia': 1, 'showpoetry': 1, 'hisar': 1, 'openmic': 1, 'uswe': 1, 'kirron': 1, 'thechai': 1, 'feldblum': 1, 'atabout': 1, 'thiscan': 1, 'satan': 1, 'icky': 1, 'clergymen': 1, 'dubious': 1, 'instagrambishopfranco': 1, 'iamwiththenuns': 1, 'frkuriakosedeath': 1, 'halunen': 1, 'denny': 1, 'expertise': 1, 'impacting': 1, 'arabia': 1, 'marimnhealthcenter': 1, 'plummer': 1, 'idaho': 1, 'chiropractor': 1, 'spokesmanreview': 1, 'thyagarajan': 1, 'adversely': 1, 'arpit': 1, 'rankavia': 1, 'francine': 1, 'thespeaking': 1, 'feresdoctrine': 1, 'harms': 1, 'militarysexualassault': 1, 'militarysexualtrauma': 1, 'metoomilitary': 1, 'chairpersonwill': 1, 'thu': 1, 'nayanidixit': 1, 'proislamist': 1, 'operate': 1, 'cuyahoga': 1, 'presenters': 1, 'sart': 1, 'sandhyamridul': 1, 'etimes': 1, 'policecuts': 1, 'nofunding': 1, 'andextend': 1, 'whosoever': 1, 'gasoline': 1, 'wednesdaythoughts': 1, 'medium': 1, 'hrithiks': 1, 'hurdle': 1, 'whyis': 1, 'hash': 1, 'convictharveyweinstein': 1, 'tatasons': 1, 'nome': 1, 'donna': 1, 'entrenched': 1, 'festivale2018': 1, 'uh': 1, 'creepiness': 1, 'believevictims': 1, 'lipstick': 1, 'novels': 1, 'bookcommunity': 1, 'prohibition': 1, 'redressal': 1, 'indoctrinated': 1, 'internalized': 1, 'subvert': 1, 'feign': 1, 'minuscule': 1, 'reinstated': 1, 'edits': 1, 'grissinomayers': 1, 'wiki': 1, 'reviewer': 1, 'reasoning': 1, 'reversion': 1, 'accolades': 1, 'metoophd': 1, 'anymorecomes': 1, 'vehemently': 1, 'riot': 1, 'grope': 1, 'molestedbetibachaobetipadao': 1, 'comediantalks': 1, 'improv': 1, 'humorists': 1, 'wud': 1, 'prmission': 1, 'phscaly': 1, 'hve': 1, 'lejiye': 1, 'thodi': 1, 'kiye': 1, 'par': 1, 'pehle': 1, 'permison': 1, 'jati': 1, 'aise': 1, 'achnk': 1, 'kr': 1, 'denge': 1, 'acha': 1, 'lgta': 1, 'gangsofwasseypur': 1, 'mediums': 1, 'legislativeassembly': 1, 'crimeagainstwomen': 1, 'gulzar': 1, 'abundant': 1, 'faithbased': 1, 'siya': 1, 'internship': 1, 'rahi': 1, 'kyunki': 1, 'usko': 1, 'darr': 1, 'raha': 1, 'tha': 1, 'karte': 1, 'htlpramod': 1, 'blockbusteroftheyear': 1, 'regard': 1, 'somaybe': 1, 'misunderrstood': 1, 'cherokee': 1, 'heritage': 1, 'rajmetoo': 1, 'ahemdabad': 1, 'connection': 1, 'reliancegroup': 1, 'democracyadda': 1, 'mediametoo': 1, 'investigateenabling': 1, 'terminationmetoo': 1, 'drinks': 1, 'vortex': 1, 'nightlife': 1, 'absolut': 1, 'happyhour': 1, 'beverages': 1, 'whathas': 1, 'kurup': 1, 'fostering': 1, 'victimsmanup': 1, 'sushantsinghs': 1, 'bycheck': 1, 'postmetoo': 1, 'complaintreports': 1, 'poonamlaleventprofs': 1, 'eema': 1, 'wecare': 1, 'disabilities': 1, 'unheard': 1, 'inaccessible': 1, 'thanx': 1, 'hun': 1, 'upload': 1, 'lusty': 1, 'ceoasserting': 1, 'giant': 1, 'positions': 1, 'authority': 1, 'againstour': 1, 'voterobarlett': 1, 'coocooed': 1, 'darling': 1, 'spokeswoman': 1, 'meltdown': 1, 'theit': 1, 'worldmetoo': 1, 'foul': 1, 'nnpa': 1, 'newswire': 1, 'bcosbytrial': 1, 'juncker': 1, 'memo': 1, 'yesterdayan': 1, 'capitol': 1, 'iowacasa': 1, 'herewevote': 1, 'sees': 1, 'saysshethepeople': 1, 'symphony': 1, 'whatsoever': 1, 'bedroom': 1, 'harassmen': 1, 'untoward': 1, 'flooded': 1, 'duties': 1, 'readsexualharassment': 1, 'cmawareapprised': 1, 'strictest': 1, 'convenience': 1, 'ankita': 1, 'singhmetoo': 1, 'obamacare': 1, 'anarticle': 1, 'tonightmaddiementality': 1, 'changeitup': 1, 'changementalhealth': 1, 'bethechangemetoo': 1, 'whatwouldmaddiedofinishing': 1, 'forever11': 1, 'giveway': 1, 'accredited': 1, 'degraded': 1, 'overused': 1, 'viewers': 1, 'activity': 1, 'vialisten': 1, 'reasonpodcast': 1, 'sasse': 1, 'graph': 1, 'askingformyselfif': 1, 'luck': 1, 'itresist': 1, 'aapkiadalat': 1, 'shivraj': 1, 'chahan': 1, 'jee': 1, 'madhyapradesh': 1, 'dhankibaat': 1, 'monthssince': 1, 'evenapprised': 1, 'speakerof': 1, 'investigates': 1, 'moderatoroftake': 1, 'powerlunch': 1, 'mipcom2018': 1, 'aenetworks': 1, 'alluded': 1, 'closest': 1, 'packet': 1, 'obligemetoo': 1, 'adopt': 1, 'farthe': 1, 'indiaawaiting': 1, 'battery': 1, 'racialhysteria': 1, 'includingsister': 1, 'lyricistof': 1, 'arequiet': 1, 'handmetoo': 1, 'plague': 1, 'madness': 1, 'harassmentviametoo': 1, 'freelatifaplease': 1, 'uae': 1, 'sheiswe': 1, 'airpollution': 1, 'airport': 1, 'gscshrm2018': 1, 'slame': 1, 'thewomen': 1, 'parkland': 1, 'bless': 1, 'extent': 1, 'newsinnumbers': 1, 'alonehas': 1, 'tirelessly': 1, 'infidelity': 1, 'newbook': 1, 'fartr': 1, 'pedo': 1, 'multiterm': 1, 'geezers': 1, 'enjoyed': 1, 'greedy': 1, 'irrelevancy': 1, 'brutality': 1, 'stevens': 1, 'columnist': 1, 'movementbridging': 1, 'interventions': 1, 'congratson': 1, 'cancel': 1, 'uberindia': 1, 'didkathuarapecase': 1, 'missingi': 1, 'graphicsmetoo': 1, 'publishes': 1, 'thurslearn': 1, 'wavemetooindia': 1, 'lakh': 1, 'awaiting': 1, 'lawofindia': 1, 'acknowledgement': 1, 'realistic': 1, 'rocks': 1, 'stopkavanaughnow': 1, 'geeksresist': 1, 'polled': 1, 'eyebrows': 1, 'hamiltonthemusical': 1, 'smtwill': 1, 'm2m2018': 1, 'fromuiuc': 1, 'emeritus': 1, 'louise': 1, 'fitzgeraldmindtomind': 1, 'tellsthe': 1, 'rgv': 1, 'canstill': 1, 'defendfor': 1, 'rajat': 1, 'determine': 1, 'mustdos': 1, 'chairpersontomorrow': 1, 'retaliate': 1, 'hint': 1, 'guyis': 1, 'vacation': 1, 'onlinecbidirector': 1, 'modisecbibachao': 1, 'faye': 1, 'souza': 1, 'ncpswomenreservationbill': 1, 'mormon': 1, 'pinki': 1, 'gupta': 1, 'unintentionally': 1, 'sexualviolenceawarenessmonth': 1, 'hindijokes': 1, 'page3': 1, 'ayngaranteaser': 1, 'quotesoftheday': 1, 'munjuv': 1, 'jokesfordays': 1, 'funnyjokes': 1, 'curious': 1, 'istanushreedutta': 1, 'facilitating': 1, 'relapses': 1, 'sadaa': 1, 'huaa': 1, 'insaan': 1, 'issuefigo2018': 1, 'neuter': 1, 'lundybancroft': 1, 'donhennessey': 1, 'shannonthomas': 1, 'annasalter': 1, 'barbarasteffens': 1, 'dv': 1, 'abuseculture': 1, 'ministerbreakingnews': 1, 'groundzero': 1, 'prayer': 1, 'bywife': 1, 'defamatory': 1, 'reckon': 1, 'achieving': 1, 'northeast': 1, 'onthisday': 1, 'daymetoo': 1, 'decrease': 1, 'datta': 1, 'collogue': 1, 'eracites': 1, 'spokespersons': 1, 'voicewrites': 1, 'sings': 1, 'stanton': 1, 'az09': 1, 'hare': 1, 'vedam': 1, 'byandallegations': 1, 'simbumetoo': 1, 'decrying': 1, 'topin': 1, 'onvotecandidatenov': 1, 'adiroisaware': 1, 'safetyfirst': 1, 'dueprocess': 1, 'makeamericagreatagain': 1, 'ofmodi': 1, 'metoofree': 1, 'globally': 1, 'dowe': 1, 'statuteoflimitations': 1, 'getoffthepulpit': 1, 'peado': 1, 'appeasing': 1, 'exlabourvoter': 1, 'happybrdaymayank': 1, 'fundaap4nationbuilding': 1, 'jockques': 1, 'cliatt': 1, 'opera': 1, 'oshun': 1, 'unpack': 1, 'internationally': 1, 'kmanju': 1, 'druvasarja': 1, 'buildingmetoo': 1, 'conersations': 1, 'podcastmetoo': 1, 'behaviours': 1, 'depthoffeeling': 1, 'needofthehour': 1, 'dries': 1, 'opportunistic': 1, 'femist': 1, 'delude': 1, 'willingness': 1, 'overwhelmed': 1, 'worrying': 1, 'groomyourself': 1, 'tooquick': 1, 'photooftheday': 1, 'the_donald': 1, 'subreddit': 1, 'degenerate': 1, 'pousa': 1, 'factsnepal': 1, 'caine': 1, 'freed': 1, 'missu': 1, 'kissu': 1, 'feministpropogenda': 1, 'aide': 1, 'linkambreeshmeeting': 1, 'kannadamovies': 1, 'navratrispecial': 1, 'navratri2018': 1, 'vyp': 1, 'grot': 1, 'familiar': 1, 'chloeingramm': 1, 'chloe': 1, 'ingram': 1, 'bollywoodmusicproject': 1, 'bollywoodflashback': 1, 'discussionbelievesurvivors': 1, 'shed': 1, 'deepa': 1, 'saket': 1, 'repent': 1, 'sinned': 1, 'defunding': 1, 'hiv': 1, 'intel': 1, 'hospitals': 1, 'tipping': 1, 'singerheres': 1, 'blackhistorymonth': 1, 'relegated': 1, 'blackness': 1, 'superpower': 1, 'pastures': 1, 'explodes': 1, 'faceoff': 1, 'biographicalmetoo': 1, 'satirist': 1, 'extort': 1, 'firstly': 1, 'urself': 1, 'recommend': 1, 'innerwear': 1, 'manshapasha': 1, 'sadafkanwal': 1, 'turkish': 1, 'khaira': 1, 'rebel': 1, 'pansies': 1, 'mard': 1, 'legit': 1, 'condeming': 1, 'byharassment': 1, 'bonhishikha': 1, 'facilitated': 1, 'dhaka': 1, 'comprised': 1, 'diplomatic': 1, 'alumni': 1, 'reception': 1, 'package': 1, 'rebuttal': 1, 'idolanumalik': 1, 'tangible': 1, 'mam': 1, 'mute': 1, 'complainent': 1, 'famale': 1, 'capt': 1, 'picasso': 1, 'soundtrack': 1, 'metooarrahman': 1, 'montana': 1, 'lap': 1, 'wrecking': 1, 'mileycyrus': 1, 'brandix': 1, 'apparel': 1, 'biac': 1, 'breaker': 1, 'veteranactorrajesh': 1, 'rajeshspeakstotv9': 1, 'rajeshfilescomplaintagainstsruthihariharan': 1, 'fuss': 1, 'byebye': 1, 'fauxcahontas': 1, 'dayhad': 1, 'mata': 1, 'vatican': 1, 'executed': 1, 'antinational': 1, 'pens': 1, 'smarter': 1, 'meetoobihar': 1, 'navyakalam': 1, 'linkmetooinsandalwood': 1, 'thithimovie': 1, 'actressvijayalakshmi': 1, 'gopinaths': 1, 'waah': 1, 'abla': 1, 'shikaar': 1, 'hunted': 1, 'sighting': 1, 'sonorandesert': 1, 'raresighting': 1, 'havevisit': 1, 'ihrevents': 1, 'mirzapuruncuttrailer': 1, 'digitalgurukulatmanthan': 1, 'assambandh': 1, 'sensex': 1, 'readrahman': 1, 'deligitimized': 1, 'creators': 1, 'probono': 1, 'sudharani': 1, 'rounds': 1, 'reckoningwrites': 1, 'mnshrm18': 1, 'passionateis': 1, 'sexualtalks': 1, 'nidhi': 1, 'subbaiah': 1, 'jayatheertha': 1, 'nidhisubbaiah': 1, 'directorjayatheertha': 1, 'supportforsruthihariharan': 1, 'sandalwoodactressmetoo': 1, 'linkactorchetan': 1, 'premabarahamovie': 1, 'convos': 1, 'org': 1, 'frommy': 1, 'smiling': 1, 'motheron': 1, 'storyhow': 1, 'kausar': 1, 'bi': 1, 'vanish': 1, 'planet': 1, 'brilliantly': 1, 'britishhumour': 1, 'sympathy': 1, 'mastered': 1, 'manipulation': 1, 'buying': 1, 'metoobluewave': 1, 'lived': 1, 'likewho': 1, 'convey': 1, 'selflove': 1, 'psychology': 1, 'researched': 1, 'movementasks': 1, 'talkradio': 1, 'concerning': 1, 'politic': 1, 'drblaseyford': 1, 'sickening': 1, 'repostingwisely': 1, 'thesecret': 1, 'thelawofattraction': 1, 'thegiftsofimperfection': 1, 'leanin': 1, 'brenebrown': 1, 'fallinlove': 1, 'rhondabyrnes': 1, 'fdt': 1, 'joy': 1, 'namaste': 1, 'diamonds': 1, 'freshstart': 1, 'dawn': 1, 'dunning': 1, 'ourpanel': 1, 'mon': 1, 'octfree': 1, 'rsvpdoc': 1, 'wkend': 1, 'thompsonoffice': 1, 'atwomens': 1, 'metoomvmts': 1, 'thx': 1, 'vtwomen': 1, 'ket': 1, 'feminismismisandry': 1, 'ministersupports': 1, 'saloni': 1, 'currentnew': 1, 'atgenderequality': 1, 'laurens': 1, 'withstudents': 1, 'lecturers': 1, 'shakespeares': 1, 'excellentbelievesurvivors': 1, 'lokhandwala': 1, 'roemer': 1, 'inquest': 1, 'plane': 1, 'elevated': 1, 'seas': 1, 'drowning': 1, 'normaldays': 1, 'ceos': 1, 'ukpol': 1, 'rainbows': 1, 'cloud': 1, 'guilt': 1, 'unamerican': 1, 'meetup': 1, 'educatemetoo': 1, 'organiser': 1, 'franklin': 1, 'joseph': 1, 'franklinjoseph': 1, 'antisexualharassment': 1, 'teri': 1, 'hatcher': 1, 'carmetoo': 1, 'rashmi': 1, 'senatoror': 1, 'tl2': 1, 'oct16': 1, 'belittling': 1, 'affectionating': 1, 'goumata': 1, 'turmoil': 1, 'radaravi': 1, 'withat': 1, 'tellall': 1, 'contributed': 1, 'childrencanyouhearthesilencs': 1, 'dearji': 1, 'beloved': 1, 'mmiw': 1, 'mancamps': 1, 'motherearth': 1, 'downplay': 1, 'rapesonnuns': 1, 'bishops': 1, 'convertedchristian': 1, 'roxane': 1, 'sleezy': 1, 'stree': 1, 'aankhen': 1, 'portrayed': 1, 'metoospeaks': 1, 'sainis': 1, 'chaula': 1, 'solanki': 1, 'reporterdiary': 1, 'bro': 1, 'discriminationfromexplores': 1, 'mitigate': 1, 'organisational': 1, 'misconductmetoo': 1, 'unprecedentedly': 1, 'workspaces': 1, 'televisionreleases': 1, 'membership': 1, 'southeast': 1, 'actionkingshe': 1, 'atarjunsarja': 1, 'silencecoming': 1, 'officially': 1, 'midst': 1, 'confidentially': 1, 'ahimsa': 1, 'movementlends': 1, 'incarcerated': 1, 'ripple': 1, 'ducked': 1, 'fledgling': 1, 'evms': 1, 'todayarjunsarja': 1, 'everyway': 1, 'quinella': 1, 'deputy': 1, 'trafficker': 1, 'everest': 1, 'canard': 1, 'irks': 1, 'musicmetoo': 1, 'rewarding': 1, 'demmobrule': 1, 'jeopardy': 1, 'wouldbe': 1, 'filmnoir': 1, 'intro': 1, 'bynoircitydc': 1, 'lorettayoung': 1, 'ankit': 1, 'tiwari': 1, 'incalled': 1, 'foryouth': 1, 'practiceyour': 1, 'seeth': 1, 'intoat': 1, 'hsr2018': 1, 'advancing': 1, 'roundtheclock': 1, 'simran': 1, 'suri': 1, 'awardwapsi': 1, 'slimy': 1, 'lothario': 1, 'amanda': 1, 'metoometoo': 1, 'cmsays': 1, 'hindinews': 1, 'gambhir': 1, 'cheltlitfest': 1, 'kavanagh': 1, 'disaster': 1, 'postcards': 1, 'terry': 1, 'garthwaite': 1, 'munger': 1, 'occupella': 1, 'betsy': 1, 'flier': 1, 'amazonnewrelease': 1, 'overall': 1, 'onewoman': 1, 'topicality': 1, 'los': 1, 'angeles': 1, 'pained': 1, 'plants': 1, 'insects': 1, 'imnotreallyevilbut': 1, 'gemini': 1, 'abduction': 1, 'workplacecbsnews': 1, 'godreuters': 1, 'bag': 1, 'entirely': 1, 'worldmentahealthday': 1, 'joint': 1, 'stakeholder': 1, 'convened': 1, 'coordinated': 1, 'chairperson': 1, 'dtc': 1, 'dmrc': 1, 'transport': 1, 'romancelandia': 1, 'ukromchat': 1, 'toome': 1, 'pointing': 1, 'scratching': 1, 'worries': 1, 'metoomia': 1, 'catching': 1, 'nations': 1, 'karthik': 1, 'thetale': 1, 'attonight': 1, 'directorandof': 1, 'believechristineblaseyford': 1, 'voterregistration': 1, 'iqaluit': 1, 'redfern': 1, 'hostthat': 1, 'articlekavanaughconfirmation': 1, 'mcdonald': 1, 'hopkins': 1, 'jim': 1, 'boutrous': 1, 'mishrm18': 1, 'hrpolicy': 1, 'sentiments': 1, 'metooindiagot': 1, 'undeserving': 1, 'rajasthanprotects': 1, 'chabbra': 1, 'sadana': 1, 'infact': 1, 'relieved': 1, 'wooing': 1, 'teaukstyle': 1, 'printed': 1, 'marcbymarcjacobs': 1, 'stevemadden': 1, 'executiveproducer': 1, 'risingabovefestpoints': 1, 'raf': 1, 'womenempowement': 1, 'sulkowicz': 1, 'amends': 1, 'storyarnab': 1, 'destroyedsee': 1, 'hows': 1, 'rememberusing': 1, 'bimboalert': 1, 'berate': 1, 'conquest': 1, 'um': 1, 'lineup': 1, 'firstthenand': 1, 'nowbalatkari': 1, 'jantha': 1, 'authormentormatch': 1, 'antitrafficking': 1, 'slutshaming': 1, 'amm': 1, 'affirmative': 1, 'lepanga': 1, 'prokabbadi': 1, 'fulars': 1, 'kulture': 1, 'newvideo': 1, 'peep': 1, 'liberties': 1, 'idioms': 1, 'phrases': 1, 'interchangeably': 1, 'confuse': 1, 'warms': 1, 'herebuy': 1, 'hererbp': 1, 'teatime': 1, 'cupoftearedtea': 1, 'blacktea': 1, 'greentea': 1, 'earlgreytea': 1, 'delvkol': 1, 'amritsar': 1, 'kasmir': 1, 'movewithproline': 1, 'ggn': 1, 'hoax': 1, 'nailed': 1, 'mullakal': 1, 'confessional': 1, 'cassock': 1, 'thilakavathiips': 1, 'lyricistvairamuthu': 1, 'byforsafercities': 1, 'granddaughters': 1, 'correction': 1, 'stewardship': 1, 'planetary': 1, 'ure': 1, 'onhis': 1, 'sukanyadevi': 1, 'ajitjogis': 1, 'daughterirony': 1, 'daytoday': 1, 'finance': 1, 'enoughreports': 1, 'offence': 1, 'tocount': 1, 'leaderalso': 1, 'outlookconf18': 1, 'tanyapaulsingh': 1, 'cried': 1, 'gag': 1, 'booking': 1, 'pricesbhimakoregaon': 1, 'sahirludhianvi': 1, 'k17firstlook': 1, 'goamum': 1, 'cars': 1, 'unityrally': 1, 'yeastinfected': 1, 'partytime': 1, 'mumumamas': 1, 'nastywomen': 1, 'thursdaymorning': 1, 'pratishtha': 1, 'approaches': 1, 'asuras': 1, 'tamed': 1, 'berger': 1, 'mollywood': 1, 'alenciyar': 1, 'interviewtalks': 1, 'gym': 1, 'tucked': 1, 'isolated': 1, 'liz': 1, 'marquardtmetoo': 1, 'thinkforum': 1, 'casewesternreserveuniversitythinkbeyondthepossible': 1, 'iftdas': 1, 'etfect': 1, 'unanswered': 1, 'dramatise': 1, 'thee': 1, 'democratmobrule': 1, 'reallypromoting': 1, 'hashtagbbcwomanshour': 1, 'remarks': 1, 'fromone': 1, 'viralvia': 1, 'michele': 1, 'financially': 1, 'bytheir': 1, 'cycle': 1, 'pedal': 1, 'plunder': 1, 'mywallet': 1, 'draining': 1, 'cosplayed': 1, 'comicons': 1, 'cosplaydoesntmeanconsent': 1, 'cared': 1, 'geek': 1, 'honours': 1, 'directortalking': 1, 'atinsightful': 1, 'anirudhravichander': 1, 'higherups': 1, 'danica': 1, 'dsouza': 1, 'votebluepass': 1, 'striked': 1, 'harshikapoonachasupportsarjunsarja': 1, 'harshikapoonachatweetonmetoo': 1, 'nunavut': 1, 'saysin': 1, 'carries': 1, 'cbcthecurrent': 1, 'atiqaluit': 1, 'commenttanushreedutta': 1, 'heyi': 1, 'rainbowsixsiege': 1, 'classed': 1, 'mummy': 1, 'fixing': 1, 'bugs': 1, 'mensreality': 1, 'shecreateschange': 1, 'snippet': 1, 'mayer': 1, 'byline': 1, 'brainstorming': 1, 'staytuned': 1, 'corybooker': 1, 'kavithalankesh': 1, 'roopaiyer': 1, 'poojagandhi': 1, 'strom': 1, 'glare': 1, 'nishajamvwal': 1, 'pointmetoo': 1, 'solutionstoo': 1, 'curb': 1, 'movementshe': 1, 'intellectuallyunfit': 1, 'trumprussiaconspiracy': 1, 'stablegenius': 1, 'trumpcult': 1, 'rakes': 1, 'selection': 1, 'biases': 1, 'sally': 1, 'coliving': 1, 'itsabeautifulday': 1, 'loveisintheair': 1, 'uoaroundyou': 1, 'sustainableliving': 1, 'coexist': 1, 'hedwig': 1, 'owls': 1, 'sasc': 1, 'colga': 1, 'brittany': 1, 'andwife': 1, 'whomhides': 1, 'chinmayis': 1, 'arreihanarahman': 1, 'oo': 1, 'bdsm': 1, 'condescending': 1, 'firebrand': 1, 'gutsy': 1, 'mns': 1, 'rajthackeraysundayfunday': 1, 'commits': 1, 'shy': 1, 'unmasking': 1, 'blchat': 1, 'withcofounder': 1, 'xpheno': 1, 'andcofounder': 1, 'indus': 1, 'needsupremecourt': 1, 'themgenderequality': 1, 'won': 1, 'criminally': 1, 'civilly': 1, 'outstanding': 1, 'bowers': 1, 'kreps': 1, 'artfair': 1, 'galore': 1, 'whiteamerica': 1, 'donaldjtrump': 1, 'juston': 1, 'withim': 1, 'thenthinking': 1, 'saveamerica': 1, 'singermetooindia': 1, 'menvswomen': 1, 'metoovsmentoo': 1, 'banish': 1, 'spoiling': 1, 'thatthat': 1, 'shortterm': 1, 'punjabi': 1, 'laung': 1, 'laachi': 1, 'mannat': 1, 'noor': 1, 'protectourboys': 1, 'risen': 1, 'aubank': 1, 'hourly': 1, 'reversal': 1, 'ernst': 1, 'leonora': 1, 'carringtonshowing': 1, 'symbioses': 1, 'moderncouples': 1, 'artandphotography': 1, 'barbicanartgallery': 1, 'romanceinaframe': 1, 'todayindyanews': 1, 'ruled': 1, 'medianeedsreforms': 1, 'keeladi': 1, 'keezhadi': 1, 'maxthanks': 1, 'madangowri': 1, 'rereading': 1, 'chartered': 1, 'accountant': 1, 'dowry': 1, 'timesnews': 1, 'objection': 1, 'implies': 1, 'sosupports': 1, 'thehow': 1, 'metookeepamericagreat': 1, 'extending': 1, 'shikha': 1, 'talsania': 1, 'thehistorical': 1, 'shuts': 1, 'butnever': 1, 'flags': 1, 'exodus': 1, 'fewer': 1, 'mja': 1, 'stakes': 1, 'dearworld': 1, 'metwenty': 1, 'mehaveactualevidence': 1, 'indiasky': 1, 'interviewing': 1, 'jesme': 1, 'blf2018': 1, 'noncognizable': 1, 'ayesha': 1, 'prophets': 1, 'cleansing': 1, 'metooforpeople': 1, 'metooformenandwomen': 1, 'metooforall': 1, 'linkmetooindia': 1, 'supportforindividual': 1, 'deservinglife': 1, 'lifecoach': 1, 'reenayadav': 1, 'iadlife': 1, 'itsadeservinglife': 1, 'idolmetoo': 1, 'anulmalik': 1, 'withfrom': 1, 'onin': 1, 'virgin': 1, 'rpt': 1, 'newsindira': 1, 'disobedience': 1, 'subhasini': 1, 'mistry': 1, 'labourer': 1, 'shri': 1, 'chappals': 1, 'cotton': 1, 'saree': 1, 'maid': 1, 'vegetable': 1, 'cries': 1, 'scifi': 1, 'blank': 1, 'enhancement': 1, 'fromdiscussing': 1, 'oyw2018': 1, 'root': 1, 'a4': 1, 'sayftychat': 1, 'planners': 1, 'harassmenteventprofs': 1, 'meetingprofs': 1, 'nightmare': 1, 'pretikamenon': 1, 'ponnarsankar': 1, 'outdoor': 1, 'coimbatore': 1, 'raisingaquestion': 1, 'formula': 1, 'publically': 1, 'sacrificed': 1, 'speaktruthtopower': 1, 'fonseca': 1, 'udaan': 1, 'sapnon': 1, 'sai': 1, 'ballalmetoo': 1, 'buddy': 1, 'bush': 1, 'gwyneth': 1, 'paltrow': 1, 'muslimchildren': 1, 'closer': 1, 'lifeisbeautiful': 1, 'lifehacks': 1, 'closetome': 1, 'dontmessupmytempo': 1, 'dontgobreakingmyheart': 1, 'unscribbledwords': 1, 'leftiesmetoo': 1, 'narratives': 1, 'devamma': 1, 'lakshmidevamma': 1, 'arjunsarjamother': 1, 'allows': 1, 'authentic': 1, 'selves': 1, 'cuteness': 1, 'bigboss': 1, 'karuthugal': 1, 'demoncrat': 1, 'peta': 1, 'parenthood': 1, 'metooandanswer': 1, 'mervosh': 1, 'charishta': 1, 'kingsonycharishta': 1, 'day2daycinema': 1, 'nikita': 1, 'sonavane': 1, 'bywhen': 1, 'xaviers': 1, 'affect': 1, 'psychiatry': 1, 'charlotte': 1, 'arised': 1, 'steering': 1, 'article377': 1, 'travelagentmodi': 1, 'womble': 1, 'bond': 1, 'dickinson': 1, 'increating': 1, 'pathways': 1, 'sprain': 1, 'moderates': 1, 'manhoodwe': 1, 'springboard': 1, 'consult': 1, 'reopenedmoney': 1, 'pieter': 1, 'hansonwhose': 1, 'unjust': 1, 'innumerable': 1, 'eaters': 1, 'disposables': 1, 'municipaladmins': 1, 'envjustice': 1, 'nolandfill': 1, 'dibakarbanerjee': 1, 'heroines': 1, 'trap': 1, 'formonica': 1, 'feedback': 1, 'onlink': 1, 'commnet': 1, 'whenteaches': 1, 'asbrings': 1, 'politicon2018': 1, 'smear': 1, 'smcs': 1, 'educating': 1, 'onwithabout': 1, 'stmichaelsmanprogramme': 1, 'apposite': 1, 'enlightening': 1, 'rodchenko': 1, 'stepanovaruns': 1, 'ooh': 1, 'tinkywinky': 1, 'manhood': 1, 'maddow': 1, 'puppy': 1, 'itsme': 1, 'wheniwritemymind': 1, 'metooewopinion': 1, 'boystory': 1, 'implore': 1, 'wigs': 1, 'channelthe': 1, 'avanytthe': 1, 'handledthe': 1, 'episodemetoo': 1, 'bechare': 1, 'babumetoobeyondlimits': 1, 'bigots': 1, 'jeopardize': 1, 'blacks': 1, 'followbackresistance': 1, 'opinionand': 1, 'guestsandtalk': 1, 'itunesgoogle': 1, 'hail': 1, 'kuriakosekattuthara': 1, 'crushes': 1, 'criminals': 1, 'forwardviawomeninfilm': 1, 'homophobemetooindia': 1, 'adv': 1, 'jose': 1, 'relief': 1, 'galgadot': 1, 'happyfriday': 1, 'gendersensitizationforgenderequality': 1, 'depositions': 1, 'notetaker': 1, 'refuge': 1, 'directly': 1, 'memartinsvillematters': 1, 'johnwoodengymnasium': 1, 'sexcrimes': 1, 'icymidid': 1, 'jai': 1, 'hind': 1, 'poorpeoplescampaign': 1, 'ngocokkontol': 1, 'streetsnap': 1, 'modeling': 1, 'narendramodijindabad': 1, 'ndtvnewsbeeps': 1, 'feministpoetry': 1, 'organisers': 1, 'jlf': 1, 'conducive': 1, 'donetcr': 1, 'onlychildsexabuse': 1, 'flaws': 1, 'mistakes': 1, 'reunited': 1, 'injustices': 1, 'saysmetooindia': 1, 'probif': 1, 'readerssexual': 1, 'emplaw': 1, 'reprieve': 1, 'francois': 1, 'truffauts': 1, 'shootthepianoplayer': 1, 'heyyou': 1, 'houseofcards': 1, 'menu': 1, 'metoobeingbhakthals': 1, 'bebaak': 1, 'kalyan': 1, 'ofif': 1, 'kuchh': 1, 'bana': 1, 'leti': 1, 'shameon': 1, 'takestand': 1, 'right2speak': 1, 'singlegreatest': 1, 'waschairman': 1, 'leslie': 1, 'moonves': 1, 'resigned': 1, 'watever': 1, 'dis': 1, 'onshameonurbannaxals': 1, 'urbannaxals': 1, 'apurva': 1, 'asrani': 1, 'torch': 1, 'journeymetoo': 1, 'priyankachopra': 1, 'temperance': 1, 'viafor': 1, 'iosi': 1, 'sociologists': 1, 'shrinath': 1, 'brut': 1, 'dilemma': 1, 'promoters': 1, 'harper': 1, 'denounced': 1, 'atticus': 1, 'finch': 1, 'reject': 1, 'tanushreemetoo': 1, 'sicklysweet': 1, 'supremacy': 1, 'ussupremecourt': 1, 'yahoo': 1, 'clauseswill': 1, 'me_too': 1, 'bynick': 1, 'salameh': 1, 'untold': 1, 'thisji': 1, 'jains': 1, 'publications': 1, 'panels': 1, 'fromtotalking': 1, 'belated': 1, 'snowballed': 1, 'tennispremierleague': 1, 'checkmetoo': 1, 'scored': 1, 'viratkohli': 1, 'milord': 1, 'mysteriously': 1, 'justicefornun': 1, 'medals': 1, 'abusebostonglobe': 1, 'childsexabuse': 1, 'shesaidno': 1, 'childabuse': 1, 'abusecoverup': 1, 'sexualpredators': 1, 'justiceiscoming': 1, 'freedomofmind': 1, 'cultexpert': 1, 'ceoguests': 1, 'boards': 1, 'volatile': 1, 'nafta': 1, 'chutiyapa': 1, 'bruteur': 1, 'withchy': 1, 'sud': 1, 'bargirl': 1, 'njoyments': 1, 'scindia': 1, 'pilot': 1, 'uncles': 1, 'racsaldie': 1, 'congees': 1, 'pointer': 1, 'grounded': 1, 'vijayalakshmisingh': 1, 'coactors': 1, 'accounting': 1, 'compromised': 1, 'dividends': 1, 'payer': 1, 'shelling': 1, 'uncovered': 1, 'monumental': 1, 'royal': 1, 'artistic': 1, 'directora': 1, 'indepth': 1, 'taapseepannu': 1, 'mumbaimirrorimage': 1, 'regret': 1, 'hunting': 1, 'atworkers': 1, 'strike': 1, 'namededuramp': 1, 'oomenchandy': 1, 'tempting': 1, 'repeat': 1, 'voiceofwomen': 1, 'tfi': 1, 'womenoftfi': 1, 'downloadable': 1, 'theech': 1, 'kundhaanis': 1, 'familys': 1, 'mess': 1, 'unequal': 1, 'woo': 1, 'linksangeethabhat': 1, 'manvithaharish': 1, 'mayuriupadhya': 1, 'aindritharay': 1, 'raginidwivedi': 1, 'anil': 1, 'moralisticwould': 1, 'withafter': 1, 'slammedfor': 1, 'firstmanmovie': 1, 'waitress': 1, 'campaignndtvnewsbeeps': 1, 'greer': 1, 'macallister': 1, 'opendoors': 1, 'unlock': 1, 'firstfemaledetective': 1, 'mondaymemories': 1, 'bookclub': 1, 'makentake': 1, 'ylpl': 1, 'historicalfiction': 1, 'publiclibrary': 1, 'explanatory': 1, 'zerotraileronsrkday': 1, 'mandirpeladai': 1, 'youthwithshivraj': 1, 'every1': 1, 'perth': 1, 'humbling': 1, 'fromalongside': 1, 'honourees': 1, 'recognising': 1, 'nuihonconf': 1, 'misguiding': 1, 'thala': 1, 'daksha': 1, 'fakepotus': 1, 'trumpistan': 1, 'trumptard': 1, 'groperinchief': 1, 'grifter': 1, 'documents': 1, 'alec': 1, 'quizzed': 1, 'thefunnies': 1, 'respite': 1, 'insanity': 1, 'pooch': 1, 'rakhisawantvstanushreedutta': 1, 'supervikasbahl': 1, 'gtfoh': 1, 'skype': 1, 'soliciting': 1, 'jackass': 1, 'lovee': 1, 'amy': 1, 'mcm': 1, 'goddesses': 1, 'godsplan': 1, 'spiritualawakening': 1, 'foundat': 1, 'whenever': 1, 'weighs': 1, 'reminders': 1, 'hereweare': 1, 'wearechange': 1, 'jovan': 1, 'uglier': 1, 'mike': 1, 'littwin': 1, 'abducting': 1, 'section': 1, 'saidhelenabonhamcarter': 1, 'mentors': 1, 'mentees': 1, 'visitto': 1, 'girlsinc': 1, 'growup': 1, 'miserably': 1, 'savekfifromsruthi': 1, 'fron': 1, 'cringe': 1, 'sweetie': 1, 'caller': 1, 'vulgar': 1, 'syndrome': 1, 'bluewavenov6th': 1, 'medicareforall': 1, 'votebeto': 1, 'drwho': 1, 'flipcongresblue2018': 1, 'effing': 1, 'liberallogic': 1, 'youretheworst': 1, 'highranked': 1, 'instructor': 1, 'erique': 1, 'occurredthey': 1, 'po': 1, 'tons': 1, 'denials': 1, 'animalabuse': 1, 'animalcruelty': 1, 'againston': 1, 'profiling': 1, 'terminating': 1, 'illigally': 1, 'namaz': 1, 'officemumbaimanthan18': 1, 'exfoleaveindia': 1, 'vijays': 1, 'mujh': 1, 'mat': 1, 'callin': 1, 'ironicallymisused': 1, 'misusin': 1, 'falselyaccused': 1, 'thisishowwedoit': 1, 'consultants': 1, 'branding': 1, 'creativeagency': 1, 'tablonoir': 1, 'brandidentity': 1, 'logodesign': 1, 'seo': 1, 'smo': 1, 'smm': 1, 'marketingstrategy': 1, 'brandbuilding': 1, 'brandpositioning': 1, 'compilation': 1, 'linkthiyagarajan': 1, 'stirringtalk': 1, 'sexed': 1, 'wallpaper': 1, 'rse': 1, 'activisteverything': 1, 'bothered': 1, 'hoardings': 1, 'wajahtumho': 1, 'movementsmetoo': 1, 'metooat': 1, 'arewethereyet': 1, 'standtogether': 1, 'allivesmatter': 1, 'wwg1wga': 1, 'thisisamerica': 1, 'neversettle': 1, 'dividedwefall': 1, 'brandvoice': 1, 'bear': 1, 'perpetuate': 1, 'whenaccusewithout': 1, 'ley': 1, 'lopez': 1, 'guessthought': 1, 'withour': 1, 'reinforces': 1, 'aidtoo': 1, 'metoogets': 1, 'sthlmtechstockholm': 1, 'sthlminno': 1, 'seasonmadrasmusicacademy': 1, 'debarssevenmusicians': 1, 'breakingback': 1, 'distancing': 1, 'subash': 1, 'reeks': 1, 'benny': 1, 'pappa': 1, 'shaktimaan': 1, 'pappas': 1, 'malala': 1, 'zai': 1, 'retd': 1, 'markandey': 1, 'katjus': 1, 'ramcharitmanas': 1, 'yuvati': 1, 'tan': 1, 'jani': 1, 'flame': 1, 'lest': 1, 'encouragement': 1, 'bahls': 1, 'wickets': 1, 'notsosanskari': 1, 'christopher': 1, 'dolan': 1, 'kaity': 1, 'nordhoff': 1, 'sarcc': 1, 'lebanon': 1, 'atrium': 1, 'colloquium': 1, 'golvc': 1, 'bishoplibrary': 1, 'kennedyboth': 1, 'rescued': 1, 'dotty': 1, 'natesa': 1, 'campaigned': 1, 'widow': 1, 'remarriages': 1, 'ostracized': 1, 'orthodoxmetooindia': 1, 'imbalance': 1, 'outcry': 1, 'willmetoomentum': 1, 'backbone': 1, 'workmetoo': 1, 'tovisit': 1, 'universities': 1, 'narcs': 1, 'recommends': 1, 'pi': 1, 'narc': 1, 'unlicensed': 1, 'stalked': 1, 'vehicles': 1, 'gpsd': 1, 'collegemate': 1, 'ditto': 1, 'viafalse': 1, 'rack': 1, 'jaisingsays': 1, 'daytweeted': 1, 'demonstrate': 1, 'herfor': 1, 'isi': 1, 'wowandhave': 1, 'delusion': 1, 'simpleminded': 1, 'fromagnon': 1, 'stupidity': 1, 'moroccan': 1, 'masaktach': 1, 'hires': 1, 'inners': 1, 'allpraise': 1, 'suffraducks': 1, 'heardiscuss': 1, 'directionless': 1, 'melodrama': 1, 'mari': 1, 'marcel': 1, 'thekaekara': 1, 'margolis': 1, 'thetas': 1, 'billionaires': 1, 'strings': 1, 'ivory': 1, 'tower': 1, 'collegefootball': 1, 'wattpad': 1, 'metomovement': 1, 'bandh': 1, 'kaar': 1, 'chahi': 1, 'rude': 1, 'cauch': 1, 'nirbhaya': 1, 'in1': 1, 'childish': 1, 'lordhain': 1, 'sirphilipgreen': 1, 'laila': 1, 'frontlines': 1, 'diffuse': 1, 'digitalmoblynching': 1, 'cringeworthy': 1, 'cleanse': 1, 'kabilan': 1, 'lyriciston': 1, 'upshot': 1, 'madhushree': 1, 'jurisdictions': 1, 'ibarome': 1, 'viacc': 1, 'scare': 1, 'powerfulwhen': 1, 'ukelele': 1, 'kimmelinbrooklyn': 1, 'evenmallikadua': 1, 'gyrating': 1, 'arrow': 1, 'elizabethwarrens': 1, 'himselfviacomedy': 1, 'trumpisarussianasset': 1, 'nooneabovethelaw': 1, 'benedictdonald': 1, 'assassinated': 1, 'rapistbishopfranco': 1, 'sanjjanaagalranis': 1, 'agrantee': 1, 'resonating': 1, 'raya': 1, 'losha': 1, 'sympathisers': 1, 'furylike': 1, 'togive': 1, 'additional': 1, 'patronising': 1, 'freaks': 1, 'learnandlisten': 1, 'notstayquite': 1, 'sritijha': 1, 'kumkumbhagya': 1, 'sritiigstory': 1, 'grey': 1, 'anastasia': 1, 'steele': 1, 'fiftyshades': 1, 'fiftyshadesofgrey': 1, 'fiftyshadesdarker': 1, 'lighter': 1, 'whtsap': 1, 'cornerstonecaroline': 1, 'tryna': 1, 'childrens': 1, 'caroline': 1, 'messdisgusting': 1, 'junaidakram': 1, 'sonakshisinha': 1, 'meghalaya': 1, 'otherwiseproactive': 1, 'likelets': 1, 'gritandgrace': 1, 'invention': 1, 'christmasmetoo': 1, 'samples': 1, 'asians': 1, 'bojack': 1, 'horseman': 1, 'wisen': 1, 'ministerthe': 1, 'rippling': 1, 'newsrooms': 1, 'luckiest': 1, 'sorryyour': 1, 'fatheris': 1, 'belongs': 1, 'jain': 1, 'links': 1, 'unborn': 1, 'unbornlivesmatter': 1, 'abortionismurder': 1, 'herbodyherchoice': 1, 'notyourbodyhoney': 1, 'unbornchild': 1, 'audrey': 1, 'carlsen': 1, 'salam': 1, 'cain': 1, 'denise': 1, 'lu': 1, 'ngu': 1, 'jugal': 1, 'zach': 1, 'wichter': 1, 'taken4e': 1, 'wounded': 1, 'manyopensecret': 1, 'byori': 1, 'whoopihastogo': 1, 'manthan': 1, 'bythis': 1, 'outweighs': 1, 'measuresworldmentalhealthday': 1, 'wonto': 1, 'legitimacy': 1, 'powermetoo': 1, 'mazher': 1, 'hussainresponds': 1, 'enah': 1, 'negligent': 1, 'jack': 1, 'bruh': 1, 'seriouslymetoo': 1, 'lay': 1, 'motive': 1, 'ofnamechanging': 1, 'streak': 1, 'againdid': 1, 'onunder': 1, 'atlantic': 1, 'subina': 1, 'shrestha': 1, 'intimacyonsetguidelines': 1, 'intimacyonset': 1, 'gravity': 1, 'thirutupayale2': 1, 'trendsdeepikaranveerwedding': 1, 'mygossipry': 1, 'scuttlebutt': 1, 'post1': 1, 'salimkhan': 1, 'bob': 1, 'poisoned': 1, 'eatenmothernature': 1, 'livelong': 1, 'rough': 1, 'thumbrule': 1, 'inflicting': 1, 'itstime': 1, 'foxes': 1, 'rachael': 1, 'denhollander': 1, 'sac': 1, 'ballroom': 1, 'uofl': 1, 'uoflstudentaffairs': 1, 'gocards': 1, 'endrape': 1, 'endslutshaming': 1, 'numberhernamewasjenny': 1, 'amazonbooks': 1, 'booklovers': 1, 'memoirs': 1, 'usingmyvoice': 1, 'shankar': 1, 'studied': 1, 'stephen': 1, 'obtained': 1, 'trinity': 1, 'kellogg': 1, 'harrasser': 1, 'metooindiapanchayat': 1, 'feminazis': 1, 'pays': 1, 'trumprallygop': 1, 'trumprally': 1, 'trump2020': 1, 'mexicans': 1, 'nato': 1, 'unitednations': 1, 'darken': 1, 'clauses': 1, 'cartoonmetoo': 1, 'therefilia2018': 1, 'gra': 1, 'vivek': 1, 'agnihotri': 1, 'confessed': 1, 'sherris': 1, 'piccrew': 1, 'facebookblocked': 1, 'therefore': 1, 'grampa': 1, 'grumpyoldmen': 1, 'politicstoday': 1, 'behindtime': 1, 'luccislist': 1, 'awellbehavedwoman': 1, 'globalcitizen': 1, 'howtobelesstupidaboutrace': 1, 'godfrom': 1, 'holiness': 1, 'younusalgohar': 1, 'fool': 1, 'influenced': 1, 'byi': 1, 'finalized': 1, 'congressi': 1, 'ril': 1, 'inquiryauthor': 1, 'eric': 1, 'brownshirts': 1, 'hillaryforprison': 1, 'victoryrajkamble': 1, 'donerevise': 1, 'onwait': 1, 'ascarytime': 1, 'getoutandvote': 1, 'tease': 1, 'exited': 1, 'fade': 1, 'womenoffire': 1, 'empowergirls': 1, 'puja': 1, 'forourdaughters': 1, 'iamthechange': 1, 'strengths': 1, 'weaknesses': 1, 'kicker': 1, 'huddle': 1, 'honduran': 1, 'assassins': 1, 'mercenaries': 1, 'honduras': 1, 'violations': 1, 'bertacaceres': 1, 'studying': 1, 'biomedical': 1, 'aspergers': 1, 'iruttuaraiyilmurattukuthu': 1, 'yashikaannand': 1, 'unnamed': 1, 'gometoo': 1, 'wove': 1, 'effective': 1, 'nuances': 1, 'vinspire': 1, 'vinspireforcorporate': 1, 'gendersensitization': 1, 'employeengagement': 1, 'tutor': 1, 'identify': 1, 'musicacademy': 1, 'vaikunth': 1, 'kasturirangan': 1, 'slavers': 1, 'panthers': 1, 'brotherhood': 1, 'alarmed': 1, 'ivankas': 1, 'nough': 1, 'retribution': 1, 'slutshame': 1, 'drawn': 1, 'femalefilmmakerfridaycait': 1, 'cortelyou': 1, 'profiled': 1, 'inrollredrolldoc': 1, 'hiff2018': 1, 'koimoi': 1, 'belowscope': 1, 'accelerating': 1, 'yourselfieunlocksbeccos': 1, 'sorority': 1, 'enslaved': 1, 'jargon': 1, 'misandryblancs': 1, 'depicted': 1, 'adverts': 1, 'braced': 1, 'unshakeable': 1, 'glitz': 1, 'glamour': 1, 'pageants': 1, 'gurnaney': 1, 'starbucks': 1, 'sweets': 1, 'saba': 1, 'naqvi': 1, 'nooffence': 1, 'digitalnewspapers': 1, 'cellphones': 1, 'waking': 1, 'paperboyapp': 1, 'dinamalar': 1, 'erudite': 1, 'eloquent': 1, 'batesmy': 1, 'takeaway': 1, 'denormalises': 1, 'sustaining': 1, 'rekha': 1, 'todaysandwant': 1, 'indaclub': 1, 'rebelled': 1, 'metoothe': 1, 'rookie': 1, 'slicker': 1, 'snide': 1, 'satshyaa': 1, 'wokedesiboy': 1, 'skhndh': 1, 'erasing': 1, 'uplifting': 1, 'recognizing': 1, 'raisethemup': 1, 'youpowerofwomen': 1, 'controlled': 1, 'franken': 1, 'ballots': 1, 'tvdebate': 1, 'onroundtable': 1, 'prohibiting': 1, 'weapons': 1, 'waramanda': 1, 'riggle': 1, 'foster': 1, 'somewhere': 1, 'youpropose': 1, 'rajnathasingh': 1, 'newdelhi': 1, 'trainaccident': 1, 'trafficalert': 1, 'roadsafety': 1, 'trafficjam': 1, 'lifematters': 1, 'hush': 1, 'trio': 1, 'gripping': 1, 'control': 1, 'fakeindian': 1, 'commandmetoo': 1, 'ashley': 1, 'merriman': 1, 'dreamed': 1, 'denounces': 1, 'shenqingwenen': 1, 'baseball': 1, 'vintage': 1, 'capmetoo': 1, 'metoobiggboss12': 1, 'usd': 1, 'fcb': 1, 'saadmimfashions': 1, 'fcbarcelona': 1, 'adidas': 1, 'barca': 1, 'lieonelmessi': 1, 'cbidirector': 1, 'praise': 1, 'handleit': 1, 'elizabethgilbert': 1, 'disregard': 1, 'feminized': 1, 'soyboys': 1, 'buildthewall': 1, 'justinedamond': 1, 'drusjodin': 1, 'amyklobuchar': 1, 'timwalz': 1, 'makemnred': 1, 'laurie': 1, 'rosenfield': 1, 'officermetoo': 1, 'dramatic': 1, 'providers': 1, 'vt': 1, 'transformativevianews': 1, 'yamini': 1, 'gladspoke': 1, 'illequipped': 1, 'peninsula': 1, 'occur': 1, 'romances': 1, 'identifying': 1, 'observable': 1, 'unrest': 1, 'camp': 1, 'mra': 1, 'viaai': 1, 'blackops4': 1, 'larissamanoelaig': 1, 'ikoninmanila': 1, 'vr': 1, 'xfactor': 1, 'hsayinghas': 1, 'madeamb': 1, 'timesupwith': 1, 'angels': 1, 'speakupgirls': 1, 'plzspeakup': 1, 'banishing': 1, 'descriptor': 1, 'displaying': 1, 'worms': 1, 'youakka': 1, 'genderqueer': 1, 'redefine': 1, 'absue': 1, 'bhasker': 1, 'braving': 1, 'karu': 1, 'saala': 1, 'dheela': 1, 'garlanded': 1, 'bysays': 1, 'missionaries': 1, 'misread': 1, 'linksingerraghudixit': 1, 'aspiringsinger': 1, 'songrecording': 1, 'raghudixitapology': 1, 'allegationsonraghudixit': 1, 'stunningly': 1, 'assaultshewhobornethebattle': 1, 'movementvianews': 1, 'miserable': 1, 'armor': 1, 'quixote': 1, 'sackedreports': 1, 'jasmin': 1, 'bhasin': 1, 'rajnikanth': 1, 'robot2': 1, '0': 1, 'promising': 1, 'overnight': 1, 'withno': 1, 'industryworkplace': 1, 'leaderon': 1, 'bystanders': 1, 'surpasses': 1, 'nuts': 1, 'okwhen': 1, 'leftists': 1, 'voteredmidterms2018': 1, 'voterepublicantosaveamerica201viralvideos': 1, 'genuinely': 1, 'regressive': 1, 'creep': 1, 'onstage': 1, 'gently': 1, 'scuppered': 1, 'proposals': 1, 'widen': 1, 'reportingdidnt': 1, 'yesterdays': 1, 'interviewfor': 1, 'moreglassceiling': 1, 'oof': 1, 'harassmenttimesup': 1, 'ganesh': 1, 'finishing': 1, 'bracelet': 1, 'princess': 1, 'wonderwoman': 1, 'horrorpodcast': 1, 'truecrimepodcast': 1, 'bookpodcast': 1, 'literaturepodcast': 1, 'premsoninameshametherapists': 1, 'ontario': 1, 'highprofile': 1, 'avantgarde': 1, 'shillong': 1, 'melancholy': 1, 'influential': 1, 'enjoyment': 1, 'ciao': 1, 'florence': 1, 'aweinspiring': 1, 'macho': 1, 'horny': 1, 'mosquitoesstevensfamilyworldtour': 1, 'travelblogger': 1, 'hines': 1, 'bollybasterds': 1, 'edtech': 1, 'cohort': 1, 'adulting': 1, 'mouthofbabes': 1, 'ctlearns': 1, 'hereanddiscuss': 1, 'testifying': 1, 'player': 1, 'footnotes': 1, 'ragini': 1, 'thatinterviewer': 1, 'subconscious': 1, 'assumption': 1, 'presumption': 1, 'aptly': 1, 'whatare': 1, 'theprint': 1, 'videocast': 1, 'kavanaughon': 1, 'livetrump': 1, 'editorwrites': 1, 'messingwiththewronggirl': 1, 'gagging': 1, 'reviewing': 1, 'thatorganisedsilence': 1, 'intothegaps': 1, 'thirddegree': 1, 'pave': 1, 'namaskar': 1, 'offing': 1, 'arm': 1, 'heroeson': 1, 'expectations': 1, 'hunk': 1, 'junk': 1, 'timesupcalling': 1, 'noway': 1, 'hopefull': 1, 'himani': 1, 'shivpuri': 1, 'nagai': 1, 'mannargudi': 1, 'eashwaran': 1, 'listcarnatic': 1, 'sanskaar': 1, 'waves': 1, 'timesofindia': 1, 'townhall': 1, 'wtsapp': 1, 'supportnor': 1, 'relevance': 1, 'itselfprofsamitasens': 1, 'dresses': 1, 'letavnilive': 1, 'shortlist': 1, 'poundshop': 1, 'elvis': 1, 'kenfrom': 1, 'delightful': 1, 'combo': 1, 'bay': 1, 'roller': 1, 'flasher': 1, 'bum': 1, 'glaring': 1, 'whytype': 1, 'likeandare': 1, 'amuls': 1, 'longest': 1, 'contextual': 1, 'utterlybutterlydelicious': 1, 'amul': 1, 'micaadswag': 1, 'iloveyou': 1, 'bolne': 1, 'daar': 1, 'sahab': 1, 'sunne': 1, 'tuesdaythoughtsmetooindia': 1, 'investment': 1, 'unfolds': 1, 'groans': 1, 'melanie': 1, 'phillips': 1, 'debatecheltlitfest': 1, 'fairytales': 1, 'sleepingbeauty': 1, 'kattuthara': 1, 'marys': 1, 'shocker': 1, 'ravideshpandeacts': 1, 'firsthand': 1, 'hippocrecy': 1, 'ladyis': 1, 'byandthe': 1, 'hooray': 1, 'downlaod': 1, 'consensus': 1, 'chalk': 1, 'ifwill': 1, 'fromsuggest': 1, 'haveas': 1, 'referee': 1, 'tearing': 1, 'lungi': 1, 'rattling': 1, 'sandalwoodread': 1, 'letsbestrongwomen': 1, 'slaphimback': 1, 'undeserved': 1, 'unlimited': 1, 'itmoree': 1, 'ladyy': 1, 'bustle': 1, 'formidableyou': 1, 'jointheconversation': 1, 'politicalpodcast': 1, 'kyra': 1, 'jumbled': 1, 'recedes': 1, 'padmabhushan': 1, 'weiner': 1, 'arguments': 1, 'yrsis': 1, 'poisonous': 1, 'gas': 1, 'adjacent': 1, 'apartments': 1, 'crippled': 1, 'resultmetoo': 1, 'globe': 1, 'charities': 1, 'ava': 1, 'iss': 1, 'aquas': 1, 'premetoo': 1, 'niceadds': 1, 'soo': 1, 'masks': 1, 'newsmetoo': 1, 'wasim': 1, 'recollect': 1, 'guwahati': 1, 'sermon': 1, 'classystem': 1, 'socialjusticewarrior': 1, 'sundayjesusrevolution': 1, 'martyred': 1, 'indianoccupiedkashmiruno': 1, 'youonlifetime': 1, 'youkiddinme': 1, 'youknow': 1, 'doit': 1, 'married2med': 1, 'worlds2018': 1, 'realangels': 1, 'realityhigh': 1, 'colts': 1, 'culturalgravity': 1, 'cult45': 1, 'adulttfoutofthis': 1, 'idealism': 1, 'actionwants': 1, 'cabin': 1, 'crew': 1, 'commend': 1, 'twu': 1, 'ofwomens': 1, 'rep': 1, 'cabincrewtoo': 1, 'mama': 1, 'margazhi': 1, 'seasonvia': 1, 'thewant': 1, 'abouton': 1, 'disappearance': 1, 'khashoggipknt': 1, 'buger': 1, 'onieyks': 1, 'modisecbibachaobring': 1, 'stablished': 1, 'lawlets': 1, 'fathered': 1, 'haveon': 1, 'actresstalks': 1, 'scenes': 1, 'mikisautbine': 1, 'aton': 1, 'attcffeducates': 1, 'widespreadtries': 1, 'oppression': 1, 'anumalikhas': 1, 'betraying': 1, 'clickraw': 1, 'rm': 1, 'monoishere': 1, 'thankyouroman': 1, 'rmono': 1, 'houstonrally': 1, 'rodaviva': 1, 'np': 1, 'lullaby': 1, 'presentyou': 1, 'naughty': 1, 'statueofunity': 1, 'webdevelopment': 1, 'shruthihariharn': 1, 'vismayakannadamovie': 1, 'shruthihariharanaccusesarjunsarjaforharassment': 1, 'daymidtermelections2018': 1, 'usqedu': 1, 'julie': 1, 'mckenzie': 1, 'thecampaign': 1, 'irrelevant': 1, 'dard': 1, 'mensrights': 1, 'adhyayansuman': 1, 'manu': 1, 'abha': 1, 'harrass': 1, 'filmmaking': 1, 'diluted': 1, 'shake': 1, 'roomthis': 1, 'powershaking': 1, 'metooandreceives': 1, 'horrid': 1, 'tumble': 1, 'cupboards': 1, 'feministmetoo': 1, 'ofswelledu': 1, 'sucksmetoo': 1, 'andy': 1, 'rubin': 1, 'workusnews': 1, 'usrc': 1, 'rightmetoo': 1, 'linkkannadaactress': 1, 'sanjanamovies': 1, 'vsi': 1, 'fella': 1, 'metoopunjab': 1, 'megamillions': 1, 'behoveth': 1, 'nonetheless': 1, 'scotland': 1, 'pooper': 1, 'chews': 1, 'carla': 1, 'durham': 1, 'congs': 1, 'neharu': 1, 'riseing': 1, 'nowmade': 1, 'etedit': 1, 'guessed': 1, 'pal': 1, 'doublestandards': 1, 'towardschairperson': 1, 'engaging': 1, 'journalistwrites': 1, 'aishwaryarai': 1, 'wiser': 1, 'davidbyrd': 1, 'unsafe': 1, 'asmetoo': 1, 'bhagatshares': 1, 'thelff': 1, 'viola': 1, 'beginnings': 1, 'kelley': 1, 'parenthoodtakeitback': 1, 'misuseby': 1, 'banter': 1, 'leg': 1, 'pullingat': 1, 'jaipurletfest': 1, 'vintas': 1, 'prestitute': 1, 'drabu': 1, 'frameworks': 1, 'hearandtalk': 1, 'selfcarelast': 1, 'heardtalking': 1, 'trope': 1, 'meek': 1, 'odyssey': 1, 'c8th': 1, 'invigorated': 1, 'lowly': 1, 'phallic': 1, 'endthesilence': 1, 'endsexualassault': 1, 'hearmyvoice': 1, 'artificial': 1, 'intelligence': 1, 'recruiter': 1, 'engine': 1, 'penalized': 1, 'womenai': 1, 'yell': 1, 'wtocbmetoo': 1, 'specially': 1, 'confidential': 1, 'lovinleeds': 1, 'snapezzy': 1, 'karso': 1, 'hollywoodmaker': 1, 'saxualharassamentact': 1, 'karsoo': 1, 'nofracking': 1, 'actresssupportschitraloka': 1, 'tiramisu': 1, 'rabbit': 1, 'doll': 1, 'bunny': 1, 'tshirtsmetoo': 1, 'intensifies': 1, 'jayati': 1, 'jaisa': 1, 'exodusandmust': 1, 'regretting': 1, 'unwilling': 1, 'thedo': 1, 'correspondenceregarding': 1, 'greens': 1, 'thanto': 1, 'buckingham': 1, 'guysmetoo': 1, 'judging': 1, 'choicesmetoo': 1, 'utsavchakraborty': 1, 'mentalillness': 1, 'blingy': 1, 'jewellery': 1, 'voicing': 1, 'clothesladyga': 1, 'thelibertyeagle': 1, 'slushfund': 1, 'mekook': 1, 'repulsive': 1, 'odds': 1, 'itin': 1, 'isharassment': 1, 'unforgivable': 1, 'fodder': 1, 'iscopolitics': 1, 'hostin': 1, 'huntsman': 1, 'mccainusrc': 1, 'pen': 1, 'movementontheteenbeatentertainmentnews': 1, 'musicnews': 1, 'zionists': 1, 'hoffman': 1, 'damon': 1, 'lenszer': 1, 'intimidating': 1, 'palestinian': 1, 'saturdayisrael': 1, 'antisemitism': 1, 'confirmkavanaugh': 1, 'ampfwmetoo': 1, 'electionreform': 1, 'independentvoteranticorruption': 1, 'educateallgirls': 1, 'educacion': 1, 'educationisgreat': 1, 'learningtogether': 1, 'dentistry': 1, 'indiabriefs': 1, 'goddessesmetoo': 1, 'arlie': 1, 'russell': 1, 'hochschild': 1, 'drwitness': 1, 'adjourned': 1, 'dive': 1, 'learnings': 1, 'referenceslatest': 1, 'considerations': 1, 'journalistheraccount': 1, 'cablegauge': 1, 'cheek': 1, 'wet': 1, 'lips': 1, 'lingering': 1, 'waving': 1, 'commissioned': 1, 'insecure': 1, 'againge': 1, 'eagleibelievedrford': 1, 'metoowomenswave': 1, 'misdiagnosing': 1, 'lethal': 1, 'misdiagnosed': 1, 'societies': 1, 'ineffective': 1, 'masspsychology': 1, 'likeapphi': 1, 'friendz': 1, 'boliye': 1, 'lifetoolsam': 1, 'criticises': 1, 'publicitychitraloka': 1, 'ysr': 1, 'byabout': 1, 'grades': 1, 'suitcivilrights': 1, 'hostileenvironment': 1, 'quidproquo': 1, 'cuny': 1, 'legalnews': 1, 'subdued': 1, 'metoomovementindia': 1, 'metoohr': 1, 'winston': 1, 'defined': 1, 'singeranopensecret': 1, 'xmen': 1, 'epvi': 1, 'metmetoo': 1, 'systematically': 1, 'signals': 1, 'queues': 1, 'uts': 1, 'crisisby': 1, 'flatiron': 1, 'athleisure': 1, 'privatetraining': 1, 'highschool': 1, 'nyu': 1, 'parsons': 1, 'baruch': 1, 'beprepared': 1, 'dickpic': 1, 'unsend': 1, 'matkarnasaale': 1, 'ak': 1, 'kitna': 1, 'chalalo': 1, 'log': 1, 'kutte': 1, 'tarah': 1, 'vo': 1, 'seedhe': 1, 'unme': 1, 'naina': 1, 'equalrightsamendment': 1, 'eranowwe': 1, 'guaranteed': 1, 'sanctity': 1, 'conscience': 1, 'maleego': 1, 'naaku': 1, 'pudunguramaari': 1, 'megastar': 1, 'dodging': 1, 'duttanana': 1, 'georgians': 1, 'heyis': 1, 'linkedin': 1, 'readstory': 1, 'seman': 1, 'vairamuthusaturdaymorning': 1, 'johris': 1, 'deadline': 1, 'kavanaughwwonkavanaughconfirmation': 1, 'parliamentlast': 1, 'withbrilliant': 1, 'amen': 1, 'melaniatrumptake': 1, 'hopeful': 1, 'rajputread': 1, 'alarm': 1, 'bells': 1, 'ringing': 1, 'companywe': 1, 'hereplease': 1, 'metooatwork': 1, 'expression': 1, 'sajidkan': 1, 'shamefulmetoo': 1, 'discusscharges': 1, 'digging': 1, 'east': 1, 'dontwasteyourtime': 1, 'croatia': 1, 'reprorights': 1, 'obstetricviolence': 1, 'prekinimosutnju': 1, 'groundbreaking': 1, 'academics': 1, 'infofgm': 1, 'filia2018': 1, 'reminderbills': 1, 'compel': 1, 'staceyabrams': 1, 'wearegeorgia': 1, 'yallmeansall': 1, 'lt': 1, 'storyfollowforfollow': 1, 'admiration': 1, 'metooobama': 1, 'twisted': 1, 'onewe': 1, 'metoovsmjakbar': 1, 'indianmedia': 1, 'beresponsible': 1, 'phenomena': 1, 'outreach': 1, 'james': 1, 'croft': 1, 'whoopigolderberg': 1, 'gilded': 1, 'trumptrain': 1, 'trendingnow': 1, 'stephave': 1, 'blackmailersfirst': 1, 'sensations': 1, 'corrections': 1, 'fordetailsmetooindia': 1, 'uniform': 1, 'withthis': 1, 'frameworkmetooindia': 1, 'metooshares': 1, 'invalid': 1, 'lauded': 1, 'rehman': 1, 'seeds': 1, 'planted': 1, 'crystalized': 1, 'carrot': 1, 'csr_india': 1, 'ranjanakumari': 1, 'fibromyalgia': 1, 'disbelieved': 1, 'fibro': 1, 'whyfibro': 1, 'incabinet': 1, 'texts': 1, 'occasions': 1, 'metoohealthcare': 1, 'scandalhit': 1, 'prestigious': 1, 'institution': 1, 'patronized': 1, 'legitimising': 1, 'joshua': 1, 'muyiwa': 1, 'selfiebuzz': 1, 'himthough': 1, 'metoostrong': 1, 'chairwoman': 1, 'ridiculously': 1, 'rhetoric': 1, 'actorbats': 1, 'growingtruth': 1, 'dummetoo': 1, 'survivorstories': 1, 'tellmeyouresorrydaddy': 1, 'hernamewasjenny': 1, 'commentatormclaughlin': 1, 'gursimran': 1, 'khamba': 1, 'bucky': 1, 'ashleyperkins89': 1, 'ravenel': 1, 'collar': 1, 'wheeler': 1, 'evenings': 1, 'tunnel': 1, 'stringent': 1, 'forums': 1, 'temporary': 1, 'closeminded': 1, 'mexican': 1, 'metrosexual': 1, 'borderline': 1, 'smdh': 1, 'warmth': 1, 'elle': 1, 'ruffling': 1, 'historyisbeingrewritten': 1, 'unnecessary': 1, 'alabama': 1, 'georgia': 1, 'utah': 1, 'virginia': 1, 'cupboard': 1, 'postscreening': 1, 'nathan': 1, 'hughesberry': 1, 'simsfewer': 1, 'rwmfest': 1, 'torontofilmmakers': 1, 'rapecard': 1, 'curators': 1, 'classes': 1, 'attomorrow': 1, 'anecdotal': 1, 'creation': 1, 'punchlikeagirl': 1, 'writingtips': 1, 'writingcraft': 1, 'disturbance': 1, 'me_too_campaign': 1, 'sexual_harassment': 1, 'sexual_assault': 1, 'makingtheories': 1, 'toyou': 1, 'paypal': 1, 'galaxya7': 1, 'imc2018': 1, 'miriam': 1, 'toin': 1, 'askawomanitv': 1, 'outspoken': 1, 'jl': 1, 'baylor': 1, 'cook': 1, 'beoutspoken': 1, 'bollywoodlol': 1, 'placed': 1, 'machination': 1, 'hamper': 1, 'metoohit': 1, 'tonedeafvianews': 1, 'yorkers': 1, 'andwednesday': 1, 'columbiasas': 1, 'betrayingbigbrother': 1, 'forests': 1, 'saveaareyforest': 1, 'mammals': 1, 'upbringing': 1, 'nail': 1, 'actionsmjakbar': 1, 'killer': 1, 'motivational': 1, 'ease': 1, 'metoosimple': 1, 'mudika': 1, 'vendiyatha': 1, 'ivlo': 1, 'ezhuthu': 1, 'ethuku': 1, 'ipdi': 1, 'ippo': 1, 'poyi': 1, 'theiriyama': 1, 'pannunga': 1, 'nanga': 1, 'nikkarom': 1, 'unga': 1, 'essentially': 1, 'georgeorwell': 1, 'nitch': 1, 'burden': 1, 'sight': 1, 'lawspositiveprogress': 1, 'saferworkplaces': 1, 'harassmentphoto': 1, 'timon': 1, 'studler': 1, 'passionately': 1, 'installment': 1, 'heremetooatwork': 1, 'festivalofpolitics': 1, 'movementneed': 1, 'hyperviligant': 1, 'trumptrainkeepamericagreat2020metoo': 1, 'targets': 1, 'deceit': 1, 'in2': 1, 'vivekagnihotri': 1, 'admits': 1, 'dusky': 1, 'beautyabout': 1, 'confidentiality': 1, 'freephone': 1, 'enables': 1, 'header': 1, 'byandalongsideportrait': 1, 'crowded': 1, 'noida': 1, 'daylight': 1, 'confusing': 1, 'toomuch': 1, 'darlings': 1, 'mahilamahavidyalaya': 1, 'whn': 1, 'onnt': 1, 'roewarriorwed': 1, 'parliamentarian': 1, 'upare': 1, 'punctuation': 1, 'narcissist': 1, 'narcissism': 1, 'abuseawareness': 1, 'endabuse': 1, 'hispoweroverme': 1, 'mumbrella': 1, 'asia': 1, 'bathroomhumor': 1, 'ybor': 1, 'stayinyourlane': 1, 'buildawall': 1, 'juststop': 1, 'detector': 1, 'rowe': 1, 'nakedand': 1, 'thompsonis': 1, 'withon': 1, 'unsilenced': 1, 'findyourvoice': 1, 'nomoreshame': 1, 'assasination': 1, 'ups': 1, 'ages': 1, 'aftermade': 1, 'reeling': 1, 'longrepressed': 1, 'memory': 1, 'onmurphybrown': 1, 'perilous': 1, 'tiptuesday': 1, 'byreferencing': 1, 'weinsteins': 1, 'abuseemploymentlaw': 1, 'surviving': 1, 'karanoberoi': 1, 'saidmetoo': 1, 'esp': 1, 'supervisors': 1, 'phdchat': 1, 'hearts': 1, 'arayofhope': 1, 'theharnessing': 1, 'litigators': 1, 'todaytimesup': 1, 'vistara': 1, 'repression': 1, 'brutal': 1, 'allowto': 1, 'tantrums': 1, 'shentons': 1, 'indvchn': 1, 'kareenakapoorkhan': 1, 'savyasachi': 1, 'pink__p__hats': 1, 'drrebeccasmith': 1, 'rapemyth': 1, 'narrated': 1, 'ewtoo': 1, 'pallu': 1, 'spells': 1, 'realisation': 1, 'cautionyou': 1, 'prospective': 1, 'bloodhounds': 1, 'heels': 1, 'dues': 1, 'bats': 1, 'viaamid': 1, 'kaitlin': 1, 'ia': 1, 'firstnewskannada': 1, 'malaika': 1, 'tokyo': 1, 'olympicsprepared': 1, 'attractive': 1, 'handsome': 1, 'daddyibelievesurvivors': 1, 'aadhar': 1, 'anonymity': 1, 'innovators': 1, 'invented': 1, 'runin': 1, 'weinsteinharveyweinstein': 1, 'helenabonhamcarter': 1, 'rockstarsupports': 1, 'pettaaudiofromdecember': 1, 'gayboyfriend': 1, 'seeonthis': 1, 'harassmentlatest': 1, 'downloads': 1, 'santabanta': 1, 'editorsand': 1, 'interns': 1, 'pitches': 1, 'freelancers': 1, 'cobalt': 1, 'drc': 1, 'kosovos': 1, 'tests': 1, 'pushback': 1, 'lunitics': 1, 'thankyouand': 1, 'meyourtimesup': 1, 'oftv': 1, 'say1': 1, 'platitudes': 1, 'directorial': 1, 'viaspiking': 1, 'letbeclear': 1, 'dfsa': 1, 'staysafe': 1, 'gals': 1, 'wrath': 1, 'whip': 1, 'lath': 1, 'bath': 1, 'ogres': 1, 'posing': 1, 'struggling': 1, 'formulate': 1, 'byexplains': 1, 'precision': 1, 'sympathies': 1, 'harmful': 1, 'notwwv18': 1, 'biasedmedia': 1, 'biaselaw': 1, 'sussane': 1, 'badly': 1, 'vladimirputin': 1, 'fbrparty': 1, 'withandcant': 1, 'pics': 1, 'fuck45': 1, 'pinkhat': 1, 'doin': 1, 'midterm2018': 1, 'weekinspiration': 1, 'coaching': 1, 'communication': 1, 'rjohri': 1, 'shishhattangadi': 1, 'aswell': 1, 'arghh': 1, 'farhakhan': 1, 'tube': 1, 'sabhas': 1, 'thinkwho': 1, 'potusvia': 1, 'bengaluruin': 1, 'bharat': 1, 'maata': 1, 'moghals': 1, 'bestseller': 1, 'whatji': 1, 'commodify': 1, 'lame': 1, 'alexander': 1, 'patriot': 1, 'accidentally': 1, 'discovered': 1, 'byyou': 1, 'traditional': 1, 'tactics': 1, 'heightsofdrama': 1, 'longdiscuss': 1, 'herecrime': 1, 'trumpsters': 1, 'upholding': 1, 'bengal': 1, 'rod': 1, 'elsethinks': 1, 'itwhat': 1, 'governmentofindia': 1, 'webleaseindia': 1, 'governance': 1, 'antiquated': 1, 'mongering': 1, 'everyvote': 1, 'staniford': 1, 'staged': 1, 'januarymetoo': 1, 'wrongdirection': 1, 'transformed': 1, 'powerhouse': 1, 'quickly': 1, 'nextceo': 1, 'ofteminindex': 1, 'moulvi': 1, 'tariqramadan': 1, 'disruption': 1, 'gavewhen': 1, 'unloading': 1, 'oral': 1, 'exhausted': 1, 'rehumanize2018': 1, 'nextis': 1, 'subtitled': 1, 'pichaimetoo': 1, 'godly': 1, 'utha': 1, 'bhagwan': 1, 'inko': 1, 'filth': 1, 'ofhas': 1, 'volumes': 1, 'fm': 1, 'loathe': 1, 'alcoholics': 1, 'staffer': 1, 'rehab': 1, 'booze': 1, 'pelosi': 1, 'nevernewsom': 1, 'naziregime': 1, 'wherearethechildren': 1, 'votethemallout': 1, 'nonazisinthewhitehouse': 1, 'jamia': 1, 'millia': 1, 'islamia': 1, 'resort': 1, 'statelessness': 1, 'winger': 1, 'tellthat': 1, 'sohad': 1, 'organic': 1, 'farming': 1, 'khushwant': 1, 'gyan': 1, 'wah': 1, 'womensmarchchicago': 1, 'belong': 1, 'realising': 1, 'marked': 1, 'ohsendebate': 1, 'recentstories': 1, 'aboutexaccountant': 1, 'himselfabout': 1, 'groupnews': 1, 'vandana': 1, 'decency': 1, 'indecency': 1, 'proposes': 1, 'biggies': 1, 'tobestdiwaligift': 1, 'metoodr': 1, 'gajre': 1, 'unemploye': 1, 'genesia': 1, 'number022': 1, '0235671083': 1, '0820903774': 1, 'thokar': 1, 'khane': 1, 'rashte': 1, 'gir': 1, 'pare': 1, 'cva': 1, 'stinks': 1, 'democratsareevil': 1, 'humourcritique': 1, 'storyamalapaul': 1, 'humiliated': 1, 'dkoding': 1, 'pin': 1, 'onbyother': 1, 'outlets': 1, 'conv': 1, 'metooindiatimesup': 1, 'anyonemetoo': 1, 'upping': 1, 'sharammy': 1, 'bae_sharam': 1, 'iwillvote': 1, 'allie': 1, 'blackwomen': 1, 'blackvote': 1, 'illustrations': 1, 'illustrator': 1, 'cheeldren': 1, 'dt': 1, 'wicked': 1, 'childrenincages': 1, 'recounting': 1, 'yourstory': 1, 'magnificent': 1, 'innings': 1, 'captainthis': 1, 'pool': 1, 'precious': 1, 'belongings': 1, 'usmc': 1, 'combat': 1, 'leo': 1, 'evangelical': 1, 'commercial': 1, 'landlords': 1, 'ownership': 1, 'forworkingfamilies': 1, 'stormsoffice': 1, 'metoodelaware': 1, 'votefor': 1, 'puttingthefirststatefirst': 1, 'robforjobs': 1, 'wearedelaware': 1, 'makedelawaregreatagain': 1, 'offorspoke': 1, 'youtubefollow': 1, 'ramirez': 1, 'extinguished': 1, 'impetus': 1, 'actmetoo': 1, 'ganesans': 1, 'linkleenamanimekalai': 1, 'rahatkar': 1, 'willraise': 1, 'bywith': 1, 'manju': 1, 'negotiation': 1, 'viewership': 1, 'translating': 1, 'unprovable': 1, 'porcine': 1, 'snout': 1, 'tois': 1, 'espouse': 1, 'sly': 1, 'athena': 1, 'genocide': 1, 'applepodcast': 1, 'soundcloud': 1, 'googlepodcasts': 1, 'effected': 1, 'extorting': 1, 'bushgeorge_bush': 1, 'metoo_movement': 1, 'michelle_obama': 1, 'nari': 1, 'octmanup': 1, 'commandments': 1, 'bjps': 1, 'snoogate': 1, 'sexualharassmentatwork': 1, 'sangeethabhat': 1, 'victorious': 1, 'dnatest': 1, 'warren2020': 1, 'shivaayyadurai': 1, 'shiva4senate': 1, 'stranger': 1, 'gynecoligist': 1, 'seoul': 1, 'nageshwar': 1, 'prabal': 1, 'gurung': 1, 'riled': 1, 'forwarded': 1, 'gitanjali': 1, 'floored': 1, 'nine': 1, 'salutes': 1, 'injunctions': 1, 'fabricate': 1, 'port': 1, 'macquarie': 1, 'stunning': 1, 'peeche': 1, 'maher': 1, 'inviting': 1, 'omarosa': 1, 'trashomarosa': 1, 'insisted': 1, 'racistonce': 1, 'wordbill': 1, 'imagery': 1, 'alas': 1, 'subratabhowmicki': 1, 'dragto': 1, 'illhealth': 1, 'allshould': 1, 'womanim': 1, 'pround': 1, 'frankewopinion': 1, 'elclassico': 1, 'commemoration': 1, 'anitas': 1, 'namegame': 1, 'yummy': 1, 'maplewood': 1, 'dessert': 1, 'treatyourself': 1, 'waffles': 1, 'icecream': 1, 'bleach': 1, 'manspreaders': 1, 'undermining': 1, 'extremism': 1, 'antifeminists': 1, 'politicalcorrectnessgonemad': 1, 'hererepost': 1, 'faminemalloryarcher': 1, 'htgawm': 1, 'oldpeople': 1, 'kanyetrump': 1, 'mobruledemocrats': 1, 'mobrules': 1, 'antifascist': 1, 'technicalityibeleivesurvivorsweinsteinisarapist': 1, 'fucked': 1, 'toalokverma': 1, 'companyopinionexpress': 1, 'lifestylenewsmetoo': 1, 'ryan': 1, 'unsplash': 1, 'eveteasing': 1, 'executing': 1, 'repealing': 1, 'dictatorial': 1, 'impeachtrumpnow': 1, 'surattraffic': 1, 'suratcity': 1, 'helmetsits': 1, 'helmets': 1, 'naqaabs': 1, 'hurl': 1, 'fines': 1, 'metoobetibachao': 1, 'chanceless': 1, 'nawl': 1, 'affinity': 1, 'webinar': 1, 'octobernawlaffinity': 1, 'womeninlaw': 1, 'diddisappoint': 1, 'indictment': 1, 'ted': 1, 'honoreesmaking': 1, 'uspolivs': 1, 'darkowauspol': 1, 'kushner': 1, 'taxes': 1, 'sharp': 1, 'flutter': 1, 'orourke': 1, 'relevation': 1, 'incomprehensible': 1, 'bounce': 1, 'pit': 1, 'saqib': 1, 'saleem': 1, 'wasmetooindia': 1, 'saqibsaleem': 1, 'race3humaqureshi': 1, 'sambaragi': 1, 'pitying': 1, 'align': 1, 'themostbullied': 1, 'prominence': 1, 'biblical': 1, 'speculating': 1, 'companys': 1, 'outdated': 1, 'casesis': 1, 'onus': 1, 'neethu': 1, 'chitraloka': 1, 'inchargesays': 1, 'formeanwhile': 1, 'madrid': 1, 'hawaii': 1, 'hisalishachinoy': 1, 'ondiscussing': 1, 'partymetoo': 1, 'yorker': 1, 'datavizmetoomovement': 1, 'rafaledeal': 1, 'pakistanis': 1, 'uzmanawaz': 1, 'imrankhan': 1, 'whore': 1, 'limo': 1, 'bretts': 1, 'grin': 1, 'piercing': 1, 'posterboy': 1, 'kavanaughvia': 1, 'vasant': 1, 'kunj': 1, 'totuesdaythoughts': 1, 'paytm': 1, 'thecongress': 1, 'morningjoementalhealthawarenessday': 1, 'arnoldschwarzenegger': 1, 'behas': 1, 'controversychitralokametoo': 1, 'hurricanemichael2018': 1, 'demonstrating': 1, 'busses': 1, 'needle': 1, 'avenatti': 1, 'suitmetoo': 1, 'gunna': 1, 'kavanaughford': 1, 'draconian': 1, 'lopsided': 1, 'sexploited': 1, 'womenforwomen': 1, 'donnotshutup': 1, 'withtonight': 1, 'adapted': 1, 'civiltreatment': 1, 'ramdasathawale': 1, 'againsthe': 1, 'nonnegotiable': 1, 'section377': 1, 'tripletalaq': 1, 'conjunction': 1, 'storysometimes': 1, 'ibelievesurvivorssee': 1, 'inhouselegal': 1, 'practicallaw': 1, 'toolkit': 1, 'brazens': 1, 'oppn': 1, 'differences': 1, 'movementajopinion': 1, 'hagthreatened': 1, 'underage': 1, 'panelistsaid': 1, 'tense': 1, 'connects': 1, 'ministerof': 1, 'biz': 1, 'hourmetooindia': 1, 'movementoctober': 1, 'courageconference2018': 1, 'ecpect': 1, 'soha': 1, 'colleaguehas': 1, 'thoughtprovoking': 1, 'troubled': 1, 'timesby': 1, 'rajdeep': 1, 'joyeeta': 1, 'blackeyes': 1, 'borrow': 1, 'abusiveboyfriends': 1, 'creditcards': 1, 'myfirstman': 1, 'hopefulness': 1, 'voteirs': 1, 'incomeinequality': 1, 'workingpoor': 1, 'ladima': 1, 'connecting': 1, 'tvincolour': 1, 'ladimafoundation': 1, 'patisserievalerie': 1, 'bakery': 1, 'frith': 1, 'soho': 1, 'deeds': 1, 'salaried': 1, 'publicschool': 1, 'banker': 1, 'theoretically': 1, 'vii': 1, 'freelatifa': 1, 'womensright': 1, 'womeninsport': 1, 'justiceforjamal': 1, 'justiceforlatifa': 1, 'practicing': 1, 'freedomofspeech': 1, 'supercharged': 1, 'ceremonysuch': 1, 'dcc': 1, 'metooendfgm': 1, 'nybar': 1, 'unspoken': 1, 'gist': 1, 'withandabout': 1, 'constantly': 1, 'shoulder': 1, 'malesuicide': 1, 'hecklers': 1, 'whacko': 1, 'bishopfrancomulakkal': 1, 'justicefornuns': 1, 'disgraced': 1, 'downtown': 1, 'plave': 1, 'aggressors': 1, 'traumatizes': 1, 'timemortal': 1, 'ensures': 1, 'difficulties': 1, 'riese': 1, 'metooindiado': 1, 'childrape': 1, 'downgrade': 1, 'becausedoes': 1, 'metooso': 1, 'victimshamed': 1, 'whattosay': 1, 'spanned': 1, 'scar': 1, 'qanonvs': 1, 'bluewave2018last': 1, 'epipen': 1, 'pizzas': 1, 'steal': 1, 'walkawayfromdemocrats2018': 1, 'actorcomes': 1, 'filmamker': 1, 'thiruttupayale': 1, 'ganesanmetoo': 1, 'sandeepdikshit': 1, 'sirnot': 1, 'offend': 1, 'pmmetoo': 1, 'suffragettes': 1, 'angerisanenergy': 1, 'asksdo': 1, 'ncp': 1, 'indulging': 1, 'malign': 1, 'hinduism': 1, 'constructing': 1, 'hanuman': 1, 'plot': 1, 'octoberpresent': 1, 'plays': 1, 'fromat': 1, 'tracing': 1, 'impulse': 1, 'snoozed': 1, 'giggled': 1, 'simplethings': 1, 'vetsresistsquadron': 1, 'qualifications': 1, 'resistancerises': 1, 'prompt': 1, 'falsecases': 1, 'malafide': 1, 'spoiledlife': 1, 'antimaleindia': 1, 'metoonot': 1, 'suck': 1, 'reneedhyani': 1, 'bowler': 1, 'onlive': 1, 'tcms3': 1, 'thecircle': 1, 'gfvip': 1, 'fernandoalban': 1, 'traumametoo': 1, 'controversiesreports': 1, 'potshots': 1, 'alliesrajnathsingh': 1, 'outfolkstell': 1, 'stables': 1, 'malfunctioning': 1, 'studs': 1, 'enlist': 1, 'wictfernanda': 1, 'merodiomaria': 1, 'cringeinducing': 1, 'mediation': 1, 'dramatized': 1, 'overs': 1, 'caricatured': 1, 'sceolling': 1, 'gold': 1, 'joebiden': 1, 'treasury': 1, 'bondhousing': 1, 'trespassing': 1, 'everyones': 1, 'andgabriellecarteris': 1, 'essenceatkinsritagarciahispzla': 1, 'thesundaysupplement': 1, 'timehas': 1, 'listenagain': 1, 'instamums': 1, 'diversityonboards': 1, 'knowledgeablearticle': 1, 'publicspeaking': 1, 'faultinourstar': 1, 'campaignrape': 1, 'cnnbomb': 1, 'filmtober': 1, 'hollywoodnews': 1, 'islamabad': 1, 'trumppressconference': 1, 'pradeep': 1, 'thwarted': 1, 'askforangela': 1, 'scenarios': 1, 'irom': 1, 'sharmila': 1, 'floor': 1, 'subeditornext': 1, 'ushered': 1, 'memetoo': 1, 'mjmonstermolesterakbar': 1, 'periodmetoo': 1, 'kuriakosedeath': 1, 'modest': 1, 'dismantle': 1, 'ajit': 1, 'resigns': 1, 'interactions': 1, 'sink': 1, 'gratitudeheals': 1, 'img4': 1, 'gratitudejournal': 1, 'controls': 1, 'dragging': 1, 'beggingfordollarstour': 1, 'nichols': 1, 'load': 1, 'challengers': 1, 'mccaskill': 1, 'handsoffpantson': 1, 'hospitality': 1, 'stopgbvatwork': 1, 'makemyworkplacesafe': 1, 'kalpana': 1, 'kotagal': 1, 'brafman': 1, 'qus': 1, 'notions': 1, 'creatively': 1, 'onyvette': 1, 'brownspoke': 1, 'displays': 1, 'germanys': 1, 'merkel': 1, 'israeli': 1, 'forbes': 1, 'raghavan': 1, 'thewe': 1, 'simmba': 1, 'dellpolicyhack': 1, 'foron': 1, 'nurse': 1, 'danielle': 1, 'motion': 1, 'badhindu': 1, 'goodhindu': 1, 'renberg': 1, 'improved': 1, 'election2019': 1, 'lacks': 1, 'resistancefbr': 1, 'distractorsarjunsarja': 1, 'metoovictims': 1, 'birthcontrol': 1, 'americandream': 1, 'suffers': 1, 'textiles': 1, 'demandis': 1, 'operated': 1, 'registrations': 1, 'indefinitely': 1, 'familyrun': 1, 'fierce': 1, 'soonhasand': 1, 'thompsonon': 1, 'masturbation': 1, 'careless': 1, 'mumbais': 1, 'kiya': 1, 'kisi': 1, 'neh': 1, 'aurat': 1, 'khilaf': 1, 'selfproclaimedgodwoman': 1, 'dharam': 1, 'garb': 1, 'hosadigantha': 1, 'topos': 1, 'tipos': 1, 'bashed': 1, 'mistress': 1, 'alsoandstop': 1, 'imran': 1, 'goonda': 1, 'kannadaactress': 1, 'stroked': 1, 'tuches': 1, 'sarkarfromnov6th': 1, 'sengol': 1, 'whyall': 1, 'ambanis': 1, 'fortunes': 1, 'inera': 1, 'nowshud': 1, 'coerced': 1, 'tocbivscbirafaledeal': 1, 'revelationnot': 1, 'corroborated': 1, 'willpull': 1, 'ladylawyer': 1, 'abafranchising18': 1, 'arefakepresident': 1, 'pastpresidentspainting': 1, 'loserdonald': 1, 'pussygrabberinchief': 1, 'byrisingabovefest': 1, 'womenproducers': 1, 'mensupportingwomen': 1, 'randomly': 1, 'hadfield': 1, 'quotesdaily': 1, 'applaudewho': 1, 'truthfully': 1, 'demographic': 1, 'linksinc': 1, 'womanizer': 1, 'cruz': 1, 'socialismiscommunism': 1, 'votedemsout2018': 1, 'esteem': 1, 'duchess': 1, 'sussex': 1, 'prince': 1, 'royalbaby': 1, 'royalbaby2019': 1, 'queenoftheworld': 1, 'meghanandharry': 1, 'meghanpregnant': 1, 'dismantling': 1, 'heretuesdaymotivation': 1, 'kavanaw': 1, 'simbhu': 1, 'ghatamumashankarmetoo': 1, 'scumbags': 1, 'edgy': 1, 'degrade': 1, 'biting': 1, 'butt': 1, 'males': 1, 'sleepless': 1, 'william': 1, 'golding': 1, 'shikhatalsania': 1, 'tirunelvelihalwa': 1, 'republictvplease': 1, 'customtee': 1, 'standupfightback': 1, 'singerspeaks': 1, 'occurs': 1, 'matures': 1, 'conferred': 1, 'publication': 1, 'indicting': 1, 'foundereditor': 1, 'alongside': 1, 'reflection': 1, 'betrayal': 1, 'exhusband': 1, 'notifies': 1, 'relinquishment': 1, 'akbarfrom': 1, 'independence': 1, 'hopefully': 1, 'btc': 1, 'meena': 1, 'balraj': 1, 'sahni': 1, 'linkby': 1, 'bobbysing': 1, 'bobbytalkscinemadotcom': 1, 'affliations': 1, 'incapable': 1, 'problemvia': 1, 'voteyourvoice': 1, 'tamara': 1, 'shero': 1, 'johrivia': 1, 'emraanhashmibe': 1, 'courtmetoo': 1, 'kamalshaktisamvad': 1, 'elovatorpitch': 1, 'screw': 1, 'butis': 1, 'refreshing': 1, 'misbehaved': 1, 'consentiscentral': 1, 'consentismandatory': 1, 'awarenessiskey': 1, 'fightforyourrights': 1, 'womensafetyawareness': 1, 'theeverythingreport': 1, 'cardib': 1, 'paulallen': 1, 'chrisdudley': 1, 'unravel': 1, 'fuckbois': 1, 'dms': 1, 'enquiry': 1, 'niacl': 1, 'presstitutepower': 1, 'apolgise': 1, 'masculine': 1, 'piers': 1, 'reps': 1, 'qualifies': 1, 'smokescreens': 1, 'openness': 1, 'sheep': 1, 'ought': 1, 'cascading': 1, 'artformentalhealth': 1, 'ashaming': 1, 'sufferers': 1, 'crop': 1, 'gits': 1, 'oblivion': 1, 'bandcamp': 1, 'middleeast': 1, 'disappearing': 1, 'exilehumanrights': 1, 'plutos': 1, 'september': 1, 'discover': 1, 'adjusted': 1, 's_xual': 1, 'stripper': 1, 'coven': 1, 'witches': 1, 'apocalypse': 1, 'politicsahs': 1, 'mostvaluablegoddess': 1, 'platformsindependentwoman': 1, 'jlo': 1, 'kavananaughswearingin': 1, 'fascist': 1, 'misogynists': 1, 'kennedy': 1, 'qctalking': 1, 'fries': 1, 'filmworlds': 1, 'untouched': 1, 'subhashkjha': 1, 'theon': 1, 'discouraged': 1, 'wtxnews': 1, 'countdown': 1, 'currents': 1, 'lauds': 1, 'mulakkal': 1, 'patrick': 1, 'realizewas': 1, 'delivering': 1, 'cartoonestan': 1, 'stabbed': 1, 'marionshouse': 1, 'giveanear': 1, 'betand': 1, 'tatchell': 1, 'micky': 1, 'mouse': 1, 'incentive': 1, 'profligacy': 1, 'forapproximately': 1, 'pregnancy': 1, 'fordoes': 1, 'abortions': 1, 'campaignmakeup': 1, 'givingtuesday': 1, 'jeffreestarcosmetics': 1, 'urbandecay': 1, 'alist': 1, 'superstars': 1, 'rung': 1, 'harassmentraises': 1, 'jt': 1, 'amitbehls': 1, 'pressconference2018': 1, 'live100': 1, 'decreased': 1, 'payments': 1, 'metooindiacollected': 1, 'slamhypocrisy': 1, 'metoott': 1, 'amalgamation': 1, 'savevijayabank': 1, 'stopmergermetoo': 1, 'software': 1, 'documentaries': 1, 'recounted': 1, 'actorarjun': 1, 'unfriended': 1, 'fearing': 1, 'sistersinlaw': 1, 'nieces': 1, 'sharay': 1, 'warina': 1, 'millicent': 1, 'fawcett': 1, 'suffragist': 1, 'photosmetoo': 1, 'guarded': 1, 'alumnus': 1, 'chd': 1, 'harold': 1, 'carver': 1, 'fbook': 1, 'accusationsmetoousa': 1, 'yaashikaanand': 1, 'dumbell': 1, 'harrased': 1, 'beenmetoo': 1, 'selfcaresunday': 1, 'sthapit': 1, 'ripples': 1, 'metoonepal': 1, 'sahib': 1, 'sophie': 1, 'paane': 1, 'khona': 1, 'padta': 1, 'ofsir': 1, 'thelaunch': 1, 'ahan': 1, 'shettys': 1, 'examination': 1, 'mumbaiuniversity': 1, 'mu': 1, 'pushes': 1, 'undercarriage': 1, 'withandwatch': 1, 'heremetooindia': 1, 'sexassault': 1, 'forgivecorrect': 1, 'timesupvictim': 1, 'reputed': 1, 'prevails': 1, 'dhonidropped': 1, 'cji': 1, 'ordinary': 1, 'metooindiawith': 1, 'bbt': 1, 'youngsheldon': 1, 'collide': 1, 'tam': 1, 'visits': 1, 'sheldon': 1, 'dayofthegirltimesup': 1, 'yashrajfilms': 1, 'barack': 1, 'rahmanspeaks': 1, 'converse': 1, 'affirms': 1, 'pc': 1, 'beyonce': 1, 'multimillion': 1, 'tycoon': 1, 'pressed': 1, 'mlc2018': 1, 'museum': 1, 'yearss': 1, 'activistsndtvnewsbeeps': 1, 'susanbanthony': 1, 'reflects': 1, 'agricultural': 1, 'janitors': 1, 'cleaners': 1, 'maids': 1, 'personalcare': 1, 'restraining': 1, 'harming': 1, 'undermine': 1, 'believedmetoo': 1, 'error': 1, 'deleted': 1, 'intolerable': 1, 'belivewomen': 1, 'dmto': 1, 'womenintech': 1, 'likeagirl': 1, 'girlrising': 1, 'custodial': 1, 'torture': 1, 'vernon': 1, 'johns': 1, 'tropics': 1, 'wvloop': 1, 'westbound': 1, 'loop': 1, 'georgetownlaw': 1, 'thesummit': 1, 'estate': 1, 'financeneed': 1, 'mpoweringyou18': 1, 'shamless': 1, 'bossy': 1, 'actressphotos': 1, 'picoftheday': 1, 'ladyinred': 1, 'pose': 1, 'vamika': 1, 'modellife': 1, 'vamikasingh': 1, 'mumbaikar': 1, 'mumbaiblogger': 1, 'vamikasinghofficial': 1, 'hotpic': 1, 'photogenic': 1, 'fashionable': 1, 'deafness': 1, 'clossingasianparagames2018': 1, 'hindustan': 1, 'ame': 1, 'changer': 1, 'allahabadnowprayagraj': 1, 'sachandrasekar': 1, 'actorvijayfathermetooindia': 1, 'ayushmannmetoo': 1, 'linkwomanstageprotestagainstmetoo': 1, 'filmchamberofcommerce': 1, 'protestagainstmetoocampaign': 1, 'misusemetoo': 1, 'defamefamousactors': 1, 'bansruthihariharan': 1, 'getinvolved': 1, 'lined': 1, 'announcements': 1, 'shiningalight': 1, 'agovia': 1, 'supportthanks': 1, 'pretika': 1, 'accusesof': 1, 'scars': 1, 'remembering': 1, 'christina': 1, 'ramirezand': 1, 'mcgowans': 1, 'tl': 1, 'cleanuptwitter': 1, 'legitimized': 1, 'neonazis': 1, 'rapistshope': 1, 'aheadmetoo': 1, 'keepamericagreat': 1, 'nevergiveup': 1, 'justicefordrford': 1, 'instalive': 1, 'fanlove': 1, 'ganga': 1, 'neighbours': 1, 'rainy': 1, 'dublin': 1, 'landed': 1, 'fromthis': 1, 'flewyet': 1, 'campaigner': 1, 'nuihoncof': 1, 'nowshows': 1, 'regardless': 1, 'kavanaughswornin': 1, 'kavanaighappointed': 1, 'privika': 1, 'offense': 1, 'queensland': 1, 'treasurerto': 1, 'sayandhave': 1, 'whenlike': 1, 'advisers': 1, 'quantify': 1, 'duediligence': 1, 'checklists': 1, 'tabloids': 1, 'octmta': 1, 'cyvance': 1, 'frontpages': 1, 'mondaythoughts': 1, 'tweetathon': 1, 'eventworry': 1, 'victimsvia': 1, 'againindustrynews': 1, 'resent': 1, 'guardian': 1, 'countrymetoo': 1, 'daily360': 1, 'adifferentperspective': 1, 'mythoughtsaboutmetoo': 1, 'truecan': 1, 'confirm': 1, 'makkaar': 1, 'reposting': 1, 'bobilli': 1, 'edinchief': 1, 'beti': 1, 'bachao': 1, 'france5': 1, 'josephsweeney': 1, 'adamatraore': 1, 'spoil': 1, 'ocean': 1, 'francos': 1, 'centuries': 1, 'kholi': 1, 'emranhashmi': 1, 'andshould': 1, 'thespeak': 1, 'saumiksen': 1, 'anotherdid': 1, 'nazi': 1, 'nazisarebad': 1, 'womensmarcharefrauds': 1, 'womanel': 1, 'timesupin': 1, 'withnandita': 1, 'whychieftried': 1, 'ouster': 1, 'chargesheet': 1, 'againstin': 1, 'aircelmaxis': 1, 'aajkibaat': 1, 'smart': 1, 'argue': 1, 'wisely': 1, 'property': 1, 'pepe': 1, 'frighteningly': 1, 'reminiscent': 1, 'contentment': 1, 'firstdate': 1, 'malewhore': 1, 'hardcore': 1, 'skoj': 1, 'betweenandon': 1, 'onsocial': 1, 'mumbaimetoocontroversy': 1, 'fticonsulting': 1, 'staffing': 1, 'revenue': 1, 'amara': 1, 'purlle': 1, 'heightened': 1, 'refute': 1, 'trace': 1, 'hinterlandsrenukashahane': 1, 'canvass': 1, 'votescount': 1, 'kidsincages': 1, 'pp': 1, 'saudiarabia': 1, 'freepress': 1, 'knowimportant': 1, 'amazingin': 1, 'accuracy': 1, 'againmetoo': 1, 'carell': 1, 'climatemetoo': 1, 'andnyt': 1, 'mirrises': 1, 'bowling': 1, 'rankings': 1, 'produces': 1, 'keepyourhandstoyourself': 1, 'pretends': 1, 'quarters': 1, 'tanned': 1, 'mixing': 1, 'upsc': 1, 'gauged': 1, 'womensmovement': 1, 'earned': 1, 'fromhope': 1, 'tier2': 1, 'tier3': 1, 'liketaking': 1, 'analyse': 1, 'circumstantial': 1, 'tngovernor': 1, 'manufacture': 1, 'spy': 1, 'ftii': 1, 'arrised': 1, 'updatelegal': 1, 'penality': 1, 'penalty': 1, 'rebut': 1, 'gandahendathi': 1, 'metooindiacricketmerijaani': 1, 'ohjust': 1, 'gaf': 1, 'crookedhillary': 1, 'youthtakover': 1, 'wash': 1, 'toagainst': 1, 'thedirector': 1, 'bhupendra': 1, 'kainthola': 1, 'podestaemails': 1, 'satanic': 1, 'pedophiles': 1, 'fuks': 1, 'pizzagate': 1, 'thefund': 1, 'isaac': 1, 'mizrahi': 1, 'scooters': 1, 'metoosharing': 1, 'kavyas': 1, 'origins': 1, 'harveyweinstien': 1, 'andare': 1, 'whilestill': 1, 'clarencethomas': 1, 'thethere': 1, 'parentingandpatriarchy': 1, 'byparents': 1, 'featuringand': 1, 'walesmetoo': 1, 'reasonable': 1, 'livesneedless': 1, 'frommale': 1, 'nowsupports': 1, 'pakistans': 1, 'apex': 1, 'reimposed': 1, 'overturning': 1, 'anticipation': 1, 'mounts': 1, 'thisfilia2018': 1, 'metooviamicrosoft': 1, 'vmware': 1, 'balls': 1, 'shitface': 1, 'womenfightback': 1, 'videohighgroundspolice': 1, 'ipcsection506': 1, 'arjunsarjasruthihariharan': 1, 'heartbroken': 1, 'kaveri': 1, 'kapoors': 1, 'healthfitnessbybapuji': 1, 'aravindhasametha': 1, 'rr': 1, 'gpsc': 1, 'quiztimemorningswithamazon': 1, 'true_prophecies': 1, 'amazed': 1, 'maintain': 1, 'ugavslsu': 1, 'sheet': 1, 'handbook': 1, 'wifeaffected': 1, 'patnipitiditatyacharsangh': 1, 'dowrycases': 1, 'interviewer': 1, 'republic': 1, 'provocateur': 1, 'fourweeklong': 1, 'disruptingphilanthropy': 1, 'mcmanus': 1, 'stern': 1, 'anandmahindra': 1, 'mayfrominterned': 1, 'artsbased': 1, 'active': 1, 'collectivization': 1, 'mobilization': 1, 'airports': 1, 'pearl': 1, 'letterhead': 1, 'meth': 1, 'dealer': 1, 'nola': 1, 'saints': 1, 'tigershroff': 1, 'morningjoemetoo': 1, 'proapologizes': 1, 'toread': 1, 'doeswisen': 1, 'otd': 1, 'shoutout': 1, 'standup4humanrights': 1, 'poonachcha': 1, 'questionschitraloka': 1, 'methodist': 1, 'combating': 1, 'writesin': 1, 'storyin': 1, 'youmetoosee': 1, 'arab': 1, 'hyd': 1, 'evicts': 1, 'sowho': 1, 'litfests': 1, 'talkshows': 1, 'withsays': 1, 'habits': 1, 'explode': 1, 'thenightshift': 1, 'range': 1, 'karlabookman': 1, 'bharatiya': 1, 'janata': 1, 'onsalute': 1, 'movementgreat': 1, 'nfls': 1, 'sidelines': 1, 'exploiting': 1, 'shonalibose': 1, 'againstandsaysmetooindia': 1, 'roshan': 1, 'nwo': 1, 'soondocumentary': 1, 'pichai': 1, 'execs': 1, 'profshares': 1, 'iim': 1, 'salonichopra': 1, 'rachelwhite': 1, 'follo4follo': 1, 'follwme': 1, 'folowback': 1, 'censor': 1, 'certificate': 1, 'objectionable': 1, 'evenknows': 1, 'seriousis': 1, 'unpublished': 1, 'movienews': 1, 'angeline': 1, 'initiates': 1, 'inkaar': 1, 'karo': 1, 'suppressioninkaarkaro': 1, 'angelinemalik': 1, 'womenrights': 1, 'projected': 1, 'assigned': 1, 'praises': 1, 'tremendous': 1, 'officialdom': 1, 'coordinating': 1, 'vijayantoday': 1, 'milind': 1, 'soman': 1, 'bytheres': 1, 'overprotecting': 1, 'recreating': 1, 'willed': 1, 'aliabhatts': 1, 'movementa': 1, 'agoposted': 1, 'theyd': 1, 'brownie': 1, 'somewhat': 1, 'vows': 1, 'advise': 1, 'relax': 1, 'chill': 1, 'electionsvia': 1, 'fastcompany': 1, 'directortweets': 1, 'wifecalled': 1, 'krav': 1, 'melnick': 1, 'fromsecurity': 1, 'liability': 1, 'taser': 1, 'beready': 1, 'activeshooter': 1, 'kravmaga': 1, 'sajidkhans': 1, 'aming': 1, 'aimed': 1, 'atsisterjesme': 1, 'narcotics': 1, 'sportstoday': 1, 'ofactorwants': 1, 'suja': 1, 'wexler': 1, 'ofandat': 1, 'wggpillinois': 1, 'zipper': 1, 'disapprove': 1, 'showswomenmovela': 1, 'withsisterjesme': 1, 'betibachaobetipadao': 1, 'compiled': 1, 'kuldeep': 1, 'sambangis': 1, 'postponed': 1, 'jm': 1, 'aarons': 1, 'hassan': 1, 'moulana': 1, 'evading': 1, 'marriottstrike': 1, 'partneredduring': 1, 'rousing': 1, 'mysterious': 1, 'kuriacose': 1, 'spying': 1, 'deployed': 1, 'saheb': 1, 'prez': 1, 'deploy': 1, 'fled': 1, 'bjpssays': 1, 'guiltyhits': 1, 'knowyourlegacy': 1, 'soondirector': 1, 'parallels': 1, 'galwe': 1, 'presidentplease': 1, 'bj': 1, 'testimonials': 1, 'todaysin': 1, 'withread': 1, 'hosts': 1, 'tablereadwomenseriously': 1, 'threemember': 1, 'fill': 1, 'halls': 1, 'fucker': 1, 'suchileaks': 1, 'utilized': 1, 'rewind': 1, 'brian': 1, 'celebraties': 1, 'minhal': 1, 'na247': 1, 'tarek': 1, 'masjid': 1, 'mosque': 1, 'hmm': 1, 'centered': 1, 'theaudience': 1, 'marketingtip': 1, 'poc': 1, 'tees': 1, 'kipnis': 1, 'pastorsmetoo': 1, 'shukracharya': 1, 'ultimate': 1, 'secular': 1, 'theworldwelivein': 1, 'magna': 1, 'carta': 1, 'shredder': 1, 'freepeople': 1, 'lands': 1, 'metoovery': 1, 'developments': 1, 'distinguish': 1, 'jogini': 1, 'estimated': 1, 'telangana': 1, 'andhra': 1, 'dalits': 1, 'americanthinkerblog': 1, 'ofas': 1, 'meinke': 1, 'pinholster': 1, 'islapped': 1, 'bw': 1, 'complimented': 1, 'surrendered': 1, 'cii': 1, 'chandigarhcondition': 1, 'difficulty': 1, 'traumatised': 1, 'knuckle': 1, 'acj': 1, 'endure': 1, 'institutes': 1, 'exploding': 1, 'stir': 1, 'witnesses': 1, 'sexualassualt': 1, 'impolite': 1, 'fromandafter': 1, 'impolitearrogantwoman': 1, 'outcomesoveroptics': 1, 'donesir': 1, 'examplewhen': 1, 'clicknageshwarrao': 1, 'directorcbi': 1, 'worldpolioday': 1, 'geniusarrivesin2days': 1, 'soothu': 1, 'biggboss12withsalman': 1, 'clevel': 1, 'brandbwcc18': 1, 'todo': 1, 'listgarage': 1, 'flea': 1, 'atpopup': 1, 'anniv': 1, 'thesheer': 1, 'atcheck': 1, 'wittering': 1, 'nangeli': 1, 'withthe': 1, 'smarmy': 1, 'grit': 1, 'sandpaper': 1, 'billschuette': 1, 'michigan': 1, 'smoke': 1, 'liberated': 1, 'conclusions': 1, 'indisciplined': 1, 'metoo4money': 1, 'crimehasnogender': 1, 'savemen': 1, 'menarehumantoo': 1, 'nishthajain': 1, 'nishta': 1, 'universe': 1, 'shabdo': 1, 'mein': 1, 'bol': 1, 'dala': 1, 'ghar': 1, 'ludo': 1, 'khelungi': 1, 'boli': 1, 'dil': 1, 'dungi': 1, 'tonykakkar': 1, 'pakrussiaexercise': 1, 'pakwvausw': 1, 'pazartesi': 1, 'rebuts': 1, 'metooin': 1, 'messbased': 1, 'venugopalnow': 1, 'udf': 1, 'bollywoodparty': 1, 'genderpaygap': 1, 'inequalities': 1, 'moreitsarichmansworld': 1, 'yearofthewoman': 1, 'youd': 1, 'bother': 1, 'realized': 1, 'episodemanenough': 1, 'harrys': 1, 'mins': 1, 'prisoners': 1, 'holloway': 1, 'mahindragroup': 1, 'jsw': 1, 'toleranceboycottsexualpredators': 1, 'wouldve': 1, 'lawrence': 1, 'evari': 1, 'medha': 1, 'cheyyesthe': 1, 'emanukuntaro': 1, 'visualization': 1, 'fromsearch': 1, 'regulatory': 1, 'emblem': 1, 'puke': 1, 'senators': 1, 'listed': 1, 'pocket': 1, 'pos': 1, 'traitorous': 1, 'pretending': 1, 'owes': 1, 'traitortrump': 1, 'shirtmetoo': 1, 'goshin': 1, 'dontcha': 1, 'aborted': 1, 'venus': 1, 'photocollage': 1, 'ericboos': 1, 'govind': 1, 'fromnot': 1, 'bymetoo': 1, 'bookreview': 1, 'wiped': 1, 'toldmidterms2018': 1, 'womensrageisourwave': 1, 'votegopout': 1, 'metootytlive': 1, 'worthless': 1, 'inloksatta': 1, 'bollywoodmetooindia': 1, 'mishivajipark': 1, 'misdeeds': 1, 'welcomed': 1, 'byas': 1, 'betweenand': 1, 'reputations': 1, 'poojabhattmetoo': 1, 'unaccompanied': 1, 'falselynamed': 1, 'glowing': 1, 'sayshr': 1, 'marie': 1, 'antoinettes': 1, 'elderly': 1, 'blacked': 1, 'dot': 1, 'socialised': 1, 'copped': 1, 'statutory': 1, 'jihmarkaz': 1, 'meanings': 1, 'savegirlchild': 1, 'dussehra': 1, 'vairamuthufollow': 1, 'metooindirectly': 1, 'deteiorazation': 1, 'nonevangelicals': 1, 'karan': 1, 'johar': 1, 'highlighted': 1, 'shirts': 1, 'sometime': 1, 'sanity': 1, 'noncollegeworry': 1, 'ods': 1, 'asserted': 1, 'credulous': 1, 'buffoon': 1, 'skepticism': 1, 'believeevidencenotgender': 1, 'factsoverfeelings': 1, 'cows': 1, 'anupama': 1, 'ofasji': 1, 'sackedpresident': 1, 'tooct': 1, 'whitedancingelephants': 1, 'thrivers': 1, 'beaconsoflight': 1, 'wehearyou': 1, 'fountain': 1, 'architecturelovers': 1, 'buildings': 1, 'engineers': 1, 'waterfall': 1, 'jnusu': 1, 'andleaderaddressed': 1, 'chatra': 1, 'samvad': 1, 'patna': 1, 'aisa': 1, 'aipwa': 1, 'discriminatory': 1, 'mediate': 1, 'linknation': 1, 'clashes': 1, 'horse': 1, 'unhappy': 1, 'kushan': 1, 'nandy': 1, 'lucrative': 1, 'rent': 1, 'finished': 1, 'sobbing': 1, 'sweetoo': 1, 'baad': 1, 'vakalatnama': 1, 'ninety': 1, 'inspriational': 1, 'withfor': 1, 'womensvoice': 1, 'masters': 1, 'iwanttobemarybeardwhenigrowup': 1, 'framed': 1, 'estatehugely': 1, 'bptc': 1, 'llm': 1, 'helenakennedy': 1, 'cheers': 1, 'bethechange': 1, 'definetheline': 1, 'stopharsassment': 1, 'vineeta': 1, 'vigilante': 1, 'rachel_white': 1, 'asput': 1, 'toomentoo': 1, 'analyze': 1, 'litigating': 1, 'appellate': 1, 'courtwashingtondc': 1, 'americanindian': 1, 'signupnow': 1, 'thebombaywaali': 1, 'summitmoderates': 1, 'withandsat': 1, 'atpm': 1, 'scholars': 1, 'shameonshehla': 1, 'misrepresented': 1, 'readamalapaul': 1, 'artiste': 1, 'metooindiademandsapology': 1, 'fakenewsbuster': 1, 'attributing': 1, 'overshadowed': 1, 'perfectly': 1, 'employ': 1, 'tad': 1, 'deafening': 1, 'forcibly': 1, '12': 1, 'consentdalip': 1, 'tahilmetoo': 1, 'sirs': 1, 'lad': 1, 'fowl': 1, 'holywood': 1, 'azadhindgovernment': 1, 'magnify': 1, 'scpotushis': 1, 'naksalites': 1, 'unreported': 1, 'borders': 1, 'thoughtaloknath': 1, 'std': 1, 'ladybirds': 1, 'invading': 1, 'mosse': 1, 'betweenandit': 1, 'halts': 1, 'prakashrajarjunsarja': 1, 'uproarious': 1, 'laughter': 1, 'kal': 1, 'uberrape': 1, 'wildfire': 1, 'withexecutive': 1, 'unfold': 1, 'betterment': 1, 'starreview': 1, 'amazingmemoir': 1, 'bestselling': 1, 'sundaytimesbestseller': 1, 'antirape': 1, 'proconsent': 1, 'thetoday': 1, 'checked': 1, 'virgins': 1, 'baffle': 1, 'confidently': 1, 'reverse': 1, 'actresss': 1, 'telesur': 1, 'brandman': 1, 'chargesmetoo': 1, 'voted': 1, 'forin': 1, 'votethemoutnov6th': 1, 'formal': 1, 'notcch2018': 1, 'campaignany': 1, 'elnaaz': 1, 'nourozi': 1, 'couchbollywood': 1, 'cinemalifestyle': 1, 'hotnews': 1, 'similarity': 1, 'betweenmetoo': 1, 'shouted': 1, 'rafaeldeal': 1, 'zealand': 1, 'reminding': 1, 'sobering': 1, 'toat': 1, 'galvanize2018': 1, 'accelerate': 1, 'storieschitralokametooindia': 1, 'sahyog': 1, 'nagpur': 1, 'publishers': 1, 'deardo': 1, 'singeraccused': 1, 'mlaadarsh': 1, 'utsav': 1, 'cmmetoo': 1, 'lgo': 1, 'unleashing': 1, 'queens': 1, 'learnt': 1, 'londonactress': 1, 'sextrafficking': 1, 'packs': 1, 'hue': 1, 'blurry': 1, 'bolden': 1, 'stardom': 1, 'anticipated': 1, 'fading': 1, 'oscarwilde': 1, 'unleashyourinnerqueen': 1, 'adelaidefringe': 1, 'chennaitimes': 1, 'actresshas': 1, 'toff': 1, 'followfriday': 1, 'followback': 1, 'crypto': 1, 'ico': 1, 'happybirthday': 1, 'davangere': 1, 'singhji': 1, 'ditched': 1, 'banrakhisawant': 1, 'hippies': 1, 'grown': 1, 'intolerant': 1, 'shamelesstakes': 1, 'heremetoo': 1, 'acknowledged': 1, 'dimension': 1, 'sonalvengurlekars': 1, 'granting': 1, 'baatuthao': 1, 'blacklist': 1, 'kidding': 1, 'challenged': 1, 'penn': 1, 'ave': 1, 'procures': 1, 'theatres': 1, 'americanmetoo': 1, 'wtf1': 1, 'justsayno': 1, 'dumbassery': 1, 'dominating': 1, 'medias': 1, 'morals': 1, 'viralpew': 1, 'wrongmessage': 1, 'rafael': 1, 'penalised': 1, 'chitthi': 1, 'sandes': 1, 'jaane': 1, 'kaunsa': 1, 'des': 1, 'jahaa': 1, 'chale': 1, 'gaye': 1, 'toa': 1, 'afterand': 1, 'rite': 1, 'nyccge': 1, 'civilized': 1, 'nationwud': 1, 'ghazala': 1, 'wahab': 1, 'desimartini': 1, 'concluding': 1, 'shoddiness': 1, 'irresponsibility': 1, 'relentlessly': 1, 'contrast': 1, 'mcsally': 1, 'respects': 1, 'q3': 1, 'addressed': 1, 'accountabilityon': 1, 'stopit': 1, 'blamesr': 1, 'dwight': 1, 'todvam': 1, 'loveislove': 1, 'outgoing': 1, 'hitstata': 1, 'haveplay': 1, 'andwill': 1, 'goldenglobes': 1, 'infuriates': 1, 'freshmovie': 1, 'thefree': 1, 'rsvpdocumentary': 1, 'modestly': 1, 'thegirlwiththeredlipstick': 1, 'abusestory': 1, 'rejecting': 1, 'dubbed': 1, 'thepledge': 1, 'jaisingh': 1, 'withfrommetoo': 1, 'occasional': 1, 'timeslive': 1, 'liemetoo': 1, 'verbal': 1, 'helpless': 1, 'livelihood': 1, 'mkbkshkudos': 1, 'distinguished': 1, 'linn': 1, 'auditorium': 1, 'ron': 1, 'daltrey': 1, 'aspirants': 1, 'contesting': 1, 'advised': 1, 'doctors': 1, 'hussein': 1, 'cult': 1, 'ripping': 1, 'weyouth': 1, 'communitystood': 1, 'documentthank': 1, 'culturespecific': 1, 'masterclass': 1, 'amhard': 1, 'unloved': 1, 'celebrateallsuccess': 1, 'aplltd': 1, 'hypocracy': 1, 'ofstand': 1, 'metooinindiapiyushmishra': 1, 'christianity': 1, 'placards': 1, 'nunrapecase': 1, 'whites': 1, 'yea': 1, 'chhabra': 1, 'thebe': 1, 'billclintontherapist': 1, 'kumarswamy': 1, 'viaarjunsruthi': 1, 'kings': 1, 'pereirajoel': 1, 'joels': 1, 'stints': 1, 'arnab': 1, 'prebmm': 1, 'pic1': 1, 'pic2': 1, 'doctoral': 1, 'examined': 1, 'facilities': 1, 'fords': 1, 'fatherinlaw': 1, 'actorrajesh': 1, 'actorchetan': 1, 'kannadaonlinenews': 1, 'kannadalivenews': 1, 'charter': 1, 'spate': 1, 'baknews': 1, 'bebetter': 1, 'workplaceharassmnet': 1, 'assume': 1, 'myriad': 1, 'summed': 1, 'litany': 1, 'players': 1, 'weeksannounce': 1, 'mcintyre': 1, 'disarming': 1, 'masses': 1, 'wardrobes': 1, 'runways': 1, 'fashionfashiontrends': 1, 'fashionstyle': 1, 'fashionnews': 1, 'patriots': 1, 'tennessee': 1, 'hangsout': 1, 'endorse': 1, 'whod': 1, 'availablegoal': 1, 'childtrafficking': 1, 'humantrafficking': 1, 'sra': 1, 'nowplaying': 1, 'glastonbury': 1, 'motleycrue': 1, 'unfree': 1, 'freewoman': 1, 'mentorship': 1, 'opportunitiesmetoo': 1, 'usage': 1, 'onover': 1, 'guyz': 1, 'spring': 1, 'leaf': 1, 'albert': 1, 'camus': 1, 'describes': 1, 'charitable': 1, 'thattoo': 1, 'themarch': 1, 'horrifyingly': 1, 'intersection': 1, 'militaryindustrial': 1, 'kavanaughlied': 1, 'shamjustice': 1, 'leah': 1, 'uwm': 1, 'forth': 1, 'iblackpressmatters': 1, 'authormetoo': 1, 'finer': 1, 'dwindling': 1, 'conscientious': 1, 'tammany': 1, 'monument': 1, 'labwrites': 1, 'san': 1, 'transnational': 1, 'orleanslink': 1, 'nela': 1, 'scottsdale': 1, 'az': 1, 'shades': 1, 'vajramani': 1, 'iconic': 1, 'villan': 1, 'imbued': 1, 'impeccable': 1, 'celluloid': 1, 'aishwaryabachchan': 1, 'tanushredutta': 1, 'upwednesday': 1, 'dontmiss': 1, 'placesit': 1, 'sexualharrasment': 1, 'caterers': 1, 'richnrich': 1, 'foodie': 1, 'faridabad': 1, 'baffled': 1, 'brijlani': 1, 'muchchitraloka': 1, 'jihad': 1, 'instituting': 1, 'intimidation': 1, 'andyo': 1, 'malya': 1, 'disgruntled': 1, 'spiteful': 1, 'venom': 1, 'veracity': 1, 'exp': 1, 'perrins': 1, 'nazm': 1, 'cochrane': 1, 'awardwinning': 1, 'revivify': 1, 'ministriesseeks': 1, 'addiction': 1, 'indiangirls': 1, 'inhaving': 1, 'backgrounds': 1, 'privilegeperspectives': 1, 'equipped': 1, 'menwomenleaders': 1, 'bebest': 1, 'shifts': 1, 'saves': 1, 'naasca': 1, 'lisazarcon': 1, 'hira': 1, 'fiance': 1, 'appearance': 1, 'modular': 1, 'density': 1, 'lovebattleofideas': 1, 'confronts': 1, 'metooinspired': 1, 'daysofmindy': 1, 'zombie': 1, 'insane': 1, 'emo': 1, 'ronaldos': 1, 'sponsors': 1, 'donke': 1, 'muelleriscomingforyou': 1, 'bluemob': 1, 'asco': 1, 'obstacles': 1, 'actionexclusive': 1, 'heyy': 1, 'everybodyy': 1, 'metoolist': 1, 'poikitey': 1, 'irukuu': 1, 'preptober': 1, 'outline': 1, 'somethingwicked': 1, 'dreamcasts': 1, 'reoutlines': 1, 'tarot': 1, 'assassin': 1, 'duology': 1, 'urging': 1, 'statementmetoo': 1, 'tp': 1, 'consentjoins': 1, 'mithali': 1, 'molest': 1, 'alongwith': 1, 'pervertsmetoo': 1, 'sheenabajaj': 1, 'aboutallegations': 1, 'queries': 1, 'fraternity': 1, 'nowaytotreatawoman': 1, 'gud': 1, 'akki': 1, 'samething': 1, 'costars': 1, 'wang': 1, 'zheng': 1, 'recentarticle': 1, 'faisala': 1, 'tirunelveli': 1, 'assubhashkapoor': 1, 'messageviolence': 1, 'beer': 1, 'stolenpotus': 1, 'stolenscotus': 1, 'expectus': 1, 'dmk': 1, 'damil': 1, 'cocreator': 1, 'followmetoo': 1, 'movementfirst': 1, 'mater': 1, 'todaythank': 1, 'pr': 1, 'assertion': 1, 'fester': 1, 'corrode': 1, 'firepowerful': 1, 'ignitechange': 1, 'totogether': 1, 'elect': 1, 'knowledgeable': 1, 'womenelection2018': 1, 'ibelievedrblasey': 1, 'vaidehis': 1, 'threeworks': 1, 'ammachchiemba': 1, 'nenapu': 1, 'abhijeet': 1, 'ofin': 1, 'responseyear': 1, 'stella': 1, 'adler': 1, 'ca': 1, 'atactors': 1, 'lathtr': 1, 'femalewriters': 1, 'femaleplaywrights': 1, 'femalevoice': 1, 'femaledirectors': 1, 'visualisation': 1, 'onmetooinindia': 1, 'cesspit': 1, 'insensitivity': 1, 'corporatesafeguarding': 1, 'youngworkers': 1, 'pandals': 1, 'ramleela': 1, 'debunked': 1, 'votestraightticketdemocrat': 1, 'voteblueandbringafriend': 1, 'hop': 1, 'sry': 1, 'backdrop': 1, 'misandrist': 1, 'lyingdonaldtrump': 1, 'ofbecause': 1, 'glue': 1, 'sniffing': 1, 'uppity': 1, 'bastardizing': 1, 'trivializing': 1, 'warrens': 1, 'colonizer': 1, 'advancement': 1, 'fromwildembers': 1, 'sentences': 1, 'perpetuity': 1, 'valueless': 1, 'spectacle': 1, 'freeze': 1, 'eaf': 1, 'kit': 1, 'eeo': 1, 'frequently': 1, 'tempted': 1, 'shoplifting': 1, 'engineering': 1, 've': 1, 'trivialising': 1, 'lowmetoo': 1, 'wkavanaugh': 1, 'ismetoo': 1, 'aida': 1, 'vazquezsoto': 1, 'elitist': 1, 'shortsighted': 1, 'undermines': 1, 'joked': 1, 'apologysalmansheikh': 1, 'hiramani': 1, 'kalkikoechlin': 1, 'shyam': 1, 'advocateshyamsundar': 1, 'muchsee': 1, 'withofand': 1, 'suzanne': 1, 'newcomb': 1, 'ofplease': 1, 'postelections': 1, 'cribbing': 1, 'chew': 1, 'scilence': 1, 'onwhere': 1, 'passions': 1, 'mansworld': 1, 'ladywho': 1, 'jibe': 1, 'bbcnews': 1, 'cory': 1, 'smears': 1, 'brittanymurphys': 1, 'downfall': 1, 'slave': 1, 'youvoteny3': 1, 'shemetoo': 1, 'mea': 1, 'carol': 1, 'hanisch': 1, 'stolensenateemails': 1, 'lyingunderoath': 1, 'limitedfbireport': 1, 'butheremails': 1, 'trumpbananarepublicans': 1, 'wif': 1, 'kirsten': 1, 'schaffer': 1, 'ap': 1, 'curbed': 1, 'significantly': 1, 'ensuring': 1, 'paritywomeninfilm': 1, 'dakota': 1, 'johnson': 1, 'censors': 1, 'netizens': 1, 'recognisable': 1, 'homophonic': 1, 'emojis': 1, 'cute': 1, 'rabbits': 1, 'eating': 1, 'riceajopinion': 1, 'disbelief': 1, 'fakecasemetoo': 1, 'criticand': 1, 'devyani': 1, 'onial': 1, 'ces': 1, 'drilon': 1, 'metooviaclintons': 1, 'environments': 1, 'taylorcdhasummit18': 1, 'riseofrude': 1, 'genderneutral': 1, 'bramins': 1, 'whatilearnedtoday': 1, 'forkeeptexasred': 1, 'powering': 1, 'enactment': 1, 'explicitly': 1, 'actfortifysolutions': 1, 'itraid': 1, 'cybersecurityawarenessmonth': 1, 'cybersecuritymonth': 1, 'cybersecuritynordic2018': 1, 'lawenforcement': 1, 'cyberbacker': 1, 'ecommerce': 1, 'econindia': 1, 'greenleaf': 1, 'watchingtell': 1, 'allyship': 1, 'hostsannedelaney': 1, 'anaoliveira': 1, 'congrats': 1, 'levelforward': 1, 'posse': 1, 'bee': 1, 'verbally': 1, 'races': 1, 'ds': 1, 'drag': 1, 'tuck': 1, 'inconvenient': 1, 'outnumberedot': 1, 'defammation': 1, 'cuts': 1, 'yesallwome': 1, 'gaslighting': 1, 'cont': 1, 'chain': 1, 'goose': 1, 'egg': 1, 'drawing': 1, 'shaned': 1, 'spokieshares': 1, 'doctormetoo': 1, 'releasemetoo': 1, 'yourquotes': 1, 'iifequotes': 1, 'iife': 1, 'existentialism': 1, 'writesomething': 1, 'poeticjustice': 1, 'poetryofmstagram': 1, 'poetryloverpoint': 1, 'instagood': 1, 'shayari': 1, 'writersoflndia': 1, 'yourquote': 1, 'savesabarimala': 1, 'mercy': 1, 'terror': 1, 'ajmal': 1, 'jhola': 1, 'chaap': 1, 'protestors': 1, 'punchline': 1, 'subrata': 1, 'bhowmick': 1, 'airline': 1, 'airbornecabincrewtwo': 1, 'interviewthe': 1, 'marching': 1, 'lapride': 1, 'didyouask': 1, 'withdeets': 1, 'nda': 1, 'dpa': 1, 'disclosure': 1, 'deferred': 1, 'prosecution': 1, 'criminality': 1, 'launders': 1, 'etsy': 1, 'cucumbers': 1, 'sensitise': 1, 'blowing': 1, 'mighty': 1, 'tumbling': 1, 'believeallwomenyou': 1, 'whitehouse': 1, 'diddy': 1, 'rj': 1, 'nethra': 1, 'ordealchitralokametooindia': 1, 'genie': 1, 'harrison': 1, 'acknowledgment': 1, 'federation': 1, 'ghlf': 1, 'genieharrisonlaw': 1, 'htlic': 1, 'prosecuted': 1, 'caucasian': 1, 'peeps': 1, 'exassam': 1, 'shoothousefull4': 1, 'tootalks': 1, 'excerpt': 1, 'bookthe': 1, 'provocative': 1, 'bookboost': 1, 'foundersays': 1, 'born': 1, 'selma': 1, 'birmingham': 1, 'rural': 1, 'metopindia': 1, 'boughtand': 1, 'uspoli': 1, 'fuckyeah': 1, 'bhakts': 1, 'reopen': 1, 'nowstopkavanaugh': 1, 'maturity': 1, 'promotion': 1, 'representation': 1, 'showrunners': 1, 'shethority': 1, 'dctv': 1, 'seeher': 1, 'saysafter': 1, 'herepriyaramani': 1, 'borowski': 1, 'gannascoli': 1, 'sopranos': 1, 'clapit': 1, 'actinglifestyle': 1, 'gear': 1, 'leftwingers': 1, 'realwomen': 1, 'sensitization': 1, 'gsiccchitraloka': 1, 'windows': 1, 'rvs': 1, 'acute': 1, 'tact': 1, 'spotting': 1, 'ofshame': 1, 'ibelievevictims': 1, 'nithyananda': 1, 'lacklustre': 1, 'hints': 1, 'resolved': 1, 'ranjan': 1, 'pyaar': 1, 'punchnama': 1, 'hiwould': 1, 'classifying': 1, 'moneyextortion': 1, 'succumb': 1, 'feminismisterrorism': 1, 'hemamani': 1, 'crosses': 1, 'niagara': 1, 'softball': 1, 'tshirts': 1, 'castellani': 1, 'midoctober': 1, 'clotheslineproject': 1, 'minglewood': 1, 'trading': 1, 'worker': 1, 'vinyl': 1, 'decal': 1, 'sticker': 1, 'lcsw': 1, 'yellowmetoo': 1, 'woty18': 1, 'maximise': 1, 'thatis': 1, 'consistency': 1, 'garcia': 1, 'tx29': 1, 'ofhundreds': 1, 'fromboard': 1, 'gkg': 1, 'veiwpoint': 1, 'rightsby': 1, 'priceless': 1, 'eyeballs': 1, 'paisa': 1, 'vasool': 1, 'yezdi': 1, 'jawamotorcycles': 1, 'newsasia': 1, 'trumpsfollowers': 1, 'bigotpresident': 1, 'makeamericawhiteagain': 1, 'mawa': 1, 'removegopsavedemocracy': 1, 'hahhaha': 1, 'bakra': 1, 'aaj': 1, 'ititphotoblog': 1, 'economist': 1, 'accordingtokeyhole': 1, 'wtaf': 1, 'minutely': 1, 'kashmirthestory': 1, 'antihindubooksremoved': 1, 'modiinsultedagain': 1, 'cbichiefprobe': 1, 'oneindiadayopposed': 1, 'namakharaminsult': 1, 'cbibossprobe': 1, 'overmetoo': 1, 'spaghetti': 1, 'meatballs': 1, 'attentionseeker': 1, 'sruti': 1, 'stephanie': 1, 'louisianas': 1, 'eloquently': 1, 'dog': 1, 'gm': 1, 'hungerindex': 1, 'bikgayiec': 1, 'rahulgandhiingwalior': 1, 'chambalwithcongress': 1, 'prernaforwomen': 1, 'sarkardiwali': 1, 'sympathizes': 1, 'nook': 1, 'limit': 1, 'gaycommunity': 1, 'sugar': 1, 'areandstay': 1, 'navaratri2018': 1, 'toshi': 1, 'sabri': 1, 'toshisabri': 1, 'reinforce': 1, 'fairly': 1, 'accordingly': 1, 'hilary': 1, 'himspeaks': 1, 'florasaini': 1, 'revisit': 1, 'tanishaa': 1, 'mukerji': 1, 'abhishekbachchansarkar3': 1, 'indusarkarreview': 1, 'sarkarraj': 1, 'tanishaamukerji': 1, 'kavanaughvote': 1, 'kavanaughconfirmationhearings': 1, 'livemint': 1, 'weareallharassed': 1, 'embolden': 1, 'french': 1, 'struggled': 1, 'kickdepressionsass': 1, 'secy': 1, 'levansky': 1, 'ideal': 1, 'mill': 1, 'lowell': 1, 'dutton': 1, 'lowellnps': 1, 'andbound': 1, 'tedsockie': 1, 'alwaysfollowthepath': 1, 'ronr': 1, 'wrt': 1, 'horn': 1, 'pleass': 1, 'celebrities_stuff': 1, 'newsminute': 1, 'videokhashoggi': 1, 'saudis': 1, 'searsbankruptcy': 1, 'medicaid': 1, 'meghanmarkle': 1, 'tombrady': 1, 'yogi': 1, 'portray': 1, 'cud': 1, 'bn': 1, 'structured': 1, 'chapters': 1, 'merv': 1, 'pauline': 1, 'comitment': 1, 'feministmafia': 1, 'misuseoflaw': 1, 'crimebyfemale': 1, 'delhipolice': 1, 'justiceformen': 1, 'blindfaith': 1, 'equalparenting': 1, 'zainab': 1, 'salbi': 1, 'hiltonprize': 1, 'hilton': 1, 'herehumanitarian': 1, 'hardon': 1, 'resides': 1, 'conversing': 1, 'awardnominated': 1, 'pension': 1, 'defaming': 1, 'limelighted': 1, 'descent': 1, 'certitude': 1, 'comrades': 1, 'visited': 1, 'unconditional': 1, 'aldwa': 1, 'manonmani': 1, 'convenor': 1, 'bakiyam': 1, 'aidwa': 1, 'radicalgenerositygala': 1, 'fori': 1, 'youandfor': 1, 'itsonus': 1, 'everyoneandare': 1, 'abdul': 1, 'handed': 1, 'spilling': 1, 'instilled': 1, 'rimi': 1, 'devastating': 1, 'justiceforsanthi': 1, 'rajan': 1, 'champion': 1, 'soundarajan': 1, 'thehas': 1, 'receivedfmglaw': 1, 'exbcci': 1, 'advisor': 1, 'edbookfestrose': 1, 'afua': 1, 'hirsch': 1, 'edinburgh': 1, 'internatiional': 1, 'mcgowanwhere': 1, 'sibblings': 1, 'saysfounder': 1, 'awhich': 1, 'ews18': 1, 'newsusrc': 1, 'nwbw': 1, 'revamping': 1, 'md': 1, 'notwithoutblackwomen': 1, 'willie': 1, 'gordon': 1, 'suting': 1, 'burns': 1, 'northern': 1, 'irish': 1, 'troublesset': 1, 'evolves': 1, 'excessively': 1, 'hurtling': 1, 'modernity': 1, 'q4': 1, 'foris': 1, 'lyrics': 1, 'singerin': 1, 'notifying': 1, 'thehuntingground': 1, 'blast': 1, 'boil': 1, 'endsexualabuse': 1, 'enddv': 1, 'stopdomesticviolence': 1, 'photoshopped': 1, 'offbook': 1, 'wandered': 1, 'whitehall': 1, 'wwii': 1, 'eying': 1, 'ffs': 1, 'adiroindia': 1, 'unwantedtouching': 1, 'spreadknowledge': 1, 'lalit': 1, 'confers': 1, 'reigniting': 1, 'happysaturday': 1, 'sanjjannagalrani': 1, 'pours': 1, 'metoosoon': 1, 'rajnathsingh': 1, 'wrongspeak': 1, 'upmetoo': 1, 'metooread': 1, 'discriminate': 1, 'manan': 1, 'wani': 1, 'indianoccupiedkashmirshameindia': 1, 'uno': 1, 'saurabh': 1, 'vanzara': 1, 'soketuparikh': 1, 'persuasion': 1, 'gv': 1, 'berrysays': 1, 'writings': 1, 'metoofreevipquote': 1, 'theeverest': 1, 'promo': 1, 'nrl': 1, 'hoarding': 1, 'agaisnt': 1, 'shine': 1, 'atselfesteem': 1, 'hiddeninplainsight': 1, 'isthisreallyhappening': 1, 'happyhealthyandwholeliving': 1, 'witha': 1, 'additionally': 1, 'goodtouch': 1, 'badtouch': 1, 'isabella': 1, 'claudio': 1, 'duke': 1, 'dukes': 1, 'claudios': 1, 'shakespeare': 1, 'derangement': 1, 'consumer': 1, 'hardship': 1, 'builder': 1, 'defeated': 1, 'aurangabad': 1, 'placemetoo': 1, 'lick': 1, 'influences': 1, 'illnessmetoo': 1, 'chronicillness': 1, 'immunesystem': 1, 'philanderer': 1, 'clearer': 1, 'bojo': 1, 'campaigning': 1, 'chunkey': 1, 'neelam': 1, 'awashed': 1, 'newschetanbhagat': 1, 'tanushreeduttaaloknath': 1, 'aroundmetoo': 1, 'hindutva': 1, 'researcher': 1, 'disdain': 1, 'heaped': 1, 'monuments': 1, 'confederacy': 1, 'unsocial': 1, 'atle': 1, 'reve': 1, 'publicitysruthihariharan': 1, 'ambareshsir': 1, 'awesomediscussing': 1, 'notus': 1, 'hrswc': 1, 'section497': 1, 'pun': 1, 'huawei': 1, 'p20': 1, 'rs1500': 1, 'linkamazon': 1, 'huaweip20pro': 1, 'amazongreatindianfestival': 1, 'amazongreatindianfestivallive': 1, 'huaweimate20pro': 1, 'movementworkplacesafety': 1, 'mired': 1, 'artistrahuleaswar': 1, 'ayyappatemple': 1, 'bywhat': 1, 'schoolsbullyingpreventionmonth': 1, 'raian': 1, 'karanjhawala': 1, 'specializes': 1, 'geeta': 1, 'luthra': 1, 'ndtvs': 1, 'newsx': 1, 'stapleton': 1, 'brauchler': 1, 'coffman': 1, 'villaincopolitics': 1, 'uncivil': 1, 'irredeemable': 1, 'sober': 1, 'iran': 1, 'sayed': 1, 'khamenei': 1, 'thesefacts': 1, 'batting': 1, 'fearlessoffor': 1, 'believessurvivors': 1, 'profilemetoo': 1, 'crspeaks': 1, 'crphilosophy': 1, 'armoredspirit': 1, 'thequeenbee': 1, 'nomorevictims': 1, 'psq': 1, 'psqtrained': 1, 'time2sting': 1, 'glockfanatics': 1, 'glock19': 1, 'glock17': 1, 'glockporn': 1, 'hecklerandkoch': 1, 'smithandwesson': 1, 'countercrime': 1, 'countercrimetactics': 1, 'gims': 1, 'gambat': 1, 'sciences': 1, 'sindh': 1, 'pmik': 1, 'sharifmediaenterprises': 1, 'ahadrazamir': 1, 'patekarshares': 1, 'ex_wife': 1, 'kangana_ranaut': 1, 'scarytimeforboys': 1, 'jimmykimmel': 1, 'lindsey': 1, 'ministerreaction': 1, 'piracy': 1, 'newsletter': 1, 'lookpicoftheday': 1, 'madebygoogle': 1, 'feministin': 1, 'whilst': 1, 'gangs': 1, 'operating': 1, 'undetected': 1, 'andaal': 1, 'skipped': 1, 'femnesty': 1, 'jwala': 1, 'ofvia': 1, 'timelinei': 1, 'dilute': 1, 'patriarchys': 1, 'itsbeentoolong': 1, 'immense': 1, 'likewhom': 1, 'ccv': 1, 'ferocious': 1, 'tigers': 1, 'dauntlessness': 1, 'mysogynist': 1, 'trifecta': 1, 'defendant': 1, 'pudding': 1, 'fourmember': 1, 'uptoday': 1, 'eyeopening': 1, 'stomachchurning': 1, 'actnow': 1, 'localization': 1, 'industryfortifysolutions': 1, 'dataprotection': 1, 'datasecurity': 1, 'tcsnycmarathon': 1, 'hr4hr': 1, 'sap': 1, 'dataanalytics': 1, 'subtleties': 1, 'kaufmanlaw': 1, 'lyin': 1, 'meters': 1, 'meta': 1, 'trumpism': 1, 'introducing': 1, 'concepts': 1, 'described': 1, 'beard': 1, 'canvascon': 1, 'expressing': 1, 'hockey': 1, 'jersey': 1, 'beleive': 1, 'massively': 1, 'robyn': 1, 'urback': 1, 'gmadaytalks': 1, 'plusis': 1, 'counted': 1, 'exchanged': 1, 'breathtaking': 1, 'fakecase': 1, 'publicrelations': 1, 'firstsr': 1, 'siddique': 1, 'andsee': 1, 'rioterswhen': 1, 'caring': 1, 'sip': 1, 'noustoutes': 1, 'naseeruddinshah': 1, 'conversate': 1, 'iamtonywhoa': 1, 'hglg': 1, 'chh': 1, 'emcees': 1, 'rappers': 1, 'boombap': 1, 'teamjesus': 1, 'jacksonville': 1, 'orlando': 1, 'weacceptebt': 1, 'philly': 1, 'centralparkfive': 1, 'disagrees': 1, 'silly': 1, 'passes': 1, 'linkcourtadjournshearing': 1, 'arjunsarjaadvocate': 1, 'chairpersonfor': 1, 'acknowledgementhas': 1, 'disappeared': 1, 'saysbombaywaali': 1, 'planning': 1, 'lending': 1, 'believeingenderequality': 1, 'happily': 1, 'yay': 1, 'valled': 1, 'undress': 1, 'torn': 1, 'atbattleofideas': 1, 'node': 1, 'withdido': 1, 'jean': 1, 'wainwright': 1, 'quint': 1, 'insecticide': 1, 'wood': 1, 'poojamishra': 1, 'assignment': 1, 'pharmeasy': 1, 'hairs': 1, 'embarrassed': 1, 'frandrescher': 1, 'thereal': 1, 'lifechanging': 1, 'admirable': 1, 'mayawathi': 1, 'chandrababu': 1, 'encapsulates': 1, 'dialogues': 1, 'harrasmentallegation': 1, 'season10': 1, 'alrighty': 1, 'hairsniffer': 1, 'handsyjoe': 1, 'weirdo': 1, 'disgustingperv': 1, 'emphatic': 1, 'movment': 1, 'blacklivesmatters': 1, 'epchristineblaseyford': 1, 'vm': 1, 'bothjustasking': 1, 'passport': 1, 'oki': 1, 'apologising': 1, 'metoomovementhow': 1, 'embracedas': 1, 'fallen': 1, 'dbl': 1, 'standardliars': 1, 'criticizing': 1, 'patanjali': 1, 'stores': 1, 'onthe': 1, 'withfirmindia': 1, 'imnotrunningoh': 1, 'singularly': 1, 'probable': 1, 'asdiscusses': 1, 'righttoprivacy': 1, 'refugeerights': 1, 'proteststrump': 1, 'perv': 1, 'surrender': 1, 'discrimination': 1, 'nohria': 1, 'dean': 1, 'schoolhonoriscausaupipade': 1, 'fromhas': 1, 'fr': 1, 'alowd': 1, 'btremaining': 1, 'compatibility': 1, 'dosh': 1, 'questionread': 1, 'moreakashvaani': 1, 'astrology': 1, 'prediction': 1, 'indiaastrology': 1, 'kajal': 1, 'aggarwal': 1, 'noone': 1, 'marry': 1, 'screenplay': 1, 'buthope': 1, 'kannadamovielovers': 1, 'concent': 1, 'stampaper': 1, 'stamping': 1, 'registrar': 1, 'bealert': 1, 'poke': 1, 'nose': 1, 'dats': 1, 'respectwomen': 1, 'alertto': 1, 'friendsforever': 1, 'mipcomtalks': 1, 'atorganized': 1, 'sundaydecided': 1, 'documenting': 1, 'stunts': 1, 'prayforamerica': 1, 'prayfortrump': 1, 'nhrdblr': 1, 'monthlymeet': 1, 'theotherstory': 1, 'praying': 1, 'metoowill': 1, 'staffexpresses': 1, 'excitement': 1, 'gig': 1, 'nprs': 1, 'rebuild': 1, 'tensions': 1, 'sushmaswaraj': 1, 'ducks': 1, 'query': 1, 'riveter': 1, 'chainmetoo': 1, 'dearwhen': 1, 'collectivewant': 1, 'contributions': 1, 'emily': 1, 'critchley': 1, 'elizabethjane': 1, 'burnett': 1, 'trash': 1, 'needy': 1, 'obgyn': 1, 'globalhealth': 1, 'unleash': 1, 'nudes': 1, 'boycottjio': 1, 'genre': 1, 'horrendous': 1, 'acquaintance': 1, 'geetanjali': 1, 'enlightened': 1, 'communicating': 1, 'chaired': 1, 'ministerits': 1, 'areto': 1, 'framework': 1, 'harasshment': 1, 'everylifematters': 1, 'prosecutor': 1, 'thedon': 1, 'christensen': 1, 'ofatsexual': 1, 'repeal': 1, 'abhorrent': 1, 'dailyhunt': 1, 'electionday': 1, 'fillip': 1, 'newborn': 1, 'immoral': 1, 'kfccrucialmeeting': 1, 'congratulationson': 1, 'momentous': 1, 'enriching': 1, 'workkiran': 1, 'neetaji': 1, 'fourth': 1, 'performs': 1, 'hobbesian': 1, 'mobs': 1, 'republicansneedtocheattowin': 1, 'shelter': 1, 'inappropriately': 1, 'amyra': 1, 'dastur': 1, 'exwife': 1, 'bearing': 1, 'invitedfacebook': 1, 'womenempowerwomen': 1, 'womenwriters': 1, 'womenjournalists': 1, 'wonderwomen': 1, 'joinme': 1, 'contribution': 1, 'snpconference': 1, 'ritchie': 1, 'ranging': 1, 'passionate': 1, 'bone': 1, 'nutrition': 1, 'recommendations': 1, 'grilled': 1, 'blackpudding': 1, 'protein': 1, 'gradual': 1, 'weighttraining': 1, 'hydration': 1, 'workworkplace': 1, 'officeculture': 1, 'preparing': 1, 'projector': 1, 'kijiji': 1, 'precautions': 1, 'vegas': 1, 'nevada': 1, 'breach': 1, 'halted': 1, 'towels': 1, 'puerto': 1, 'ricans': 1, 'worldview': 1, 'schenckkavanaugh': 1, 'thismadeup': 1, 'contribute': 1, 'sociocriminologist': 1, 'linkmentalhealthawareness': 1, 'mentalabuse': 1, 'fakefacts': 1, 'peoplelie': 1, 'seektruth': 1, 'ammused': 1, 'muck': 1, 'bucks': 1, 'mrbean': 1, 'upheaval': 1, 'metoorequests': 1, 'thoughtlessly': 1, 'hw': 1, 'regrdng': 1, 'evn': 1, 'thn': 1, 'prayed': 1, 'directedlook': 1, 'matr': 1, 'actn': 1, 'nw': 1, 'humiliatd': 1, 'slaughtered': 1, 'mahadayi': 1, 'anglemetoo': 1, 'expensive': 1, 'estimates': 1, 'annually': 1, 'onpoli': 1, 'filmchitraloka': 1, 'crops': 1, 'bigg': 1, 'contestant': 1, 'misrra': 1, 'sohail': 1, 'yaarupaiythiyam': 1, 'mouniroy': 1, 'spearheading': 1, 'popping': 1, 'supermarkets': 1, 'sandy': 1, 'uspolikavanaugh': 1, 'bombed': 1, 'byauspol': 1, 'ratification': 1, 'erayes': 1, 'nt': 1, 'volunteer': 1, 'andhas': 1, 'economically': 1, 'forcandidatebring': 1, 'fiscal': 1, 'ruining': 1, 'nominee': 1, 'ourford': 1, 'linkprashanthsambragi': 1, 'prashanthsambragihasreceivedacallfromapersonram': 1, 'vikal': 1, 'chodu': 1, 'shots': 1, 'loveless': 1, 'rumors': 1, 'mightve': 1, 'misremembering': 1, 'womenwrite': 1, 'bombs': 1, 'myth': 1, 'sharifah': 1, 'rageinducing': 1, 'macarthur': 1, 'winners': 1, '1800': 1, 'acquitted': 1, 'misuseofrapelaw': 1, 'scstact': 1, 'mybucketlist': 1, 'bucketlist': 1, 'whatsyourbucketlist': 1, 'farewell': 1, 'worthit': 1, 'tenthtimeseeingher': 1, 'rolemodel': 1, 'salty': 1, 'coke': 1, 'shutup': 1, 'subhasree': 1, 'sharada': 1, 'abhinandana': 1, 'nostalgia': 1, 'embraced': 1, 'require': 1, 'safeguard': 1, 'forgiveness': 1, 'cafepress': 1, 'magnet': 1, 'magnetic': 1, 'stickermetoo': 1, 'wellbeingfemnesty': 1, 'diversityandinclusion': 1, 'sideeffect': 1, 'rahuldravid': 1, 'exquisitely': 1, 'meat': 1, 'ravishing': 1, 'candles': 1, 'createsomethingbeautiful': 1, 'asiabibi': 1, 'jailed': 1, 'unclean': 1, 'religionofpeace': 1, 'freeasiabibi': 1, 'tiffany': 1, 'haddish': 1, 'varietys': 1, 'presented': 1, 'byalong': 1, 'presenter': 1, 'jenifer': 1, 'standstill': 1, 'corroborating': 1, 'factsmatter': 1, 'endgop': 1, 'heress': 1, 'issuepress': 1, 'allgenders': 1, 'childrensuffer': 1, 'dvfacts': 1, 'sowill': 1, 'byfakebollywood': 1, 'bracketed': 1, 'sluts': 1, 'seductresses': 1, 'labelled': 1, 'lecherous': 1, 'dissolute': 1, 'psychiatrist': 1, 'siladitya': 1, 'ray': 1, 'rakul': 1, 'preet': 1, 'iz': 1, 'rememberkavanaugh2018': 1, 'ballot': 1, 'bangalorelitfest': 1, 'overpowering': 1, 'cleared': 1, 'bubble': 1, 'middayg': 1, 'midday': 1, 'gujarati': 1, 'firmly': 1, 'costarjunsarja': 1, 'iimc': 1, 'amrita': 1, 'duttareports': 1, 'bhavani': 1, 'amitabhbachchan': 1, 'campain': 1, 'bollwood': 1, 'bigb': 1, 'sapnabhavani': 1, 'comeoutwomen': 1, 'decadesold': 1, 'coined': 1, 'phrase': 1, 'chicagoarea': 1, 'zhu': 1, 'jun': 1, 'xianzi': 1, 'becasu': 1, 'ibeliveher': 1, 'heartbreaking': 1, 'neverthelesshepersisted': 1, 'breakfree': 1, 'jordan': 1, 'peterson': 1, 'antidote': 1, 'chaosmetoo': 1, 'workplaceharassmentmetoo': 1, 'professionalharassment': 1, 'khandaan': 1, 'maestroshocked': 1, 'freelancewriter': 1, 'writerscommunity': 1, 'writerslife': 1, 'fervor': 1, 'sync': 1, 'writesexperts': 1, 'academicians': 1, 'ateducationtimes': 1, 'emperoryour': 1, 'deepahamsharma': 1, 'dastaanemohabbat': 1, 'nazar': 1, 'vikrambetaal': 1, 'whatshowing': 1, 'lightened': 1, 'penetrate': 1, 'comediancalls': 1, 'leaderadds': 1, 'vanjonesshow': 1, 'linkhighgroundscops': 1, 'betray': 1, 'natures': 1, 'gogetter': 1, 'instinct': 1, 'andis': 1, 'whileis': 1, 'thesad': 1, 'contd': 1, 'screamed': 1, 'acted': 1, 'likethey': 1, 'saysduring': 1, 'timesuppics': 1, 'chit': 1, 'escapades': 1, 'thunderstruck': 1, 'meto': 1, 'clyton': 1, 'heinous': 1, 'diobolic': 1, 'burnie': 1, 'kerry': 1, 'romanoffs': 1, 'saddened': 1, 'freelance': 1, 'talents': 1, 'payment': 1, 'stake': 1, 'backsr': 1, 'mgr': 1, 'relates': 1, 'blinditem': 1, 'tedcasablanca': 1, 'motifs': 1, 'countries': 1, 'viaandmetooindia': 1, 'metoolka': 1, 'philipgreen': 1, 'lord': 1, 'houseofcommons': 1, 'parliamentary': 1, 'attalking': 1, 'confucian': 1, 'atstrive': 1, 'pertinent': 1, 'raucous': 1, 'reiterate': 1, 'fromcurricula': 1, 'aashiq': 1, 'banaya': 1, 'aapne': 1, 'famedhas': 1, 'actorfor': 1, 'maligning': 1, 'muriel': 1, 'rukeyser': 1, 'brightest': 1, 'joolz': 1, 'imadick': 1, 'rapedjuanita': 1, 'shitty': 1, 'untalented': 1, 'reddit': 1, 'moved': 1, 'mural': 1, 'upfest': 1, 'thesimpsons': 1, 'thenomadclan': 1, 'graffitti': 1, 'lisa': 1, 'speakyourmind': 1, 'incomplete': 1, 'mautarma': 1, 'tomia': 1, 'nek': 1, 'iradaguys': 1, 'pidiswhozthatminister': 1, 'facebooktwitterinstagrampreity': 1, 'zinta': 1, 'ness': 1, 'wadia': 1, 'stalking': 1, 'websites': 1, 'frustrated': 1, 'indianlaws': 1, 'bottoms': 1, 'iswestminster': 1, 'comparative': 1, 'casebook': 1, 'wifecallsallegations': 1, 'dancer': 1, 'ritesh': 1, 'deshmukh': 1, 'houseful4': 1, 'riteshdeshmukh': 1, 'bobbydeol': 1, 'q1': 1, 'federalist': 1, 'effectdharmashala': 1, 'participate': 1, 'milfs': 1, 'seduce': 1, 'seasoned': 1, 'thethey': 1, 'coupled': 1, 'myopia': 1, 'pathology': 1, 'unchallenged': 1, 'unheededvia': 1, 'foundervia': 1, 'carnaticmetoo': 1, 'theresistancevotes': 1, 'bluewaive': 1, 'badnewsout': 1, 'dptof': 1, 'kluz': 1, 'mindcontrol': 1, 'singlepayer': 1, 'pensions': 1, 'publicbank': 1, 'wallstreet': 1, 'ows': 1, 'tlv': 1, 'hemp': 1, 'mayawati': 1, 'ottawatheatre': 1, 'labo': 1, 'nd': 1, 'exploitations': 1, 'shying': 1, 'unlikely': 1, 'unexploited': 1, 'provokes': 1, 'clan': 1, 'dumbass': 1, 'chants': 1, 'justifying': 1, 'linkamalapaul': 1, 'amalapaulaccusesdirectorsusiganesan': 1, 'directorsusiganesan': 1, 'actorbackssays': 1, 'imposed': 1, 'delivermusic': 1, 'awesomebarbrawalls': 1, 'civilrightsmovement': 1, 'indiecinema': 1, 'metoohmm': 1, 'dakhan': 1, 'babauji': 1, 'aloknathanother': 1, 'aapiya': 1, 'redhanded': 1, 'shekhargurera': 1, 'emperorakbar': 1, 'emmit': 1, 'co': 1, 'passenger': 1, 'tripathi': 1, 'mouths': 1, 'landing': 1, 'nomorerapes': 1, 'bullyingpreventionmonth': 1, 'prek12': 1, 'bullyingmetoo': 1, 'wollstonecraft': 1, 'thinkbigsundaywithmarsha': 1, 'colleaguesbe': 1, 'womenspeacetable': 1, 'representing': 1, 'govs': 1, 'trades': 1, 'strategies': 1, 'wbn2018': 1, 'womenbuildnations': 1, 'viaharshika': 1, 'poonachas': 1, 'bound': 1, 'ruffle': 1, 'arr': 1, 'fornow': 1, 'acussed': 1, 'faulted': 1, 'itmetoo': 1, 'vijayanabout': 1, 'cabinetdecisions': 1, 'transformingindia': 1, 'self4society': 1, 'womenofindiaorganicfest': 1, 'womenhelpline181': 1, 'attempts': 1, 'misconception': 1, 'omgright': 1, 'monicalewinsky': 1, 'consented': 1, 'comparing': 1, 'starstruckhillary': 1, 'womanempowerment': 1, 'impeached': 1, 'pledgethisisnotworking': 1, 'misuser': 1, 'amritsartraintragedy': 1, 'sandhyathis': 1, 'sardar': 1, 'vidyalaya': 1, 'slippers': 1, 'puri': 1, 'mistaken': 1, 'rapemetoo': 1, 'client': 1, 'iftt': 1, 'botnet': 1, 'portuguese': 1, 'backbrett': 1, 'opsec': 1, 'osint': 1, 'todaylondonfilmfestival': 1, 'michaelacoel': 1, 'beensolong': 1, 'sew': 1, 'patch': 1, 'commitmentaddresses': 1, 'declare': 1, 'remotely': 1, 'serving': 1, 'madly': 1, 'andwhy': 1, 'sticking': 1, 'sociopath': 1, 'actoron': 1, 'ifsees': 1, 'apologizingchitraloka': 1, 'ifrefrains': 1, 'unsolicited': 1, 'materials': 1, 'bookmarks': 1, 'aremetoo': 1, 'slowing': 1, 'seeping': 1, 'hotstar': 1, 'aibs': 1, 'tedx': 1, 'teachers': 1, 'principals': 1, 'harveyweinsteinoneyearmetoo': 1, 'expressions': 1, 'farmetoo': 1, 'voicethis': 1, 'tor': 1, 'readthis': 1, 'charistha': 1, 'toofor': 1, 'allowing': 1, 'thankyou': 1, 'justiceforthereal': 1, 'denouncing': 1, 'polite': 1, 'stagnation': 1, 'backward': 1, 'movement2': 1, 'beneficial': 1, 'blm': 1, 'p2': 1, 'daca': 1, 'againstauspol': 1, 'abcnews': 1, 'billshorten': 1, 'cbivsalokverma': 1, 'kinng': 1, 'vipul': 1, 'shahs': 1, 'falseaccuser': 1, 'withover': 1, 'soorma': 1, 'shashank': 1, 'khaitan': 1, 'cricketing': 1, 'fttopics': 1, 'itll': 1, 'pivot': 1, 'applesoundcloudlisten': 1, 'rememberkavanaugh': 1, 'walkawayfromdemocratsforever': 1, 'allarewelcome': 1, 'reimagined': 1, 'luxury': 1, 'sot2018': 1, 'sotfuturefest': 1, 'sharif': 1, 'trailblazer': 1, 'bhuma': 1, 'shrivastava': 1, 'ari': 1, 'altstedter': 1, 'archana': 1, 'chaudhary': 1, 'afsarzaidi': 1, 'breast': 1, 'revised': 1, 'seerenbergtheatre': 1, 'jonesis': 1, 'combinationmustsee': 1, 'voteearly': 1, 'govote': 1, 'aliabhatt': 1, 'videontvtelugu': 1, 'ntvnews': 1, 'newsonline': 1, 'swedes': 1, 'iu': 1, 'satisfaction': 1, 'glamorised': 1, 'validated': 1, 'hypermasculine': 1, 'rein': 1, 'childlike': 1, 'endured': 1, 'attendance': 1, 'godallas': 1, 'recording': 1, 'proxy': 1, 'historians': 1, 'refer': 1, 'ram': 1, 'crusaded': 1, 'polygamy': 1, 'feminismindia': 1, 'unfound': 1, 'anuragkashyap': 1, 'jealous': 1, 'intends': 1, 'settling': 1, 'madhu': 1, 'mantena': 1, 'relation': 1, 'cnnews18': 1, 'withdraw': 1, 'nocompromise': 1, 'srutihariharan': 1, 'rebelstar': 1, 'paving': 1, 'battlefields': 1, 'reporterworkplace': 1, 'notsoneighborly': 1, 'watchers': 1, 'anniversarylatest': 1, 'moreis': 1, 'scoopinmyfeed': 1, 'withonmetooindia': 1, 'kwf': 1, 'ckd': 1, 'kidney': 1, 'jumps': 1, 'commentsvia': 1, 'pronounce': 1, 'citycivilcourt': 1, 'arjunsarjadefamationsuit': 1, 'cybercrimepolice': 1, 'imposter': 1, 'metooallegationsonravisrivatsa': 1, 'ravisrivatsapressconference': 1, 'directorsassociation': 1, 'technological': 1, 'loot': 1, 'femaleempowerment': 1, 'andtellabout': 1, 'onyoutube': 1, 'ageold': 1, 'kunal': 1, 'stopchildabuse': 1, 'saha': 1, 'seemi_pasha': 1, 'collegesnbc15': 1, 'pamela': 1, 'anderson': 1, 'qld': 1, 'treasurercalls': 1, 'notshows': 1, 'andin': 1, 'antiwomen': 1, 'myrepublica': 1, 'astonishing': 1, 'confessions': 1, 'lately': 1, 'hovering': 1, 'harassments': 1, 'ganeshan': 1, 'metoosusiganeshan': 1, 'acknowledging': 1, 'disappointing': 1, 'dcp': 1, 'devaraj': 1, 'sheffield': 1, 'swp': 1, 'mtg': 1, 'thurs': 1, 'curc': 1, 'halloweenmovie': 1, 'horrormovie': 1, 'travers': 1, 'bya': 1, 'terrifically': 1, 'hereas': 1, 'asandstudy': 1, 'jiobannedporn': 1, 'dictating': 1, 'cancellation': 1, 'hrpaac': 1, 'yonce': 1, 'metooindialooks': 1, 'preached': 1, 'bang': 1, 'meh': 1, 'saudi_arabia': 1, 'transcendent': 1, 'deteriorating': 1, 'certitudevia': 1, 'miscarriage': 1, 'mondaythought': 1, 'grief': 1, 'awwretweeting': 1, 'cooked': 1, 'comescan': 1, 'undue': 1, 'barring': 1, 'popped': 1, 'laying': 1, 'scandalnews': 1, 'sabita': 1, 'lahkar': 1, 'writereditor': 1, 'homen': 1, 'borgohain': 1, 'realwomentalk': 1, 'womentalk': 1, 'changedmetoo': 1, 'pastor': 1, 'jerome': 1, 'carrell': 1, 'liberalhypocrisy': 1, 'alreadyshout': 1, 'fabfor': 1, 'sheroes': 1, 'complicated': 1, 'hypewrites': 1, 'apple': 1, 'trailertickets': 1, 'maureenohara': 1, 'queenoftechnicolor': 1, 'onewomanshow': 1, 'goldenage': 1, 'cure_': 1, 'actressbackshits': 1, 'multilingual': 1, 'deargirl': 1, 'officers': 1, 'walkinbeauty': 1, 'kunanposhpora': 1, 'documentation': 1, 'ghandi': 1, 'chastity': 1, 'grandniece': 1, 'fare': 1, 'a2': 1, 'oppress': 1, 'funddisadvocacy': 1, 'icwa': 1, 'publiccharge': 1, 'obnoxious': 1, 'feared': 1, 'shadowbanned': 1, 'obtuse': 1, 'oust': 1, 'shabd': 1, 'nhi': 1, 'rahe': 1, 'manipulating': 1, 'atheist': 1, 'alister': 1, 'gropes': 1, 'rehearsing': 1, 'scenesbollywoodtimesup': 1, 'linkmjakbar': 1, 'mjakbarfilesdefamationcaseagainstpriyaramani': 1, 'delhicourt': 1, 'workplaceindia': 1, 'isupportwomen': 1, 'cortes': 1, 'island': 1, 'predictable': 1, 'bcpoli': 1, 'unbuttoning': 1, 'sheikh': 1, 'amcrunch': 1, 'invests': 1, 'ana': 1, 'oliveira': 1, 'jhappad': 1, 'allmetoo': 1, 'anticipatory': 1, 'anticipatorybail': 1, 'sruthihariharancomplaintonarjunsarja': 1, 'prakashraidefendshisstatementonsruthihariharan': 1, 'languages': 1, 'lac': 1, 'partnership': 1, 'goi': 1, 'evolved': 1, 'kickstarted': 1, 'no_offence': 1, 'thinkis': 1, 'antichoice': 1, 'ucp': 1, 'ntrbiopic': 1, 'vishal25': 1, 'aravindhasamethareview': 1, 'thugsofhindostan': 1, 'hgpktrailer': 1, 'gameover': 1, 'ramcharan': 1, 'cahshbacks': 1, 'sarkarmovie': 1, 'mobile': 1, 'dth': 1, 'recharge': 1, 'leftism': 1, 'justbelieveher': 1, 'metoobacklash': 1, 'agriculture': 1, 'browns': 1, 'nevskc': 1, 'snf': 1, 'yearsvialifestyle': 1, 'witch': 1, 'costume': 1, 'robertelee': 1, 'isty': 1, 'tireless': 1, 'eradicating': 1, 'butdid': 1, 'designed': 1, 'mavroudis': 1, 'moonalice': 1, 'howfeels': 1, 'shameover': 1, 'swifties': 1, 'okaytosay': 1, 'alienate': 1, 'spartacus': 1, 'maxine': 1, 'runner': 1, 'groper': 1, 'limocryingchuck': 1, 'keira': 1, 'knightley': 1, 'leaning': 1, 'defectors': 1, 'hierarchymetoo': 1, 'funnyreaction': 1, 'shatrughansinhametoo': 1, 'commissioners': 1, 'linkvideos': 1, 'arjunsarjasmanagerscomplaintagainstshruthihariharan': 1, 'arjunsarjasmanagershivarjun': 1, 'airborne': 1, 'harassmentcabincrewtwo': 1, 'readvia': 1, 'theoffice': 1, 'meis': 1, 'newspaper': 1, 'smurthwaite': 1, 'statistically': 1, 'struck': 1, 'lightning': 1, 'victimised': 1, 'divisive': 1, 'rhetoricmaga': 1, 'forming': 1, 'chefheadlines': 1, 'weeksin': 1, 'chapel': 1, 'hilltalks': 1, 'thechew': 1, 'generalelection': 1, 'kweli': 1, 'diggy': 1, 'simmons': 1, 'youcallback': 1, 'terrycrews': 1, 'edfilmfestival18': 1, 'upper': 1, 'goons': 1, 'fadanvis': 1, 'dalitlivesmatter': 1, 'stopreligiousatrocites': 1, 'enddiscrimination': 1, 'nimish': 1, 'organizers': 1, 'flick': 1, 'swallowing': 1, 'ping': 1, 'nutshell': 1})\n",
            "Size of train vocabulary:  16421\n"
          ],
          "name": "stdout"
        }
      ]
    },
    {
      "cell_type": "code",
      "metadata": {
        "id": "PHCKHe3tImQ6",
        "colab_type": "code",
        "colab": {}
      },
      "source": [
        "tokenizer = Tokenizer()\n",
        "tokenizer.fit_on_texts(all_tweets['tweets'])\n",
        "max_length = 55\n",
        "train_sequences = tokenizer.texts_to_sequences(train['Processed_tweets'])\n",
        "train_data = pad_sequences(train_sequences, maxlen=max_length)"
      ],
      "execution_count": null,
      "outputs": []
    },
    {
      "cell_type": "code",
      "metadata": {
        "id": "r5rzY7ONMSoF",
        "colab_type": "code",
        "colab": {}
      },
      "source": [
        "vocabulary_size = 16500\n",
        "embedding_matrix = np.zeros((vocabulary_size, 100))\n",
        "for word, index in tokenizer.word_index.items():\n",
        "    if index > vocabulary_size - 1:\n",
        "        break\n",
        "    else:\n",
        "        embedding_vector = embeddings_index.get(word)\n",
        "        if embedding_vector is not None:\n",
        "            embedding_matrix[index] = embedding_vector"
      ],
      "execution_count": null,
      "outputs": []
    },
    {
      "cell_type": "code",
      "metadata": {
        "id": "8aD5pKsgJXTL",
        "colab_type": "code",
        "colab": {}
      },
      "source": [
        "test_sequences = tokenizer.texts_to_sequences(test['Processed_tweets'])\n",
        "test_data = pad_sequences(test_sequences, maxlen=max_length)"
      ],
      "execution_count": null,
      "outputs": []
    },
    {
      "cell_type": "code",
      "metadata": {
        "id": "SribnkMV04k-",
        "colab_type": "code",
        "colab": {
          "base_uri": "https://localhost:8080/",
          "height": 35
        },
        "outputId": "c10c480a-a051-4ab5-fab2-f884188240d8"
      },
      "source": [
        "train_data.shape"
      ],
      "execution_count": null,
      "outputs": [
        {
          "output_type": "execute_result",
          "data": {
            "text/plain": [
              "(5495, 55)"
            ]
          },
          "metadata": {
            "tags": []
          },
          "execution_count": 119
        }
      ]
    },
    {
      "cell_type": "code",
      "metadata": {
        "id": "JeVymT3faUY7",
        "colab_type": "code",
        "colab": {
          "base_uri": "https://localhost:8080/",
          "height": 1000
        },
        "outputId": "6bb6c753-3210-46ea-a28f-f7ec15f09073"
      },
      "source": [
        "#Function for everything\n",
        "from sklearn.metrics import roc_auc_score, f1_score\n",
        "import tensorflow as tf\n",
        "from keras.callbacks import ModelCheckpoint, ReduceLROnPlateau, EarlyStopping\n",
        "from keras.models import Sequential\n",
        "from keras.layers import Dense, Flatten, LSTM, Conv1D, MaxPooling1D, Dropout, Activation\n",
        "from keras.layers.embeddings import Embedding\n",
        "from matplotlib import pyplot\n",
        "#categories\n",
        "preds = pd.DataFrame()\n",
        "for i in categories:\n",
        "  import random\n",
        "  random.seed(35)\n",
        "  #Callbacks\n",
        "  lr_reduce = ReduceLROnPlateau(monitor='val_loss', factor=0.1, patience=3, verbose=2, mode='max')\n",
        "  model_glove = Sequential()\n",
        "  model_glove.add(Embedding(vocabulary_size, 100, input_length=max_length, weights=[embedding_matrix], trainable=False))\n",
        "  model_glove.add(Dropout(0.2))\n",
        "  model_glove.add(Conv1D(64, 5, activation='relu'))\n",
        "  model_glove.add(MaxPooling1D(pool_size=4))\n",
        "  model_glove.add(Bidirectional(LSTM(100)))\n",
        "  model_glove.add(Dense(1, activation='sigmoid'))\n",
        "  model_glove.compile(loss='binary_crossentropy', optimizer='adam', metrics= [tf.keras.metrics.AUC()]) \n",
        "  print('BiLSTM fit for the label:',i)\n",
        "  model_glove.fit(train_data, y_train[i].values,batch_size=32, epochs = 10,validation_split=0.1, callbacks=[lr_reduce])\n",
        "  preds[i]= model_glove.predict_classes(test_data).ravel()\n",
        "  print('Validation AUC for',i ,':',roc_auc_score(y_test[i].values,preds[i]))\n",
        "  print('Validation F1-score for',i,':',f1_score(y_test[i].values,preds[i]))"
      ],
      "execution_count": null,
      "outputs": [
        {
          "output_type": "stream",
          "text": [
            "BiLSTM fit for the label: Directed_Hate\n",
            "Epoch 1/10\n",
            "155/155 [==============================] - 2s 13ms/step - loss: 0.1769 - auc_29: 0.4798 - val_loss: 0.1448 - val_auc_29: 0.4886\n",
            "Epoch 2/10\n",
            "155/155 [==============================] - 1s 8ms/step - loss: 0.1594 - auc_29: 0.5483 - val_loss: 0.1471 - val_auc_29: 0.4116\n",
            "Epoch 3/10\n",
            "155/155 [==============================] - 1s 8ms/step - loss: 0.1528 - auc_29: 0.6700 - val_loss: 0.1601 - val_auc_29: 0.3673\n",
            "Epoch 4/10\n",
            "155/155 [==============================] - 1s 8ms/step - loss: 0.1363 - auc_29: 0.8029 - val_loss: 0.1735 - val_auc_29: 0.3945\n",
            "Epoch 5/10\n",
            "155/155 [==============================] - 1s 9ms/step - loss: 0.1087 - auc_29: 0.9051 - val_loss: 0.1923 - val_auc_29: 0.3789\n",
            "Epoch 6/10\n",
            "155/155 [==============================] - 1s 9ms/step - loss: 0.0775 - auc_29: 0.9594 - val_loss: 0.2482 - val_auc_29: 0.3513\n",
            "Epoch 7/10\n",
            "155/155 [==============================] - 1s 8ms/step - loss: 0.0679 - auc_29: 0.9707 - val_loss: 0.2576 - val_auc_29: 0.4290\n",
            "Epoch 8/10\n",
            "155/155 [==============================] - 1s 8ms/step - loss: 0.0590 - auc_29: 0.9682 - val_loss: 0.2533 - val_auc_29: 0.3701\n",
            "Epoch 9/10\n",
            "155/155 [==============================] - 1s 8ms/step - loss: 0.0466 - auc_29: 0.9856 - val_loss: 0.2949 - val_auc_29: 0.4115\n",
            "Epoch 10/10\n",
            "155/155 [==============================] - 1s 8ms/step - loss: 0.0491 - auc_29: 0.9823 - val_loss: 0.2890 - val_auc_29: 0.4360\n",
            "Validation AUC for Directed_Hate : 0.5047138047138048\n",
            "Validation F1-score for Directed_Hate : 0.029850746268656716\n",
            "BiLSTM fit for the label: Generalized_Hate\n",
            "Epoch 1/10\n",
            "155/155 [==============================] - 2s 13ms/step - loss: 0.1446 - auc_30: 0.5177 - val_loss: 0.1911 - val_auc_30: 0.5059\n",
            "Epoch 2/10\n",
            "155/155 [==============================] - 1s 8ms/step - loss: 0.1291 - auc_30: 0.5411 - val_loss: 0.1936 - val_auc_30: 0.5277\n",
            "Epoch 3/10\n",
            "155/155 [==============================] - 1s 8ms/step - loss: 0.1247 - auc_30: 0.6528 - val_loss: 0.1998 - val_auc_30: 0.5116\n",
            "Epoch 4/10\n",
            "155/155 [==============================] - 1s 8ms/step - loss: 0.1138 - auc_30: 0.7783 - val_loss: 0.2198 - val_auc_30: 0.4944\n",
            "Epoch 5/10\n",
            "155/155 [==============================] - 1s 8ms/step - loss: 0.0882 - auc_30: 0.9161 - val_loss: 0.2682 - val_auc_30: 0.5321\n",
            "Epoch 6/10\n",
            "155/155 [==============================] - 1s 8ms/step - loss: 0.0668 - auc_30: 0.9519 - val_loss: 0.2852 - val_auc_30: 0.5044\n",
            "Epoch 7/10\n",
            "155/155 [==============================] - 1s 8ms/step - loss: 0.0571 - auc_30: 0.9682 - val_loss: 0.2923 - val_auc_30: 0.4890\n",
            "Epoch 8/10\n",
            "155/155 [==============================] - 1s 8ms/step - loss: 0.0489 - auc_30: 0.9745 - val_loss: 0.3462 - val_auc_30: 0.4984\n",
            "Epoch 9/10\n",
            "155/155 [==============================] - 1s 8ms/step - loss: 0.0455 - auc_30: 0.9742 - val_loss: 0.3195 - val_auc_30: 0.4798\n",
            "Epoch 10/10\n",
            "155/155 [==============================] - 1s 7ms/step - loss: 0.0373 - auc_30: 0.9810 - val_loss: 0.3495 - val_auc_30: 0.4842\n",
            "Validation AUC for Generalized_Hate : 0.4947994056463596\n",
            "Validation F1-score for Generalized_Hate : 0.0\n",
            "BiLSTM fit for the label: Support\n",
            "Epoch 1/10\n",
            "155/155 [==============================] - 2s 12ms/step - loss: 0.6310 - auc_31: 0.4962 - val_loss: 0.6595 - val_auc_31: 0.5172\n",
            "Epoch 2/10\n",
            "155/155 [==============================] - 1s 8ms/step - loss: 0.6162 - auc_31: 0.5656 - val_loss: 0.6509 - val_auc_31: 0.5025\n",
            "Epoch 3/10\n",
            "155/155 [==============================] - 1s 8ms/step - loss: 0.6044 - auc_31: 0.6132 - val_loss: 0.6676 - val_auc_31: 0.4786\n",
            "Epoch 4/10\n",
            "155/155 [==============================] - 1s 8ms/step - loss: 0.5728 - auc_31: 0.6936 - val_loss: 0.6952 - val_auc_31: 0.4758\n",
            "Epoch 5/10\n",
            "155/155 [==============================] - 1s 8ms/step - loss: 0.5325 - auc_31: 0.7513 - val_loss: 0.7326 - val_auc_31: 0.4712\n",
            "Epoch 6/10\n",
            "155/155 [==============================] - 1s 8ms/step - loss: 0.4818 - auc_31: 0.8106 - val_loss: 0.7704 - val_auc_31: 0.4877\n",
            "Epoch 7/10\n",
            "155/155 [==============================] - 1s 8ms/step - loss: 0.4427 - auc_31: 0.8444 - val_loss: 0.8060 - val_auc_31: 0.4714\n",
            "Epoch 8/10\n",
            "155/155 [==============================] - 1s 8ms/step - loss: 0.3923 - auc_31: 0.8835 - val_loss: 0.8491 - val_auc_31: 0.4943\n",
            "Epoch 9/10\n",
            "155/155 [==============================] - 1s 8ms/step - loss: 0.3620 - auc_31: 0.9004 - val_loss: 0.9209 - val_auc_31: 0.4752\n",
            "Epoch 10/10\n",
            "155/155 [==============================] - 1s 8ms/step - loss: 0.3246 - auc_31: 0.9224 - val_loss: 0.9823 - val_auc_31: 0.4967\n",
            "Validation AUC for Support : 0.5138363930885529\n",
            "Validation F1-score for Support : 0.2470588235294118\n",
            "BiLSTM fit for the label: Oppose\n",
            "Epoch 1/10\n",
            "155/155 [==============================] - 2s 13ms/step - loss: 0.2760 - auc_32: 0.5112 - val_loss: 0.2304 - val_auc_32: 0.4795\n",
            "Epoch 2/10\n",
            "155/155 [==============================] - 1s 7ms/step - loss: 0.2628 - auc_32: 0.5145 - val_loss: 0.2279 - val_auc_32: 0.4865\n",
            "Epoch 3/10\n",
            "155/155 [==============================] - 1s 8ms/step - loss: 0.2531 - auc_32: 0.6365 - val_loss: 0.2334 - val_auc_32: 0.4875\n",
            "Epoch 4/10\n",
            "155/155 [==============================] - 1s 8ms/step - loss: 0.2360 - auc_32: 0.7413 - val_loss: 0.2681 - val_auc_32: 0.4935\n",
            "Epoch 5/10\n",
            "155/155 [==============================] - 1s 8ms/step - loss: 0.2096 - auc_32: 0.8210 - val_loss: 0.2566 - val_auc_32: 0.5451\n",
            "Epoch 6/10\n",
            "155/155 [==============================] - 1s 8ms/step - loss: 0.1692 - auc_32: 0.9021 - val_loss: 0.2687 - val_auc_32: 0.5690\n",
            "Epoch 7/10\n",
            "155/155 [==============================] - 1s 8ms/step - loss: 0.1467 - auc_32: 0.9302 - val_loss: 0.3140 - val_auc_32: 0.5084\n",
            "Epoch 8/10\n",
            "155/155 [==============================] - 1s 8ms/step - loss: 0.1191 - auc_32: 0.9609 - val_loss: 0.3393 - val_auc_32: 0.4875\n",
            "Epoch 9/10\n",
            "155/155 [==============================] - 1s 7ms/step - loss: 0.0975 - auc_32: 0.9730 - val_loss: 0.3729 - val_auc_32: 0.4865\n",
            "Epoch 10/10\n",
            "155/155 [==============================] - 1s 7ms/step - loss: 0.0963 - auc_32: 0.9724 - val_loss: 0.3735 - val_auc_32: 0.5210\n",
            "Validation AUC for Oppose : 0.5168885489111745\n",
            "Validation F1-score for Oppose : 0.10416666666666666\n"
          ],
          "name": "stdout"
        }
      ]
    },
    {
      "cell_type": "markdown",
      "metadata": {
        "id": "F3RKMCJ-3hKT",
        "colab_type": "text"
      },
      "source": [
        "## LGBM"
      ]
    },
    {
      "cell_type": "code",
      "metadata": {
        "id": "DI6geuua2vnt",
        "colab_type": "code",
        "colab": {}
      },
      "source": [
        "import lightgbm as lgbm\n",
        "\n",
        "categories = ['Text_Only_Informative','Image_Only_Informative','Directed_Hate', 'Generalized_Hate', 'Sarcasm', 'Allegation','Justification', 'Refutation','Support', 'Oppose']\n",
        "\n",
        "X_train = train_data\n",
        "X_test = test_data\n",
        "pred = pd.DataFrame()\n",
        "\n",
        "for category in categories:\n",
        "  print('\\n\\n')\n",
        "  print('LightGBM Fit for the label: ',category)\n",
        "\n",
        "  #scale_pos_weights = sum(negative instances) / sum(positive instances)\n",
        "  cls_weights = (len(y_train)-y_train[category].sum())/(y_train[category].sum())\n",
        "  m = lgbm.LGBMClassifier(objective='binary',max_depth=3,learning_rate=0.01,scale_pos_weight=round(cls_weights,2),boosting_type='gbdt',metric='binary_logloss', \n",
        "                     random_state=5,reg_lambda=20,silent=False)\n",
        "  \n",
        "  m.fit(X_train,y_train[category].values)\n",
        "  pred[category] = m.predict(X_test)\n",
        "  print('Validation AUC for',category,':',roc_auc_score(y_test[category].values,pred[category]))\n",
        "  print('Validation F1-score for',category,':',f1_score(y_test[category].values,pred[category]))"
      ],
      "execution_count": null,
      "outputs": []
    },
    {
      "cell_type": "code",
      "metadata": {
        "id": "_lJ4OX_1_Ev6",
        "colab_type": "code",
        "colab": {
          "base_uri": "https://localhost:8080/",
          "height": 163
        },
        "outputId": "67d64d36-f210-4574-92e9-604112fc6d2a"
      },
      "source": [
        "from sklearn.metrics import roc_auc_score\n",
        "for i in ['Directed_Hate', 'Generalized_Hate', 'Sarcasm', 'Allegation','Justification', 'Refutation','Support', 'Oppose']:\n",
        "  print('AUC for label ',i ,':',roc_auc_score(y_test[i],pred[i]))"
      ],
      "execution_count": null,
      "outputs": [
        {
          "output_type": "stream",
          "text": [
            "AUC for label  Directed_Hate : 0.491016044858264\n",
            "AUC for label  Generalized_Hate : 0.5134008243392539\n",
            "AUC for label  Sarcasm : 0.4848860632003022\n",
            "AUC for label  Allegation : 0.4913763806287171\n",
            "AUC for label  Justification : 0.4944509345794392\n",
            "AUC for label  Refutation : 0.5097333955684906\n",
            "AUC for label  Support : 0.5042424965592545\n",
            "AUC for label  Oppose : 0.4979161124412521\n"
          ],
          "name": "stdout"
        }
      ]
    },
    {
      "cell_type": "markdown",
      "metadata": {
        "id": "ZbzcDD8QHvWs",
        "colab_type": "text"
      },
      "source": [
        "##XGBOOST"
      ]
    },
    {
      "cell_type": "code",
      "metadata": {
        "id": "ZP7Q6ZXIMSib",
        "colab_type": "code",
        "colab": {}
      },
      "source": [
        "final_train_xgb = pd.concat([pd.DataFrame(train_data),X_train[['favorite_count','possibly__senstive','retweet_count','user_verified','mentions','url','bigrams']]],axis=1)\n",
        "final_test_xgb = pd.concat([pd.DataFrame(test_data),X_test[['favorite_count','possibly__senstive','retweet_count','user_verified','mentions','url','bigrams']]],axis=1)"
      ],
      "execution_count": null,
      "outputs": []
    },
    {
      "cell_type": "code",
      "metadata": {
        "id": "e6VAZGgCMSVV",
        "colab_type": "code",
        "colab": {
          "base_uri": "https://localhost:8080/",
          "height": 563
        },
        "outputId": "da75e073-6016-425b-a06a-1199bc9a7f4c"
      },
      "source": [
        "import xgboost as xgb\n",
        "from sklearn import metrics\n",
        "from sklearn.metrics import accuracy_score, precision_score, recall_score, roc_auc_score, f1_score\n",
        "\n",
        "categories = ['Text_Only_Informative', 'Image_Only_Informative','Directed_Hate', 'Generalized_Hate', 'Sarcasm', 'Allegation','Justification', 'Refutation', 'Support', 'Oppose']\n",
        "\n",
        "pred = pd.DataFrame()\n",
        "\n",
        "for category in categories:\n",
        "  #scale_pos_weights = sum(negative instances) / sum(positive instances)\n",
        "  cls_weights = (len(y_train)-y_train[category].sum())/(y_train[category].sum())\n",
        "  clf = xgb.XGBClassifier(scale_pos_weight =round(cls_weights,2))\n",
        "  clf.fit(train_data,y_train[category].values)\n",
        "  print('... Processing XGBoost Classifier for {}'.format(category))\n",
        "  pred[category] = clf.predict(test_data)\n",
        "  print(\"Validation AUC-ROC Score: \", roc_auc_score(y_test[category],pred[category]))\n",
        "  print(\"Validation F1 Score: \", f1_score(y_test[category],pred[category]))\n",
        "\n",
        "# #Confusion Matrix\n",
        "# print('\\n')\n",
        "# print('CONFUSION MATRIX:->')\n",
        "# skplt.metrics.plot_confusion_matrix(val_Y,np.round(xgb_pred),figsize=(6,6))"
      ],
      "execution_count": null,
      "outputs": [
        {
          "output_type": "stream",
          "text": [
            "... Processing XGBoost Classifier for Text_Only_Informative\n",
            "Validation AUC-ROC Score:  0.5099565931775265\n",
            "Validation F1 Score:  0.6854709952102181\n",
            "... Processing XGBoost Classifier for Image_Only_Informative\n",
            "Validation AUC-ROC Score:  0.539382634915726\n",
            "Validation F1 Score:  0.3940990516332982\n",
            "... Processing XGBoost Classifier for Directed_Hate\n",
            "Validation AUC-ROC Score:  0.5026515151515152\n",
            "Validation F1 Score:  0.06521739130434784\n",
            "... Processing XGBoost Classifier for Generalized_Hate\n",
            "Validation AUC-ROC Score:  0.5239598811292719\n",
            "Validation F1 Score:  0.04560260586319218\n",
            "... Processing XGBoost Classifier for Sarcasm\n",
            "Validation AUC-ROC Score:  0.5350658956428187\n",
            "Validation F1 Score:  0.04519774011299435\n",
            "... Processing XGBoost Classifier for Allegation\n",
            "Validation AUC-ROC Score:  0.47183075129102114\n",
            "Validation F1 Score:  0.04580152671755725\n",
            "... Processing XGBoost Classifier for Justification\n",
            "Validation AUC-ROC Score:  0.5053038239916187\n",
            "Validation F1 Score:  0.05809128630705394\n",
            "... Processing XGBoost Classifier for Refutation\n",
            "Validation AUC-ROC Score:  0.577707986155621\n",
            "Validation F1 Score:  0.08040201005025126\n",
            "... Processing XGBoost Classifier for Support\n",
            "Validation AUC-ROC Score:  0.5106062943535946\n",
            "Validation F1 Score:  0.3310344827586207\n",
            "... Processing XGBoost Classifier for Oppose\n",
            "Validation AUC-ROC Score:  0.522955513604177\n",
            "Validation F1 Score:  0.14653465346534653\n"
          ],
          "name": "stdout"
        }
      ]
    },
    {
      "cell_type": "markdown",
      "metadata": {
        "id": "MdIRbOlGSusd",
        "colab_type": "text"
      },
      "source": [
        "##RandomForest"
      ]
    },
    {
      "cell_type": "code",
      "metadata": {
        "id": "-po-wawLSuAx",
        "colab_type": "code",
        "colab": {
          "base_uri": "https://localhost:8080/",
          "height": 563
        },
        "outputId": "edec4977-2586-4197-a7e8-f336ea70cc4f"
      },
      "source": [
        "from sklearn.ensemble import RandomForestClassifier\n",
        "\n",
        "categories = ['Text_Only_Informative', 'Image_Only_Informative','Directed_Hate', 'Generalized_Hate', 'Sarcasm', 'Allegation','Justification', 'Refutation', 'Support', 'Oppose']\n",
        "\n",
        "pred = pd.DataFrame()\n",
        "\n",
        "for category in categories:\n",
        "  #Balanced Class weight\n",
        "  #classes are automatically weighted inversely proportional to how frequently they appear in the data\n",
        "  clf = RandomForestClassifier(class_weight=\"balanced\")\n",
        "  clf.fit(train_data,y_train[category].values)\n",
        "  print('... Processing RF Classifier for {}'.format(category))\n",
        "  pred[category] = clf.predict(test_data)\n",
        "  print(\"Validation AUC-ROC Score: \", roc_auc_score(y_test[category],pred[category]))\n",
        "  print(\"Validation F1 Score: \", f1_score(y_test[category],pred[category]))"
      ],
      "execution_count": null,
      "outputs": [
        {
          "output_type": "stream",
          "text": [
            "... Processing RF Classifier for Text_Only_Informative\n",
            "Validation AUC-ROC Score:  0.5046186167038609\n",
            "Validation F1 Score:  0.8203776899429073\n",
            "... Processing RF Classifier for Image_Only_Informative\n",
            "Validation AUC-ROC Score:  0.5011138278954693\n",
            "Validation F1 Score:  0.1354723707664884\n",
            "... Processing RF Classifier for Directed_Hate\n",
            "Validation AUC-ROC Score:  0.5128367003367004\n",
            "Validation F1 Score:  0.05633802816901408\n",
            "... Processing RF Classifier for Generalized_Hate\n",
            "Validation AUC-ROC Score:  0.5279133941838251\n",
            "Validation F1 Score:  0.0784313725490196\n",
            "... Processing RF Classifier for Sarcasm\n",
            "Validation AUC-ROC Score:  0.4988905325443787\n",
            "Validation F1 Score:  0.0\n",
            "... Processing RF Classifier for Allegation\n",
            "Validation AUC-ROC Score:  0.5144594369481926\n",
            "Validation F1 Score:  0.06593406593406594\n",
            "... Processing RF Classifier for Justification\n",
            "Validation AUC-ROC Score:  0.5074810110005239\n",
            "Validation F1 Score:  0.03571428571428571\n",
            "... Processing RF Classifier for Refutation\n",
            "Validation AUC-ROC Score:  0.5648762979105243\n",
            "Validation F1 Score:  0.18181818181818182\n",
            "... Processing RF Classifier for Support\n",
            "Validation AUC-ROC Score:  0.4988887496143165\n",
            "Validation F1 Score:  0.10760667903525048\n",
            "... Processing RF Classifier for Oppose\n",
            "Validation AUC-ROC Score:  0.5105619223400448\n",
            "Validation F1 Score:  0.05925925925925926\n"
          ],
          "name": "stdout"
        }
      ]
    },
    {
      "cell_type": "markdown",
      "metadata": {
        "id": "L9gNVBk7Tdkm",
        "colab_type": "text"
      },
      "source": [
        "##MNB"
      ]
    },
    {
      "cell_type": "code",
      "metadata": {
        "id": "_CDaIHc5St09",
        "colab_type": "code",
        "colab": {
          "base_uri": "https://localhost:8080/",
          "height": 90
        },
        "outputId": "e2595154-1b16-4ff9-cd56-57218e63ee24"
      },
      "source": [
        "X_train_NB = X_train.Processed_tweets\n",
        "X_val_NB = X_test.Processed_tweets\n",
        "print(X_train_NB.shape)\n",
        "print(X_val_NB.shape)\n",
        "\n",
        "from sklearn.feature_extraction.text import CountVectorizer\n",
        "count_vect = CountVectorizer()\n",
        "X_train_counts = count_vect.fit_transform(X_train_NB)\n",
        "print('Shape using CountVectorizer():' , X_train_counts.shape)\n",
        "\n",
        "\n",
        "from sklearn.feature_extraction.text import TfidfTransformer\n",
        "tfidf_transformer = TfidfTransformer()\n",
        "X_train_tfidf = tfidf_transformer.fit_transform(X_train_counts)\n",
        "print('Shape using TfidfTransformer():' , X_train_tfidf.shape)"
      ],
      "execution_count": null,
      "outputs": [
        {
          "output_type": "stream",
          "text": [
            "(5495,)\n",
            "(1374,)\n",
            "Shape using CountVectorizer(): (5495, 13194)\n",
            "Shape using TfidfTransformer(): (5495, 13194)\n"
          ],
          "name": "stdout"
        }
      ]
    },
    {
      "cell_type": "code",
      "metadata": {
        "id": "1KUjM23hStvA",
        "colab_type": "code",
        "colab": {
          "base_uri": "https://localhost:8080/",
          "height": 563
        },
        "outputId": "42648246-e64c-49ec-a4e4-87fa908d66a4"
      },
      "source": [
        "from sklearn.pipeline import Pipeline\n",
        "from sklearn.naive_bayes import MultinomialNB\n",
        "text_clf = Pipeline([('vect', CountVectorizer()),('tfidf', TfidfTransformer()),('clf', MultinomialNB()),])\n",
        "\n",
        "prediction = pd.DataFrame()\n",
        "for category in categories:\n",
        "    print('... Processing {}'.format(category))\n",
        "    text_clf.fit(X_train_NB, y_train[category])\n",
        "    # compute the validation accuracy\n",
        "    prediction[category] = text_clf.predict(X_val_NB)\n",
        "    print(\"Validation AUC-ROC Score: \", roc_auc_score(y_test[category],prediction[category]))\n",
        "    print('Validation F1-Score using naive_bayes: ', f1_score(y_test[category],prediction[category]))\n",
        "    #Confusion Matrix\n",
        "    # print('\\n')\n",
        "    # print('CONFUSION MATRIX:->')\n",
        "    # skplt.metrics.plot_confusion_matrix(val_Y[category],np.round(prediction),figsize=(6,6))"
      ],
      "execution_count": null,
      "outputs": [
        {
          "output_type": "stream",
          "text": [
            "... Processing Text_Only_Informative\n",
            "Validation AUC-ROC Score:  0.5058979326581161\n",
            "Validation F1-Score using naive_bayes:  0.8486122792262405\n",
            "... Processing Image_Only_Informative\n",
            "Validation AUC-ROC Score:  0.4990963738982527\n",
            "Validation F1-Score using naive_bayes:  0.017391304347826084\n",
            "... Processing Directed_Hate\n",
            "Validation AUC-ROC Score:  0.5\n",
            "Validation F1-Score using naive_bayes:  0.0\n",
            "... Processing Generalized_Hate\n",
            "Validation AUC-ROC Score:  0.5\n",
            "Validation F1-Score using naive_bayes:  0.0\n",
            "... Processing Sarcasm\n",
            "Validation AUC-ROC Score:  0.5\n",
            "Validation F1-Score using naive_bayes:  0.0\n",
            "... Processing Allegation\n",
            "Validation AUC-ROC Score:  0.5\n",
            "Validation F1-Score using naive_bayes:  0.0\n",
            "... Processing Justification\n",
            "Validation AUC-ROC Score:  0.5\n",
            "Validation F1-Score using naive_bayes:  0.0\n",
            "... Processing Refutation\n",
            "Validation AUC-ROC Score:  0.5\n",
            "Validation F1-Score using naive_bayes:  0.0\n",
            "... Processing Support\n",
            "Validation AUC-ROC Score:  0.4956803455723542\n",
            "Validation F1-Score using naive_bayes:  0.0\n",
            "... Processing Oppose\n",
            "Validation AUC-ROC Score:  0.5\n",
            "Validation F1-Score using naive_bayes:  0.0\n"
          ],
          "name": "stdout"
        }
      ]
    },
    {
      "cell_type": "markdown",
      "metadata": {
        "id": "jI-VzxA3Tg-i",
        "colab_type": "text"
      },
      "source": [
        "##SVM"
      ]
    },
    {
      "cell_type": "code",
      "metadata": {
        "id": "2vZBdHUbStis",
        "colab_type": "code",
        "colab": {}
      },
      "source": [
        "# X_train = pd.read_csv('/content/train_set.csv') \n",
        "# y_train = pd.read_csv('/content/train_labels.csv')\n",
        "# X_test = pd.read_csv('/content/test_set.csv')\n",
        "# y_test = pd.read_csv('/content/test_labels.csv')"
      ],
      "execution_count": null,
      "outputs": []
    },
    {
      "cell_type": "code",
      "metadata": {
        "id": "rI6YaPEaDvMF",
        "colab_type": "code",
        "colab": {
          "base_uri": "https://localhost:8080/",
          "height": 143
        },
        "outputId": "95279835-8ecf-40c4-fec8-c332dbe60aae"
      },
      "source": [
        "X_train.head(2)"
      ],
      "execution_count": null,
      "outputs": [
        {
          "output_type": "execute_result",
          "data": {
            "text/html": [
              "<div>\n",
              "<style scoped>\n",
              "    .dataframe tbody tr th:only-of-type {\n",
              "        vertical-align: middle;\n",
              "    }\n",
              "\n",
              "    .dataframe tbody tr th {\n",
              "        vertical-align: top;\n",
              "    }\n",
              "\n",
              "    .dataframe thead th {\n",
              "        text-align: right;\n",
              "    }\n",
              "</style>\n",
              "<table border=\"1\" class=\"dataframe\">\n",
              "  <thead>\n",
              "    <tr style=\"text-align: right;\">\n",
              "      <th></th>\n",
              "      <th>TweetId</th>\n",
              "      <th>Processed_tweets</th>\n",
              "      <th>favorite_count</th>\n",
              "      <th>possibly__senstive</th>\n",
              "      <th>retweet_count</th>\n",
              "      <th>user_verified</th>\n",
              "      <th>mentions</th>\n",
              "      <th>url</th>\n",
              "      <th>bigrams</th>\n",
              "    </tr>\n",
              "  </thead>\n",
              "  <tbody>\n",
              "    <tr>\n",
              "      <th>0</th>\n",
              "      <td>1051957160182259712</td>\n",
              "      <td>unsung hero rose schneiderman was a forerunner of the metoo movement history mondaymotivation URL URL</td>\n",
              "      <td>0</td>\n",
              "      <td>0</td>\n",
              "      <td>0</td>\n",
              "      <td>0</td>\n",
              "      <td>0</td>\n",
              "      <td>2</td>\n",
              "      <td>12</td>\n",
              "    </tr>\n",
              "    <tr>\n",
              "      <th>1</th>\n",
              "      <td>1056816001851904001</td>\n",
              "      <td>metoo row nivetha pethuraj faces harrasement in party URL thimirupudichavan thimirupudichavanfromdiwali nivethapethuraj URL</td>\n",
              "      <td>7</td>\n",
              "      <td>0</td>\n",
              "      <td>0</td>\n",
              "      <td>1</td>\n",
              "      <td>0</td>\n",
              "      <td>2</td>\n",
              "      <td>10</td>\n",
              "    </tr>\n",
              "  </tbody>\n",
              "</table>\n",
              "</div>"
            ],
            "text/plain": [
              "               TweetId  ... bigrams\n",
              "0  1051957160182259712  ...  12    \n",
              "1  1056816001851904001  ...  10    \n",
              "\n",
              "[2 rows x 9 columns]"
            ]
          },
          "metadata": {
            "tags": []
          },
          "execution_count": 3
        }
      ]
    },
    {
      "cell_type": "code",
      "metadata": {
        "id": "HpTr6LOADu_U",
        "colab_type": "code",
        "colab": {}
      },
      "source": [
        "import re\n",
        "def clean_text(text):\n",
        "    text = re.sub(r'#(\\S+)', r' \\1 ', str(text))\n",
        "    ## Remove punctuation\n",
        "    text = text.translate(string.punctuation)\n",
        "    text = re.sub(r\"URL\", \"\", str(text))\n",
        "    text = re.sub(r\"USER_MENTION\", \"\", str(text))\n",
        "    text = re.sub(r\"\\s{2,}\", \"\", str(text))\n",
        "    return text\n",
        "\n",
        "X_train['Processed_tweets'] = X_train['Processed_tweets'].map(lambda x: clean_text(x))\n",
        "X_test['Processed_tweets'] = X_test['Processed_tweets'].map(lambda x: clean_text(x))"
      ],
      "execution_count": null,
      "outputs": []
    },
    {
      "cell_type": "code",
      "metadata": {
        "id": "MhCIjtfQDuZI",
        "colab_type": "code",
        "colab": {}
      },
      "source": [
        "#pipeline of feature engineering and model\n",
        "from sklearn.feature_extraction.text import TfidfVectorizer\n",
        "from sklearn.svm import SVC\n",
        "from sklearn.pipeline import Pipeline\n",
        "from sklearn.feature_extraction.text import CountVectorizer, TfidfTransformer\n",
        "from sklearn.preprocessing import StandardScaler\n",
        "from sklearn.svm import LinearSVC\n",
        "\n",
        "model = Pipeline([('vectorizer', CountVectorizer(ngram_range=(1,2))),\n",
        "    ('tfidf', TfidfTransformer(use_idf=True)),('standardscaler', StandardScaler(with_mean=False)),\n",
        "    ('clf', SVC(class_weight=\"balanced\"))])"
      ],
      "execution_count": null,
      "outputs": []
    },
    {
      "cell_type": "code",
      "metadata": {
        "id": "plpY_sMaPFpG",
        "colab_type": "code",
        "colab": {
          "base_uri": "https://localhost:8080/",
          "height": 417
        },
        "outputId": "9b92abcd-305e-44e6-f2c3-7fc0aff61d90"
      },
      "source": [
        "model"
      ],
      "execution_count": null,
      "outputs": [
        {
          "output_type": "execute_result",
          "data": {
            "text/plain": [
              "Pipeline(memory=None,\n",
              "         steps=[('vectorizer',\n",
              "                 CountVectorizer(analyzer='word', binary=False,\n",
              "                                 decode_error='strict',\n",
              "                                 dtype=<class 'numpy.int64'>, encoding='utf-8',\n",
              "                                 input='content', lowercase=True, max_df=1.0,\n",
              "                                 max_features=None, min_df=1,\n",
              "                                 ngram_range=(1, 2), preprocessor=None,\n",
              "                                 stop_words=None, strip_accents=None,\n",
              "                                 token_pattern='(?u)\\\\b\\\\w\\\\w+\\\\b',\n",
              "                                 tokenizer=None, vocabula...\n",
              "                                  sublinear_tf=False, use_idf=True)),\n",
              "                ('standardscaler',\n",
              "                 StandardScaler(copy=True, with_mean=True, with_std=True)),\n",
              "                ('clf',\n",
              "                 SVC(C=1.0, break_ties=False, cache_size=200,\n",
              "                     class_weight='balanced', coef0=0.0,\n",
              "                     decision_function_shape='ovr', degree=3, gamma='scale',\n",
              "                     kernel='rbf', max_iter=-1, probability=False,\n",
              "                     random_state=None, shrinking=True, tol=0.001,\n",
              "                     verbose=False))],\n",
              "         verbose=False)"
            ]
          },
          "metadata": {
            "tags": []
          },
          "execution_count": 17
        }
      ]
    },
    {
      "cell_type": "code",
      "metadata": {
        "id": "DcUQKSczNXkQ",
        "colab_type": "code",
        "colab": {
          "base_uri": "https://localhost:8080/",
          "height": 563
        },
        "outputId": "0a01ea50-d160-440e-c7d1-155834ec005c"
      },
      "source": [
        "categories = ['Text_Only_Informative', 'Image_Only_Informative', 'Directed_Hate',\n",
        "       'Generalized_Hate', 'Sarcasm', 'Allegation', 'Justification',\n",
        "       'Refutation', 'Support', 'Oppose']\n",
        "prediction = pd.DataFrame()\n",
        "for category in categories:\n",
        "    print('... Processing {}'.format(category))\n",
        "    model.fit(X_train['Processed_tweets'], y_train[category])\n",
        "    # compute the validation metrics\n",
        "    prediction[category] = model.predict(X_test['Processed_tweets'])\n",
        "    print(\"Validation AUC-ROC Score: \", roc_auc_score(y_test[category],prediction[category]))\n",
        "    print('Validation F1-Score using naive_bayes: ', f1_score(y_test[category],prediction[category]))"
      ],
      "execution_count": null,
      "outputs": [
        {
          "output_type": "stream",
          "text": [
            "... Processing Text_Only_Informative\n",
            "Validation AUC-ROC Score:  0.5178205033883481\n",
            "Validation F1-Score using naive_bayes:  0.7963218390804598\n",
            "... Processing Image_Only_Informative\n",
            "Validation AUC-ROC Score:  0.5095267318694913\n",
            "Validation F1-Score using naive_bayes:  0.19110378912685336\n",
            "... Processing Directed_Hate\n",
            "Validation AUC-ROC Score:  0.5109427609427609\n",
            "Validation F1-Score using naive_bayes:  0.05263157894736842\n",
            "... Processing Generalized_Hate\n",
            "Validation AUC-ROC Score:  0.5245701549564847\n",
            "Validation F1-Score using naive_bayes:  0.06666666666666667\n",
            "... Processing Sarcasm\n",
            "Validation AUC-ROC Score:  0.496301775147929\n",
            "Validation F1-Score using naive_bayes:  0.0\n",
            "... Processing Allegation\n",
            "Validation AUC-ROC Score:  0.5159586873230052\n",
            "Validation F1-Score using naive_bayes:  0.07476635514018691\n",
            "... Processing Justification\n",
            "Validation AUC-ROC Score:  0.5044689628077528\n",
            "Validation F1-Score using naive_bayes:  0.03125\n",
            "... Processing Refutation\n",
            "Validation AUC-ROC Score:  0.5465196769644918\n",
            "Validation F1-Score using naive_bayes:  0.13043478260869565\n",
            "... Processing Support\n",
            "Validation AUC-ROC Score:  0.4966927645788337\n",
            "Validation F1-Score using naive_bayes:  0.1037037037037037\n",
            "... Processing Oppose\n",
            "Validation AUC-ROC Score:  0.5142568406869109\n",
            "Validation F1-Score using naive_bayes:  0.08\n"
          ],
          "name": "stdout"
        }
      ]
    },
    {
      "cell_type": "markdown",
      "metadata": {
        "id": "Kc01xGfe3PGD",
        "colab_type": "text"
      },
      "source": [
        "##FASTTEXT"
      ]
    },
    {
      "cell_type": "code",
      "metadata": {
        "id": "4DVuA5QJMSRA",
        "colab_type": "code",
        "colab": {
          "base_uri": "https://localhost:8080/",
          "height": 539
        },
        "outputId": "7c721af7-6642-4d21-f232-1c7675b904fb"
      },
      "source": [
        "train = pd.read_csv('trainable.csv')\n",
        "test = pd.read_csv('testable.csv')\n",
        "train.head(2)"
      ],
      "execution_count": null,
      "outputs": [
        {
          "output_type": "execute_result",
          "data": {
            "text/html": [
              "<div>\n",
              "<style scoped>\n",
              "    .dataframe tbody tr th:only-of-type {\n",
              "        vertical-align: middle;\n",
              "    }\n",
              "\n",
              "    .dataframe tbody tr th {\n",
              "        vertical-align: top;\n",
              "    }\n",
              "\n",
              "    .dataframe thead th {\n",
              "        text-align: right;\n",
              "    }\n",
              "</style>\n",
              "<table border=\"1\" class=\"dataframe\">\n",
              "  <thead>\n",
              "    <tr style=\"text-align: right;\">\n",
              "      <th></th>\n",
              "      <th>Tweets</th>\n",
              "      <th>Text_Only_Informative</th>\n",
              "      <th>Image_Only_Informative</th>\n",
              "      <th>Directed_Hate</th>\n",
              "      <th>Generalized_Hate</th>\n",
              "      <th>Sarcasm</th>\n",
              "      <th>Allegation</th>\n",
              "      <th>Justification</th>\n",
              "      <th>Refutation</th>\n",
              "      <th>Support</th>\n",
              "      <th>Oppose</th>\n",
              "      <th>favorite_count</th>\n",
              "      <th>possibly__senstive</th>\n",
              "      <th>retweet_count</th>\n",
              "      <th>user_verified</th>\n",
              "      <th>emojis</th>\n",
              "      <th>Processed_tweets</th>\n",
              "      <th>emoji_count</th>\n",
              "      <th>mentions</th>\n",
              "      <th>url</th>\n",
              "      <th>bigrams</th>\n",
              "      <th>cleaned_tweets</th>\n",
              "    </tr>\n",
              "  </thead>\n",
              "  <tbody>\n",
              "    <tr>\n",
              "      <th>0</th>\n",
              "      <td>what a shock hey, old bill is in the clear &amp;amp; every single #imwithher #metoo moron will swallow this huge pile of shit without a single gag 🤷🏼‍♂️ #hypocrites https://t.co/xkymfqnanj</td>\n",
              "      <td>1</td>\n",
              "      <td>1</td>\n",
              "      <td>1</td>\n",
              "      <td>0</td>\n",
              "      <td>0</td>\n",
              "      <td>1</td>\n",
              "      <td>1</td>\n",
              "      <td>0</td>\n",
              "      <td>0</td>\n",
              "      <td>0</td>\n",
              "      <td>1</td>\n",
              "      <td>0</td>\n",
              "      <td>0</td>\n",
              "      <td>0</td>\n",
              "      <td>🤷🏼♂</td>\n",
              "      <td>what a shock hey old bill is in the clear every single imwithher metoo moron will swallow this huge pile of shit without a single gag hypocrites URL</td>\n",
              "      <td>1</td>\n",
              "      <td>0</td>\n",
              "      <td>1</td>\n",
              "      <td>26</td>\n",
              "      <td>shock hey old bill clear every single imwithher metoo moron swallow huge pile shit without single gag hypocrites url</td>\n",
              "    </tr>\n",
              "    <tr>\n",
              "      <th>1</th>\n",
              "      <td>no bucky, people are pissed off at ashleyperkins89 for attacking the credibility of an assault survivor after the attacker, thomas ravenel, was arrested as the result of a four month police investigation. the only people questioning the #metoo movement are men and rape enablers. https://t.co/yaqrgivqb3</td>\n",
              "      <td>1</td>\n",
              "      <td>1</td>\n",
              "      <td>0</td>\n",
              "      <td>0</td>\n",
              "      <td>0</td>\n",
              "      <td>0</td>\n",
              "      <td>1</td>\n",
              "      <td>0</td>\n",
              "      <td>1</td>\n",
              "      <td>0</td>\n",
              "      <td>6</td>\n",
              "      <td>0</td>\n",
              "      <td>1</td>\n",
              "      <td>0</td>\n",
              "      <td>NaN</td>\n",
              "      <td>no bucky people are pissed off at ashleyperkins89 for attacking the credibility of an assault survivor after the attacker thomas ravenel was arrested as the result of a four month police investigation the only people questioning the metoo movement are men and rape enablers URL</td>\n",
              "      <td>0</td>\n",
              "      <td>0</td>\n",
              "      <td>1</td>\n",
              "      <td>43</td>\n",
              "      <td>bucky people pissed ashleyperkins89 attacking credibility assault survivor attacker thomas ravenel arrested result four month police investigation people questioning metoo movement men rape enablers url</td>\n",
              "    </tr>\n",
              "  </tbody>\n",
              "</table>\n",
              "</div>"
            ],
            "text/plain": [
              "                                                                                                                                                                                                                                                                                                            Tweets  ...                                                                                                                                                                                              cleaned_tweets\n",
              "0  what a shock hey, old bill is in the clear &amp; every single #imwithher #metoo moron will swallow this huge pile of shit without a single gag 🤷🏼‍♂️ #hypocrites https://t.co/xkymfqnanj                                                                                                                         ...  shock hey old bill clear every single imwithher metoo moron swallow huge pile shit without single gag hypocrites url                                                                                      \n",
              "1  no bucky, people are pissed off at ashleyperkins89 for attacking the credibility of an assault survivor after the attacker, thomas ravenel, was arrested as the result of a four month police investigation. the only people questioning the #metoo movement are men and rape enablers. https://t.co/yaqrgivqb3  ...  bucky people pissed ashleyperkins89 attacking credibility assault survivor attacker thomas ravenel arrested result four month police investigation people questioning metoo movement men rape enablers url\n",
              "\n",
              "[2 rows x 22 columns]"
            ]
          },
          "metadata": {
            "tags": []
          },
          "execution_count": 3
        }
      ]
    },
    {
      "cell_type": "code",
      "metadata": {
        "id": "S02-rd8-ZZlj",
        "colab_type": "code",
        "colab": {}
      },
      "source": [
        "import seaborn as sns\n",
        "categories = ['Text_Only_Informative', 'Image_Only_Informative','Directed_Hate', 'Generalized_Hate', 'Sarcasm', 'Allegation','Justification', 'Refutation', 'Support', 'Oppose']\n",
        "counts = []\n",
        "for i in categories:\n",
        "    counts.append((i, train[i].sum()))\n",
        "df_stats = pd.DataFrame(counts[:10], columns=['category', 'number_of_comments'])\n",
        "df_stats['class_ratio'] = round(df_stats['number_of_comments']/float(len(train)),2)\n",
        "\n",
        "print(df_stats)\n",
        "\n",
        "import matplotlib.pyplot as plt\n",
        "%matplotlib inline \n",
        "fig = plt.figure(figsize = (15, 10)) \n",
        "# creating the bar plot \n",
        "plt.bar(df_stats.category.values, df_stats.class_ratio.values, color ='maroon',  \n",
        "        width = 0.4)"
      ],
      "execution_count": null,
      "outputs": []
    },
    {
      "cell_type": "code",
      "metadata": {
        "id": "uKYAe5--4s5i",
        "colab_type": "code",
        "colab": {
          "base_uri": "https://localhost:8080/",
          "height": 289
        },
        "outputId": "3c1899f7-3788-4ced-b89b-a3ecab67b838"
      },
      "source": [
        "!wget https://github.com/facebookresearch/fastText/archive/v0.1.0.zip"
      ],
      "execution_count": null,
      "outputs": [
        {
          "output_type": "stream",
          "text": [
            "--2020-07-28 18:30:09--  https://github.com/facebookresearch/fastText/archive/v0.1.0.zip\n",
            "Resolving github.com (github.com)... 140.82.113.4\n",
            "Connecting to github.com (github.com)|140.82.113.4|:443... connected.\n",
            "HTTP request sent, awaiting response... 302 Found\n",
            "Location: https://codeload.github.com/facebookresearch/fastText/zip/v0.1.0 [following]\n",
            "--2020-07-28 18:30:10--  https://codeload.github.com/facebookresearch/fastText/zip/v0.1.0\n",
            "Resolving codeload.github.com (codeload.github.com)... 140.82.112.9\n",
            "Connecting to codeload.github.com (codeload.github.com)|140.82.112.9|:443... connected.\n",
            "HTTP request sent, awaiting response... 200 OK\n",
            "Length: unspecified [application/zip]\n",
            "Saving to: ‘v0.1.0.zip’\n",
            "\n",
            "v0.1.0.zip              [  <=>               ]  92.06K   173KB/s    in 0.5s    \n",
            "\n",
            "2020-07-28 18:30:11 (173 KB/s) - ‘v0.1.0.zip’ saved [94267]\n",
            "\n"
          ],
          "name": "stdout"
        }
      ]
    },
    {
      "cell_type": "code",
      "metadata": {
        "id": "eRLxB8q43wXx",
        "colab_type": "code",
        "colab": {}
      },
      "source": [
        "!unzip v0.1.0.zip"
      ],
      "execution_count": null,
      "outputs": []
    },
    {
      "cell_type": "code",
      "metadata": {
        "id": "h-ce5S5dsOUq",
        "colab_type": "code",
        "colab": {
          "base_uri": "https://localhost:8080/",
          "height": 34
        },
        "outputId": "443a7421-68ee-42b6-d02f-061adebe6e9a"
      },
      "source": [
        "cd /content/fastText-0.1.0"
      ],
      "execution_count": null,
      "outputs": [
        {
          "output_type": "stream",
          "text": [
            "/content/fastText-0.1.0\n"
          ],
          "name": "stdout"
        }
      ]
    },
    {
      "cell_type": "code",
      "metadata": {
        "id": "P5KCfGgzs5XU",
        "colab_type": "code",
        "colab": {
          "base_uri": "https://localhost:8080/",
          "height": 187
        },
        "outputId": "db0d0ca3-df00-40c6-df84-04cb8bbf9c56"
      },
      "source": [
        "!make"
      ],
      "execution_count": null,
      "outputs": [
        {
          "output_type": "stream",
          "text": [
            "c++ -pthread -std=c++0x -O3 -funroll-loops -c src/args.cc\n",
            "c++ -pthread -std=c++0x -O3 -funroll-loops -c src/dictionary.cc\n",
            "c++ -pthread -std=c++0x -O3 -funroll-loops -c src/productquantizer.cc\n",
            "c++ -pthread -std=c++0x -O3 -funroll-loops -c src/matrix.cc\n",
            "c++ -pthread -std=c++0x -O3 -funroll-loops -c src/qmatrix.cc\n",
            "c++ -pthread -std=c++0x -O3 -funroll-loops -c src/vector.cc\n",
            "c++ -pthread -std=c++0x -O3 -funroll-loops -c src/model.cc\n",
            "c++ -pthread -std=c++0x -O3 -funroll-loops -c src/utils.cc\n",
            "c++ -pthread -std=c++0x -O3 -funroll-loops -c src/fasttext.cc\n",
            "c++ -pthread -std=c++0x -O3 -funroll-loops args.o dictionary.o productquantizer.o matrix.o qmatrix.o vector.o model.o utils.o fasttext.o src/main.cc -o fasttext\n"
          ],
          "name": "stdout"
        }
      ]
    },
    {
      "cell_type": "code",
      "metadata": {
        "id": "hE15uehWsR-M",
        "colab_type": "code",
        "colab": {
          "base_uri": "https://localhost:8080/",
          "height": 289
        },
        "outputId": "567a5553-7827-42f3-977f-33d9c34d3049"
      },
      "source": [
        "!./fasttext"
      ],
      "execution_count": null,
      "outputs": [
        {
          "output_type": "stream",
          "text": [
            "usage: fasttext <command> <args>\n",
            "\n",
            "The commands supported by fasttext are:\n",
            "\n",
            "  supervised              train a supervised classifier\n",
            "  quantize                quantize a model to reduce the memory usage\n",
            "  test                    evaluate a supervised classifier\n",
            "  predict                 predict most likely labels\n",
            "  predict-prob            predict most likely labels with probabilities\n",
            "  skipgram                train a skipgram model\n",
            "  cbow                    train a cbow model\n",
            "  print-word-vectors      print word vectors given a trained model\n",
            "  print-sentence-vectors  print sentence vectors given a trained model\n",
            "  nn                      query for nearest neighbors\n",
            "  analogies               query for analogies\n",
            "\n"
          ],
          "name": "stdout"
        }
      ]
    },
    {
      "cell_type": "code",
      "metadata": {
        "id": "LIdS6hP-MSBI",
        "colab_type": "code",
        "colab": {}
      },
      "source": [
        "train = train[['Support','Processed_tweets']]\n",
        "import pandas as pd\n",
        "from io import StringIO\n",
        "import csv\n",
        "train['Support'] = train['Support'].map({1: 'positive', 0: 'negative'})"
      ],
      "execution_count": null,
      "outputs": []
    },
    {
      "cell_type": "code",
      "metadata": {
        "id": "VMOZ-PPdwFN9",
        "colab_type": "code",
        "colab": {}
      },
      "source": [
        "test['Processed_tweets']= test['Processed_tweets'].replace('\\n',' ', regex=True).replace('\\t',' ', regex=True)\n",
        "test.to_csv(r'test1.txt', index=False, sep=' ', header=False, quoting=csv.QUOTE_NONE, quotechar=\"\", escapechar=\" \")"
      ],
      "execution_count": null,
      "outputs": []
    },
    {
      "cell_type": "code",
      "metadata": {
        "id": "hClVNewXt6Nh",
        "colab_type": "code",
        "colab": {
          "base_uri": "https://localhost:8080/",
          "height": 80
        },
        "outputId": "a9984bf9-33ce-4493-adfd-0d00593dcb0d"
      },
      "source": [
        "test.head(1)"
      ],
      "execution_count": null,
      "outputs": [
        {
          "output_type": "execute_result",
          "data": {
            "text/html": [
              "<div>\n",
              "<style scoped>\n",
              "    .dataframe tbody tr th:only-of-type {\n",
              "        vertical-align: middle;\n",
              "    }\n",
              "\n",
              "    .dataframe tbody tr th {\n",
              "        vertical-align: top;\n",
              "    }\n",
              "\n",
              "    .dataframe thead th {\n",
              "        text-align: right;\n",
              "    }\n",
              "</style>\n",
              "<table border=\"1\" class=\"dataframe\">\n",
              "  <thead>\n",
              "    <tr style=\"text-align: right;\">\n",
              "      <th></th>\n",
              "      <th>Support</th>\n",
              "      <th>Processed_tweets</th>\n",
              "    </tr>\n",
              "  </thead>\n",
              "  <tbody>\n",
              "    <tr>\n",
              "      <th>0</th>\n",
              "      <td>__label__negative</td>\n",
              "      <td>what a shock hey old bill is in the clear every single imwithher metoo moron will swallow this huge pile of shit without a single gag hypocrites URL</td>\n",
              "    </tr>\n",
              "  </tbody>\n",
              "</table>\n",
              "</div>"
            ],
            "text/plain": [
              "             Support                                                                                                                                      Processed_tweets\n",
              "0  __label__negative  what a shock hey old bill is in the clear every single imwithher metoo moron will swallow this huge pile of shit without a single gag hypocrites URL"
            ]
          },
          "metadata": {
            "tags": []
          },
          "execution_count": 24
        }
      ]
    },
    {
      "cell_type": "code",
      "metadata": {
        "id": "oyIuaYi9MR_o",
        "colab_type": "code",
        "colab": {}
      },
      "source": [
        "col = ['Support','Processed_tweets']\n",
        "train['Support']=['__label__'+ s for s in train['Support']]\n",
        "train['Processed_tweets']= train['Processed_tweets'].replace('\\n',' ', regex=True).replace('\\t',' ', regex=True)\n",
        "train.to_csv(r'support_updated.txt', index=False, sep=' ', header=False, quoting=csv.QUOTE_NONE, quotechar=\"\", escapechar=\" \")"
      ],
      "execution_count": null,
      "outputs": []
    },
    {
      "cell_type": "code",
      "metadata": {
        "id": "lMLw-FzuMRzH",
        "colab_type": "code",
        "colab": {}
      },
      "source": [
        "!head -n 6000 \"/content/fastText-0.1.0/support_updated.txt\" > \"/content/fastText-0.1.0/support_updated_train.txt\"\n",
        "!tail -n 869 \"/content/fastText-0.1.0/support_updated.txt\" > \"/content/fastText-0.1.0/support_updated_test.txt\""
      ],
      "execution_count": null,
      "outputs": []
    },
    {
      "cell_type": "code",
      "metadata": {
        "id": "TCwklfzDMRxZ",
        "colab_type": "code",
        "colab": {
          "base_uri": "https://localhost:8080/",
          "height": 119
        },
        "outputId": "a4a97d69-69d3-41de-b1ca-3f10db7e0420"
      },
      "source": [
        "%%time\n",
        "!./fasttext supervised -input \"/content/fastText-0.1.0/support_updated.txt\" -output model_support"
      ],
      "execution_count": null,
      "outputs": [
        {
          "output_type": "stream",
          "text": [
            "\rRead 0M words\n",
            "Number of words:  15027\n",
            "Number of labels: 2\n",
            "\rProgress: 0.0%  words/sec/thread: 141809  lr: 0.100000  loss: 0.521817  eta: -596523h-14m \rProgress: 0.0%  words/sec/thread: 208711  lr: 0.099986  loss: 0.608461  eta: 0h0m \rProgress: 0.0%  words/sec/thread: 263858  lr: 0.099972  loss: 0.645594  eta: 0h0m \rProgress: 0.0%  words/sec/thread: 335801  lr: 0.099957  loss: 0.656161  eta: 0h0m \rProgress: 0.1%  words/sec/thread: 398482  lr: 0.099940  loss: 0.664712  eta: 0h0m \rProgress: 0.1%  words/sec/thread: 440809  lr: 0.099924  loss: 0.668144  eta: 0h0m \rProgress: 0.1%  words/sec/thread: 478507  lr: 0.099911  loss: 0.672429  eta: 0h0m \rProgress: 0.1%  words/sec/thread: 519634  lr: 0.099898  loss: 0.675524  eta: 0h0m \rProgress: 0.1%  words/sec/thread: 567372  lr: 0.099883  loss: 0.677482  eta: 0h0m \rProgress: 0.1%  words/sec/thread: 612760  lr: 0.099867  loss: 0.678995  eta: 0h0m \rProgress: 0.1%  words/sec/thread: 653442  lr: 0.099850  loss: 0.680256  eta: 0h0m \rProgress: 0.2%  words/sec/thread: 661607  lr: 0.099835  loss: 0.681546  eta: 0h0m \rProgress: 0.2%  words/sec/thread: 667226  lr: 0.099821  loss: 0.682307  eta: 0h0m \rProgress: 0.2%  words/sec/thread: 832253  lr: 0.099768  loss: 0.683260  eta: 0h0m \rProgress: 0.3%  words/sec/thread: 995277  lr: 0.099707  loss: 0.684262  eta: 0h0m \rProgress: 0.4%  words/sec/thread: 1169046  lr: 0.099639  loss: 0.684754  eta: 0h0m \rProgress: 0.4%  words/sec/thread: 1315233  lr: 0.099582  loss: 0.685314  eta: 0h0m \rProgress: 0.5%  words/sec/thread: 1195967  lr: 0.099522  loss: 0.685958  eta: 0h0m \rProgress: 0.5%  words/sec/thread: 1287493  lr: 0.099454  loss: 0.686399  eta: 0h0m \rProgress: 0.6%  words/sec/thread: 1300535  lr: 0.099398  loss: 0.686960  eta: 0h0m \rProgress: 0.7%  words/sec/thread: 1422112  lr: 0.099340  loss: 0.687438  eta: 0h0m \rProgress: 0.7%  words/sec/thread: 1507070  lr: 0.099268  loss: 0.687898  eta: 0h0m \rProgress: 0.8%  words/sec/thread: 1596743  lr: 0.099225  loss: 0.688127  eta: 0h0m \rProgress: 0.8%  words/sec/thread: 1693048  lr: 0.099156  loss: 0.688351  eta: 0h0m \rProgress: 0.9%  words/sec/thread: 1773502  lr: 0.099086  loss: 0.688635  eta: 0h0m \rProgress: 1.0%  words/sec/thread: 1862092  lr: 0.099033  loss: 0.688964  eta: 0h0m \rProgress: 1.0%  words/sec/thread: 1918254  lr: 0.098969  loss: 0.689165  eta: 0h0m \rProgress: 1.1%  words/sec/thread: 1654224  lr: 0.098912  loss: 0.689384  eta: 0h0m \rProgress: 1.2%  words/sec/thread: 1735211  lr: 0.098841  loss: 0.689556  eta: 0h0m \rProgress: 1.2%  words/sec/thread: 1780789  lr: 0.098778  loss: 0.689748  eta: 0h0m \rProgress: 1.3%  words/sec/thread: 1855403  lr: 0.098708  loss: 0.689929  eta: 0h0m \rProgress: 1.3%  words/sec/thread: 1925144  lr: 0.098655  loss: 0.690067  eta: 0h0m \rProgress: 1.4%  words/sec/thread: 1979459  lr: 0.098582  loss: 0.690182  eta: 0h0m \rProgress: 1.5%  words/sec/thread: 2023359  lr: 0.098529  loss: 0.690330  eta: 0h0m \rProgress: 1.6%  words/sec/thread: 1843884  lr: 0.098407  loss: 0.690485  eta: 0h0m \rProgress: 1.6%  words/sec/thread: 1831720  lr: 0.098364  loss: 0.690575  eta: 0h0m \rProgress: 1.7%  words/sec/thread: 1873850  lr: 0.098291  loss: 0.690621  eta: 0h0m \rProgress: 1.8%  words/sec/thread: 1919330  lr: 0.098234  loss: 0.690704  eta: 0h0m \rProgress: 1.8%  words/sec/thread: 1970596  lr: 0.098176  loss: 0.690769  eta: 0h0m \rProgress: 1.9%  words/sec/thread: 2007875  lr: 0.098106  loss: 0.690892  eta: 0h0m \rProgress: 1.9%  words/sec/thread: 2059945  lr: 0.098050  loss: 0.690953  eta: 0h0m \rProgress: 2.0%  words/sec/thread: 1910722  lr: 0.097988  loss: 0.691042  eta: 0h0m \rProgress: 2.1%  words/sec/thread: 1954144  lr: 0.097917  loss: 0.691137  eta: 0h0m \rProgress: 2.1%  words/sec/thread: 1981609  lr: 0.097853  loss: 0.691217  eta: 0h0m \rProgress: 2.2%  words/sec/thread: 2016815  lr: 0.097798  loss: 0.691282  eta: 0h0m \rProgress: 2.3%  words/sec/thread: 2060078  lr: 0.097742  loss: 0.691327  eta: 0h0m \rProgress: 2.3%  words/sec/thread: 2088324  lr: 0.097675  loss: 0.691369  eta: 0h0m \rProgress: 2.4%  words/sec/thread: 2128027  lr: 0.097608  loss: 0.691437  eta: 0h0m \rProgress: 2.5%  words/sec/thread: 2159886  lr: 0.097546  loss: 0.691500  eta: 0h0m \rProgress: 2.5%  words/sec/thread: 1983133  lr: 0.097489  loss: 0.691528  eta: 0h0m \rProgress: 2.6%  words/sec/thread: 2020798  lr: 0.097435  loss: 0.691556  eta: 0h0m \rProgress: 2.6%  words/sec/thread: 2049262  lr: 0.097381  loss: 0.691541  eta: 0h0m \rProgress: 2.7%  words/sec/thread: 2078109  lr: 0.097328  loss: 0.691558  eta: 0h0m \rProgress: 2.7%  words/sec/thread: 2107884  lr: 0.097274  loss: 0.691552  eta: 0h0m \rProgress: 2.8%  words/sec/thread: 2148050  lr: 0.097194  loss: 0.691494  eta: 0h0m \rProgress: 2.9%  words/sec/thread: 2163514  lr: 0.097141  loss: 0.691299  eta: 0h0m \rProgress: 2.9%  words/sec/thread: 2201246  lr: 0.097085  loss: 0.691268  eta: 0h0m \rProgress: 3.0%  words/sec/thread: 2227326  lr: 0.097018  loss: 0.691239  eta: 0h0m \rProgress: 3.0%  words/sec/thread: 2243180  lr: 0.096975  loss: 0.691299  eta: 0h0m \rProgress: 3.1%  words/sec/thread: 2061698  lr: 0.096949  loss: 0.691071  eta: 0h0m \rProgress: 3.1%  words/sec/thread: 2096418  lr: 0.096891  loss: 0.691262  eta: 0h0m \rProgress: 3.2%  words/sec/thread: 2118312  lr: 0.096840  loss: 0.691270  eta: 0h0m \rProgress: 3.2%  words/sec/thread: 2145716  lr: 0.096766  loss: 0.691162  eta: 0h0m \rProgress: 3.3%  words/sec/thread: 2173975  lr: 0.096708  loss: 0.690615  eta: 0h0m \rProgress: 3.4%  words/sec/thread: 2193095  lr: 0.096640  loss: 0.690227  eta: 0h0m \rProgress: 3.4%  words/sec/thread: 2214274  lr: 0.096584  loss: 0.689733  eta: 0h0m \rProgress: 3.5%  words/sec/thread: 2237003  lr: 0.096529  loss: 0.689222  eta: 0h0m \rProgress: 3.5%  words/sec/thread: 2097432  lr: 0.096474  loss: 0.689457  eta: 0h0m \rProgress: 3.6%  words/sec/thread: 2097018  lr: 0.096431  loss: 0.688431  eta: 0h0m \rProgress: 3.6%  words/sec/thread: 2099032  lr: 0.096418  loss: 0.688715  eta: 0h0m \rProgress: 3.6%  words/sec/thread: 2121440  lr: 0.096358  loss: 0.687966  eta: 0h0m \rProgress: 3.7%  words/sec/thread: 2139986  lr: 0.096290  loss: 0.686732  eta: 0h0m \rProgress: 3.8%  words/sec/thread: 2156155  lr: 0.096233  loss: 0.686535  eta: 0h0m \rProgress: 3.8%  words/sec/thread: 2181725  lr: 0.096181  loss: 0.686471  eta: 0h0m \rProgress: 3.9%  words/sec/thread: 2201021  lr: 0.096114  loss: 0.686355  eta: 0h0m \rProgress: 3.9%  words/sec/thread: 2096599  lr: 0.096069  loss: 0.686078  eta: 0h0m \rProgress: 4.0%  words/sec/thread: 2109754  lr: 0.096013  loss: 0.685267  eta: 0h0m \rProgress: 4.1%  words/sec/thread: 2135334  lr: 0.095945  loss: 0.684537  eta: 0h0m \rProgress: 4.1%  words/sec/thread: 2161292  lr: 0.095888  loss: 0.683461  eta: 0h0m \rProgress: 4.2%  words/sec/thread: 2178822  lr: 0.095817  loss: 0.683206  eta: 0h0m \rProgress: 4.2%  words/sec/thread: 2196046  lr: 0.095764  loss: 0.679534  eta: 0h0m \rProgress: 4.3%  words/sec/thread: 2214170  lr: 0.095705  loss: 0.678687  eta: 0h0m \rProgress: 4.4%  words/sec/thread: 2232208  lr: 0.095647  loss: 0.677741  eta: 0h0m \rProgress: 4.4%  words/sec/thread: 2249355  lr: 0.095595  loss: 0.675749  eta: 0h0m \rProgress: 4.4%  words/sec/thread: 2119278  lr: 0.095566  loss: 0.679529  eta: 0h0m \rProgress: 4.5%  words/sec/thread: 2126058  lr: 0.095525  loss: 0.680503  eta: 0h0m \rProgress: 4.5%  words/sec/thread: 2148119  lr: 0.095459  loss: 0.681209  eta: 0h0m \rProgress: 4.6%  words/sec/thread: 2163832  lr: 0.095407  loss: 0.679561  eta: 0h0m \rProgress: 4.7%  words/sec/thread: 2185039  lr: 0.095339  loss: 0.676732  eta: 0h0m \rProgress: 4.7%  words/sec/thread: 2199888  lr: 0.095287  loss: 0.673141  eta: 0h0m \rProgress: 4.8%  words/sec/thread: 2215140  lr: 0.095232  loss: 0.673483  eta: 0h0m \rProgress: 4.8%  words/sec/thread: 2232166  lr: 0.095175  loss: 0.674452  eta: 0h0m \rProgress: 4.9%  words/sec/thread: 2133666  lr: 0.095125  loss: 0.672763  eta: 0h0m \rProgress: 4.9%  words/sec/thread: 2148888  lr: 0.095056  loss: 0.670544  eta: 0h0m \rProgress: 5.0%  words/sec/thread: 2166120  lr: 0.095011  loss: 0.669652  eta: 0h0m \rProgress: 5.0%  words/sec/thread: 2181460  lr: 0.094959  loss: 0.669120  eta: 0h0m \rProgress: 5.1%  words/sec/thread: 2197247  lr: 0.094887  loss: 0.669747  eta: 0h0m \rProgress: 5.2%  words/sec/thread: 2216428  lr: 0.094825  loss: 0.667832  eta: 0h0m \rProgress: 5.2%  words/sec/thread: 2233138  lr: 0.094765  loss: 0.667493  eta: 0h0m \rProgress: 5.3%  words/sec/thread: 2249770  lr: 0.094703  loss: 0.667628  eta: 0h0m \rProgress: 5.4%  words/sec/thread: 2269088  lr: 0.094649  loss: 0.666766  eta: 0h0m \rProgress: 5.4%  words/sec/thread: 2279450  lr: 0.094592  loss: 0.667562  eta: 0h0m \rProgress: 5.5%  words/sec/thread: 2185425  lr: 0.094524  loss: 0.666608  eta: 0h0m \rProgress: 5.5%  words/sec/thread: 2203590  lr: 0.094471  loss: 0.665987  eta: 0h0m \rProgress: 5.6%  words/sec/thread: 2217282  lr: 0.094404  loss: 0.663787  eta: 0h0m \rProgress: 5.6%  words/sec/thread: 2229074  lr: 0.094351  loss: 0.659761  eta: 0h0m \rProgress: 5.7%  words/sec/thread: 2246476  lr: 0.094282  loss: 0.659547  eta: 0h0m \rProgress: 5.8%  words/sec/thread: 2260076  lr: 0.094226  loss: 0.656202  eta: 0h0m \rProgress: 5.8%  words/sec/thread: 2273488  lr: 0.094171  loss: 0.653283  eta: 0h0m \rProgress: 5.9%  words/sec/thread: 2292542  lr: 0.094116  loss: 0.653759  eta: 0h0m \rProgress: 5.9%  words/sec/thread: 2305565  lr: 0.094051  loss: 0.655157  eta: 0h0m \rProgress: 6.0%  words/sec/thread: 2213692  lr: 0.093996  loss: 0.652124  eta: 0h0m \rProgress: 6.1%  words/sec/thread: 2229236  lr: 0.093930  loss: 0.651020  eta: 0h0m \rProgress: 6.1%  words/sec/thread: 2241845  lr: 0.093868  loss: 0.648128  eta: 0h0m \rProgress: 6.2%  words/sec/thread: 2254650  lr: 0.093812  loss: 0.644243  eta: 0h0m \rProgress: 6.3%  words/sec/thread: 2272485  lr: 0.093740  loss: 0.646152  eta: 0h0m \rProgress: 6.3%  words/sec/thread: 2285266  lr: 0.093686  loss: 0.647572  eta: 0h0m \rProgress: 6.4%  words/sec/thread: 2297463  lr: 0.093630  loss: 0.648965  eta: 0h0m \rProgress: 6.4%  words/sec/thread: 2309168  lr: 0.093577  loss: 0.647670  eta: 0h0m \rProgress: 6.5%  words/sec/thread: 2323418  lr: 0.093519  loss: 0.649128  eta: 0h0m \rProgress: 6.5%  words/sec/thread: 2239085  lr: 0.093462  loss: 0.651142  eta: 0h0m \rProgress: 6.6%  words/sec/thread: 2251017  lr: 0.093403  loss: 0.654115  eta: 0h0m \rProgress: 6.7%  words/sec/thread: 2239006  lr: 0.093349  loss: 0.651542  eta: 0h0m \rProgress: 6.7%  words/sec/thread: 2249788  lr: 0.093294  loss: 0.649964  eta: 0h0m \rProgress: 6.8%  words/sec/thread: 2263577  lr: 0.093226  loss: 0.646973  eta: 0h0m \rProgress: 6.8%  words/sec/thread: 2274201  lr: 0.093172  loss: 0.646636  eta: 0h0m \rProgress: 6.9%  words/sec/thread: 2286434  lr: 0.093115  loss: 0.646941  eta: 0h0m \rProgress: 6.9%  words/sec/thread: 2301973  lr: 0.093061  loss: 0.646180  eta: 0h0m \rProgress: 7.1%  words/sec/thread: 2256294  lr: 0.092949  loss: 0.644197  eta: 0h0m \rProgress: 7.1%  words/sec/thread: 2267834  lr: 0.092885  loss: 0.642634  eta: 0h0m \rProgress: 7.2%  words/sec/thread: 2281920  lr: 0.092830  loss: 0.641515  eta: 0h0m \rProgress: 7.2%  words/sec/thread: 2287694  lr: 0.092764  loss: 0.640905  eta: 0h0m \rProgress: 7.3%  words/sec/thread: 2299966  lr: 0.092693  loss: 0.639642  eta: 0h0m \rProgress: 7.4%  words/sec/thread: 2311477  lr: 0.092633  loss: 0.638084  eta: 0h0m \rProgress: 7.4%  words/sec/thread: 2321469  lr: 0.092575  loss: 0.639749  eta: 0h0m \rProgress: 7.5%  words/sec/thread: 2245463  lr: 0.092519  loss: 0.636492  eta: 0h0m \rProgress: 7.5%  words/sec/thread: 2259749  lr: 0.092464  loss: 0.634693  eta: 0h0m \rProgress: 7.6%  words/sec/thread: 2269047  lr: 0.092392  loss: 0.634647  eta: 0h0m \rProgress: 7.7%  words/sec/thread: 2282067  lr: 0.092335  loss: 0.634799  eta: 0h0m \rProgress: 7.7%  words/sec/thread: 2291293  lr: 0.092267  loss: 0.636333  eta: 0h0m \rProgress: 7.8%  words/sec/thread: 2302096  lr: 0.092206  loss: 0.637840  eta: 0h0m \rProgress: 7.8%  words/sec/thread: 2247936  lr: 0.092193  loss: 0.640330  eta: 0h0m \rProgress: 7.9%  words/sec/thread: 2257993  lr: 0.092137  loss: 0.640199  eta: 0h0m \rProgress: 7.9%  words/sec/thread: 2267810  lr: 0.092083  loss: 0.640687  eta: 0h0m \rProgress: 8.0%  words/sec/thread: 2248683  lr: 0.092025  loss: 0.641286  eta: 0h0m \rProgress: 8.0%  words/sec/thread: 2258396  lr: 0.091972  loss: 0.640511  eta: 0h0m \rProgress: 8.1%  words/sec/thread: 2272654  lr: 0.091915  loss: 0.639116  eta: 0h0m \rProgress: 8.2%  words/sec/thread: 2281872  lr: 0.091846  loss: 0.639024  eta: 0h0m \rProgress: 8.2%  words/sec/thread: 2296006  lr: 0.091786  loss: 0.640684  eta: 0h0m \rProgress: 8.3%  words/sec/thread: 2306224  lr: 0.091726  loss: 0.641518  eta: 0h0m \rProgress: 8.3%  words/sec/thread: 2316182  lr: 0.091673  loss: 0.642156  eta: 0h0m \rProgress: 8.4%  words/sec/thread: 2325824  lr: 0.091616  loss: 0.643083  eta: 0h0m \rProgress: 8.5%  words/sec/thread: 2337772  lr: 0.091539  loss: 0.643605  eta: 0h0m \rProgress: 8.5%  words/sec/thread: 2271448  lr: 0.091482  loss: 0.644474  eta: 0h0m \rProgress: 8.6%  words/sec/thread: 2281310  lr: 0.091421  loss: 0.643512  eta: 0h0m \rProgress: 8.6%  words/sec/thread: 2294186  lr: 0.091366  loss: 0.642782  eta: 0h0m \rProgress: 8.7%  words/sec/thread: 2303269  lr: 0.091309  loss: 0.642046  eta: 0h0m \rProgress: 8.8%  words/sec/thread: 2312222  lr: 0.091242  loss: 0.643195  eta: 0h0m \rProgress: 8.8%  words/sec/thread: 2325960  lr: 0.091181  loss: 0.642909  eta: 0h0m \rProgress: 8.9%  words/sec/thread: 2335497  lr: 0.091124  loss: 0.642443  eta: 0h0m \rProgress: 8.9%  words/sec/thread: 2344578  lr: 0.091055  loss: 0.643993  eta: 0h0m \rProgress: 9.0%  words/sec/thread: 2354142  lr: 0.090996  loss: 0.643137  eta: 0h0m \rProgress: 9.0%  words/sec/thread: 2286572  lr: 0.090954  loss: 0.642906  eta: 0h0m \rProgress: 9.1%  words/sec/thread: 2299016  lr: 0.090898  loss: 0.644389  eta: 0h0m \rProgress: 9.2%  words/sec/thread: 2306993  lr: 0.090830  loss: 0.643907  eta: 0h0m \rProgress: 9.2%  words/sec/thread: 2316842  lr: 0.090767  loss: 0.642481  eta: 0h0m \rProgress: 9.3%  words/sec/thread: 2328156  lr: 0.090712  loss: 0.642876  eta: 0h0m \rProgress: 9.4%  words/sec/thread: 2335750  lr: 0.090642  loss: 0.643573  eta: 0h0m \rProgress: 9.4%  words/sec/thread: 2347869  lr: 0.090573  loss: 0.642456  eta: 0h0m \rProgress: 9.5%  words/sec/thread: 2355752  lr: 0.090518  loss: 0.642444  eta: 0h0m \rProgress: 9.5%  words/sec/thread: 2364280  lr: 0.090463  loss: 0.641899  eta: 0h0m \rProgress: 9.6%  words/sec/thread: 2306492  lr: 0.090409  loss: 0.644692  eta: 0h0m \rProgress: 9.7%  words/sec/thread: 2314709  lr: 0.090342  loss: 0.645914  eta: 0h0m \rProgress: 9.7%  words/sec/thread: 2322226  lr: 0.090283  loss: 0.647536  eta: 0h0m \rProgress: 9.8%  words/sec/thread: 2330557  lr: 0.090222  loss: 0.648413  eta: 0h0m \rProgress: 9.8%  words/sec/thread: 2341295  lr: 0.090165  loss: 0.647573  eta: 0h0m \rProgress: 9.9%  words/sec/thread: 2348420  lr: 0.090093  loss: 0.648307  eta: 0h0m \rProgress: 10.0%  words/sec/thread: 2359681  lr: 0.090039  loss: 0.647978  eta: 0h0m \rProgress: 10.0%  words/sec/thread: 2368766  lr: 0.089983  loss: 0.648393  eta: 0h0m \rProgress: 10.1%  words/sec/thread: 2376611  lr: 0.089912  loss: 0.648653  eta: 0h0m \rProgress: 10.2%  words/sec/thread: 2320721  lr: 0.089841  loss: 0.648817  eta: 0h0m \rProgress: 10.2%  words/sec/thread: 2329468  lr: 0.089781  loss: 0.648072  eta: 0h0m \rProgress: 10.3%  words/sec/thread: 2336148  lr: 0.089729  loss: 0.648593  eta: 0h0m \rProgress: 10.3%  words/sec/thread: 2346764  lr: 0.089674  loss: 0.648727  eta: 0h0m \rProgress: 10.4%  words/sec/thread: 2355344  lr: 0.089595  loss: 0.648182  eta: 0h0m \rProgress: 10.5%  words/sec/thread: 2363750  lr: 0.089538  loss: 0.647576  eta: 0h0m \rProgress: 10.5%  words/sec/thread: 2374725  lr: 0.089482  loss: 0.649142  eta: 0h0m \rProgress: 10.6%  words/sec/thread: 2381678  lr: 0.089414  loss: 0.650113  eta: 0h0m \rProgress: 10.6%  words/sec/thread: 2389092  lr: 0.089360  loss: 0.649616  eta: 0h0m \rProgress: 10.7%  words/sec/thread: 2332816  lr: 0.089319  loss: 0.650873  eta: 0h0m \rProgress: 10.7%  words/sec/thread: 2338553  lr: 0.089251  loss: 0.650804  eta: 0h0m \rProgress: 10.8%  words/sec/thread: 2344670  lr: 0.089198  loss: 0.650493  eta: 0h0m \rProgress: 10.9%  words/sec/thread: 2354170  lr: 0.089144  loss: 0.651226  eta: 0h0m \rProgress: 10.9%  words/sec/thread: 2361406  lr: 0.089077  loss: 0.651790  eta: 0h0m \rProgress: 11.0%  words/sec/thread: 2370697  lr: 0.089014  loss: 0.651400  eta: 0h0m \rProgress: 11.0%  words/sec/thread: 2378592  lr: 0.088959  loss: 0.649832  eta: 0h0m \rProgress: 11.1%  words/sec/thread: 2386011  lr: 0.088901  loss: 0.650002  eta: 0h0m \rProgress: 11.2%  words/sec/thread: 2394484  lr: 0.088839  loss: 0.650513  eta: 0h0m \rProgress: 11.2%  words/sec/thread: 2343052  lr: 0.088767  loss: 0.650071  eta: 0h0m \rProgress: 11.3%  words/sec/thread: 2350910  lr: 0.088709  loss: 0.650074  eta: 0h0m \rProgress: 11.4%  words/sec/thread: 2357849  lr: 0.088649  loss: 0.651451  eta: 0h0m \rProgress: 11.4%  words/sec/thread: 2364722  lr: 0.088583  loss: 0.650598  eta: 0h0m \rProgress: 11.5%  words/sec/thread: 2373779  lr: 0.088530  loss: 0.651098  eta: 0h0m \rProgress: 11.5%  words/sec/thread: 2380215  lr: 0.088474  loss: 0.651163  eta: 0h0m \rProgress: 11.6%  words/sec/thread: 2387607  lr: 0.088401  loss: 0.650960  eta: 0h0m \rProgress: 11.7%  words/sec/thread: 2396677  lr: 0.088347  loss: 0.651193  eta: 0h0m \rProgress: 11.7%  words/sec/thread: 2403332  lr: 0.088278  loss: 0.651665  eta: 0h0m \rProgress: 11.8%  words/sec/thread: 2351739  lr: 0.088224  loss: 0.651910  eta: 0h0m \rProgress: 11.8%  words/sec/thread: 2358303  lr: 0.088167  loss: 0.652596  eta: 0h0m \rProgress: 11.9%  words/sec/thread: 2368402  lr: 0.088108  loss: 0.653304  eta: 0h0m \rProgress: 11.9%  words/sec/thread: 2374874  lr: 0.088052  loss: 0.653382  eta: 0h0m \rProgress: 12.0%  words/sec/thread: 2380198  lr: 0.087987  loss: 0.654181  eta: 0h0m \rProgress: 12.1%  words/sec/thread: 2386510  lr: 0.087932  loss: 0.654283  eta: 0h0m \rProgress: 12.1%  words/sec/thread: 2395893  lr: 0.087864  loss: 0.654567  eta: 0h0m \rProgress: 12.2%  words/sec/thread: 2403154  lr: 0.087804  loss: 0.654316  eta: 0h0m \rProgress: 12.2%  words/sec/thread: 2408857  lr: 0.087751  loss: 0.654140  eta: 0h0m \rProgress: 12.3%  words/sec/thread: 2356456  lr: 0.087705  loss: 0.655452  eta: 0h0m \rProgress: 12.4%  words/sec/thread: 2365650  lr: 0.087636  loss: 0.655426  eta: 0h0m \rProgress: 12.4%  words/sec/thread: 2370704  lr: 0.087585  loss: 0.655412  eta: 0h0m \rProgress: 12.5%  words/sec/thread: 2377818  lr: 0.087526  loss: 0.655050  eta: 0h0m \rProgress: 12.5%  words/sec/thread: 2386731  lr: 0.087470  loss: 0.655079  eta: 0h0m \rProgress: 12.6%  words/sec/thread: 2391814  lr: 0.087417  loss: 0.654444  eta: 0h0m \rProgress: 12.7%  words/sec/thread: 2397724  lr: 0.087348  loss: 0.654989  eta: 0h0m \rProgress: 12.7%  words/sec/thread: 2406323  lr: 0.087295  loss: 0.655206  eta: 0h0m \rProgress: 12.8%  words/sec/thread: 2411932  lr: 0.087240  loss: 0.655247  eta: 0h0m \rProgress: 12.8%  words/sec/thread: 2364052  lr: 0.087183  loss: 0.655183  eta: 0h0m \rProgress: 12.9%  words/sec/thread: 2369527  lr: 0.087113  loss: 0.655098  eta: 0h0m \rProgress: 12.9%  words/sec/thread: 2375858  lr: 0.087072  loss: 0.655135  eta: 0h0m \rProgress: 13.0%  words/sec/thread: 2382414  lr: 0.087013  loss: 0.655866  eta: 0h0m \rProgress: 13.1%  words/sec/thread: 2388309  lr: 0.086947  loss: 0.656196  eta: 0h0m \rProgress: 13.1%  words/sec/thread: 2394517  lr: 0.086890  loss: 0.655599  eta: 0h0m \rProgress: 13.2%  words/sec/thread: 2402726  lr: 0.086837  loss: 0.655758  eta: 0h0m \rProgress: 13.2%  words/sec/thread: 2408272  lr: 0.086769  loss: 0.656143  eta: 0h0m \rProgress: 13.3%  words/sec/thread: 2414348  lr: 0.086711  loss: 0.655859  eta: 0h0m \rProgress: 100.0%  words/sec/thread: 3220753  lr: 0.000000  loss: 0.655859  eta: 0h0m \n",
            "CPU times: user 19.5 ms, sys: 10.4 ms, total: 29.9 ms\n",
            "Wall time: 4.21 s\n"
          ],
          "name": "stdout"
        }
      ]
    },
    {
      "cell_type": "code",
      "metadata": {
        "id": "zuwBwl9XMRWy",
        "colab_type": "code",
        "colab": {
          "base_uri": "https://localhost:8080/",
          "height": 85
        },
        "outputId": "313f9de6-9785-46f6-83f3-9fb6c3031a66"
      },
      "source": [
        "!./fasttext test model_support.bin \"/content/fastText-0.1.0/support_updated_test.txt\""
      ],
      "execution_count": null,
      "outputs": [
        {
          "output_type": "stream",
          "text": [
            "N\t869\n",
            "P@1\t0.702\n",
            "R@1\t0.702\n",
            "Number of examples: 869\n"
          ],
          "name": "stdout"
        }
      ]
    },
    {
      "cell_type": "code",
      "metadata": {
        "id": "fvjx5lJaxco2",
        "colab_type": "code",
        "colab": {}
      },
      "source": [
        "A = !./fasttext predict model_support.bin \"/content/fastText-0.1.0/test1.txt\""
      ],
      "execution_count": null,
      "outputs": []
    },
    {
      "cell_type": "code",
      "metadata": {
        "id": "pAiy1fFhyM6g",
        "colab_type": "code",
        "colab": {}
      },
      "source": [
        "x = pd.DataFrame(A)\n",
        "x.columns = ['Predicted_S']"
      ],
      "execution_count": null,
      "outputs": []
    },
    {
      "cell_type": "code",
      "metadata": {
        "id": "4f3XNJOjyk5a",
        "colab_type": "code",
        "colab": {}
      },
      "source": [
        "x['Predicted_S'] = x['Predicted_S'].map({'__label__negative': 0, '__label__positive': 1})"
      ],
      "execution_count": null,
      "outputs": []
    }
  ]
}